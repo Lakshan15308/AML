{
 "cells": [
  {
   "cell_type": "markdown",
   "metadata": {
    "slideshow": {
     "slide_type": "slide"
    }
   },
   "source": [
    "# Preprocessing and feature extraction \n",
    "\n",
    "This module starts actual machine learning part, by introducing some important concepts and walking through and example using classical statistics. Machine learning is more than statistics, but the covered statistical concepts are very important throughout the course."
   ]
  },
  {
   "cell_type": "code",
   "execution_count": null,
   "metadata": {},
   "outputs": [],
   "source": []
  },
  {
   "cell_type": "markdown",
   "metadata": {
    "slideshow": {
     "slide_type": "fragment"
    }
   },
   "source": [
    "## Machine Learning\n",
    "\n",
    "\n",
    "![machine_learning.svg](kuvat/machine_learning.svg)\n",
    "\n",
    "\n"
   ]
  },
  {
   "cell_type": "markdown",
   "metadata": {
    "slideshow": {
     "slide_type": "notes"
    }
   },
   "source": [
    "Here are just some notes"
   ]
  },
  {
   "cell_type": "markdown",
   "metadata": {
    "slideshow": {
     "slide_type": "subslide"
    }
   },
   "source": [
    "## Feature extraction\n",
    "\n",
    "![featureextraction_p.svg](kuvat/featureextraction_p.svg)\n",
    "\n",
    "* The purpose of feature extraction is to capture relevant properties of the samples into variables.\n",
    "* Feature extraction requires domain knowledge and needs to be rethought for every project. It is therefore one of the most time consuming parts of machine learning processes."
   ]
  },
  {
   "cell_type": "markdown",
   "metadata": {
    "slideshow": {
     "slide_type": "subslide"
    }
   },
   "source": [
    "## The purpose of machine learning\n",
    "Task is to find a function $f$, which predicts variable $y_i$ based on $p$ features $x_{i,j}$, where $i \\in [0,N]$ and $j \\in [0,P]$.\n",
    "\n",
    "$$\n",
    "   \\begin{bmatrix}\n",
    "   y_1 \\\\\n",
    "   y_2 \\\\\n",
    "   \\vdots \\\\\n",
    "   y_n\n",
    "   \\end{bmatrix}\n",
    "   = f \n",
    "   \\left( \\begin{bmatrix}\n",
    "     x_{11} & x_{12} & x_{13} & \\dots  & x_{1p} \\\\\n",
    "     x_{21} & x_{22} & x_{23} & \\dots  & x_{2p} \\\\\n",
    "     \\vdots & \\vdots & \\vdots & \\ddots & \\vdots \\\\\n",
    "     x_{n1} & x_{n2} & x_{n3} & \\dots  & x_{np}\n",
    "   \\end{bmatrix} \\right)\n",
    "$$\n",
    "\n"
   ]
  },
  {
   "cell_type": "markdown",
   "metadata": {
    "slideshow": {
     "slide_type": "slide"
    }
   },
   "source": [
    "## Case one, sound recognition\n",
    "![featureextraction_p.svg](kuvat/timedomainaudio.png)\n",
    "\n",
    "This sound sample contains noise from wind turbine, by-passing cars and some birds perhaps.\n",
    "\n",
    "Can you find good features to find out what is the dominating noise source in which time?\n"
   ]
  },
  {
   "cell_type": "markdown",
   "metadata": {
    "slideshow": {
     "slide_type": "subslide"
    }
   },
   "source": [
    "### Perhaps there are differences in the sound pressure level (volume)\n",
    "\n",
    "![SPL of the audio](kuvat/splaudio.png)\n",
    "\n",
    "This picture shows the [A-weighted](https://en.wikipedia.org/wiki/A-weighting) sound pressure level (SPL) of the sound signal. It shows what is the subjective volume perceived by a human observer. SPL is a RMS average of the signal over certain time period\n",
    "\n",
    "$$L_p = 20 \\log_{10}\\left( \\frac{p_{rms}}{p_0}\\right) \\qquad p_{rms} = \\sqrt{\\frac{1}{T} \\int_0^T p(t)^2 dt}$$\n",
    "\n",
    "\n",
    "where $p_{rms}$ is the RMS average of the sound pressure, $p_0=20~\\mu$P, is the reference sound pressure and ,$T=1$ s, is a time constant.Notice that $L_p$ is shown in logarithmic scale. Log transformation may sometimes be helpful.\n"
   ]
  },
  {
   "cell_type": "markdown",
   "metadata": {
    "slideshow": {
     "slide_type": "subslide"
    }
   },
   "source": [
    "### Perhaps studying different spectral components help\n",
    "\n",
    "![Sectrogram of the audio](kuvat/sgramaudio.png)\n",
    "\n",
    "This figure is obtained by splitting the signal in 1 second pieces and applying a Fourier transformation to them, and then by plotting the spectrum of each slice vertically. This method is called as Short Time Fourier Transformation (STFT) and is often usefull method for extracting features from the data.\n",
    "\n",
    "### Other audio features\n",
    "Take a look at the feature extraction documentation of the [LibRosa library](https://librosa.org/doc/latest/feature.html).\n"
   ]
  },
  {
   "cell_type": "markdown",
   "metadata": {
    "slideshow": {
     "slide_type": "slide"
    }
   },
   "source": [
    "## Case 2, What features could be used to classify Iris species?\n",
    "| Setosa | Versicolor | Virginica |\n",
    "| -------| ---------- |-----------|\n",
    "| ![Setosa](kuvat/I-setosa-var-arctica.jpg \"Setosa\") | ![Versicolor](kuvat/Iris_versicolor_3.png \"Versicolor\") | ![Virginica](kuvat/1200px-Iris_virginica.jpg \"Virginica\") |\n",
    "<span id=\"kuvaviite\">Wikimedia Commons</span>\n"
   ]
  },
  {
   "cell_type": "markdown",
   "metadata": {
    "slideshow": {
     "slide_type": "subslide"
    }
   },
   "source": [
    "### Features measured by Fisher\n",
    "\n",
    "One of the most famos data sets of statistics is the Iris-dataset by Fisher. Let's take a look what features he measured and how do they perform. \n",
    "\n",
    "Lets read the data set and plot the head of it."
   ]
  },
  {
   "cell_type": "code",
   "execution_count": 1,
   "metadata": {
    "slideshow": {
     "slide_type": "subslide"
    }
   },
   "outputs": [
    {
     "name": "stdout",
     "output_type": "stream",
     "text": [
      "(150, 5)\n",
      "       sepal_length  sepal_width  petal_length  petal_width\n",
      "count    150.000000   150.000000    150.000000   150.000000\n",
      "mean       5.843333     3.057333      3.758000     1.199333\n",
      "std        0.828066     0.435866      1.765298     0.762238\n",
      "min        4.300000     2.000000      1.000000     0.100000\n",
      "25%        5.100000     2.800000      1.600000     0.300000\n",
      "50%        5.800000     3.000000      4.350000     1.300000\n",
      "75%        6.400000     3.300000      5.100000     1.800000\n",
      "max        7.900000     4.400000      6.900000     2.500000\n"
     ]
    },
    {
     "data": {
      "text/html": [
       "<div>\n",
       "<style scoped>\n",
       "    .dataframe tbody tr th:only-of-type {\n",
       "        vertical-align: middle;\n",
       "    }\n",
       "\n",
       "    .dataframe tbody tr th {\n",
       "        vertical-align: top;\n",
       "    }\n",
       "\n",
       "    .dataframe thead th {\n",
       "        text-align: right;\n",
       "    }\n",
       "</style>\n",
       "<table border=\"1\" class=\"dataframe\">\n",
       "  <thead>\n",
       "    <tr style=\"text-align: right;\">\n",
       "      <th></th>\n",
       "      <th>sepal_length</th>\n",
       "      <th>sepal_width</th>\n",
       "      <th>petal_length</th>\n",
       "      <th>petal_width</th>\n",
       "      <th>species</th>\n",
       "    </tr>\n",
       "  </thead>\n",
       "  <tbody>\n",
       "    <tr>\n",
       "      <th>0</th>\n",
       "      <td>5.1</td>\n",
       "      <td>3.5</td>\n",
       "      <td>1.4</td>\n",
       "      <td>0.2</td>\n",
       "      <td>setosa</td>\n",
       "    </tr>\n",
       "    <tr>\n",
       "      <th>1</th>\n",
       "      <td>4.9</td>\n",
       "      <td>3.0</td>\n",
       "      <td>1.4</td>\n",
       "      <td>0.2</td>\n",
       "      <td>setosa</td>\n",
       "    </tr>\n",
       "    <tr>\n",
       "      <th>2</th>\n",
       "      <td>4.7</td>\n",
       "      <td>3.2</td>\n",
       "      <td>1.3</td>\n",
       "      <td>0.2</td>\n",
       "      <td>setosa</td>\n",
       "    </tr>\n",
       "    <tr>\n",
       "      <th>3</th>\n",
       "      <td>4.6</td>\n",
       "      <td>3.1</td>\n",
       "      <td>1.5</td>\n",
       "      <td>0.2</td>\n",
       "      <td>setosa</td>\n",
       "    </tr>\n",
       "    <tr>\n",
       "      <th>4</th>\n",
       "      <td>5.0</td>\n",
       "      <td>3.6</td>\n",
       "      <td>1.4</td>\n",
       "      <td>0.2</td>\n",
       "      <td>setosa</td>\n",
       "    </tr>\n",
       "    <tr>\n",
       "      <th>...</th>\n",
       "      <td>...</td>\n",
       "      <td>...</td>\n",
       "      <td>...</td>\n",
       "      <td>...</td>\n",
       "      <td>...</td>\n",
       "    </tr>\n",
       "    <tr>\n",
       "      <th>145</th>\n",
       "      <td>6.7</td>\n",
       "      <td>3.0</td>\n",
       "      <td>5.2</td>\n",
       "      <td>2.3</td>\n",
       "      <td>virginica</td>\n",
       "    </tr>\n",
       "    <tr>\n",
       "      <th>146</th>\n",
       "      <td>6.3</td>\n",
       "      <td>2.5</td>\n",
       "      <td>5.0</td>\n",
       "      <td>1.9</td>\n",
       "      <td>virginica</td>\n",
       "    </tr>\n",
       "    <tr>\n",
       "      <th>147</th>\n",
       "      <td>6.5</td>\n",
       "      <td>3.0</td>\n",
       "      <td>5.2</td>\n",
       "      <td>2.0</td>\n",
       "      <td>virginica</td>\n",
       "    </tr>\n",
       "    <tr>\n",
       "      <th>148</th>\n",
       "      <td>6.2</td>\n",
       "      <td>3.4</td>\n",
       "      <td>5.4</td>\n",
       "      <td>2.3</td>\n",
       "      <td>virginica</td>\n",
       "    </tr>\n",
       "    <tr>\n",
       "      <th>149</th>\n",
       "      <td>5.9</td>\n",
       "      <td>3.0</td>\n",
       "      <td>5.1</td>\n",
       "      <td>1.8</td>\n",
       "      <td>virginica</td>\n",
       "    </tr>\n",
       "  </tbody>\n",
       "</table>\n",
       "<p>150 rows × 5 columns</p>\n",
       "</div>"
      ],
      "text/plain": [
       "     sepal_length  sepal_width  petal_length  petal_width    species\n",
       "0             5.1          3.5           1.4          0.2     setosa\n",
       "1             4.9          3.0           1.4          0.2     setosa\n",
       "2             4.7          3.2           1.3          0.2     setosa\n",
       "3             4.6          3.1           1.5          0.2     setosa\n",
       "4             5.0          3.6           1.4          0.2     setosa\n",
       "..            ...          ...           ...          ...        ...\n",
       "145           6.7          3.0           5.2          2.3  virginica\n",
       "146           6.3          2.5           5.0          1.9  virginica\n",
       "147           6.5          3.0           5.2          2.0  virginica\n",
       "148           6.2          3.4           5.4          2.3  virginica\n",
       "149           5.9          3.0           5.1          1.8  virginica\n",
       "\n",
       "[150 rows x 5 columns]"
      ]
     },
     "execution_count": 1,
     "metadata": {},
     "output_type": "execute_result"
    }
   ],
   "source": [
    "import numpy as np\n",
    "import seaborn as sns   \n",
    "sns.set(style='ticks')  \n",
    "iris = sns.load_dataset('iris')   \n",
    "print(iris.shape)\n",
    "print(iris.describe())\n",
    "iris"
   ]
  },
  {
   "cell_type": "markdown",
   "metadata": {
    "slideshow": {
     "slide_type": "subslide"
    }
   },
   "source": [
    "### Nicer plots with Seaborn\n",
    "\n",
    "The Seaborn library is another library for plotting data, in addition to Matplotlib which we used earlier. Seaborn is especially good for statistical plots, mut it has unfortunately totally different API than matplotlib. It may be good to use Matplotlib usually, but it you find some plots inconvenient to be plotted with matplotlib, then it is time to check what seaborn can offer. Easiest way is to check the [example gallery](https://python-graph-gallery.com/all-charts/) to see if someone has made a similar plot what you need, and copy and modify the source code, which is given in the gallery.\n",
    "\n",
    "Study the pairplots below, and consider following questions:\n",
    "\n",
    "1. Can you separate the three species with only one feature? Can you separate one species with one feature?\n",
    "1. Can you separate all three species by combining two features?\n",
    "1. Which of the features has the biggest discriminative power (which can separate the different species most efficienty)?"
   ]
  },
  {
   "cell_type": "code",
   "execution_count": 5,
   "metadata": {
    "slideshow": {
     "slide_type": "subslide"
    }
   },
   "outputs": [
    {
     "data": {
      "image/png": "[encoded data removed]",
      "text/plain": [
       "<Figure size 576.45x489.6 with 20 Axes>"
      ]
     },
     "metadata": {
      "needs_background": "light"
     },
     "output_type": "display_data"
    }
   ],
   "source": [
    "sns.pairplot(iris, hue=\"species\", diag_kind='kde', height=1.7);\n"
   ]
  },
  {
   "cell_type": "markdown",
   "metadata": {
    "slideshow": {
     "slide_type": "subslide"
    }
   },
   "source": [
    "We could have used also a scatter matrix from Pandas, but is not as nice."
   ]
  },
  {
   "cell_type": "code",
   "execution_count": 2,
   "metadata": {
    "slideshow": {
     "slide_type": "fragment"
    }
   },
   "outputs": [
    {
     "data": {
      "image/png": "[encoded data removed]",
      "text/plain": [
       "<Figure size 432x432 with 16 Axes>"
      ]
     },
     "metadata": {},
     "output_type": "display_data"
    }
   ],
   "source": [
    "from pandas.plotting import scatter_matrix\n",
    "scatter_matrix(iris, alpha=0.2, figsize=(6, 6), diagonal='kde');\n"
   ]
  },
  {
   "cell_type": "markdown",
   "metadata": {
    "slideshow": {
     "slide_type": "subslide"
    }
   },
   "source": [
    "### Quantitative analysis\n",
    "\n",
    "It looks like petal_length can nicely separate Setosa's from other species, but not necessary Versicolor from Virginica. Lets try to get some numerical proof if this observation is correct.\n",
    "\n",
    "Lets first study the average feature values and their deviations separately in each group. The groupby() function in pandas dataframe provides very handy methods for implementing this. Groupby kind of splits the original dataframe into three different dataframes according to the species class. \n",
    "\n",
    "Mean()-function calculates the columnwise mean so in this case it calculates the mean of each feature. Because the dataframe is splitted by species, the result is a matrix, in which each species are in rows, and features in columns. The feature 'species', which was used for grouping is removed from the result matrix."
   ]
  },
  {
   "cell_type": "code",
   "execution_count": 3,
   "metadata": {
    "slideshow": {
     "slide_type": "subslide"
    }
   },
   "outputs": [
    {
     "data": {
      "text/html": [
       "<div>\n",
       "<style scoped>\n",
       "    .dataframe tbody tr th:only-of-type {\n",
       "        vertical-align: middle;\n",
       "    }\n",
       "\n",
       "    .dataframe tbody tr th {\n",
       "        vertical-align: top;\n",
       "    }\n",
       "\n",
       "    .dataframe thead th {\n",
       "        text-align: right;\n",
       "    }\n",
       "</style>\n",
       "<table border=\"1\" class=\"dataframe\">\n",
       "  <thead>\n",
       "    <tr style=\"text-align: right;\">\n",
       "      <th></th>\n",
       "      <th>sepal_length</th>\n",
       "      <th>sepal_width</th>\n",
       "      <th>petal_length</th>\n",
       "      <th>petal_width</th>\n",
       "    </tr>\n",
       "    <tr>\n",
       "      <th>species</th>\n",
       "      <th></th>\n",
       "      <th></th>\n",
       "      <th></th>\n",
       "      <th></th>\n",
       "    </tr>\n",
       "  </thead>\n",
       "  <tbody>\n",
       "    <tr>\n",
       "      <th>setosa</th>\n",
       "      <td>5.006</td>\n",
       "      <td>3.428</td>\n",
       "      <td>1.462</td>\n",
       "      <td>0.246</td>\n",
       "    </tr>\n",
       "    <tr>\n",
       "      <th>versicolor</th>\n",
       "      <td>5.936</td>\n",
       "      <td>2.770</td>\n",
       "      <td>4.260</td>\n",
       "      <td>1.326</td>\n",
       "    </tr>\n",
       "    <tr>\n",
       "      <th>virginica</th>\n",
       "      <td>6.588</td>\n",
       "      <td>2.974</td>\n",
       "      <td>5.552</td>\n",
       "      <td>2.026</td>\n",
       "    </tr>\n",
       "  </tbody>\n",
       "</table>\n",
       "</div>"
      ],
      "text/plain": [
       "            sepal_length  sepal_width  petal_length  petal_width\n",
       "species                                                         \n",
       "setosa             5.006        3.428         1.462        0.246\n",
       "versicolor         5.936        2.770         4.260        1.326\n",
       "virginica          6.588        2.974         5.552        2.026"
      ]
     },
     "execution_count": 3,
     "metadata": {},
     "output_type": "execute_result"
    }
   ],
   "source": [
    "iris.groupby('species').mean()"
   ]
  },
  {
   "cell_type": "markdown",
   "metadata": {
    "slideshow": {
     "slide_type": "fragment"
    }
   },
   "source": [
    "The mean values are different, but are the differences significant. Perhaps studying the overall variation or noise by means of standard deviation would help."
   ]
  },
  {
   "cell_type": "code",
   "execution_count": 4,
   "metadata": {
    "slideshow": {
     "slide_type": "fragment"
    }
   },
   "outputs": [
    {
     "data": {
      "text/html": [
       "<div>\n",
       "<style scoped>\n",
       "    .dataframe tbody tr th:only-of-type {\n",
       "        vertical-align: middle;\n",
       "    }\n",
       "\n",
       "    .dataframe tbody tr th {\n",
       "        vertical-align: top;\n",
       "    }\n",
       "\n",
       "    .dataframe thead th {\n",
       "        text-align: right;\n",
       "    }\n",
       "</style>\n",
       "<table border=\"1\" class=\"dataframe\">\n",
       "  <thead>\n",
       "    <tr style=\"text-align: right;\">\n",
       "      <th></th>\n",
       "      <th>sepal_length</th>\n",
       "      <th>sepal_width</th>\n",
       "      <th>petal_length</th>\n",
       "      <th>petal_width</th>\n",
       "    </tr>\n",
       "    <tr>\n",
       "      <th>species</th>\n",
       "      <th></th>\n",
       "      <th></th>\n",
       "      <th></th>\n",
       "      <th></th>\n",
       "    </tr>\n",
       "  </thead>\n",
       "  <tbody>\n",
       "    <tr>\n",
       "      <th>setosa</th>\n",
       "      <td>0.352490</td>\n",
       "      <td>0.379064</td>\n",
       "      <td>0.173664</td>\n",
       "      <td>0.105386</td>\n",
       "    </tr>\n",
       "    <tr>\n",
       "      <th>versicolor</th>\n",
       "      <td>0.516171</td>\n",
       "      <td>0.313798</td>\n",
       "      <td>0.469911</td>\n",
       "      <td>0.197753</td>\n",
       "    </tr>\n",
       "    <tr>\n",
       "      <th>virginica</th>\n",
       "      <td>0.635880</td>\n",
       "      <td>0.322497</td>\n",
       "      <td>0.551895</td>\n",
       "      <td>0.274650</td>\n",
       "    </tr>\n",
       "  </tbody>\n",
       "</table>\n",
       "</div>"
      ],
      "text/plain": [
       "            sepal_length  sepal_width  petal_length  petal_width\n",
       "species                                                         \n",
       "setosa          0.352490     0.379064      0.173664     0.105386\n",
       "versicolor      0.516171     0.313798      0.469911     0.197753\n",
       "virginica       0.635880     0.322497      0.551895     0.274650"
      ]
     },
     "execution_count": 4,
     "metadata": {},
     "output_type": "execute_result"
    }
   ],
   "source": [
    "iris.groupby('species').std()"
   ]
  },
  {
   "cell_type": "markdown",
   "metadata": {
    "slideshow": {
     "slide_type": "fragment"
    }
   },
   "source": [
    "It looks like the differences of for example petal_lengths seem to be bigger than the standard deviation. It could be feasible to use it for species recognition."
   ]
  },
  {
   "cell_type": "markdown",
   "metadata": {
    "slideshow": {
     "slide_type": "subslide"
    }
   },
   "source": [
    "### Visual analysis of mean and distribution using boxplot\n",
    "\n",
    "The boxplot displays the median value (the red lines inside the boxes) and distribution as quartiles (the height of the boxes, and lengths of the whiskers) graphically. The box extends from *quartile* Q1 below to quartile Q3 above the median. The length of the whiskers is 1.5 times the *inter quartile range* (IQR) from the box edge, where IQR=Q3-Q1. The values outside of whiskers are interpreted as *outliers*, and they are plotted as circles."
   ]
  },
  {
   "cell_type": "code",
   "execution_count": 5,
   "metadata": {
    "scrolled": true,
    "slideshow": {
     "slide_type": "subslide"
    }
   },
   "outputs": [
    {
     "data": {
      "image/png": "[encoded data removed]",
      "text/plain": [
       "<Figure size 288x360 with 1 Axes>"
      ]
     },
     "metadata": {},
     "output_type": "display_data"
    }
   ],
   "source": [
    "iris.boxplot('petal_length', by='species', figsize=(4,5));"
   ]
  },
  {
   "cell_type": "markdown",
   "metadata": {
    "slideshow": {
     "slide_type": "fragment"
    }
   },
   "source": [
    "The boxplot shows that Setosa can be separated from Versicolor and Virginica with no confusion, but there is some overlap between Versicolor and Virginica."
   ]
  },
  {
   "cell_type": "markdown",
   "metadata": {
    "slideshow": {
     "slide_type": "subslide"
    }
   },
   "source": [
    "### Applying an external function to data\n",
    "\n",
    "Sometimes it is necessary to apply also such functions to the data, which are not part of the dataframe. It can be accomplished by using the apply-method as follows. Here the median-function from the NumPy-libary is used. You can also apply your own function to the data."
   ]
  },
  {
   "cell_type": "code",
   "execution_count": 6,
   "metadata": {
    "scrolled": true,
    "slideshow": {
     "slide_type": "fragment"
    }
   },
   "outputs": [
    {
     "data": {
      "text/plain": [
       "species\n",
       "setosa        1.50\n",
       "versicolor    4.35\n",
       "virginica     5.55\n",
       "Name: petal_length, dtype: float64"
      ]
     },
     "execution_count": 6,
     "metadata": {},
     "output_type": "execute_result"
    }
   ],
   "source": [
    "iris.groupby('species').petal_length.apply(np.median)"
   ]
  },
  {
   "cell_type": "code",
   "execution_count": 7,
   "metadata": {
    "slideshow": {
     "slide_type": "subslide"
    }
   },
   "outputs": [
    {
     "data": {
      "text/plain": [
       "array([1, 5, 3, 6, 8, 4, 3, 6, 2])"
      ]
     },
     "execution_count": 7,
     "metadata": {},
     "output_type": "execute_result"
    }
   ],
   "source": [
    "x=np.array((1,5,3,6,8,4,3,6,2))\n",
    "np.sort(x)\n",
    "x"
   ]
  },
  {
   "cell_type": "code",
   "execution_count": 8,
   "metadata": {
    "slideshow": {
     "slide_type": "fragment"
    }
   },
   "outputs": [
    {
     "data": {
      "text/plain": [
       "species\n",
       "setosa        0.9\n",
       "versicolor    2.1\n",
       "virginica     2.4\n",
       "Name: petal_length, dtype: float64"
      ]
     },
     "execution_count": 8,
     "metadata": {},
     "output_type": "execute_result"
    }
   ],
   "source": [
    "def fullRange(x):\n",
    "    \"\"\"A function for studying the full range of the vector\"\"\"\n",
    "    sortedx=np.sort(x)\n",
    "    return (sortedx[-1] - sortedx[0])\n",
    "\n",
    "iris.groupby('species').petal_length.apply(fullRange)"
   ]
  },
  {
   "cell_type": "markdown",
   "metadata": {
    "slideshow": {
     "slide_type": "subslide"
    }
   },
   "source": [
    "### Hypothesis testing\n",
    "\n",
    "Let's formally study if the petal lengts are significantly different or not by forming two hypothesis:\n",
    "\n",
    "1. The distribution of petal lengths of Setosa species is different than the distribution of petal lengts of other species\n",
    "1. Let's also assume that the distribution of petal lengts of Versicolor is siginificantly different than that of Virginica\n",
    "\n",
    "The standard test for these hypothesis is the [Student's T-test](https://www.statisticshowto.datasciencecentral.com/probability-and-statistics/t-test/). \n",
    "\n",
    "But the T-test can only be used if the variables are normally distributed. Let's test that first.\n",
    "\n",
    "#### Testing if distribution of the variables is normal\n",
    "\n",
    "Read more about normality testing methods from [Statistics howto](https://www.statisticshowto.datasciencecentral.com/assumption-of-normality-test/)\n",
    "\n",
    "Most often used normality test is the D’Agostino-Pearson Test. It can be taken into use by importing the `normaltest` function from the stats module of the Scientific Python package.\n",
    "\n",
    "The zero hypothesis for the normality test is that the data is normally distributed. It can be rejected if we have enough evidence to claim othewise. The normality test uses T-Test to check if the evidence is sufficient for rejecting the null hypothesis.\n"
   ]
  },
  {
   "cell_type": "code",
   "execution_count": 13,
   "metadata": {
    "slideshow": {
     "slide_type": "subslide"
    }
   },
   "outputs": [
    {
     "name": "stdout",
     "output_type": "stream",
     "text": [
      "NormaltestResult(statistic=221.68729405585384, pvalue=7.264667501338673e-49)\n",
      "P-value is very small, we have enough evidence to reject the null hypothesis\n",
      "Data is not normal distributed\n"
     ]
    }
   ],
   "source": [
    "from scipy.stats import normaltest\n",
    "\n",
    "normaltest\n",
    "\n",
    "# Run normality test, and print the output\n",
    "print(normaltest(iris.petal_length))\n",
    "\n",
    "# Interpretation, we discard the hypothesis of normal distribution\n",
    "# if it's probability (the p-value) is less than 95%\n",
    "alpha=0.05\n",
    "statistis, pvalue=normaltest(iris.petal_length)\n",
    "if pvalue<alpha:\n",
    "    print(\"P-value is very small, we have enough evidence to reject the null hypothesis\")\n",
    "    print(\"Data is not normal distributed\") \n",
    "else:\n",
    "    print(\"P-value is large, we do not have enough evidence to reject the null hypothesis\")\n",
    "    print(\"Data is normal distributed\")"
   ]
  },
  {
   "cell_type": "markdown",
   "metadata": {
    "slideshow": {
     "slide_type": "subslide"
    }
   },
   "source": [
    "Check it by plotting it"
   ]
  },
  {
   "cell_type": "code",
   "execution_count": 10,
   "metadata": {
    "slideshow": {
     "slide_type": "fragment"
    }
   },
   "outputs": [
    {
     "data": {
      "text/plain": [
       "<AxesSubplot:xlabel='petal_length', ylabel='Density'>"
      ]
     },
     "execution_count": 10,
     "metadata": {},
     "output_type": "execute_result"
    },
    {
     "data": {
      "image/png": "[encoded data removed]",
      "text/plain": [
       "<Figure size 432x288 with 1 Axes>"
      ]
     },
     "metadata": {},
     "output_type": "display_data"
    }
   ],
   "source": [
    "sns.kdeplot(iris.petal_length)"
   ]
  },
  {
   "cell_type": "markdown",
   "metadata": {
    "slideshow": {
     "slide_type": "fragment"
    }
   },
   "source": [
    "Definitely not normal "
   ]
  },
  {
   "cell_type": "markdown",
   "metadata": {
    "slideshow": {
     "slide_type": "subslide"
    }
   },
   "source": [
    "But we were supposed to test this for all species separately"
   ]
  },
  {
   "cell_type": "code",
   "execution_count": 15,
   "metadata": {
    "slideshow": {
     "slide_type": "subslide"
    }
   },
   "outputs": [
    {
     "name": "stdout",
     "output_type": "stream",
     "text": [
      "species\n",
      "setosa        (2.236973547672174, 0.32677390349997293)\n",
      "versicolor     (3.3182862415011867, 0.190301976072032)\n",
      "virginica     (2.6991800572037943, 0.2593465635270746)\n",
      "Name: petal_length, dtype: object\n",
      "Petal length of Setosa is normally distributed\n",
      "Petal length of Versicolor is normally distributed\n",
      "Petal length of Virginica is normally distributed\n"
     ]
    }
   ],
   "source": [
    "# \n",
    "# It can be done by grouping the data by species, selecting the petal_lenght\n",
    "# and applying the normal test to all species separately\n",
    "results=iris.groupby('species').petal_length.apply(normaltest)\n",
    "print(results)\n",
    "if (results[0][1] > alpha):     print(\"Petal length of Setosa is normally distributed\")\n",
    "if (results[1][1] > alpha):     print(\"Petal length of Versicolor is normally distributed\")\n",
    "if (results[2][1] > alpha):     print(\"Petal length of Virginica is normally distributed\")"
   ]
  },
  {
   "cell_type": "code",
   "execution_count": 18,
   "metadata": {
    "slideshow": {
     "slide_type": "subslide"
    }
   },
   "outputs": [
    {
     "data": {
      "text/plain": [
       "<AxesSubplot:xlabel='petal_length', ylabel='Density'>"
      ]
     },
     "execution_count": 18,
     "metadata": {},
     "output_type": "execute_result"
    },
    {
     "data": {
      "image/png": "[encoded data removed]",
      "text/plain": [
       "<Figure size 432x288 with 1 Axes>"
      ]
     },
     "metadata": {},
     "output_type": "display_data"
    }
   ],
   "source": [
    "sns.kdeplot(iris[iris.species=='setosa'].petal_length)\n",
    "sns.kdeplot(iris[iris.species=='virginica'].petal_length)\n",
    "sns.kdeplot(iris[iris.species=='versicolor'].petal_length)\n"
   ]
  },
  {
   "cell_type": "markdown",
   "metadata": {
    "slideshow": {
     "slide_type": "fragment"
    }
   },
   "source": [
    "The individual petal lengths seem to be sufficiently normal distributed so that we can use t-test."
   ]
  },
  {
   "cell_type": "markdown",
   "metadata": {
    "slideshow": {
     "slide_type": "subslide"
    }
   },
   "source": [
    "### Test the similarity of petal_length distributions\n",
    "\n",
    "The most often used method for hypothesis testing, is the Student's T-test, which is also in the stats module of Scientific Python package.\n",
    "\n",
    "T-Test supports four different confiurations. Read the documentation and select the correct configuration. The selection is quite straightforward.\n",
    "\n",
    "1. Two-sided test for the null hypothesis that two independent samples have identical average (expected) values. Example: `p=ttest_ind(a,b)`\n",
    "1. Two-sided test for the null hypothesis that the expected value of a sample of independent observations `a` is equal to the given population mean, `popmean`. Example: `p=ttest_1samp(a, popmean)`\n",
    "1. Two-sided test for the null hypothesis that two related or repeated or paired samples have identical average (expected) values. Example: `p=ttest_rel(a,b)`\n",
    "1. Two-sided test for the null hypothesis that 2 independent samples have identical average (expected) values. Example: `ttest_ind_from_stats(mean1, std1, n1, mean2, std2, n2)`\n",
    "\n",
    "Here all tests are two sided, meaning that we do not have any a-priori knowlwdge that one would be bigger than another.\n",
    "\n",
    "The hypotheses that the two distributions are different is accepted if the probability of getting into that conclusion by chance, $p$ is smaller than $\\alpha$ =5%: \n",
    "\n",
    "(p-value$~<\\alpha$, when $\\alpha=0.05$).\n",
    "\n",
    "Otherwise we have not evidence for rejecting the null hypothesis that the means are the same."
   ]
  },
  {
   "cell_type": "code",
   "execution_count": 19,
   "metadata": {
    "scrolled": true,
    "slideshow": {
     "slide_type": "subslide"
    }
   },
   "outputs": [
    {
     "name": "stdout",
     "output_type": "stream",
     "text": [
      "Ttest_indResult(statistic=-29.130840211367364, pvalue=3.6233785751774946e-63)\n",
      "The petal_length of setosa are statistically different than the petal_length of other flowers. p=0.000\n",
      "The petal_lengths of Versicolor and Virginica are statistically different : p=0.00\n"
     ]
    }
   ],
   "source": [
    "# T-test of two independent data sets\n",
    "from scipy.stats import ttest_ind \n",
    "\n",
    "alpha=0.05\n",
    "\n",
    "# Test if the petal_lengths of the Setosas are different than the petal_lengths other flowers\n",
    "test=ttest_ind(iris[iris.species=='setosa'].petal_length, iris[iris.species!='setosa'].petal_length)\n",
    "print(test)\n",
    "if test.pvalue < alpha:\n",
    "    print(\"The petal_length of setosa are statistically different \"\n",
    "          +\"than the petal_length of other flowers. p=%4.3f\" % test.pvalue)\n",
    "else:\n",
    "    print(\"The petal_length of setosa are not statistically different \"\n",
    "          +\"than the petal_length of other flowers: p=%4.3f\" % test.pvalue)\n",
    "    \n",
    "# Test if the petal_lengths of Versicolor and Virginia are different\n",
    "test=ttest_ind(iris[iris.species=='versicolor'].petal_length, iris[iris.species=='virginica'].petal_length)\n",
    "if test.pvalue < alpha:\n",
    "    print(\"The petal_lengths of Versicolor and Virginica are statistically different \"\n",
    "          +\": p=%4.2f\" % test.pvalue)\n",
    "else:\n",
    "    print(\"The petal_lengths of Versicolor and Virginica are not statistically different \"\n",
    "          +\": p=%4.2f\" % test.pvalue) "
   ]
  },
  {
   "cell_type": "markdown",
   "metadata": {
    "slideshow": {
     "slide_type": "slide"
    }
   },
   "source": [
    "### Non-parametric testing\n",
    "If the data is not normally distributed, then we need to use non-parametric tests instead. One often used is the [Mann-Whitney rank-test](https://en.wikipedia.org/wiki/Mann%E2%80%93Whitney_U_test). Because this test does not assume anything about the shape of the distributions, it usually needs larger sample size to get reliable estimate of p-values. Sample size bigger than 20 for both classes is recommended."
   ]
  },
  {
   "cell_type": "code",
   "execution_count": 20,
   "metadata": {
    "slideshow": {
     "slide_type": "fragment"
    }
   },
   "outputs": [
    {
     "name": "stdout",
     "output_type": "stream",
     "text": [
      "MannwhitneyuResult(statistic=44.5, pvalue=9.133544727668256e-17)\n"
     ]
    }
   ],
   "source": [
    "from scipy.stats import mannwhitneyu\n",
    "print(mannwhitneyu(iris[iris.species=='versicolor'].petal_length, iris[iris.species=='virginica'].petal_length))"
   ]
  },
  {
   "cell_type": "markdown",
   "metadata": {
    "slideshow": {
     "slide_type": "fragment"
    }
   },
   "source": [
    "The p-value of $4.56 \\cdot 10^{-17} < \\alpha$ we can conclude that the difference of the petal lenghts of versicolor and virginica is statistically significant. This is reliable result, since it was not necessary to assume any specifig distribution of feature variables."
   ]
  },
  {
   "cell_type": "markdown",
   "metadata": {},
   "source": [
    "### Summary of tests\n",
    "\n",
    "![kuvat/p-value.svg](kuvat/p-value.svg)\n"
   ]
  },
  {
   "cell_type": "markdown",
   "metadata": {
    "slideshow": {
     "slide_type": "subslide"
    }
   },
   "source": [
    "## What was learned?\n",
    "\n",
    "- Some mesured values (petal and sepal widhts and heights in this case) can be used as features, describing the similarities and differences of the samples\n",
    "- T-test can be used for testing if the values of the features are the same or different for different classes of samples. If the features are not significantly different, they are not usefull for classification.\n",
    "- T-test can only be used if the variables are normally distributed. \n",
    "- Non-parametric tests can be used if the data is not normally distributed, but it may need larger sample size\n",
    "\n",
    "Now we can be certain, that the petal lengts are different in all species, and the difference is statistically significant, meaning that they are not different only by chance."
   ]
  },
  {
   "cell_type": "markdown",
   "metadata": {
    "slideshow": {
     "slide_type": "slide"
    }
   },
   "source": [
    "## Using features for recognizing species\n",
    "\n",
    "Now that we know that petal_lengths are different for each species, can this feature be used in recognizing flowers or classifying flower species?\n",
    "\n",
    "The following picture shows the position of decision boundary leading to highest precision in classifying Versicolor from Virginica species based on petal length. \n",
    "- Blue curve shows the distribution of petal lengths for Versicolor and red curve the distribution for Virginica\n",
    "- The decision boundary is in the location of the intersection of the distribution curves\n",
    "- ROC-curve is shown on the right hand side.\n",
    "  - The red dot shows the point corresponding to the current decision boundary\n",
    "  - From the curve it can be read that current decisiong point includes 90% of Versicolors, but it also includes some 12% percent of Virginicas\n",
    "  - The sensitivity of the classifier is therefore 90% and specificity is 88%\n",
    "\n",
    "![ROC analyzer](kuvat/rocanalyzer.png)\n"
   ]
  },
  {
   "cell_type": "markdown",
   "metadata": {
    "slideshow": {
     "slide_type": "subslide"
    }
   },
   "source": [
    "The ROC curve can be created using following code. Read more from [Understanding ROC curves](https://stackabuse.com/understanding-roc-curves-with-python/)"
   ]
  },
  {
   "cell_type": "code",
   "execution_count": 21,
   "metadata": {
    "slideshow": {
     "slide_type": "subslide"
    }
   },
   "outputs": [],
   "source": [
    "from scipy.stats import gaussian_kde\n",
    "import numpy as np\n",
    "import matplotlib.pyplot as plt\n",
    "\n",
    "def plotROC(a,b, color='r'):\n",
    "    \"\"\" Plots a ROC curve of the one dimensional data whose values  \n",
    "        in one case are listed in a, and in another case in b.\n",
    "    \"\"\"\n",
    "    ## Create a new x-axis, which has for example 100 poinsts\n",
    "    N=100\n",
    "    smallest_value=np.min((a.min(), b.min()))\n",
    "    biggest_value=np.max((a.max(), b.max()))\n",
    "    x_axis=np.linspace(smallest_value, biggest_value, N)\n",
    "\n",
    "    ## Estimate the distribution of X using kernel density estimate\n",
    "    ## For both cases, 0 and 1 and evaluate their values in the x-axis\n",
    "    ## This can be called also as probability density function (PDF).\n",
    "    h0=gaussian_kde(a).evaluate(x_axis)\n",
    "    h1=gaussian_kde(b).evaluate(x_axis)\n",
    "    \n",
    "    ## Calculate the cumulative distribution function from PDF:s above\n",
    "    ## and scale them between 0 and 1\n",
    "    rocx=np.cumsum(h0)/np.sum(h0)\n",
    "    rocy=np.cumsum(h1)/np.sum(h1)\n",
    "    \n",
    "    plt.plot(1-rocx, 1-rocy, c=color)\n",
    "    plt.xlabel('1-Specificity')\n",
    "    plt.ylabel('Sensitivity')\n",
    "    "
   ]
  },
  {
   "cell_type": "code",
   "execution_count": 22,
   "metadata": {
    "slideshow": {
     "slide_type": "subslide"
    }
   },
   "outputs": [
    {
     "data": {
      "image/png": "[encoded data removed]",
      "text/plain": [
       "<Figure size 432x288 with 1 Axes>"
      ]
     },
     "metadata": {
      "needs_background": "light"
     },
     "output_type": "display_data"
    }
   ],
   "source": [
    "# Can petal length feature be used to distinguish versicolor (see the blue curve)\n",
    "plotROC(iris[iris.species=='versicolor'].petal_length, iris[iris.species=='virginica'].petal_length, color='b')\n",
    "\n",
    "# Can pedal length separate setosa from all other species (see the green curve)\n",
    "plotROC(iris[iris.species=='setosa'].petal_length, iris[iris.species!='setosa'].petal_length, color='g')\n",
    "\n",
    "# Is sepal width usefull in separating virginica from setosa (red curve)\n",
    "plotROC(iris[iris.species=='virginica'].sepal_width, iris[iris.species!='virginica'].sepal_width, color='r')\n",
    "\n",
    "plt.grid()\n",
    "    "
   ]
  },
  {
   "cell_type": "markdown",
   "metadata": {
    "slideshow": {
     "slide_type": "slide"
    }
   },
   "source": [
    "## How to handle categorial features? <a class=\"anchor\" id=\"categoricalF\"></a>\n",
    " - Features can be \n",
    "   - Real values, like floating points or integers, which can be ordered\n",
    "   - Categorical features, which is an unordered set of identifiers for separate classes\n",
    "   - Because you cannot order the categorical features, they do not have distance metrics either\n",
    "   - Many methods rely on distances, and simply using numbers as categories only makes the operation of the predictor worse\n",
    "   - Some methods, like Naive Bayesian Classifier (NBC) can use directly categorical features\n",
    "   - For many others, it is best to use ns [One Hot Encoding]((https://scikit-learn.org/stable/modules/generated/sklearn.preprocessing.OneHotEncoder.html)), where one binary feature is used to represent each category. Therefore a feature with N-categories will be replaced by a N-bit binary vector. \n",
    "   \n",
    "### Example:\n",
    "Assume that the species of the Iris is in fact a categorical feature for some ML algorithm. If you would code them just simply like 'setosa' -> 1, 'versicolor' ->2 and 'virginica' -> 3, the ML algorithm could think it as a numerical feature, and use it to calculate distances between species :( \n",
    "\n",
    "The fix is to use so called One Hot Encoding.\n",
    "Here is the original data:"
   ]
  },
  {
   "cell_type": "code",
   "execution_count": 5,
   "metadata": {
    "scrolled": true,
    "slideshow": {
     "slide_type": "subslide"
    }
   },
   "outputs": [
    {
     "data": {
      "text/html": [
       "<div>\n",
       "<style scoped>\n",
       "    .dataframe tbody tr th:only-of-type {\n",
       "        vertical-align: middle;\n",
       "    }\n",
       "\n",
       "    .dataframe tbody tr th {\n",
       "        vertical-align: top;\n",
       "    }\n",
       "\n",
       "    .dataframe thead th {\n",
       "        text-align: right;\n",
       "    }\n",
       "</style>\n",
       "<table border=\"1\" class=\"dataframe\">\n",
       "  <thead>\n",
       "    <tr style=\"text-align: right;\">\n",
       "      <th></th>\n",
       "      <th>sepal length (cm)</th>\n",
       "      <th>sepal width (cm)</th>\n",
       "      <th>petal length (cm)</th>\n",
       "      <th>petal width (cm)</th>\n",
       "      <th>species</th>\n",
       "    </tr>\n",
       "  </thead>\n",
       "  <tbody>\n",
       "    <tr>\n",
       "      <th>0</th>\n",
       "      <td>5.1</td>\n",
       "      <td>3.5</td>\n",
       "      <td>1.4</td>\n",
       "      <td>0.2</td>\n",
       "      <td>setosa</td>\n",
       "    </tr>\n",
       "    <tr>\n",
       "      <th>1</th>\n",
       "      <td>4.9</td>\n",
       "      <td>3.0</td>\n",
       "      <td>1.4</td>\n",
       "      <td>0.2</td>\n",
       "      <td>setosa</td>\n",
       "    </tr>\n",
       "    <tr>\n",
       "      <th>2</th>\n",
       "      <td>4.7</td>\n",
       "      <td>3.2</td>\n",
       "      <td>1.3</td>\n",
       "      <td>0.2</td>\n",
       "      <td>setosa</td>\n",
       "    </tr>\n",
       "    <tr>\n",
       "      <th>3</th>\n",
       "      <td>4.6</td>\n",
       "      <td>3.1</td>\n",
       "      <td>1.5</td>\n",
       "      <td>0.2</td>\n",
       "      <td>setosa</td>\n",
       "    </tr>\n",
       "    <tr>\n",
       "      <th>4</th>\n",
       "      <td>5.0</td>\n",
       "      <td>3.6</td>\n",
       "      <td>1.4</td>\n",
       "      <td>0.2</td>\n",
       "      <td>setosa</td>\n",
       "    </tr>\n",
       "  </tbody>\n",
       "</table>\n",
       "</div>"
      ],
      "text/plain": [
       "   sepal length (cm)  sepal width (cm)  petal length (cm)  petal width (cm)  \\\n",
       "0                5.1               3.5                1.4               0.2   \n",
       "1                4.9               3.0                1.4               0.2   \n",
       "2                4.7               3.2                1.3               0.2   \n",
       "3                4.6               3.1                1.5               0.2   \n",
       "4                5.0               3.6                1.4               0.2   \n",
       "\n",
       "  species  \n",
       "0  setosa  \n",
       "1  setosa  \n",
       "2  setosa  \n",
       "3  setosa  \n",
       "4  setosa  "
      ]
     },
     "execution_count": 5,
     "metadata": {},
     "output_type": "execute_result"
    }
   ],
   "source": [
    "from sklearn import datasets\n",
    "import pandas as pd\n",
    "import numpy as np\n",
    "\n",
    "iris_dataset=datasets.load_iris()\n",
    "iris=pd.DataFrame(iris_dataset.data)\n",
    "iris.columns=iris_dataset.feature_names\n",
    "iris['species']=[iris_dataset.target_names[i] for i in iris_dataset.target]\n",
    "iris.head()\n"
   ]
  },
  {
   "cell_type": "markdown",
   "metadata": {
    "slideshow": {
     "slide_type": "subslide"
    }
   },
   "source": [
    "### One hot encoding  <a class=\"anchor\" id=\"OneHotEncoding\"></a>\n",
    "Now we can encode the species to number in a safe way:\n",
    "\n",
    "1. Make an encoder and transform the target variable to OneHot format\n",
    "1. The categorial variable can be currently encoded as integers, strings or any objects OneHotEncoder reads it in the for nxp matrix, where n is number of samples and p is the number of features to be encoded. \n",
    "1. Originally target was such kind of numpy array, which do not have the second index at all. It has to be (unfortunately) converted to column vector, which is otherwise the same, but it has also the second axis, which has only one value, a nx1 array. \n",
    "1. This can be done by just simply adding a new dimension into the array, using np.newaxis constant or by using reshape function. \n",
    " \n"
   ]
  },
  {
   "cell_type": "code",
   "execution_count": 6,
   "metadata": {
    "scrolled": true,
    "slideshow": {
     "slide_type": "subslide"
    }
   },
   "outputs": [
    {
     "data": {
      "text/html": [
       "<div>\n",
       "<style scoped>\n",
       "    .dataframe tbody tr th:only-of-type {\n",
       "        vertical-align: middle;\n",
       "    }\n",
       "\n",
       "    .dataframe tbody tr th {\n",
       "        vertical-align: top;\n",
       "    }\n",
       "\n",
       "    .dataframe thead th {\n",
       "        text-align: right;\n",
       "    }\n",
       "</style>\n",
       "<table border=\"1\" class=\"dataframe\">\n",
       "  <thead>\n",
       "    <tr style=\"text-align: right;\">\n",
       "      <th></th>\n",
       "      <th>sepal length (cm)</th>\n",
       "      <th>sepal width (cm)</th>\n",
       "      <th>petal length (cm)</th>\n",
       "      <th>petal width (cm)</th>\n",
       "      <th>species</th>\n",
       "      <th>setosa</th>\n",
       "      <th>versicolor</th>\n",
       "      <th>virginica</th>\n",
       "    </tr>\n",
       "  </thead>\n",
       "  <tbody>\n",
       "    <tr>\n",
       "      <th>78</th>\n",
       "      <td>6.0</td>\n",
       "      <td>2.9</td>\n",
       "      <td>4.5</td>\n",
       "      <td>1.5</td>\n",
       "      <td>versicolor</td>\n",
       "      <td>0.0</td>\n",
       "      <td>1.0</td>\n",
       "      <td>0.0</td>\n",
       "    </tr>\n",
       "    <tr>\n",
       "      <th>95</th>\n",
       "      <td>5.7</td>\n",
       "      <td>3.0</td>\n",
       "      <td>4.2</td>\n",
       "      <td>1.2</td>\n",
       "      <td>versicolor</td>\n",
       "      <td>0.0</td>\n",
       "      <td>1.0</td>\n",
       "      <td>0.0</td>\n",
       "    </tr>\n",
       "    <tr>\n",
       "      <th>123</th>\n",
       "      <td>6.3</td>\n",
       "      <td>2.7</td>\n",
       "      <td>4.9</td>\n",
       "      <td>1.8</td>\n",
       "      <td>virginica</td>\n",
       "      <td>0.0</td>\n",
       "      <td>0.0</td>\n",
       "      <td>1.0</td>\n",
       "    </tr>\n",
       "    <tr>\n",
       "      <th>90</th>\n",
       "      <td>5.5</td>\n",
       "      <td>2.6</td>\n",
       "      <td>4.4</td>\n",
       "      <td>1.2</td>\n",
       "      <td>versicolor</td>\n",
       "      <td>0.0</td>\n",
       "      <td>1.0</td>\n",
       "      <td>0.0</td>\n",
       "    </tr>\n",
       "    <tr>\n",
       "      <th>7</th>\n",
       "      <td>5.0</td>\n",
       "      <td>3.4</td>\n",
       "      <td>1.5</td>\n",
       "      <td>0.2</td>\n",
       "      <td>setosa</td>\n",
       "      <td>1.0</td>\n",
       "      <td>0.0</td>\n",
       "      <td>0.0</td>\n",
       "    </tr>\n",
       "    <tr>\n",
       "      <th>37</th>\n",
       "      <td>4.9</td>\n",
       "      <td>3.6</td>\n",
       "      <td>1.4</td>\n",
       "      <td>0.1</td>\n",
       "      <td>setosa</td>\n",
       "      <td>1.0</td>\n",
       "      <td>0.0</td>\n",
       "      <td>0.0</td>\n",
       "    </tr>\n",
       "    <tr>\n",
       "      <th>131</th>\n",
       "      <td>7.9</td>\n",
       "      <td>3.8</td>\n",
       "      <td>6.4</td>\n",
       "      <td>2.0</td>\n",
       "      <td>virginica</td>\n",
       "      <td>0.0</td>\n",
       "      <td>0.0</td>\n",
       "      <td>1.0</td>\n",
       "    </tr>\n",
       "    <tr>\n",
       "      <th>64</th>\n",
       "      <td>5.6</td>\n",
       "      <td>2.9</td>\n",
       "      <td>3.6</td>\n",
       "      <td>1.3</td>\n",
       "      <td>versicolor</td>\n",
       "      <td>0.0</td>\n",
       "      <td>1.0</td>\n",
       "      <td>0.0</td>\n",
       "    </tr>\n",
       "    <tr>\n",
       "      <th>62</th>\n",
       "      <td>6.0</td>\n",
       "      <td>2.2</td>\n",
       "      <td>4.0</td>\n",
       "      <td>1.0</td>\n",
       "      <td>versicolor</td>\n",
       "      <td>0.0</td>\n",
       "      <td>1.0</td>\n",
       "      <td>0.0</td>\n",
       "    </tr>\n",
       "    <tr>\n",
       "      <th>115</th>\n",
       "      <td>6.4</td>\n",
       "      <td>3.2</td>\n",
       "      <td>5.3</td>\n",
       "      <td>2.3</td>\n",
       "      <td>virginica</td>\n",
       "      <td>0.0</td>\n",
       "      <td>0.0</td>\n",
       "      <td>1.0</td>\n",
       "    </tr>\n",
       "  </tbody>\n",
       "</table>\n",
       "</div>"
      ],
      "text/plain": [
       "     sepal length (cm)  sepal width (cm)  petal length (cm)  petal width (cm)  \\\n",
       "78                 6.0               2.9                4.5               1.5   \n",
       "95                 5.7               3.0                4.2               1.2   \n",
       "123                6.3               2.7                4.9               1.8   \n",
       "90                 5.5               2.6                4.4               1.2   \n",
       "7                  5.0               3.4                1.5               0.2   \n",
       "37                 4.9               3.6                1.4               0.1   \n",
       "131                7.9               3.8                6.4               2.0   \n",
       "64                 5.6               2.9                3.6               1.3   \n",
       "62                 6.0               2.2                4.0               1.0   \n",
       "115                6.4               3.2                5.3               2.3   \n",
       "\n",
       "        species  setosa  versicolor  virginica  \n",
       "78   versicolor     0.0         1.0        0.0  \n",
       "95   versicolor     0.0         1.0        0.0  \n",
       "123   virginica     0.0         0.0        1.0  \n",
       "90   versicolor     0.0         1.0        0.0  \n",
       "7        setosa     1.0         0.0        0.0  \n",
       "37       setosa     1.0         0.0        0.0  \n",
       "131   virginica     0.0         0.0        1.0  \n",
       "64   versicolor     0.0         1.0        0.0  \n",
       "62   versicolor     0.0         1.0        0.0  \n",
       "115   virginica     0.0         0.0        1.0  "
      ]
     },
     "execution_count": 6,
     "metadata": {},
     "output_type": "execute_result"
    }
   ],
   "source": [
    "from sklearn.preprocessing import OneHotEncoder\n",
    "\n",
    "# Change to One hot encoding\n",
    "\n",
    "# Add a new column for each species\n",
    "for name in iris_dataset.target_names:\n",
    "    iris[name]=0\n",
    "    \n",
    "\n",
    "# The result of the One hot encoding is a sparse matrix, which can be converted to numpy \n",
    "# array using toarray method:\n",
    "enc=OneHotEncoder(categories='auto')\n",
    "iris.loc[:,'setosa':'virginica']=enc.fit_transform(iris_dataset.target[:,np.newaxis]).toarray()\n",
    "#iris.loc[:,'setosa':'virginica']=enc.fit_transform(iris_dataset.target.reshape(150,1)).toarray()\n",
    "iris.sample(10)"
   ]
  }
 ],
 "metadata": {
  "celltoolbar": "Slideshow",
  "kernelspec": {
   "display_name": "Python 3 (ipykernel)",
   "language": "python",
   "name": "python3"
  },
  "language_info": {
   "codemirror_mode": {
    "name": "ipython",
    "version": 3
   },
   "file_extension": ".py",
   "mimetype": "text/x-python",
   "name": "python",
   "nbconvert_exporter": "python",
   "pygments_lexer": "ipython3",
   "version": "3.9.2"
  },
  "toc": {
   "base_numbering": 1,
   "nav_menu": {},
   "number_sections": true,
   "sideBar": true,
   "skip_h1_title": false,
   "title_cell": "Table of Contents",
   "title_sidebar": "Contents",
   "toc_cell": false,
   "toc_position": {},
   "toc_section_display": true,
   "toc_window_display": false
  }
 },
 "nbformat": 4,
 "nbformat_minor": 2
}
