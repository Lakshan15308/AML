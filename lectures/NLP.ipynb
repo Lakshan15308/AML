{
 "cells": [
  {
   "cell_type": "markdown",
   "id": "b7a1d613",
   "metadata": {
    "slideshow": {
     "slide_type": "slide"
    }
   },
   "source": [
    "# Natural Language Processing"
   ]
  },
  {
   "cell_type": "markdown",
   "id": "fd32e201",
   "metadata": {
    "slideshow": {
     "slide_type": "fragment"
    }
   },
   "source": [
    "Natural Language Processing (NLP) is an important part of Machine Learning. In Python there is a good library called as Natural Language Toolkit (NLTK).\n",
    "\n",
    "The NLTK toolkit can be installed first with PIP/Conda\n",
    "\n",
    "`pip install nltk` or \n",
    "`conda install nltk`\n",
    "\n",
    "For downloading and parsing web content, it is also necessary to install packages \n",
    "\n",
    "`pip install requests beautifulsoup4` or \n",
    "`conda install requests beautifulsoup4`\n",
    "\n",
    "Then import it and download some additional components of nltk and sample data (corpus). You can even download them all, since they do not require huge amount of disk space\n",
    "\n",
    "Regular experssions are also very usefull for many kinds of general text processing. Learn how to use [Python RE](https://docs.python.org/3/howto/regex.html)."
   ]
  },
  {
   "cell_type": "code",
   "execution_count": 1,
   "id": "8a8b9d83",
   "metadata": {
    "ExecuteTime": {
     "end_time": "2021-11-25T08:10:20.944241Z",
     "start_time": "2021-11-25T08:10:20.926725Z"
    },
    "slideshow": {
     "slide_type": "subslide"
    }
   },
   "outputs": [],
   "source": [
    "# You can use an interactive console side by side with the notebook\n",
    "# by starting the Qt-console\n",
    "%qtconsole"
   ]
  },
  {
   "cell_type": "code",
   "execution_count": 2,
   "id": "9230aeb4",
   "metadata": {
    "ExecuteTime": {
     "end_time": "2021-11-25T08:10:22.157608Z",
     "start_time": "2021-11-25T08:10:20.951749Z"
    },
    "slideshow": {
     "slide_type": "subslide"
    }
   },
   "outputs": [],
   "source": [
    "# Standard libraries to be used\n",
    "import matplotlib.pyplot as plt\n",
    "import numpy as np\n",
    "plt.style.use('fivethirtyeight')\n",
    "\n",
    "# Library for making web requests and parsing text from web page\n",
    "# These are needed now only, because we want to get text from the \n",
    "# web page\n",
    "import requests \n",
    "from bs4 import BeautifulSoup\n",
    "\n",
    "# A regular experssion library. This is very usefull for text processing\n",
    "import re\n",
    "\n",
    "# Import the NLTK library\n",
    "import nltk\n",
    "\n",
    "# Run this, if you want to download more modules from the net\n",
    "# nltk.download()"
   ]
  },
  {
   "cell_type": "markdown",
   "id": "9b5937cc",
   "metadata": {
    "slideshow": {
     "slide_type": "subslide"
    }
   },
   "source": [
    "## Read data from a web page"
   ]
  },
  {
   "cell_type": "code",
   "execution_count": 3,
   "id": "cda5d8c1",
   "metadata": {
    "ExecuteTime": {
     "end_time": "2021-11-25T08:10:22.632311Z",
     "start_time": "2021-11-25T08:10:22.161378Z"
    },
    "slideshow": {
     "slide_type": "subslide"
    }
   },
   "outputs": [
    {
     "name": "stdout",
     "output_type": "stream",
     "text": [
      "<title>INdoor navigation from CUBesAt TEchnology (INCUBATE) | University of Vaasa</title>\n",
      "\n",
      "The project will research the application of small satellite technology for precise positioning of indoor spaces and navigation. A new small satellite will also be designed in the project. A sufficiently accurate positioning service that works seamlessly in outdoor and indoor spaces does not currently exist. GPS does not work reliably indoors and between high buildings in cities, not to mention telling the room or floor of the location. – A solution for precise positioning, navigation and timing can be found by utilising LEO small satellites that orbit the earth at a low altitude. They send a stronger signal to the earth than the traditional positioning satellites and orbit the earth faster than them, even in 40 minutes. If proposals about building an internet based on small satellites are realised, there will be about 50,000 active satellites orbiting the earth in ten years,  In the three-year INdoor navigation form CUBesAt Technology i.e. INCUBATE research project, the objective is to study how positioning, navigation and timing (PNT) based on small satellites can be used in indoor spaces. The project will also research the commercial potential of the solution and revenue possibilities, partly jointly with companies. The technology developed in the project will offer extensive application potential for many industry sectors. The researchers intend to also develop the use of current small satellites for positioning, as well as new payload, i.e. equipment and software carried by the satellite, to improve navigation solutions. The satellite signal and its reception must be optimised so that a sufficiently high-performing satellite signal can be defined for accurate positioning and navigation. From the University of Vaasa, the Digital Economy research platform headed by Heidi Kuusniemi is involved in the project, as well as the International Business and Marketing research group represented in the project by Arto Ojala, Professor of International Business. Other researchers in the project are Kendall Rutledge and Petri Välisuo, Jani Boutellier and Mohammed Elmusrati, together with their doctoral researchers. The research project led by the University of Vaasa receives funding in the amount of EUR 950,000 from the Building the Future - Taking Action programme of the Centennial Foundation of the Federation of Finnish Technology Industries and Jane and Aatos Erkko Foundation.   Project leader: Director, professor Heidi Kuusniemi, Digital Economy -research platform, University of Vaasa   More information: Press release Organisation coordinating the project University of Vaasa Project partners Tampereen yliopisto Aalto University National Land Survey of Finland Funding partners Technology Industries of Finland Centennial Foundation\n"
     ]
    }
   ],
   "source": [
    "## Read INCUBATE project's web page\n",
    "url='https://www.uwasa.fi/en/research/projects/indoor-navigation-cubesat-technology-incubate'\n",
    "html_text = requests.get(url).text\n",
    "\n",
    "# And parse the text out from the page\n",
    "soup = BeautifulSoup(html_text, 'html.parser')\n",
    "print(soup.title)\n",
    "print(\"\")\n",
    "\n",
    "# Use regular expressions to replace a strig of spaces and newlines with a single space\n",
    "alltext=re.sub('[\\n ]+', ' ', soup.text)\n",
    "text=alltext[1341:-281]\n",
    "print(text)\n",
    "\n",
    "# Write the actual content into a file for later use\n",
    "with open('data/digieco.txt', 'w') as fid:\n",
    "    fid.write(text)"
   ]
  },
  {
   "cell_type": "markdown",
   "id": "1eef12c7",
   "metadata": {
    "slideshow": {
     "slide_type": "subslide"
    }
   },
   "source": [
    "## Split the text into words and sentences"
   ]
  },
  {
   "cell_type": "code",
   "execution_count": 4,
   "id": "b8a4548f",
   "metadata": {
    "ExecuteTime": {
     "end_time": "2021-11-25T08:10:22.637018Z",
     "start_time": "2021-11-25T08:10:22.634855Z"
    },
    "slideshow": {
     "slide_type": "fragment"
    }
   },
   "outputs": [],
   "source": [
    "from nltk.corpus import stopwords\n",
    "from nltk.tokenize import word_tokenize, sent_tokenize"
   ]
  },
  {
   "cell_type": "code",
   "execution_count": 5,
   "id": "ce8cc164",
   "metadata": {
    "ExecuteTime": {
     "end_time": "2021-11-25T08:10:22.664230Z",
     "start_time": "2021-11-25T08:10:22.651612Z"
    }
   },
   "outputs": [
    {
     "name": "stdout",
     "output_type": "stream",
     "text": [
      "17\n",
      "450\n",
      "['The', 'project', 'will', 'research', 'the', 'application', 'of', 'small', 'satellite', 'technology', 'for', 'precise', 'positioning', 'of', 'indoor', 'spaces', 'and', 'navigation', '.', 'A']\n",
      "\n",
      "0 : The project will research the application of small satellite technology for precise positioning of indoor spaces and navigation.\n",
      "1 : A new small satellite will also be designed in the project.\n",
      "2 : A sufficiently accurate positioning service that works seamlessly in outdoor and indoor spaces does not currently exist.\n"
     ]
    }
   ],
   "source": [
    "sentences=sent_tokenize(text)\n",
    "words=word_tokenize(text)\n",
    "print(len(sentences))\n",
    "print(len(words))\n",
    "print(words[:20])\n",
    "print(\"\")\n",
    "for i in range(3):\n",
    "    print(i, \":\", sentences[i])"
   ]
  },
  {
   "cell_type": "markdown",
   "id": "5ff2939d",
   "metadata": {
    "ExecuteTime": {
     "end_time": "2021-11-23T17:14:57.126814Z",
     "start_time": "2021-11-23T17:14:57.119972Z"
    },
    "slideshow": {
     "slide_type": "subslide"
    }
   },
   "source": [
    "## Remove common words\n",
    "The text contains plenty of small words, which are common in all texts, and they are not therefore very useful in analyzing the context of a specific piece of text. These stop words are often removed.\n",
    "\n",
    "Computer usually assumes that lowercase and uppercase are different, but the case does not matter in the meaning of the words. Therefore all words are usually normalized to small case characters before further analysis."
   ]
  },
  {
   "cell_type": "code",
   "execution_count": 6,
   "id": "ad774474",
   "metadata": {
    "ExecuteTime": {
     "end_time": "2021-11-25T08:10:22.771911Z",
     "start_time": "2021-11-25T08:10:22.665968Z"
    },
    "slideshow": {
     "slide_type": "fragment"
    }
   },
   "outputs": [
    {
     "name": "stdout",
     "output_type": "stream",
     "text": [
      "294\n"
     ]
    },
    {
     "data": {
      "text/plain": [
       "['project',\n",
       " 'research',\n",
       " 'application',\n",
       " 'small',\n",
       " 'satellite',\n",
       " 'technology',\n",
       " 'precise',\n",
       " 'positioning',\n",
       " 'indoor',\n",
       " 'spaces',\n",
       " 'navigation',\n",
       " '.',\n",
       " 'new',\n",
       " 'small',\n",
       " 'satellite',\n",
       " 'also',\n",
       " 'designed',\n",
       " 'project',\n",
       " '.',\n",
       " 'sufficiently']"
      ]
     },
     "execution_count": 6,
     "metadata": {},
     "output_type": "execute_result"
    }
   ],
   "source": [
    "from nltk.corpus import stopwords\n",
    "stop_words_fin = set(stopwords.words(\"finnish\"))\n",
    "stop_words = set(stopwords.words(\"english\"))\n",
    "more = stop_words.union(set(['article', 'link']))  # Extend the list by words you are not interested in\n",
    "\n",
    "filtered_words=[]\n",
    "for word in words:\n",
    "    lcword = word.casefold()\n",
    "    # Skip words containing digits (if you like)\n",
    "    if re.match('\\d+', lcword):\n",
    "        continue\n",
    "    # Skip stop words and punctuations \n",
    "    if lcword not in stop_words:\n",
    "        filtered_words.append(lcword)\n",
    "\n",
    "print(len(filtered_words))\n",
    "filtered_words[:20]"
   ]
  },
  {
   "cell_type": "markdown",
   "id": "64cd57fa",
   "metadata": {
    "slideshow": {
     "slide_type": "subslide"
    }
   },
   "source": [
    "## Stemming\n",
    "\n",
    "The same word may have different forms, such as design, designing, designs. Stemming means finding the root of the word in order to make the computer to understand that the word is the same, even if it is in different form."
   ]
  },
  {
   "cell_type": "code",
   "execution_count": 7,
   "id": "8c337d9a",
   "metadata": {
    "ExecuteTime": {
     "end_time": "2021-11-25T08:10:22.821504Z",
     "start_time": "2021-11-25T08:10:22.781823Z"
    },
    "slideshow": {
     "slide_type": "fragment"
    }
   },
   "outputs": [
    {
     "name": "stdout",
     "output_type": "stream",
     "text": [
      "design design design\n"
     ]
    }
   ],
   "source": [
    "from nltk.stem import PorterStemmer, SnowballStemmer\n",
    "\n",
    "stemmer = SnowballStemmer(language='english') # Finnish is also supported :)\n",
    "\n",
    "print(stemmer.stem('designing'), stemmer.stem('designs'), stemmer.stem('design'))\n",
    "stemmed_words = [stemmer.stem(word) for word in filtered_words]"
   ]
  },
  {
   "cell_type": "code",
   "execution_count": 8,
   "id": "ee8552b3",
   "metadata": {
    "ExecuteTime": {
     "end_time": "2021-11-25T08:10:22.849701Z",
     "start_time": "2021-11-25T08:10:22.837416Z"
    },
    "scrolled": true,
    "slideshow": {
     "slide_type": "subslide"
    }
   },
   "outputs": [
    {
     "name": "stdout",
     "output_type": "stream",
     "text": [
      "            Original                 Stem\n",
      "          -----------------------------------\n",
      "             project              project\n",
      "            research             research\n",
      "         application               applic\n",
      "               small                small\n",
      "           satellite             satellit\n",
      "          technology            technolog\n",
      "             precise               precis\n",
      "         positioning                posit\n",
      "              indoor               indoor\n",
      "              spaces                space\n",
      "          navigation                navig\n",
      "                   .                    .\n",
      "                 new                  new\n",
      "               small                small\n",
      "           satellite             satellit\n"
     ]
    }
   ],
   "source": [
    "print(\"%20s %20s\" % ('Original', 'Stem'))\n",
    "print(\" \"*10 + \"-\"*35)\n",
    "for i in range(15):\n",
    "    print(\"%20s %20s\" % (filtered_words[i], stemmed_words[i]))\n"
   ]
  },
  {
   "cell_type": "markdown",
   "id": "61259a38",
   "metadata": {
    "slideshow": {
     "slide_type": "subslide"
    }
   },
   "source": [
    "## Lemmatizing\n",
    "\n",
    "Changes words to their basic forms, so that all output words are proper words, not only the stems.\n",
    "Lemma is the basic form of the word, which represents a group of words."
   ]
  },
  {
   "cell_type": "code",
   "execution_count": 9,
   "id": "720ad10b",
   "metadata": {
    "ExecuteTime": {
     "end_time": "2021-11-25T08:10:22.856958Z",
     "start_time": "2021-11-25T08:10:22.852521Z"
    },
    "slideshow": {
     "slide_type": "fragment"
    }
   },
   "outputs": [],
   "source": [
    "from nltk.stem import WordNetLemmatizer\n",
    "lemmatizer = WordNetLemmatizer()"
   ]
  },
  {
   "cell_type": "code",
   "execution_count": 10,
   "id": "b6dd10d4",
   "metadata": {
    "ExecuteTime": {
     "end_time": "2021-11-25T08:10:24.053350Z",
     "start_time": "2021-11-25T08:10:22.860340Z"
    },
    "slideshow": {
     "slide_type": "subslide"
    }
   },
   "outputs": [
    {
     "name": "stdout",
     "output_type": "stream",
     "text": [
      "            Original,                 Stem,           Lemmatized\n",
      "          -------------------------------------------------------\n",
      "             project,              project,              project\n",
      "            research,             research,             research\n",
      "         application,               applic,          application\n",
      "               small,                small,                small\n",
      "           satellite,             satellit,            satellite\n",
      "          technology,            technolog,           technology\n",
      "             precise,               precis,              precise\n",
      "         positioning,                posit,          positioning\n",
      "              indoor,               indoor,               indoor\n",
      "              spaces,                space,                space\n",
      "          navigation,                navig,           navigation\n",
      "                   .,                    .,                    .\n",
      "                 new,                  new,                  new\n",
      "               small,                small,                small\n",
      "           satellite,             satellit,            satellite\n",
      "                also,                 also,                 also\n",
      "            designed,               design,             designed\n",
      "             project,              project,              project\n",
      "                   .,                    .,                    .\n",
      "        sufficiently,              suffici,         sufficiently\n",
      "            accurate,                accur,             accurate\n",
      "         positioning,                posit,          positioning\n",
      "             service,               servic,              service\n",
      "               works,                 work,                 work\n",
      "          seamlessly,             seamless,           seamlessly\n"
     ]
    }
   ],
   "source": [
    "lemmatized_words = [lemmatizer.lemmatize(word) for word in filtered_words]\n",
    "\n",
    "print(\"%20s, %20s, %20s\" % ('Original', 'Stem', 'Lemmatized'))\n",
    "print(\" \"*10 + \"-\"*55)\n",
    "for i in range(25):\n",
    "    print(\"%20s, %20s, %20s\" % (filtered_words[i], stemmed_words[i], lemmatized_words[i]))\n"
   ]
  },
  {
   "cell_type": "code",
   "execution_count": 11,
   "id": "bd4d8db9",
   "metadata": {
    "ExecuteTime": {
     "end_time": "2021-11-25T08:10:24.057718Z",
     "start_time": "2021-11-25T08:10:24.054716Z"
    },
    "slideshow": {
     "slide_type": "subslide"
    }
   },
   "outputs": [
    {
     "name": "stdout",
     "output_type": "stream",
     "text": [
      "worst\n",
      "bad\n"
     ]
    }
   ],
   "source": [
    "# The position of the word can be specically adjusted, now as adjective, noun is the default\n",
    "print(lemmatizer.lemmatize(\"worst\", pos=\"n\"))\n",
    "print(lemmatizer.lemmatize(\"worst\", pos=\"a\"))"
   ]
  },
  {
   "cell_type": "markdown",
   "id": "2f2c25fd",
   "metadata": {
    "slideshow": {
     "slide_type": "subslide"
    }
   },
   "source": [
    "## Finding the parts of speech\n",
    "\n",
    "*Sanaluokat*\n",
    "\n",
    "`nltk.help.upenn_tagset()`\n",
    "\n",
    " - DT=Determiner <br>\n",
    " - JJ=Adjective\n",
    " - NN=Noun\n",
    " - MD=Modal auxiliary\n",
    " - RB=Adverb\n",
    " - VB=Verb\n",
    " - VBN=Verb, past participle\n",
    " - WDT=WH determiner\n",
    " - VBZ=Verb, preset tense\n",
    " - ..."
   ]
  },
  {
   "cell_type": "code",
   "execution_count": 12,
   "id": "6ee1c977",
   "metadata": {
    "ExecuteTime": {
     "end_time": "2021-11-25T08:10:24.441755Z",
     "start_time": "2021-11-25T08:10:24.059061Z"
    },
    "scrolled": false,
    "slideshow": {
     "slide_type": "subslide"
    }
   },
   "outputs": [
    {
     "data": {
      "text/plain": [
       "[('The', 'DT'),\n",
       " ('project', 'NN'),\n",
       " ('will', 'MD'),\n",
       " ('research', 'NN'),\n",
       " ('the', 'DT'),\n",
       " ('application', 'NN'),\n",
       " ('of', 'IN'),\n",
       " ('small', 'JJ'),\n",
       " ('satellite', 'NN'),\n",
       " ('technology', 'NN'),\n",
       " ('for', 'IN'),\n",
       " ('precise', 'JJ'),\n",
       " ('positioning', 'NN'),\n",
       " ('of', 'IN'),\n",
       " ('indoor', 'JJ'),\n",
       " ('spaces', 'NNS'),\n",
       " ('and', 'CC'),\n",
       " ('navigation', 'NN'),\n",
       " ('.', '.'),\n",
       " ('A', 'DT')]"
      ]
     },
     "execution_count": 12,
     "metadata": {},
     "output_type": "execute_result"
    }
   ],
   "source": [
    "tags=nltk.pos_tag(words)\n",
    "tags[:20]"
   ]
  },
  {
   "cell_type": "code",
   "execution_count": 13,
   "id": "0fe0a81c",
   "metadata": {
    "ExecuteTime": {
     "end_time": "2021-11-25T08:10:24.451850Z",
     "start_time": "2021-11-25T08:10:24.443767Z"
    },
    "slideshow": {
     "slide_type": "subslide"
    }
   },
   "outputs": [
    {
     "data": {
      "text/plain": [
       "array([['be', 'VB'],\n",
       "       ['work', 'VB'],\n",
       "       ['mention', 'VB'],\n",
       "       ['–', 'VB'],\n",
       "       ['be', 'VB'],\n",
       "       ['orbit', 'VB'],\n",
       "       ['be', 'VB'],\n",
       "       ['study', 'VB'],\n",
       "       ['be', 'VB'],\n",
       "       ['offer', 'VB']], dtype='<U15')"
      ]
     },
     "execution_count": 13,
     "metadata": {},
     "output_type": "execute_result"
    }
   ],
   "source": [
    "# Select all verbs, print first 10\n",
    "tagsarray=np.array(tags)\n",
    "i=tagsarray[:,1]=='VB'\n",
    "tagsarray[i][:10]"
   ]
  },
  {
   "cell_type": "code",
   "execution_count": 14,
   "id": "5072561f",
   "metadata": {
    "ExecuteTime": {
     "end_time": "2021-11-25T08:10:24.472029Z",
     "start_time": "2021-11-25T08:10:24.456994Z"
    },
    "slideshow": {
     "slide_type": "subslide"
    }
   },
   "outputs": [
    {
     "data": {
      "text/plain": [
       "array([['project', 'NN'],\n",
       "       ['research', 'NN'],\n",
       "       ['application', 'NN'],\n",
       "       ['satellite', 'NN'],\n",
       "       ['technology', 'NN'],\n",
       "       ['positioning', 'NN'],\n",
       "       ['navigation', 'NN'],\n",
       "       ['satellite', 'NN'],\n",
       "       ['project', 'NN'],\n",
       "       ['positioning', 'NN']], dtype='<U15')"
      ]
     },
     "execution_count": 14,
     "metadata": {},
     "output_type": "execute_result"
    }
   ],
   "source": [
    "# Select all nouns, print first 10\n",
    "tagsarray=np.array(tags)\n",
    "i=tagsarray[:,1]=='NN'\n",
    "tagsarray[i][:10]"
   ]
  },
  {
   "cell_type": "code",
   "execution_count": 15,
   "id": "e823907c",
   "metadata": {
    "ExecuteTime": {
     "end_time": "2021-11-25T08:10:24.510643Z",
     "start_time": "2021-11-25T08:10:24.478145Z"
    },
    "scrolled": true,
    "slideshow": {
     "slide_type": "subslide"
    }
   },
   "outputs": [
    {
     "data": {
      "text/plain": [
       "array([['small', 'JJ'],\n",
       "       ['precise', 'JJ'],\n",
       "       ['indoor', 'JJ'],\n",
       "       ['new', 'JJ'],\n",
       "       ['small', 'JJ'],\n",
       "       ['accurate', 'JJ'],\n",
       "       ['indoor', 'JJ'],\n",
       "       ['high', 'JJ'],\n",
       "       ['small', 'JJ'],\n",
       "       ['low', 'JJ']], dtype='<U15')"
      ]
     },
     "execution_count": 15,
     "metadata": {},
     "output_type": "execute_result"
    }
   ],
   "source": [
    "# Select all adjectives, print first 10\n",
    "tagsarray=np.array(tags)\n",
    "i=tagsarray[:,1]=='JJ'\n",
    "tagsarray[i][:10]"
   ]
  },
  {
   "cell_type": "markdown",
   "id": "14cb65ab",
   "metadata": {
    "slideshow": {
     "slide_type": "subslide"
    }
   },
   "source": [
    "## Parsing grammar\n",
    "\n",
    "A simple syntax of a grammar can be defined using a template with syntax resembling regular expressions, as follows:\n",
    "\n",
    "A noun phrase *NP* is a sentence which starts with optional determiner *DT* and can have zero or more adjectives *JJ* and it must have a noun *NN* in the end. \n",
    "\n",
    "The Regexp Parser can use this grammatic rule and find the sentences matching to this rule from the text:"
   ]
  },
  {
   "cell_type": "code",
   "execution_count": 16,
   "id": "de207c64",
   "metadata": {
    "ExecuteTime": {
     "end_time": "2021-11-25T08:10:52.098515Z",
     "start_time": "2021-11-25T08:10:24.515899Z"
    },
    "slideshow": {
     "slide_type": "subslide"
    }
   },
   "outputs": [
    {
     "data": {
      "image/png": "[encoded data removed]",
      "text/plain": [
       "Tree('S', [Tree('NP', [('The', 'DT'), ('project', 'NN')]), ('will', 'MD'), Tree('NP', [('research', 'NN')]), Tree('NP', [('the', 'DT'), ('application', 'NN')]), ('of', 'IN'), Tree('NP', [('small', 'JJ'), ('satellite', 'NN')]), Tree('NP', [('technology', 'NN')]), ('for', 'IN'), Tree('NP', [('precise', 'JJ'), ('positioning', 'NN')]), ('of', 'IN'), ('indoor', 'JJ'), ('spaces', 'NNS'), ('and', 'CC'), Tree('NP', [('navigation', 'NN')]), ('.', '.'), ('A', 'DT')])"
      ]
     },
     "execution_count": 16,
     "metadata": {},
     "output_type": "execute_result"
    }
   ],
   "source": [
    "grammar = \"NP: {<DT>?<JJ>*<NN>}\"\n",
    "chunk_parser = nltk.RegexpParser(grammar)\n",
    "tree = chunk_parser.parse(tags[:20])\n",
    "tree "
   ]
  },
  {
   "cell_type": "markdown",
   "id": "911d0242",
   "metadata": {
    "slideshow": {
     "slide_type": "subslide"
    }
   },
   "source": [
    "## Finding named entities\n",
    "\n",
    "Named entity recognizer can be used for finding named entities such as persons, organizations, locations, times, facilities or geographical locations (GPE)."
   ]
  },
  {
   "cell_type": "code",
   "execution_count": 17,
   "id": "4aaa9c37",
   "metadata": {
    "ExecuteTime": {
     "end_time": "2021-11-25T08:10:52.829099Z",
     "start_time": "2021-11-25T08:10:52.103621Z"
    },
    "slideshow": {
     "slide_type": "fragment"
    }
   },
   "outputs": [
    {
     "data": {
      "image/png": "[encoded data removed]",
      "text/plain": [
       "Tree('S', [('professor', 'NN'), Tree('PERSON', [('Heidi', 'NNP'), ('Kuusniemi', 'NNP')]), (',', ','), Tree('ORGANIZATION', [('Digital', 'NNP'), ('Economy', 'NNP')]), ('-research', 'NNP'), ('platform', 'NN'), (',', ','), Tree('ORGANIZATION', [('University', 'NNP')]), ('of', 'IN'), Tree('PERSON', [('Vaasa', 'NNP'), ('More', 'NNP')])])"
      ]
     },
     "execution_count": 17,
     "metadata": {},
     "output_type": "execute_result"
    }
   ],
   "source": [
    "#tree = nltk.ne_chunk(pos_tags[140:160])\n",
    "tree = nltk.ne_chunk(tags[-43:-30])\n",
    "tree"
   ]
  },
  {
   "cell_type": "code",
   "execution_count": 18,
   "id": "f7afa5db",
   "metadata": {
    "ExecuteTime": {
     "end_time": "2021-11-25T08:10:53.019921Z",
     "start_time": "2021-11-25T08:10:52.830598Z"
    },
    "slideshow": {
     "slide_type": "subslide"
    }
   },
   "outputs": [
    {
     "name": "stdout",
     "output_type": "stream",
     "text": [
      "(NE GPS/NNP)\n",
      "(NE LEO/NNP)\n",
      "(NE INdoor/NNP)\n",
      "(NE CUBesAt/NNP Technology/NNP)\n",
      "(NE INCUBATE/NNP)\n",
      "(NE PNT/NNP)\n",
      "(NE University/NNP)\n",
      "(NE Vaasa/NNP)\n",
      "(NE Digital/NNP Economy/NNP)\n",
      "(NE Heidi/NNP Kuusniemi/NNP)\n",
      "(NE International/NNP Business/NNP)\n",
      "(NE Arto/NNP Ojala/NNP)\n",
      "(NE International/NNP Business/NNP)\n",
      "(NE Kendall/NNP Rutledge/NNP)\n",
      "(NE Petri/NNP Välisuo/NNP)\n",
      "(NE Jani/NNP Boutellier/NNP)\n",
      "(NE Mohammed/NNP Elmusrati/NNP)\n",
      "(NE University/NNP)\n",
      "(NE Vaasa/NNP)\n",
      "(NE Future/NNP)\n",
      "(NE Centennial/NNP Foundation/NNP)\n",
      "(NE Finnish/NNP Technology/NNP Industries/NNPS)\n",
      "(NE Jane/NNP)\n",
      "(NE Aatos/NNP Erkko/NNP Foundation/NNP)\n",
      "(NE Heidi/NNP Kuusniemi/NNP)\n",
      "(NE Digital/NNP Economy/NNP)\n",
      "(NE University/NNP)\n",
      "(NE Vaasa/NNP More/NNP)\n",
      "(NE University/NNP)\n",
      "(NE Vaasa/NNP Project/NNP)\n",
      "(NE Tampereen/NNP)\n",
      "(NE Finland/NNP Funding/NNP)\n",
      "(NE Technology/NNP Industries/NNPS)\n",
      "(NE Finland/NNP Centennial/NNP Foundation/NNP)\n"
     ]
    }
   ],
   "source": [
    "# List all named entities in the text\n",
    "ne = nltk.ne_chunk(tags, binary=True)\n",
    "for e in ne:\n",
    "    if hasattr(e, \"label\") and e.label() == \"NE\":\n",
    "        print(e)"
   ]
  },
  {
   "cell_type": "markdown",
   "id": "93d2003a",
   "metadata": {
    "slideshow": {
     "slide_type": "subslide"
    }
   },
   "source": [
    "## Corpus\n",
    "A text parsed for processing is called as Corpus. The NLTK library includes many corpus for testing, but the final goal is of course to make your own corpus for your own analysis.\n",
    "\n",
    "A corpus can be created from a plain text file, or a full directory of text files using PlaintextXCorpusReader object.\n",
    "\n",
    "In the example below, the previously written text file is read as a corpus. The filenames can contain wildcards. You may want to import all text files in the data directory using `*.txt` instead of a single filename. "
   ]
  },
  {
   "cell_type": "code",
   "execution_count": 19,
   "id": "c1cabf49",
   "metadata": {
    "ExecuteTime": {
     "end_time": "2021-11-25T08:10:53.027332Z",
     "start_time": "2021-11-25T08:10:53.021268Z"
    },
    "slideshow": {
     "slide_type": "fragment"
    }
   },
   "outputs": [],
   "source": [
    "from nltk.corpus import PlaintextCorpusReader\n",
    "digieco=PlaintextCorpusReader('./data/', 'digieco.txt')\n",
    "text = nltk.Text(word_tokenize(digieco.raw()))"
   ]
  },
  {
   "cell_type": "markdown",
   "id": "6c148a3d",
   "metadata": {
    "slideshow": {
     "slide_type": "subslide"
    }
   },
   "source": [
    "### Concordance\n",
    "When the corpus is ready, it is easy to run many standard tests, for example to study in which context a certain word is used in the text. This is called as concordance."
   ]
  },
  {
   "cell_type": "code",
   "execution_count": 20,
   "id": "cd222c5a",
   "metadata": {
    "ExecuteTime": {
     "end_time": "2021-11-25T08:10:53.031002Z",
     "start_time": "2021-11-25T08:10:53.028434Z"
    },
    "slideshow": {
     "slide_type": "fragment"
    }
   },
   "outputs": [
    {
     "name": "stdout",
     "output_type": "stream",
     "text": [
      "Displaying 5 of 5 matches:\n",
      " research the application of small satellite technology for precise positioning\n",
      "paces and navigation . A new small satellite will also be designed in the proje\n",
      "ipment and software carried by the satellite , to improve navigation solutions \n",
      "improve navigation solutions . The satellite signal and its reception must be o\n",
      "hat a sufficiently high-performing satellite signal can be defined for accurate\n"
     ]
    }
   ],
   "source": [
    "# The context of a selected word in the corpus\n",
    "text.concordance('satellite')"
   ]
  },
  {
   "cell_type": "markdown",
   "id": "ef2bdfc7",
   "metadata": {
    "slideshow": {
     "slide_type": "subslide"
    }
   },
   "source": [
    "### Collocations\n",
    "Another common task is to find words which are often used together. These collocations can be now easily examined:"
   ]
  },
  {
   "cell_type": "code",
   "execution_count": 21,
   "id": "5ec6ef32",
   "metadata": {
    "ExecuteTime": {
     "end_time": "2021-11-25T08:10:53.088288Z",
     "start_time": "2021-11-25T08:10:53.032210Z"
    },
    "slideshow": {
     "slide_type": "fragment"
    }
   },
   "outputs": [
    {
     "name": "stdout",
     "output_type": "stream",
     "text": [
      "indoor spaces; small satellites; Digital Economy; Heidi Kuusniemi;\n",
      "International Business; Centennial Foundation; Technology Industries;\n",
      "accurate positioning; precise positioning; satellite signal; small\n",
      "satellite; research project\n"
     ]
    }
   ],
   "source": [
    "# Words frequently mentioned together\n",
    "text.collocations()"
   ]
  },
  {
   "cell_type": "markdown",
   "id": "43181bff",
   "metadata": {
    "slideshow": {
     "slide_type": "subslide"
    }
   },
   "source": [
    "### Lexical dispersion\n",
    "The dispersion indicates in which location of the document certain word is mentioned. If the corpus contains several documents, it shown in which of them the word is used."
   ]
  },
  {
   "cell_type": "code",
   "execution_count": 22,
   "id": "54b03677",
   "metadata": {
    "ExecuteTime": {
     "end_time": "2021-11-25T08:10:53.430534Z",
     "start_time": "2021-11-25T08:10:53.094124Z"
    },
    "slideshow": {
     "slide_type": "fragment"
    }
   },
   "outputs": [
    {
     "data": {
      "image/png": "[encoded data removed]",
      "text/plain": [
       "<Figure size 432x288 with 1 Axes>"
      ]
     },
     "metadata": {},
     "output_type": "display_data"
    }
   ],
   "source": [
    "text.dispersion_plot(['small', 'satellite', 'GPS', 'positioning', 'precise'])"
   ]
  },
  {
   "cell_type": "markdown",
   "id": "aa8eeb11",
   "metadata": {
    "slideshow": {
     "slide_type": "subslide"
    }
   },
   "source": [
    "### Word statistics"
   ]
  },
  {
   "cell_type": "code",
   "execution_count": 23,
   "id": "4a80c352",
   "metadata": {
    "ExecuteTime": {
     "end_time": "2021-11-25T08:10:53.436088Z",
     "start_time": "2021-11-25T08:10:53.431712Z"
    },
    "slideshow": {
     "slide_type": "fragment"
    }
   },
   "outputs": [
    {
     "data": {
      "text/plain": [
       "[('the', 29),\n",
       " (',', 19),\n",
       " ('of', 16),\n",
       " ('.', 16),\n",
       " ('and', 15),\n",
       " ('in', 11),\n",
       " ('project', 10),\n",
       " ('positioning', 7),\n",
       " ('The', 6),\n",
       " ('research', 6),\n",
       " ('small', 6),\n",
       " ('navigation', 6),\n",
       " ('be', 6),\n",
       " ('satellites', 6),\n",
       " ('will', 5),\n",
       " ('satellite', 5),\n",
       " ('for', 5),\n",
       " ('to', 5),\n",
       " ('by', 5),\n",
       " ('University', 5)]"
      ]
     },
     "execution_count": 23,
     "metadata": {},
     "output_type": "execute_result"
    }
   ],
   "source": [
    "from nltk import FreqDist\n",
    "frequency_distribution = FreqDist(text)\n",
    "frequency_distribution.most_common(20)"
   ]
  },
  {
   "cell_type": "code",
   "execution_count": 24,
   "id": "dd190fba",
   "metadata": {
    "ExecuteTime": {
     "end_time": "2021-11-25T08:10:53.446027Z",
     "start_time": "2021-11-25T08:10:53.439274Z"
    },
    "slideshow": {
     "slide_type": "subslide"
    }
   },
   "outputs": [
    {
     "data": {
      "text/plain": [
       "[('satellite', 11),\n",
       " ('project', 10),\n",
       " ('positioning', 7),\n",
       " ('research', 6),\n",
       " ('small', 6),\n",
       " ('navigation', 6),\n",
       " ('University', 5),\n",
       " ('earth', 4),\n",
       " ('Vaasa', 4),\n",
       " ('indoor', 3),\n",
       " ('space', 3),\n",
       " ('also', 3),\n",
       " ('solution', 3),\n",
       " ('signal', 3),\n",
       " ('Technology', 3),\n",
       " ('researcher', 3),\n",
       " ('Foundation', 3),\n",
       " ('application', 2),\n",
       " ('technology', 2),\n",
       " ('precise', 2)]"
      ]
     },
     "execution_count": 24,
     "metadata": {},
     "output_type": "execute_result"
    }
   ],
   "source": [
    "punctuations=set([',','.','!','?','@', '%', ':', ';'])\n",
    "unnecessary=stop_words.union(punctuations)\n",
    "meaningful_words = [word for word in text if word.casefold() not in unnecessary]\n",
    "lemmatized = [lemmatizer.lemmatize(word) for word in meaningful_words]\n",
    "frequency_distribution = FreqDist(lemmatized)\n",
    "frequency_distribution.most_common(20)"
   ]
  },
  {
   "cell_type": "code",
   "execution_count": 25,
   "id": "f06b70dc",
   "metadata": {
    "ExecuteTime": {
     "end_time": "2021-11-25T08:10:53.604638Z",
     "start_time": "2021-11-25T08:10:53.447130Z"
    },
    "slideshow": {
     "slide_type": "subslide"
    }
   },
   "outputs": [
    {
     "data": {
      "image/png": "[encoded data removed]",
      "text/plain": [
       "<Figure size 432x288 with 1 Axes>"
      ]
     },
     "metadata": {},
     "output_type": "display_data"
    },
    {
     "data": {
      "text/plain": [
       "<AxesSubplot:xlabel='Samples', ylabel='Cumulative Counts'>"
      ]
     },
     "execution_count": 25,
     "metadata": {},
     "output_type": "execute_result"
    }
   ],
   "source": [
    "frequency_distribution.plot(20, cumulative=True)"
   ]
  },
  {
   "cell_type": "markdown",
   "id": "df5928de",
   "metadata": {
    "ExecuteTime": {
     "end_time": "2021-11-24T06:09:56.366613Z",
     "start_time": "2021-11-24T06:09:56.360548Z"
    },
    "slideshow": {
     "slide_type": "slide"
    }
   },
   "source": [
    "## Topic modelling\n",
    "\n",
    "Now when we have tools to understand language, clean it and prepare for further processing, now we can start the machine learning part. Some plenty of used algorithms for text classification and retrieval are: \n",
    "  - Latent Semantic Analysis (LSA/LSI/SVD), \n",
    "  - Latent Dirichlet Allocation (LDA)\n",
    "  - Random Projections (RP)\n",
    "  - Hierarchical Dirichlet Process (HDP)\n",
    "  - word2vec deep learning.\n",
    "\n",
    "At least, these are implemented in a Python library\n",
    "[GenSim](https://github.com/RaRe-Technologies/gensim)\n",
    "\n",
    "Gensim can process large body of texts out of core (all texts do not need to fit in the memory at the same time)."
   ]
  },
  {
   "cell_type": "code",
   "execution_count": 26,
   "id": "0c9e85da",
   "metadata": {
    "ExecuteTime": {
     "end_time": "2021-11-25T08:10:53.947578Z",
     "start_time": "2021-11-25T08:10:53.606429Z"
    },
    "slideshow": {
     "slide_type": "subslide"
    }
   },
   "outputs": [],
   "source": [
    "# pip install gensim\n",
    "# pip install pyLDAvis\n",
    "import gensim\n",
    "from gensim import corpora\n",
    "from pyLDAvis import gensim_models"
   ]
  },
  {
   "cell_type": "markdown",
   "id": "3f24ab7a",
   "metadata": {
    "slideshow": {
     "slide_type": "subslide"
    }
   },
   "source": [
    "### Preprocessing\n",
    "\n",
    " - lowercase\n",
    " - remove unnecessary automatically"
   ]
  },
  {
   "cell_type": "code",
   "execution_count": 27,
   "id": "50bab3fe",
   "metadata": {
    "ExecuteTime": {
     "end_time": "2021-11-25T08:10:53.983004Z",
     "start_time": "2021-11-25T08:10:53.948777Z"
    },
    "slideshow": {
     "slide_type": "fragment"
    }
   },
   "outputs": [
    {
     "name": "stdout",
     "output_type": "stream",
     "text": [
      "3\n",
      "0 ['project', 'research', 'application', 'small', 'satellite', 'technology', 'precise', 'positioning', 'indoor', 'space']\n",
      "1 ['project', 'greta', 'aim', 'develop', 'policy', 'tool', 'sustainable', 'smart', 'specialisation', 'innovation']\n",
      "2 ['led', 'university', 'vaasa', 'significant', 'research', 'consortium', 'aim', 'develop', 'radically', 'new']\n"
     ]
    }
   ],
   "source": [
    "uva=PlaintextCorpusReader('./data/', ['digieco.txt', 'greta.txt', 'propulsion.txt'])\n",
    "\n",
    "punctuations=set([',','.','!','?','@', '%', ':', ';'])\n",
    "unnecessary=stop_words.union(punctuations)\n",
    "\n",
    "docs=[]\n",
    "for document in uva.fileids():\n",
    "    tokens = gensim.utils.simple_preprocess(uva.raw(document))\n",
    "    meaningful_words = [word for word in tokens if word not in unnecessary]\n",
    "    lemmatized = [lemmatizer.lemmatize(word) for word in meaningful_words]\n",
    "    docs.append(lemmatized)\n",
    "print(len(docs))\n",
    "for i in range(len(docs)):\n",
    "    print(i, docs[i][:10])"
   ]
  },
  {
   "cell_type": "markdown",
   "id": "21836728",
   "metadata": {
    "slideshow": {
     "slide_type": "subslide"
    }
   },
   "source": [
    "### Topic mapping example\n",
    "\n",
    "The document needs to be encoded as vector of features. For example, a single feature may be thought of as a question-answer pair:\n",
    "\n",
    " - How many times does the word splonge appear in the document? Zero.\n",
    " - How many paragraphs does the document consist of? Two.\n",
    " - How many fonts does the document use? Five."
   ]
  },
  {
   "cell_type": "code",
   "execution_count": 28,
   "id": "8e85d585",
   "metadata": {
    "ExecuteTime": {
     "end_time": "2021-11-25T08:10:54.016084Z",
     "start_time": "2021-11-25T08:10:53.985519Z"
    },
    "scrolled": true,
    "slideshow": {
     "slide_type": "fragment"
    }
   },
   "outputs": [
    {
     "data": {
      "text/plain": [
       "{'aalto': 0,\n",
       " 'aatos': 1,\n",
       " 'accurate': 2,\n",
       " 'action': 3,\n",
       " 'active': 4,\n",
       " 'also': 5,\n",
       " 'altitude': 6,\n",
       " 'amount': 7,\n",
       " 'application': 8,\n",
       " 'arto': 9,\n",
       " 'based': 10,\n",
       " 'boutellier': 11,\n",
       " 'building': 12,\n",
       " 'business': 13,\n",
       " 'carried': 14,\n",
       " 'centennial': 15,\n",
       " 'city': 16,\n",
       " 'commercial': 17,\n",
       " 'company': 18,\n",
       " 'coordinating': 19,\n",
       " 'cubesat': 20,\n",
       " 'current': 21,\n",
       " 'currently': 22,\n",
       " 'defined': 23,\n",
       " 'designed': 24,\n",
       " 'develop': 25,\n",
       " 'developed': 26,\n",
       " 'digital': 27,\n",
       " 'director': 28,\n",
       " 'doctoral': 29,\n",
       " 'earth': 30,\n",
       " 'economy': 31,\n",
       " 'elmusrati': 32,\n",
       " 'equipment': 33,\n",
       " 'erkko': 34,\n",
       " 'eur': 35,\n",
       " 'even': 36,\n",
       " 'exist': 37,\n",
       " 'extensive': 38,\n",
       " 'faster': 39,\n",
       " 'federation': 40,\n",
       " 'finland': 41,\n",
       " 'finnish': 42,\n",
       " 'floor': 43,\n",
       " 'form': 44,\n",
       " 'found': 45,\n",
       " 'foundation': 46,\n",
       " 'funding': 47,\n",
       " 'future': 48,\n",
       " 'gps': 49,\n",
       " 'group': 50,\n",
       " 'headed': 51,\n",
       " 'heidi': 52,\n",
       " 'high': 53,\n",
       " 'improve': 54,\n",
       " 'incubate': 55,\n",
       " 'indoor': 56,\n",
       " 'indoors': 57,\n",
       " 'industry': 58,\n",
       " 'information': 59,\n",
       " 'intend': 60,\n",
       " 'international': 61,\n",
       " 'internet': 62,\n",
       " 'involved': 63,\n",
       " 'jane': 64,\n",
       " 'jani': 65,\n",
       " 'jointly': 66,\n",
       " 'kendall': 67,\n",
       " 'kuusniemi': 68,\n",
       " 'land': 69,\n",
       " 'leader': 70,\n",
       " 'led': 71,\n",
       " 'leo': 72,\n",
       " 'location': 73,\n",
       " 'low': 74,\n",
       " 'many': 75,\n",
       " 'marketing': 76,\n",
       " 'mention': 77,\n",
       " 'minute': 78,\n",
       " 'mohammed': 79,\n",
       " 'must': 80,\n",
       " 'national': 81,\n",
       " 'navigation': 82,\n",
       " 'new': 83,\n",
       " 'objective': 84,\n",
       " 'offer': 85,\n",
       " 'ojala': 86,\n",
       " 'optimised': 87,\n",
       " 'orbit': 88,\n",
       " 'orbiting': 89,\n",
       " 'organisation': 90,\n",
       " 'outdoor': 91,\n",
       " 'partly': 92,\n",
       " 'partner': 93,\n",
       " 'payload': 94,\n",
       " 'performing': 95,\n",
       " 'petri': 96,\n",
       " 'platform': 97,\n",
       " 'pnt': 98,\n",
       " 'positioning': 99,\n",
       " 'possibility': 100,\n",
       " 'potential': 101,\n",
       " 'precise': 102,\n",
       " 'press': 103,\n",
       " 'professor': 104,\n",
       " 'programme': 105,\n",
       " 'project': 106,\n",
       " 'proposal': 107,\n",
       " 'realised': 108,\n",
       " 'receives': 109,\n",
       " 'reception': 110,\n",
       " 'release': 111,\n",
       " 'reliably': 112,\n",
       " 'represented': 113,\n",
       " 'research': 114,\n",
       " 'researcher': 115,\n",
       " 'revenue': 116,\n",
       " 'room': 117,\n",
       " 'rutledge': 118,\n",
       " 'satellite': 119,\n",
       " 'seamlessly': 120,\n",
       " 'sector': 121,\n",
       " 'send': 122,\n",
       " 'service': 123,\n",
       " 'signal': 124,\n",
       " 'small': 125,\n",
       " 'software': 126,\n",
       " 'solution': 127,\n",
       " 'space': 128,\n",
       " 'stronger': 129,\n",
       " 'study': 130,\n",
       " 'sufficiently': 131,\n",
       " 'survey': 132,\n",
       " 'taking': 133,\n",
       " 'tampereen': 134,\n",
       " 'technology': 135,\n",
       " 'telling': 136,\n",
       " 'ten': 137,\n",
       " 'three': 138,\n",
       " 'timing': 139,\n",
       " 'together': 140,\n",
       " 'traditional': 141,\n",
       " 'university': 142,\n",
       " 'use': 143,\n",
       " 'used': 144,\n",
       " 'utilising': 145,\n",
       " 'vaasa': 146,\n",
       " 'välisuo': 147,\n",
       " 'well': 148,\n",
       " 'work': 149,\n",
       " 'year': 150,\n",
       " 'yliopisto': 151,\n",
       " 'actor': 152,\n",
       " 'addition': 153,\n",
       " 'aim': 154,\n",
       " 'aiming': 155,\n",
       " 'aligned': 156,\n",
       " 'among': 157,\n",
       " 'analysis': 158,\n",
       " 'area': 159,\n",
       " 'baltic': 160,\n",
       " 'bottom': 161,\n",
       " 'brief': 162,\n",
       " 'bringing': 163,\n",
       " 'bsr': 164,\n",
       " 'build': 165,\n",
       " 'capacity': 166,\n",
       " 'chain': 167,\n",
       " 'challenge': 168,\n",
       " 'circular': 169,\n",
       " 'civil': 170,\n",
       " 'climate': 171,\n",
       " 'closer': 172,\n",
       " 'cluster': 173,\n",
       " 'co': 174,\n",
       " 'commission': 175,\n",
       " 'comparative': 176,\n",
       " 'concluding': 177,\n",
       " 'consequence': 178,\n",
       " 'coordination': 179,\n",
       " 'coordinator': 180,\n",
       " 'council': 181,\n",
       " 'creating': 182,\n",
       " 'creation': 183,\n",
       " 'deal': 184,\n",
       " 'decision': 185,\n",
       " 'defining': 186,\n",
       " 'development': 187,\n",
       " 'discussion': 188,\n",
       " 'dpsir': 189,\n",
       " 'driven': 190,\n",
       " 'driver': 191,\n",
       " 'egd': 192,\n",
       " 'energy': 193,\n",
       " 'enhance': 194,\n",
       " 'environmental': 195,\n",
       " 'established': 196,\n",
       " 'etc': 197,\n",
       " 'eu': 198,\n",
       " 'experience': 199,\n",
       " 'expert': 200,\n",
       " 'fi': 201,\n",
       " 'finding': 202,\n",
       " 'gap': 203,\n",
       " 'goal': 204,\n",
       " 'green': 205,\n",
       " 'greta': 206,\n",
       " 'growth': 207,\n",
       " 'guidance': 208,\n",
       " 'guided': 209,\n",
       " 'hankkeet': 210,\n",
       " 'helix': 211,\n",
       " 'helping': 212,\n",
       " 'http': 213,\n",
       " 'identified': 214,\n",
       " 'innovation': 215,\n",
       " 'institution': 216,\n",
       " 'institutional': 217,\n",
       " 'intervention': 218,\n",
       " 'interview': 219,\n",
       " 'involve': 220,\n",
       " 'involvement': 221,\n",
       " 'issue': 222,\n",
       " 'lars': 223,\n",
       " 'learning': 224,\n",
       " 'main': 225,\n",
       " 'making': 226,\n",
       " 'method': 227,\n",
       " 'model': 228,\n",
       " 'neutrality': 229,\n",
       " 'ostrobothnia': 230,\n",
       " 'package': 231,\n",
       " 'penta': 232,\n",
       " 'perceived': 233,\n",
       " 'phase': 234,\n",
       " 'policy': 235,\n",
       " 'preparation': 236,\n",
       " 'quadruple': 237,\n",
       " 'regarding': 238,\n",
       " 'region': 239,\n",
       " 'regional': 240,\n",
       " 'relevant': 241,\n",
       " 'report': 242,\n",
       " 'requires': 243,\n",
       " 'round': 244,\n",
       " 'sea': 245,\n",
       " 'selected': 246,\n",
       " 'selecting': 247,\n",
       " 'situation': 248,\n",
       " 'smart': 249,\n",
       " 'society': 250,\n",
       " 'specialisation': 251,\n",
       " 'stakeholder': 252,\n",
       " 'strategy': 253,\n",
       " 'studied': 254,\n",
       " 'support': 255,\n",
       " 'supporting': 256,\n",
       " 'sustainable': 257,\n",
       " 'system': 258,\n",
       " 'table': 259,\n",
       " 'target': 260,\n",
       " 'tool': 261,\n",
       " 'transform': 262,\n",
       " 'transformation': 263,\n",
       " 'tutkimus': 264,\n",
       " 'two': 265,\n",
       " 'un': 266,\n",
       " 'univaasa': 267,\n",
       " 'value': 268,\n",
       " 'vision': 269,\n",
       " 'way': 270,\n",
       " 'working': 271,\n",
       " 'www': 272,\n",
       " 'accomplished': 273,\n",
       " 'achieved': 274,\n",
       " 'activity': 275,\n",
       " 'advanced': 276,\n",
       " 'aftertreatment': 277,\n",
       " 'ambitious': 278,\n",
       " 'approach': 279,\n",
       " 'arena': 280,\n",
       " 'art': 281,\n",
       " 'aside': 282,\n",
       " 'assessment': 283,\n",
       " 'biogas': 284,\n",
       " 'bore': 285,\n",
       " 'breaking': 286,\n",
       " 'capability': 287,\n",
       " 'case': 288,\n",
       " 'catalyst': 289,\n",
       " 'clean': 290,\n",
       " 'combined': 291,\n",
       " 'combustion': 292,\n",
       " 'common': 293,\n",
       " 'competition': 294,\n",
       " 'compliance': 295,\n",
       " 'compression': 296,\n",
       " 'consolidated': 297,\n",
       " 'consortium': 298,\n",
       " 'context': 299,\n",
       " 'control': 300,\n",
       " 'controlled': 301,\n",
       " 'cpt': 302,\n",
       " 'demo': 303,\n",
       " 'demonstrate': 304,\n",
       " 'dissemination': 305,\n",
       " 'earlier': 306,\n",
       " 'efficient': 307,\n",
       " 'electric': 308,\n",
       " 'emission': 309,\n",
       " 'end': 310,\n",
       " 'engine': 311,\n",
       " 'evolving': 312,\n",
       " 'facility': 313,\n",
       " 'feasibility': 314,\n",
       " 'finally': 315,\n",
       " 'first': 316,\n",
       " 'framework': 317,\n",
       " 'ghg': 318,\n",
       " 'global': 319,\n",
       " 'grasped': 320,\n",
       " 'ground': 321,\n",
       " 'growing': 322,\n",
       " 'hybridization': 323,\n",
       " 'hydraulic': 324,\n",
       " 'ignition': 325,\n",
       " 'impactful': 326,\n",
       " 'improvement': 327,\n",
       " 'include': 328,\n",
       " 'incremental': 329,\n",
       " 'innovative': 330,\n",
       " 'instrumental': 331,\n",
       " 'laboratory': 332,\n",
       " 'large': 333,\n",
       " 'lead': 334,\n",
       " 'legislation': 335,\n",
       " 'level': 336,\n",
       " 'light': 337,\n",
       " 'limit': 338,\n",
       " 'long': 339,\n",
       " 'major': 340,\n",
       " 'management': 341,\n",
       " 'marine': 342,\n",
       " 'market': 343,\n",
       " 'meeting': 344,\n",
       " 'methodological': 345,\n",
       " 'meu': 346,\n",
       " 'moving': 347,\n",
       " 'need': 348,\n",
       " 'net': 349,\n",
       " 'novel': 350,\n",
       " 'operation': 351,\n",
       " 'pertain': 352,\n",
       " 'plan': 353,\n",
       " 'position': 354,\n",
       " 'power': 355,\n",
       " 'powertrain': 356,\n",
       " 'prepare': 357,\n",
       " 'promising': 358,\n",
       " 'propulsion': 359,\n",
       " 'prototyping': 360,\n",
       " 'providing': 361,\n",
       " 'putting': 362,\n",
       " 'radically': 363,\n",
       " 'range': 364,\n",
       " 'rapid': 365,\n",
       " 'rcci': 366,\n",
       " 'reactivity': 367,\n",
       " 'readiness': 368,\n",
       " 'regulation': 369,\n",
       " 'response': 370,\n",
       " 'responsible': 371,\n",
       " 'road': 372,\n",
       " 'roadmap': 373,\n",
       " 'role': 374,\n",
       " 'secure': 375,\n",
       " 'secures': 376,\n",
       " 'segment': 377,\n",
       " 'several': 378,\n",
       " 'significant': 379,\n",
       " 'stage': 380,\n",
       " 'state': 381,\n",
       " 'supported': 382,\n",
       " 'tailored': 383,\n",
       " 'take': 384,\n",
       " 'technological': 385,\n",
       " 'term': 386,\n",
       " 'thermal': 387,\n",
       " 'tightening': 388,\n",
       " 'towards': 389,\n",
       " 'transition': 390,\n",
       " 'transport': 391,\n",
       " 'trl': 392,\n",
       " 'ultra': 393,\n",
       " 'underlining': 394,\n",
       " 'upgrade': 395,\n",
       " 'vebic': 396,\n",
       " 'wide': 397,\n",
       " 'world': 398,\n",
       " 'worth': 399}"
      ]
     },
     "execution_count": 28,
     "metadata": {},
     "output_type": "execute_result"
    }
   ],
   "source": [
    "dictionary = corpora.Dictionary(docs)\n",
    "dictionary.token2id"
   ]
  },
  {
   "cell_type": "code",
   "execution_count": 29,
   "id": "381d2d4a",
   "metadata": {
    "ExecuteTime": {
     "end_time": "2021-11-25T08:10:54.030214Z",
     "start_time": "2021-11-25T08:10:54.019805Z"
    }
   },
   "outputs": [
    {
     "name": "stdout",
     "output_type": "stream",
     "text": [
      "Number of unique tokens: 400\n",
      "Number of documents: 3\n",
      "152\n",
      "134\n",
      "160\n"
     ]
    }
   ],
   "source": [
    "corpus = [dictionary.doc2bow(doc) for doc in docs]\n",
    "print('Number of unique tokens: %d' % len(dictionary))\n",
    "print('Number of documents: %d' % len(corpus))\n",
    "for row in corpus:\n",
    "    print(len(row))"
   ]
  },
  {
   "cell_type": "code",
   "execution_count": 30,
   "id": "f4d00f7c",
   "metadata": {
    "ExecuteTime": {
     "end_time": "2021-11-25T08:10:54.114517Z",
     "start_time": "2021-11-25T08:10:54.035546Z"
    },
    "slideshow": {
     "slide_type": "subslide"
    }
   },
   "outputs": [
    {
     "name": "stdout",
     "output_type": "stream",
     "text": [
      "[(119, 1.0)]\n"
     ]
    }
   ],
   "source": [
    "from gensim import models\n",
    "import pyLDAvis\n",
    "tfidf = models.TfidfModel(corpus)\n",
    "words = \"satellite communication project\".lower().split()\n",
    "print(tfidf[dictionary.doc2bow(words)])"
   ]
  },
  {
   "cell_type": "code",
   "execution_count": 31,
   "id": "cf12289a",
   "metadata": {
    "ExecuteTime": {
     "end_time": "2021-11-25T08:10:54.126988Z",
     "start_time": "2021-11-25T08:10:54.119748Z"
    }
   },
   "outputs": [],
   "source": [
    "temp = dictionary[0] "
   ]
  },
  {
   "cell_type": "code",
   "execution_count": 32,
   "id": "0b7d4e0d",
   "metadata": {
    "ExecuteTime": {
     "end_time": "2021-11-25T08:10:54.289688Z",
     "start_time": "2021-11-25T08:10:54.130882Z"
    },
    "scrolled": false,
    "slideshow": {
     "slide_type": "subslide"
    }
   },
   "outputs": [],
   "source": [
    "# Latent Dirichlet Allocation\n",
    "id2word = dictionary.id2token\n",
    "lda_model = gensim.models.ldamodel.LdaModel(corpus=corpus,\n",
    "                                           id2word=id2word,\n",
    "                                           num_topics=10, \n",
    "                                           random_state=100,\n",
    "                                           update_every=1,\n",
    "                                           chunksize=2000,\n",
    "                                           passes=10,\n",
    "                                           alpha='auto',\n",
    "                                           eta = 'auto',\n",
    "                                           iterations=100,\n",
    "                                           eval_every=1)"
   ]
  },
  {
   "cell_type": "code",
   "execution_count": null,
   "id": "4b50e0b1",
   "metadata": {
    "ExecuteTime": {
     "start_time": "2021-11-25T08:11:10.673Z"
    },
    "slideshow": {
     "slide_type": "subslide"
    }
   },
   "outputs": [],
   "source": [
    "pyLDAvis.enable_notebook()\n",
    "vis = pyLDAvis.gensim_models.prepare(lda_model, corpus, dictionary);"
   ]
  },
  {
   "cell_type": "code",
   "execution_count": 34,
   "id": "62b72bcb",
   "metadata": {
    "ExecuteTime": {
     "end_time": "2021-11-25T08:10:55.797942Z",
     "start_time": "2021-11-25T08:10:55.781244Z"
    },
    "slideshow": {
     "slide_type": "slide"
    }
   },
   "outputs": [
    {
     "data": {
      "text/html": [
       "\n",
       "<link rel=\"stylesheet\" type=\"text/css\" href=\"https://cdn.jsdelivr.net/gh/bmabey/pyLDAvis@3.3.1/pyLDAvis/js/ldavis.v1.0.0.css\">\n",
       "\n",
       "\n",
       "<div id=\"ldavis_el6138681399683151796328092201622\"></div>\n",
       "<script type=\"text/javascript\">\n",
       "\n",
       "var ldavis_el6138681399683151796328092201622_data = {\"mdsDat\": {\"x\": [-0.2505250814950409, 0.15824586049766753, 0.09553915487253217, -5.58909019116908e-05, 0.002989383793732228, -0.005044875653766466, 0.0002762910448907419, 3.59939178262979e-05, -0.0007304178556757909, -0.0007304182202543579], \"y\": [0.03187347902413272, 0.16674538980398002, -0.19276188627952903, -0.00026299957723231206, 0.0029388684321053392, -0.0009138572998482798, -0.003818118309244139, -0.0006338294255376114, -0.0015835231462704258, -0.0015835232225568103], \"topics\": [1, 2, 3, 4, 5, 6, 7, 8, 9, 10], \"cluster\": [1, 1, 1, 1, 1, 1, 1, 1, 1, 1], \"Freq\": [34.83324841277361, 33.89504015043411, 31.21400486396339, 0.009003905469089713, 0.00872959955264998, 0.0087079431112613, 0.008694780140312063, 0.008643303894145254, 0.006963526742532541, 0.006963513918902086]}, \"tinfo\": {\"Term\": [\"green\", \"satellite\", \"project\", \"technology\", \"positioning\", \"transformation\", \"stakeholder\", \"research\", \"small\", \"navigation\", \"greta\", \"strategy\", \"university\", \"solution\", \"vaasa\", \"region\", \"smart\", \"area\", \"specialisation\", \"development\", \"based\", \"economy\", \"partner\", \"helix\", \"environmental\", \"lars\", \"analysis\", \"growth\", \"policy\", \"relevant\", \"green\", \"transformation\", \"stakeholder\", \"greta\", \"smart\", \"region\", \"specialisation\", \"area\", \"helix\", \"growth\", \"analysis\", \"policy\", \"relevant\", \"lars\", \"environmental\", \"regional\", \"gap\", \"penta\", \"expert\", \"brief\", \"intervention\", \"interview\", \"experience\", \"co\", \"egd\", \"creation\", \"challenge\", \"baltic\", \"coordination\", \"defining\", \"strategy\", \"innovation\", \"sustainable\", \"partner\", \"economy\", \"project\", \"based\", \"satellite\", \"positioning\", \"navigation\", \"small\", \"indoor\", \"earth\", \"signal\", \"researcher\", \"foundation\", \"building\", \"space\", \"precise\", \"timing\", \"heidi\", \"sufficiently\", \"accurate\", \"high\", \"funding\", \"professor\", \"kuusniemi\", \"work\", \"application\", \"finland\", \"well\", \"year\", \"orbit\", \"centennial\", \"digital\", \"research\", \"aalto\", \"also\", \"project\", \"university\", \"industry\", \"technology\", \"vaasa\", \"solution\", \"based\", \"platform\", \"business\", \"potential\", \"marine\", \"consortium\", \"segment\", \"emission\", \"management\", \"combustion\", \"common\", \"propulsion\", \"clean\", \"road\", \"trl\", \"framework\", \"secure\", \"state\", \"efficient\", \"compliance\", \"power\", \"context\", \"powertrain\", \"art\", \"engine\", \"electric\", \"global\", \"take\", \"roadmap\", \"technological\", \"rcci\", \"aftertreatment\", \"providing\", \"responsible\", \"development\", \"technology\", \"solution\", \"project\", \"vaasa\", \"university\", \"based\", \"model\", \"goal\", \"objective\", \"finnish\", \"room\", \"doctoral\", \"study\", \"improve\", \"headed\", \"must\", \"internet\", \"petri\", \"location\", \"gps\", \"telling\", \"programme\", \"land\", \"survey\", \"incubate\", \"marketing\", \"together\", \"pnt\", \"tampereen\", \"service\", \"jani\", \"equipment\", \"defined\", \"eur\", \"stronger\", \"floor\", \"dissemination\", \"three\", \"coordinating\", \"indoors\", \"faster\", \"reception\", \"yliopisto\", \"v\\u00e4lisuo\", \"research\", \"satellite\", \"positioning\", \"navigation\", \"project\", \"earth\", \"finland\", \"space\", \"work\", \"technology\", \"small\", \"international\", \"indoor\", \"centennial\", \"year\", \"kuusniemi\", \"high\", \"industry\", \"partner\", \"also\", \"signal\", \"heidi\", \"vaasa\", \"university\", \"foundation\", \"researcher\", \"orbit\", \"digital\", \"based\", \"solution\", \"building\", \"green\", \"new\", \"performing\", \"represented\", \"group\", \"faster\", \"leo\", \"revenue\", \"realised\", \"location\", \"together\", \"kendall\", \"erkko\", \"jani\", \"must\", \"three\", \"mohammed\", \"headed\", \"amount\", \"exist\", \"federation\", \"action\", \"seamlessly\", \"partly\", \"payload\", \"organisation\", \"release\", \"coordinating\", \"minute\", \"survey\", \"commercial\", \"arto\", \"satellite\", \"small\", \"positioning\", \"research\", \"space\", \"university\", \"navigation\", \"building\", \"project\", \"digital\", \"earth\", \"industry\", \"indoor\", \"orbit\", \"centennial\", \"well\", \"year\", \"application\", \"technology\", \"also\", \"foundation\", \"accurate\", \"researcher\", \"work\", \"vaasa\", \"signal\", \"timing\", \"new\", \"funding\", \"finland\", \"economy\", \"business\", \"solution\", \"round\", \"finding\", \"un\", \"neutrality\", \"bottom\", \"concluding\", \"univaasa\", \"http\", \"table\", \"two\", \"council\", \"discussion\", \"build\", \"eu\", \"selecting\", \"commission\", \"value\", \"regarding\", \"guidance\", \"consequence\", \"involvement\", \"driven\", \"report\", \"capacity\", \"studied\", \"helping\", \"closer\", \"climate\", \"requires\", \"tutkimus\", \"green\", \"transformation\", \"region\", \"smart\", \"helix\", \"stakeholder\", \"area\", \"environmental\", \"strategy\", \"greta\", \"lars\", \"analysis\", \"policy\", \"growth\", \"brief\", \"sustainable\", \"interview\", \"specialisation\", \"intervention\", \"economy\", \"coordination\", \"baltic\", \"fi\", \"relevant\", \"gap\", \"system\", \"project\", \"penta\", \"expert\", \"method\", \"partner\", \"energy\", \"based\", \"innovation\", \"dissemination\", \"range\", \"meeting\", \"wide\", \"bore\", \"biogas\", \"evolving\", \"ignition\", \"improvement\", \"lead\", \"innovative\", \"transition\", \"limit\", \"first\", \"arena\", \"underlining\", \"upgrade\", \"world\", \"legislation\", \"laboratory\", \"major\", \"facility\", \"regulation\", \"earlier\", \"putting\", \"demonstrate\", \"novel\", \"thermal\", \"secures\", \"compression\", \"propulsion\", \"consortium\", \"secure\", \"powertrain\", \"marine\", \"technological\", \"development\", \"common\", \"road\", \"clean\", \"technology\", \"combustion\", \"rcci\", \"emission\", \"solution\", \"framework\", \"management\", \"providing\", \"trl\", \"take\", \"segment\", \"power\", \"project\", \"university\", \"compliance\", \"global\", \"roadmap\", \"responsible\", \"vaasa\", \"objective\", \"based\", \"release\", \"exist\", \"dissemination\", \"range\", \"press\", \"meeting\", \"wide\", \"biogas\", \"bore\", \"evolving\", \"ignition\", \"improvement\", \"lead\", \"innovative\", \"transition\", \"limit\", \"first\", \"arena\", \"underlining\", \"upgrade\", \"world\", \"legislation\", \"laboratory\", \"major\", \"facility\", \"regulation\", \"earlier\", \"putting\", \"demonstrate\", \"novel\", \"v\\u00e4lisuo\", \"seamlessly\", \"survey\", \"indoors\", \"mohammed\", \"stronger\", \"payload\", \"taking\", \"carried\", \"room\", \"amount\", \"floor\", \"commercial\", \"equipment\", \"mention\", \"faster\", \"information\", \"organisation\", \"gps\", \"erkko\", \"incubate\", \"action\", \"headed\", \"programme\", \"partly\", \"marketing\", \"ten\", \"tampereen\", \"reliably\", \"navigation\", \"satellite\", \"positioning\", \"research\", \"project\", \"indoor\", \"earth\", \"small\", \"foundation\", \"industry\", \"university\", \"professor\", \"space\", \"sufficiently\", \"finland\", \"well\", \"kuusniemi\", \"heidi\", \"technology\", \"vaasa\", \"solution\", \"researcher\", \"international\", \"building\", \"also\", \"business\", \"signal\", \"centennial\", \"application\", \"economy\", \"dissemination\", \"range\", \"meeting\", \"wide\", \"biogas\", \"bore\", \"evolving\", \"ignition\", \"improvement\", \"lead\", \"innovative\", \"transition\", \"limit\", \"first\", \"arena\", \"underlining\", \"upgrade\", \"world\", \"legislation\", \"laboratory\", \"major\", \"facility\", \"regulation\", \"earlier\", \"putting\", \"demonstrate\", \"novel\", \"thermal\", \"secures\", \"compression\", \"project\", \"satellite\", \"also\", \"based\", \"business\", \"develop\", \"earth\", \"economy\", \"indoor\", \"industry\", \"navigation\", \"objective\", \"partner\", \"positioning\", \"research\", \"small\", \"solution\", \"space\", \"technology\", \"university\", \"vaasa\", \"analysis\", \"area\", \"development\", \"environmental\", \"green\", \"greta\", \"growth\", \"policy\", \"region\", \"dissemination\", \"range\", \"meeting\", \"wide\", \"biogas\", \"bore\", \"evolving\", \"ignition\", \"improvement\", \"lead\", \"innovative\", \"transition\", \"limit\", \"first\", \"arena\", \"underlining\", \"upgrade\", \"world\", \"legislation\", \"laboratory\", \"major\", \"facility\", \"regulation\", \"earlier\", \"putting\", \"demonstrate\", \"novel\", \"thermal\", \"secures\", \"compression\", \"project\", \"satellite\", \"also\", \"based\", \"business\", \"develop\", \"economy\", \"indoor\", \"industry\", \"navigation\", \"partner\", \"positioning\", \"research\", \"small\", \"solution\", \"space\", \"technology\", \"university\", \"vaasa\", \"area\", \"development\", \"environmental\", \"expert\", \"green\", \"greta\", \"growth\", \"innovation\", \"lars\", \"policy\", \"region\"], \"Freq\": [12.0, 9.0, 21.0, 9.0, 6.0, 6.0, 6.0, 7.0, 5.0, 5.0, 5.0, 6.0, 7.0, 6.0, 7.0, 4.0, 4.0, 4.0, 4.0, 5.0, 6.0, 4.0, 4.0, 3.0, 3.0, 3.0, 3.0, 3.0, 3.0, 3.0, 12.212592288840339, 6.148023959677479, 6.149405835685872, 5.281519939668241, 4.413882829734083, 4.413009174324223, 4.416101575661395, 4.414092410228526, 3.549438797217568, 3.550401028217458, 3.549671852663467, 3.5495322130037747, 3.5504433799340025, 3.5486120917106203, 3.5482677117526613, 2.6860024935450024, 2.68515812132201, 2.684854883031552, 2.6846695035179917, 2.6831554901539794, 2.683891199972809, 2.6820780624850884, 1.8191534885532843, 1.8194399071620293, 1.818568550845353, 1.8187666358738768, 1.819080401591019, 1.8179280718862965, 1.8178810009784798, 1.8180642024037608, 5.281381026037976, 2.6853853685324975, 2.6832745589799214, 2.6840468122798837, 2.681386640461274, 5.28073921602497, 2.684445644444828, 9.56370153786879, 6.113597779752563, 5.255714200928743, 5.253043727882487, 3.533903390700933, 3.531858382946639, 2.6730370771677756, 2.672705976188672, 2.6720562552773295, 2.6700602297446947, 2.66824435517153, 1.8103050826197176, 1.8101083295130027, 1.8100183717789928, 1.8098828464493526, 1.809768279858788, 1.8097600376580278, 1.8097270688549876, 1.8096950420177487, 1.8094295254075496, 1.809189559619707, 1.8091111409667615, 1.8090301319078625, 1.8089840933293315, 1.8088677605528896, 1.8086601748394613, 1.8084094941906306, 1.8081297303476893, 6.11234967506604, 0.9488372061768015, 2.672679130163339, 10.4465024670475, 4.394862487865503, 2.670303727904292, 4.402384084787678, 3.537684676918195, 2.6782941883039872, 1.811936096404407, 1.8119092503790741, 1.811609940745759, 1.8104108182808965, 3.489742924882439, 3.488317691322519, 2.6402594828099244, 2.639608889279833, 2.639367085351149, 2.639095570984591, 2.638288184413747, 2.637375401691029, 2.638173463087941, 2.638101030341591, 2.638849646630216, 2.638599168121131, 2.637331811924513, 1.788915668538113, 1.7890508835601169, 1.7881653173334076, 1.7881081735350144, 1.7886295158171277, 1.7869104308461161, 1.78803931905308, 1.788133763547198, 1.788317447787194, 1.7875768554854399, 1.7872239084953652, 1.7876587218379763, 1.7866622294143863, 1.7869594422253832, 1.7879703561388902, 1.786781071165883, 1.7870067186885696, 4.340094258724096, 5.192669321251605, 3.4895813608224664, 6.053838724311622, 2.6412566258270442, 2.639308965662461, 1.7928626026206675, 1.7902388673460639, 1.7895038050893155, 1.7890926299782979, 1.7881794135265594, 0.00016959331421474846, 0.00016873839077573836, 0.00016873477815885747, 0.00016873096223453304, 0.0001685759012112684, 0.0001685772461682024, 0.00016860402019460978, 0.00016859610684334686, 0.00016852676336607451, 0.00016856672109824206, 0.0001685771210559295, 0.0001685302821487507, 0.00016857383685876502, 0.00016844533091543013, 0.00016852918741636257, 0.00016850438390825386, 0.00016841605464356412, 0.00016848306790475314, 0.00016854662493940241, 0.00016846552090847447, 0.00016836017637466603, 0.0001684107060938963, 0.00016843303863461458, 0.00016840840715588119, 0.00016836425816257043, 0.0001683859807809582, 0.00016688785514680653, 0.0001683206096183514, 0.0001683436146375367, 0.00016835961336943785, 0.0001682576781450668, 0.00016832372178614058, 0.00016836982565871588, 0.00016833480986132914, 0.0001815973363534473, 0.00018183820875690892, 0.00017677435206613738, 0.00017612566057002098, 0.00018098733582773497, 0.00017408451639327777, 0.00017055409827569285, 0.0001717169073793536, 0.000170441309561645, 0.00017378712452051928, 0.000172765520255896, 0.00017143854821111484, 0.00017184313002370751, 0.00017025725376912843, 0.00017024721350922568, 0.00017014224431223602, 0.00017009454525818084, 0.00017108266635076078, 0.0001713646537749146, 0.00017096943974375767, 0.00017050926116488098, 0.00016988452866903097, 0.00017205331864223266, 0.00017221859195477534, 0.0001704193679967796, 0.00017039145232088172, 0.00016977236551634777, 0.0001697699258270256, 0.0001709121696008232, 0.00017081738141504338, 0.00017024214646217195, 0.00017014433994280763, 0.0001699939549907438, 0.00016580800496688507, 0.0001657924026642664, 0.00016575128172675256, 0.0001656886147522891, 0.00016560191507651316, 0.00016561346896824824, 0.00016555689735399151, 0.00016542971356938, 0.0001654340955571903, 0.00016547192621319955, 0.00016540966862860074, 0.0001653965681529326, 0.000165305607790047, 0.00016530492547360597, 0.00016527667757294654, 0.00016523980215995475, 0.0001651600772744651, 0.00016515108586003083, 0.00016519899963678, 0.0001651165909732889, 0.0001651292062461545, 0.0001650928463611404, 0.00016490314722794125, 0.0001649131545357433, 0.0001648612681610484, 0.00016487911452662873, 0.00016488152537805377, 0.00016484204199999843, 0.00016483694737057193, 0.00016481608365006341, 0.00021302901825220264, 0.00019638243790182075, 0.00019931165270841862, 0.00019849672427640504, 0.0001787602815040272, 0.00019084119445818723, 0.0001854482562836626, 0.00017714261536041343, 0.00020384088440668848, 0.00017225962533134112, 0.00017805573670958775, 0.00017642157367068817, 0.0001763765711107541, 0.0001708250625953297, 0.00017070491425135478, 0.00017060515958767345, 0.00017022489705378313, 0.00017020275967591798, 0.00018297014362012346, 0.00017425000304023094, 0.00017234317118890066, 0.00016961023607851118, 0.0001719663808875659, 0.00016945773077264295, 0.00017726535650686433, 0.00017181605899430904, 0.00016941876292256527, 0.00017108848222933729, 0.00016918436448118364, 0.00016916034694245872, 0.0001715108512689341, 0.00017067690895209662, 0.00017087432584237343, 0.00016487186121949971, 0.00016484462114466956, 0.0001647368405931762, 0.00016436829039695965, 0.0001643445290657225, 0.00016432482122701974, 0.0001642962199046967, 0.00016418143649110097, 0.00016412526234456062, 0.00016402489302941748, 0.00016398546222703983, 0.00016396050602300333, 0.0001639391041874205, 0.00016389530226809342, 0.00016386906044142476, 0.00016383660225120517, 0.00016383118751117786, 0.00016381494329109592, 0.00016380270718863198, 0.0001637969294492732, 0.00016380036281794975, 0.00016376925075025094, 0.00016375166040764823, 0.0001637224994613559, 0.000163707525738934, 0.00016368341653333752, 0.00016366150044870185, 0.0001636437588563777, 0.00016363333775057094, 0.000163611920790016, 0.0001987311229836396, 0.00018235242677437652, 0.00017864850259614065, 0.00017745083167697106, 0.00017556027065894334, 0.00017925819022323832, 0.00017625057438756494, 0.00017433502691555644, 0.00017821409827121208, 0.00017711303054912192, 0.00017355344398004984, 0.0001733922269019741, 0.0001732779123625148, 0.0001731865272808248, 0.0001712450404815905, 0.0001722221439319939, 0.00017031685119109862, 0.00017294900471828594, 0.00016996269996836252, 0.00017230064253741782, 0.0001677062809991598, 0.00016760231194064653, 0.00016760191869137083, 0.0001707193266998326, 0.00016912560838508992, 0.0001672024379271212, 0.00017804887307551834, 0.00016898736613969988, 0.00016889678268153347, 0.0001670101087813466, 0.0001697616739636055, 0.0001681493519331265, 0.0001680123801853965, 0.00016800383457613553, 0.00016473946999476504, 0.0001646233498774433, 0.00016423663016821473, 0.0001642142941487689, 0.00016419133894284758, 0.0001641818850225142, 0.00016416889720863764, 0.00016415335713831328, 0.0001641421513733175, 0.00016412396843389033, 0.00016412422516974602, 0.00016411351777435247, 0.00016408038374685812, 0.00016405120647196338, 0.00016395896278922163, 0.0001639580566626721, 0.0001639397076000442, 0.0001638502427053877, 0.00016382872219983642, 0.00016380842496512704, 0.00016380141758647737, 0.00016378684405113917, 0.0001637446034518221, 0.00016369831548725046, 0.00016363807317381615, 0.0001635918003113537, 0.00016356843734848507, 0.00016353774986267445, 0.00016352159060587459, 0.0001635108530062627, 0.00017150513938734684, 0.00017364279763244284, 0.00017055650040053892, 0.00016782123659392134, 0.00017205854107536073, 0.0001675877579863268, 0.00017438139648507067, 0.00016986577523394437, 0.00016979623002126825, 0.00016975367227765886, 0.0001756072648897061, 0.00016868590785380655, 0.00016672728511278774, 0.00016850860909228263, 0.00017116978195136728, 0.00016838027136865144, 0.0001681949835913825, 0.00016672394754666366, 0.0001678851336177721, 0.0001665316070844176, 0.00016728715050352155, 0.0001660749193034565, 0.0001738292029657895, 0.00016995874381792577, 0.00016600567613296352, 0.00016596542901205541, 0.00016560167961085737, 0.0001655295519375151, 0.00016734684914102615, 0.00016621085338799454, 0.00016579364252037443, 0.0001619970378943859, 0.0001619924139830307, 0.00016057488489867812, 0.00016057488489867812, 0.00016194155095812353, 0.00016057488489867812, 0.00016057488489867812, 0.00016057488489867812, 0.00016057488489867812, 0.00016057488489867812, 0.00016057488489867812, 0.00016057488489867812, 0.00016057488489867812, 0.00016057488489867812, 0.00016057488489867812, 0.00016057488489867812, 0.00016057488489867812, 0.00016057488489867812, 0.00016057488489867812, 0.00016057488489867812, 0.00016057488489867812, 0.00016057488489867812, 0.00016057488489867812, 0.00016057488489867812, 0.00016057488489867812, 0.00016057488489867812, 0.00016057488489867812, 0.00016057488489867812, 0.00016057488489867812, 0.00016057488489867812, 0.00016188298641852409, 0.00016184913278181637, 0.00016179303032488656, 0.00016182909082837742, 0.00016178610947055298, 0.00016181808651986003, 0.0001617937359217492, 0.00016180299875715882, 0.0001618049804334539, 0.0001616985554087883, 0.00016174296297303726, 0.00016180125728405102, 0.00016175716498648536, 0.00016175458280222207, 0.0001617665329107894, 0.0001616840981794537, 0.00016174110139833582, 0.0001617214497750762, 0.00016172095435600245, 0.00016167816816326766, 0.00016174704642722107, 0.00016167854348074777, 0.00016164435956465755, 0.00016168914244638665, 0.00016165210611744743, 0.00016169237017671576, 0.00016167755264260024, 0.00016172508284828388, 0.00016170038695809133, 0.0001684528888827976, 0.0001701541429694291, 0.0001677690003832043, 0.0001680344699432497, 0.0001706651602376746, 0.00016515351795307425, 0.00016510300022024878, 0.0001656496576364074, 0.0001640538977870908, 0.00016426278448383182, 0.00016537180259951773, 0.00016307319321151167, 0.00016342627688411854, 0.00016280835418483287, 0.00016278448399309662, 0.00016277163312257697, 0.00016275022501351037, 0.00016271494517037816, 0.00016446782792957633, 0.0001643202831217877, 0.00016339856344138576, 0.00016325400616073898, 0.00016317553478199345, 0.0001631031285337268, 0.0001630973486445328, 0.00016272955252670483, 0.00016267813403192705, 0.00016266896127271267, 0.00016263237532474962, 0.00016258160237603766, 0.00012986975684815518, 0.00012986975684815518, 0.00012986975684815518, 0.00012986975684815518, 0.00012986975684815518, 0.00012986975684815518, 0.00012986975684815518, 0.00012986975684815518, 0.00012986975684815518, 0.00012986975684815518, 0.00012986975684815518, 0.00012986975684815518, 0.00012986975684815518, 0.00012986975684815518, 0.00012986975684815518, 0.00012986975684815518, 0.00012986975684815518, 0.00012986975684815518, 0.00012986975684815518, 0.00012986975684815518, 0.00012986975684815518, 0.00012986975684815518, 0.00012986975684815518, 0.00012986975684815518, 0.00012986975684815518, 0.00012986975684815518, 0.00012986975684815518, 0.00012986975684815518, 0.00012986975684815518, 0.00012986975684815518, 0.00012986979313335366, 0.0001298697810382875, 0.00012986976894322134, 0.00012986976894322134, 0.00012986976894322134, 0.00012986976894322134, 0.00012986976894322134, 0.00012986976894322134, 0.00012986976894322134, 0.00012986976894322134, 0.00012986976894322134, 0.00012986976894322134, 0.00012986976894322134, 0.00012986976894322134, 0.00012986976894322134, 0.00012986976894322134, 0.00012986976894322134, 0.00012986976894322134, 0.00012986976894322134, 0.00012986976894322134, 0.00012986976894322134, 0.00012986976894322134, 0.00012986976894322134, 0.00012986976894322134, 0.00012986976894322134, 0.00012986976894322134, 0.00012986976894322134, 0.00012986976894322134, 0.00012986976894322134, 0.00012986976894322134, 0.0001298695176874783, 0.0001298695176874783, 0.0001298695176874783, 0.0001298695176874783, 0.0001298695176874783, 0.0001298695176874783, 0.0001298695176874783, 0.0001298695176874783, 0.0001298695176874783, 0.0001298695176874783, 0.0001298695176874783, 0.0001298695176874783, 0.0001298695176874783, 0.0001298695176874783, 0.0001298695176874783, 0.0001298695176874783, 0.0001298695176874783, 0.0001298695176874783, 0.0001298695176874783, 0.0001298695176874783, 0.0001298695176874783, 0.0001298695176874783, 0.0001298695176874783, 0.0001298695176874783, 0.0001298695176874783, 0.0001298695176874783, 0.0001298695176874783, 0.0001298695176874783, 0.0001298695176874783, 0.0001298695176874783, 0.00012986955397260996, 0.00012986954187756608, 0.0001298695297825222, 0.0001298695297825222, 0.0001298695297825222, 0.0001298695297825222, 0.0001298695297825222, 0.0001298695297825222, 0.0001298695297825222, 0.0001298695297825222, 0.0001298695297825222, 0.0001298695297825222, 0.0001298695297825222, 0.0001298695297825222, 0.0001298695297825222, 0.0001298695297825222, 0.0001298695297825222, 0.0001298695297825222, 0.0001298695297825222, 0.0001298695297825222, 0.0001298695297825222, 0.0001298695297825222, 0.0001298695297825222, 0.0001298695297825222, 0.0001298695297825222, 0.0001298695297825222, 0.0001298695297825222, 0.0001298695297825222, 0.0001298695297825222, 0.0001298695297825222], \"Total\": [12.0, 9.0, 21.0, 9.0, 6.0, 6.0, 6.0, 7.0, 5.0, 5.0, 5.0, 6.0, 7.0, 6.0, 7.0, 4.0, 4.0, 4.0, 4.0, 5.0, 6.0, 4.0, 4.0, 3.0, 3.0, 3.0, 3.0, 3.0, 3.0, 3.0, 12.404446513105883, 6.330386523533343, 6.3323819169684805, 5.464242323901098, 4.595329571703418, 4.594530349725575, 4.597849589343912, 4.595804925044757, 3.727535176727447, 3.7287029585559375, 3.728481896785816, 3.728666629373953, 3.7299737985263697, 3.7282494433885267, 3.727972965940658, 2.8628163700979705, 2.861987389849581, 2.8619950340875584, 2.8620522648645346, 2.8606935323235163, 2.8615083232832568, 2.8612797303910456, 1.9945069397367865, 1.9951399143110717, 1.9942258832098485, 1.9945173944452437, 1.9948832959184102, 1.9937875203608404, 1.9937816256433305, 1.9940598665998668, 6.316256619026598, 3.714787972168299, 3.7121692107515973, 4.584308793475224, 4.582293363474079, 21.78224751818771, 6.29034035362764, 9.737138470090079, 6.287013545584843, 5.429116138561602, 5.4264504363254025, 3.707288667154108, 3.7052475302379726, 2.846413984617655, 2.8460834912379385, 2.8454349681471838, 2.8434426140679325, 2.8416301551094945, 1.9836770753627282, 1.9834806433828085, 1.9833909146741755, 1.9832556306698832, 1.9831412490276454, 1.9831330633821658, 1.9831001279166354, 1.9830681553768164, 1.9828031660828795, 1.9825636533756394, 1.9824853393916286, 1.9824045272699553, 1.982358513296519, 1.982242439644426, 1.982035218626035, 1.9817850217528055, 1.9815057502916096, 7.137345762974506, 1.1222019360049174, 3.6969166009148795, 21.78224751818771, 7.988573071971906, 3.6951982682661177, 9.683441281124376, 7.132346894880995, 6.2560644074832625, 6.29034035362764, 2.8367668660837184, 3.687586625562756, 2.851275296671091, 3.669102861601698, 3.6682705812856167, 2.817795545802858, 2.817147295252281, 2.8173189359228044, 2.81705826271423, 2.8164352263665746, 2.8155656565968092, 2.8164967043685882, 2.8164749520097487, 2.817492275654035, 2.8172295008475268, 2.816076502427017, 1.9651452106046488, 1.9654551584980267, 1.964644124449082, 1.964608212419709, 1.9654893266331295, 1.9636847047692023, 1.9649332146448693, 1.9650931274771566, 1.9654615483604037, 1.9646740487226064, 1.9643739836846041, 1.9648687037595558, 1.9638133431703861, 1.9642720849470274, 1.9655763827545651, 1.9642764589238175, 1.9649158792535393, 5.389398408525919, 9.683441281124376, 6.2560644074832625, 21.78224751818771, 7.132346894880995, 7.988573071971906, 6.29034035362764, 2.832265884851432, 2.831917273380518, 3.692356473838601, 2.826350122398634, 1.1205665283151012, 1.1211830465700918, 1.121448602058996, 1.1216667354782686, 1.1207899066578808, 1.1209240056935639, 1.1212146565459336, 1.121176282527666, 1.1208086495087262, 1.121218180974111, 1.12135139999891, 1.1211877983309122, 1.1216858269428456, 1.1209929916112333, 1.121565300646768, 1.1214602283387642, 1.1208932655629589, 1.1213444019399186, 1.121819221466291, 1.1213267142255459, 1.120837790424333, 1.1212556663111068, 1.1215478425900633, 1.1215377917694838, 1.1212732351032562, 1.121431605781057, 1.11148370871902, 1.1210573309899492, 1.1212175239540423, 1.1213261816388338, 1.1206904641025501, 1.1211829705498393, 1.1215303856153502, 1.1213701363842146, 7.137345762974506, 9.737138470090079, 6.287013545584843, 5.429116138561602, 21.78224751818771, 3.7052475302379726, 1.9824045272699553, 2.8416301551094945, 1.9825636533756394, 9.683441281124376, 5.4264504363254025, 2.8342247332849793, 3.707288667154108, 1.9817850217528055, 1.982242439644426, 1.9828031660828795, 1.9831330633821658, 3.6951982682661177, 4.584308793475224, 3.6969166009148795, 2.846413984617655, 1.9833909146741755, 7.132346894880995, 7.988573071971906, 2.8454349681471838, 2.8460834912379385, 1.982035218626035, 1.9815057502916096, 6.29034035362764, 6.2560644074832625, 2.8434426140679325, 12.404446513105883, 2.8342830646002075, 1.1207370022255327, 1.1209401415386686, 1.12082749623644, 1.1206904641025501, 1.1209819232197102, 1.121061842241989, 1.1208837336911437, 1.1208086495087262, 1.1208932655629589, 1.1211602614547134, 1.1209015410442513, 1.120837790424333, 1.1209240056935639, 1.1210573309899492, 1.12101230434452, 1.1207899066578808, 1.120951788897295, 1.121038978528453, 1.1213961357318638, 1.1210408140907195, 1.1211435770673484, 1.1210299457136823, 1.1210911759505846, 1.121181609096112, 1.1210409305595865, 1.1212175239540423, 1.121235734126454, 1.1209929916112333, 1.1211625729458365, 1.12128908889059, 9.737138470090079, 5.4264504363254025, 6.287013545584843, 7.137345762974506, 2.8416301551094945, 7.988573071971906, 5.429116138561602, 2.8434426140679325, 21.78224751818771, 1.9815057502916096, 3.7052475302379726, 3.6951982682661177, 3.707288667154108, 1.982035218626035, 1.9817850217528055, 1.982358513296519, 1.982242439644426, 1.9824853393916286, 9.683441281124376, 3.6969166009148795, 2.8454349681471838, 1.9831412490276454, 2.8460834912379385, 1.9825636533756394, 7.132346894880995, 2.846413984617655, 1.9834806433828085, 2.8342830646002075, 1.9831001279166354, 1.9824045272699553, 4.582293363474079, 3.687586625562756, 6.2560644074832625, 1.1263423846408387, 1.126325651823747, 1.1263986556486083, 1.1265868215986001, 1.1266008822400293, 1.1266204423506825, 1.1266291461642013, 1.1267176349743686, 1.126781657853298, 1.1267933535854322, 1.1268147644544526, 1.1268534298879058, 1.1268616720782763, 1.126938471288924, 1.1269097818448308, 1.1269264749039216, 1.1269330706742684, 1.1269277408020495, 1.1269020983509008, 1.1268892032004252, 1.1269447211504164, 1.1269079590885884, 1.1269656940287307, 1.1269841434401007, 1.1270096166315353, 1.1270104425888983, 1.12698055744341, 1.127006061168622, 1.1269574359962842, 1.1270074121057245, 12.404446513105883, 6.330386523533343, 4.594530349725575, 4.595329571703418, 3.727535176727447, 6.3323819169684805, 4.595804925044757, 3.727972965940658, 6.316256619026598, 5.464242323901098, 3.7282494433885267, 3.728481896785816, 3.728666629373953, 3.7287029585559375, 2.8606935323235163, 3.7121692107515973, 2.8612797303910456, 4.597849589343912, 2.8615083232832568, 4.582293363474079, 1.9937816256433305, 1.9937875203608404, 1.9937816581441885, 3.7299737985263697, 2.861987389849581, 1.9940839296575223, 21.78224751818771, 2.8619950340875584, 2.8620522648645346, 1.9940743727299832, 4.584308793475224, 2.8456637806987795, 6.29034035362764, 3.714787972168299, 1.11148370871902, 1.1115464214951385, 1.1117482783460657, 1.1117601978231177, 1.1117771936120995, 1.1117742216247966, 1.1117827482905334, 1.1117947260948746, 1.111805211013456, 1.1118123668352662, 1.111815325246719, 1.111817100024112, 1.1118362495650582, 1.1118499519018539, 1.1118974106244843, 1.1119026950283002, 1.1119097551931936, 1.111953144263285, 1.1119703304218778, 1.1119744784198937, 1.1119817189318106, 1.1119917425268218, 1.1120162200742583, 1.1120343839395868, 1.112071941969, 1.1120964262204758, 1.1121071630732406, 1.1121199573312528, 1.112132395372975, 1.1121367807857547, 2.8155656565968092, 3.6682705812856167, 2.816076502427017, 1.9636847047692023, 3.669102861601698, 1.9638133431703861, 5.389398408525919, 2.8164352263665746, 2.8164749520097487, 2.8164967043685882, 9.683441281124376, 2.81705826271423, 1.9642720849470274, 2.817147295252281, 6.2560644074832625, 2.8172295008475268, 2.8173189359228044, 1.9642764589238175, 2.817492275654035, 1.9643739836846041, 2.817795545802858, 1.964608212419709, 21.78224751818771, 7.988573071971906, 1.964644124449082, 1.9646740487226064, 1.9648687037595558, 1.9649158792535393, 7.132346894880995, 3.692356473838601, 6.29034035362764, 1.1210409305595865, 1.121038978528453, 1.11148370871902, 1.1115464214951385, 1.1211378348956067, 1.1117482783460657, 1.1117601978231177, 1.1117742216247966, 1.1117771936120995, 1.1117827482905334, 1.1117947260948746, 1.111805211013456, 1.1118123668352662, 1.111815325246719, 1.111817100024112, 1.1118362495650582, 1.1118499519018539, 1.1118974106244843, 1.1119026950283002, 1.1119097551931936, 1.111953144263285, 1.1119703304218778, 1.1119744784198937, 1.1119817189318106, 1.1119917425268218, 1.1120162200742583, 1.1120343839395868, 1.112071941969, 1.1120964262204758, 1.1121071630732406, 1.1213701363842146, 1.1211435770673484, 1.1209929916112333, 1.1213261816388338, 1.12101230434452, 1.1212732351032562, 1.1210911759505846, 1.1212635871294674, 1.1213772351779328, 1.1205665283151012, 1.120951788897295, 1.121431605781057, 1.1211625729458365, 1.1212556663111068, 1.1213533252621999, 1.1206904641025501, 1.1213207044181943, 1.121181609096112, 1.121218180974111, 1.1209015410442513, 1.121565300646768, 1.1210408140907195, 1.1207899066578808, 1.1211877983309122, 1.1210299457136823, 1.1214602283387642, 1.1213664230619582, 1.121819221466291, 1.121630214371907, 5.429116138561602, 9.737138470090079, 6.287013545584843, 7.137345762974506, 21.78224751818771, 3.707288667154108, 3.7052475302379726, 5.4264504363254025, 2.8454349681471838, 3.6951982682661177, 7.988573071971906, 1.9830681553768164, 2.8416301551094945, 1.9832556306698832, 1.9824045272699553, 1.982358513296519, 1.9828031660828795, 1.9833909146741755, 9.683441281124376, 7.132346894880995, 6.2560644074832625, 2.8460834912379385, 2.8342247332849793, 2.8434426140679325, 3.6969166009148795, 3.687586625562756, 2.846413984617655, 1.9817850217528055, 1.9824853393916286, 4.582293363474079, 1.11148370871902, 1.1115464214951385, 1.1117482783460657, 1.1117601978231177, 1.1117742216247966, 1.1117771936120995, 1.1117827482905334, 1.1117947260948746, 1.111805211013456, 1.1118123668352662, 1.111815325246719, 1.111817100024112, 1.1118362495650582, 1.1118499519018539, 1.1118974106244843, 1.1119026950283002, 1.1119097551931936, 1.111953144263285, 1.1119703304218778, 1.1119744784198937, 1.1119817189318106, 1.1119917425268218, 1.1120162200742583, 1.1120343839395868, 1.112071941969, 1.1120964262204758, 1.1121071630732406, 1.1121199573312528, 1.112132395372975, 1.1121367807857547, 21.78224751818771, 9.737138470090079, 3.6969166009148795, 6.29034035362764, 3.687586625562756, 3.7085618344384788, 3.7052475302379726, 4.582293363474079, 3.707288667154108, 3.6951982682661177, 5.429116138561602, 3.692356473838601, 4.584308793475224, 6.287013545584843, 7.137345762974506, 5.4264504363254025, 6.2560644074832625, 2.8416301551094945, 9.683441281124376, 7.988573071971906, 7.132346894880995, 3.728481896785816, 4.595804925044757, 5.389398408525919, 3.727972965940658, 12.404446513105883, 5.464242323901098, 3.7287029585559375, 3.728666629373953, 4.594530349725575, 1.11148370871902, 1.1115464214951385, 1.1117482783460657, 1.1117601978231177, 1.1117742216247966, 1.1117771936120995, 1.1117827482905334, 1.1117947260948746, 1.111805211013456, 1.1118123668352662, 1.111815325246719, 1.111817100024112, 1.1118362495650582, 1.1118499519018539, 1.1118974106244843, 1.1119026950283002, 1.1119097551931936, 1.111953144263285, 1.1119703304218778, 1.1119744784198937, 1.1119817189318106, 1.1119917425268218, 1.1120162200742583, 1.1120343839395868, 1.112071941969, 1.1120964262204758, 1.1121071630732406, 1.1121199573312528, 1.112132395372975, 1.1121367807857547, 21.78224751818771, 9.737138470090079, 3.6969166009148795, 6.29034035362764, 3.687586625562756, 3.7085618344384788, 4.582293363474079, 3.707288667154108, 3.6951982682661177, 5.429116138561602, 4.584308793475224, 6.287013545584843, 7.137345762974506, 5.4264504363254025, 6.2560644074832625, 2.8416301551094945, 9.683441281124376, 7.988573071971906, 7.132346894880995, 4.595804925044757, 5.389398408525919, 3.727972965940658, 2.8620522648645346, 12.404446513105883, 5.464242323901098, 3.7287029585559375, 3.714787972168299, 3.7282494433885267, 3.728666629373953, 4.594530349725575], \"Category\": [\"Default\", \"Default\", \"Default\", \"Default\", \"Default\", \"Default\", \"Default\", \"Default\", \"Default\", \"Default\", \"Default\", \"Default\", \"Default\", \"Default\", \"Default\", \"Default\", \"Default\", \"Default\", \"Default\", \"Default\", \"Default\", \"Default\", \"Default\", \"Default\", \"Default\", \"Default\", \"Default\", \"Default\", \"Default\", \"Default\", \"Topic1\", \"Topic1\", \"Topic1\", \"Topic1\", \"Topic1\", \"Topic1\", \"Topic1\", \"Topic1\", \"Topic1\", \"Topic1\", \"Topic1\", \"Topic1\", \"Topic1\", \"Topic1\", \"Topic1\", \"Topic1\", \"Topic1\", \"Topic1\", \"Topic1\", \"Topic1\", \"Topic1\", \"Topic1\", \"Topic1\", \"Topic1\", \"Topic1\", \"Topic1\", \"Topic1\", \"Topic1\", \"Topic1\", \"Topic1\", \"Topic1\", \"Topic1\", \"Topic1\", \"Topic1\", \"Topic1\", \"Topic1\", \"Topic1\", \"Topic2\", \"Topic2\", \"Topic2\", \"Topic2\", \"Topic2\", \"Topic2\", \"Topic2\", \"Topic2\", \"Topic2\", \"Topic2\", \"Topic2\", \"Topic2\", \"Topic2\", \"Topic2\", \"Topic2\", \"Topic2\", \"Topic2\", \"Topic2\", \"Topic2\", \"Topic2\", \"Topic2\", \"Topic2\", \"Topic2\", \"Topic2\", \"Topic2\", \"Topic2\", \"Topic2\", \"Topic2\", \"Topic2\", \"Topic2\", \"Topic2\", \"Topic2\", \"Topic2\", \"Topic2\", \"Topic2\", \"Topic2\", \"Topic2\", \"Topic2\", \"Topic2\", \"Topic2\", \"Topic2\", \"Topic3\", \"Topic3\", \"Topic3\", \"Topic3\", \"Topic3\", \"Topic3\", \"Topic3\", \"Topic3\", \"Topic3\", \"Topic3\", \"Topic3\", \"Topic3\", \"Topic3\", \"Topic3\", \"Topic3\", \"Topic3\", \"Topic3\", \"Topic3\", \"Topic3\", \"Topic3\", \"Topic3\", \"Topic3\", \"Topic3\", \"Topic3\", \"Topic3\", \"Topic3\", \"Topic3\", \"Topic3\", \"Topic3\", \"Topic3\", \"Topic3\", \"Topic3\", \"Topic3\", \"Topic3\", \"Topic3\", \"Topic3\", \"Topic3\", \"Topic3\", \"Topic3\", \"Topic3\", \"Topic3\", \"Topic4\", \"Topic4\", \"Topic4\", \"Topic4\", \"Topic4\", \"Topic4\", \"Topic4\", \"Topic4\", \"Topic4\", \"Topic4\", \"Topic4\", \"Topic4\", \"Topic4\", \"Topic4\", \"Topic4\", \"Topic4\", \"Topic4\", \"Topic4\", \"Topic4\", \"Topic4\", \"Topic4\", \"Topic4\", \"Topic4\", \"Topic4\", \"Topic4\", \"Topic4\", \"Topic4\", \"Topic4\", \"Topic4\", \"Topic4\", \"Topic4\", \"Topic4\", \"Topic4\", \"Topic4\", \"Topic4\", \"Topic4\", \"Topic4\", \"Topic4\", \"Topic4\", \"Topic4\", \"Topic4\", \"Topic4\", \"Topic4\", \"Topic4\", \"Topic4\", \"Topic4\", \"Topic4\", \"Topic4\", \"Topic4\", \"Topic4\", \"Topic4\", \"Topic4\", \"Topic4\", \"Topic4\", \"Topic4\", \"Topic4\", \"Topic4\", \"Topic4\", \"Topic4\", \"Topic4\", \"Topic4\", \"Topic4\", \"Topic4\", \"Topic4\", \"Topic4\", \"Topic4\", \"Topic4\", \"Topic5\", \"Topic5\", \"Topic5\", \"Topic5\", \"Topic5\", \"Topic5\", \"Topic5\", \"Topic5\", \"Topic5\", \"Topic5\", \"Topic5\", \"Topic5\", \"Topic5\", \"Topic5\", \"Topic5\", \"Topic5\", \"Topic5\", \"Topic5\", \"Topic5\", \"Topic5\", \"Topic5\", \"Topic5\", \"Topic5\", \"Topic5\", \"Topic5\", \"Topic5\", \"Topic5\", \"Topic5\", \"Topic5\", \"Topic5\", \"Topic5\", \"Topic5\", \"Topic5\", \"Topic5\", \"Topic5\", \"Topic5\", \"Topic5\", \"Topic5\", \"Topic5\", \"Topic5\", \"Topic5\", \"Topic5\", \"Topic5\", \"Topic5\", \"Topic5\", \"Topic5\", \"Topic5\", \"Topic5\", \"Topic5\", \"Topic5\", \"Topic5\", \"Topic5\", \"Topic5\", \"Topic5\", \"Topic5\", \"Topic5\", \"Topic5\", \"Topic5\", \"Topic5\", \"Topic5\", \"Topic5\", \"Topic5\", \"Topic5\", \"Topic6\", \"Topic6\", \"Topic6\", \"Topic6\", \"Topic6\", \"Topic6\", \"Topic6\", \"Topic6\", \"Topic6\", \"Topic6\", \"Topic6\", \"Topic6\", \"Topic6\", \"Topic6\", \"Topic6\", \"Topic6\", \"Topic6\", \"Topic6\", \"Topic6\", \"Topic6\", \"Topic6\", \"Topic6\", \"Topic6\", \"Topic6\", \"Topic6\", \"Topic6\", \"Topic6\", \"Topic6\", \"Topic6\", \"Topic6\", \"Topic6\", \"Topic6\", \"Topic6\", \"Topic6\", \"Topic6\", \"Topic6\", \"Topic6\", \"Topic6\", \"Topic6\", \"Topic6\", \"Topic6\", \"Topic6\", \"Topic6\", \"Topic6\", \"Topic6\", \"Topic6\", \"Topic6\", \"Topic6\", \"Topic6\", \"Topic6\", \"Topic6\", \"Topic6\", \"Topic6\", \"Topic6\", \"Topic6\", \"Topic6\", \"Topic6\", \"Topic6\", \"Topic6\", \"Topic6\", \"Topic6\", \"Topic6\", \"Topic6\", \"Topic6\", \"Topic7\", \"Topic7\", \"Topic7\", \"Topic7\", \"Topic7\", \"Topic7\", \"Topic7\", \"Topic7\", \"Topic7\", \"Topic7\", \"Topic7\", \"Topic7\", \"Topic7\", \"Topic7\", \"Topic7\", \"Topic7\", \"Topic7\", \"Topic7\", \"Topic7\", \"Topic7\", \"Topic7\", \"Topic7\", \"Topic7\", \"Topic7\", \"Topic7\", \"Topic7\", \"Topic7\", \"Topic7\", \"Topic7\", \"Topic7\", \"Topic7\", \"Topic7\", \"Topic7\", \"Topic7\", \"Topic7\", \"Topic7\", \"Topic7\", \"Topic7\", \"Topic7\", \"Topic7\", \"Topic7\", \"Topic7\", \"Topic7\", \"Topic7\", \"Topic7\", \"Topic7\", \"Topic7\", \"Topic7\", \"Topic7\", \"Topic7\", \"Topic7\", \"Topic7\", \"Topic7\", \"Topic7\", \"Topic7\", \"Topic7\", \"Topic7\", \"Topic7\", \"Topic7\", \"Topic7\", \"Topic7\", \"Topic8\", \"Topic8\", \"Topic8\", \"Topic8\", \"Topic8\", \"Topic8\", \"Topic8\", \"Topic8\", \"Topic8\", \"Topic8\", \"Topic8\", \"Topic8\", \"Topic8\", \"Topic8\", \"Topic8\", \"Topic8\", \"Topic8\", \"Topic8\", \"Topic8\", \"Topic8\", \"Topic8\", \"Topic8\", \"Topic8\", \"Topic8\", \"Topic8\", \"Topic8\", \"Topic8\", \"Topic8\", \"Topic8\", \"Topic8\", \"Topic8\", \"Topic8\", \"Topic8\", \"Topic8\", \"Topic8\", \"Topic8\", \"Topic8\", \"Topic8\", \"Topic8\", \"Topic8\", \"Topic8\", \"Topic8\", \"Topic8\", \"Topic8\", \"Topic8\", \"Topic8\", \"Topic8\", \"Topic8\", \"Topic8\", \"Topic8\", \"Topic8\", \"Topic8\", \"Topic8\", \"Topic8\", \"Topic8\", \"Topic8\", \"Topic8\", \"Topic8\", \"Topic8\", \"Topic8\", \"Topic8\", \"Topic8\", \"Topic8\", \"Topic8\", \"Topic8\", \"Topic8\", \"Topic8\", \"Topic8\", \"Topic8\", \"Topic8\", \"Topic8\", \"Topic8\", \"Topic8\", \"Topic8\", \"Topic8\", \"Topic8\", \"Topic8\", \"Topic8\", \"Topic8\", \"Topic8\", \"Topic8\", \"Topic8\", \"Topic8\", \"Topic8\", \"Topic8\", \"Topic8\", \"Topic8\", \"Topic8\", \"Topic8\", \"Topic9\", \"Topic9\", \"Topic9\", \"Topic9\", \"Topic9\", \"Topic9\", \"Topic9\", \"Topic9\", \"Topic9\", \"Topic9\", \"Topic9\", \"Topic9\", \"Topic9\", \"Topic9\", \"Topic9\", \"Topic9\", \"Topic9\", \"Topic9\", \"Topic9\", \"Topic9\", \"Topic9\", \"Topic9\", \"Topic9\", \"Topic9\", \"Topic9\", \"Topic9\", \"Topic9\", \"Topic9\", \"Topic9\", \"Topic9\", \"Topic9\", \"Topic9\", \"Topic9\", \"Topic9\", \"Topic9\", \"Topic9\", \"Topic9\", \"Topic9\", \"Topic9\", \"Topic9\", \"Topic9\", \"Topic9\", \"Topic9\", \"Topic9\", \"Topic9\", \"Topic9\", \"Topic9\", \"Topic9\", \"Topic9\", \"Topic9\", \"Topic9\", \"Topic9\", \"Topic9\", \"Topic9\", \"Topic9\", \"Topic9\", \"Topic9\", \"Topic9\", \"Topic9\", \"Topic9\", \"Topic10\", \"Topic10\", \"Topic10\", \"Topic10\", \"Topic10\", \"Topic10\", \"Topic10\", \"Topic10\", \"Topic10\", \"Topic10\", \"Topic10\", \"Topic10\", \"Topic10\", \"Topic10\", \"Topic10\", \"Topic10\", \"Topic10\", \"Topic10\", \"Topic10\", \"Topic10\", \"Topic10\", \"Topic10\", \"Topic10\", \"Topic10\", \"Topic10\", \"Topic10\", \"Topic10\", \"Topic10\", \"Topic10\", \"Topic10\", \"Topic10\", \"Topic10\", \"Topic10\", \"Topic10\", \"Topic10\", \"Topic10\", \"Topic10\", \"Topic10\", \"Topic10\", \"Topic10\", \"Topic10\", \"Topic10\", \"Topic10\", \"Topic10\", \"Topic10\", \"Topic10\", \"Topic10\", \"Topic10\", \"Topic10\", \"Topic10\", \"Topic10\", \"Topic10\", \"Topic10\", \"Topic10\", \"Topic10\", \"Topic10\", \"Topic10\", \"Topic10\", \"Topic10\", \"Topic10\"], \"logprob\": [30.0, 29.0, 28.0, 27.0, 26.0, 25.0, 24.0, 23.0, 22.0, 21.0, 20.0, 19.0, 18.0, 17.0, 16.0, 15.0, 14.0, 13.0, 12.0, 11.0, 10.0, 9.0, 8.0, 7.0, 6.0, 5.0, 4.0, 3.0, 2.0, 1.0, -3.0577, -3.744, -3.7438, -3.8959, -4.0754, -4.0756, -4.0749, -4.0753, -4.2933, -4.2931, -4.2933, -4.2933, -4.2931, -4.2936, -4.2937, -4.5721, -4.5724, -4.5725, -4.5726, -4.5731, -4.5729, -4.5735, -4.9618, -4.9616, -4.9621, -4.962, -4.9618, -4.9624, -4.9625, -4.9624, -3.8959, -4.5723, -4.5731, -4.5728, -4.5738, -3.8961, -4.5727, -3.2748, -3.7223, -3.8735, -3.874, -4.2704, -4.271, -4.5496, -4.5497, -4.55, -4.5507, -4.5514, -4.9393, -4.9394, -4.9395, -4.9396, -4.9396, -4.9396, -4.9396, -4.9397, -4.9398, -4.9399, -4.94, -4.94, -4.9401, -4.9401, -4.9402, -4.9404, -4.9405, -3.7225, -5.5853, -4.5497, -3.1866, -4.0524, -4.5506, -4.0507, -4.2694, -4.5476, -4.9384, -4.9384, -4.9386, -4.9393, -4.2006, -4.201, -4.4795, -4.4798, -4.4799, -4.48, -4.4803, -4.4806, -4.4803, -4.4804, -4.4801, -4.4802, -4.4807, -4.8688, -4.8687, -4.8692, -4.8693, -4.869, -4.8699, -4.8693, -4.8692, -4.8691, -4.8696, -4.8698, -4.8695, -4.8701, -4.8699, -4.8693, -4.87, -4.8699, -3.9825, -3.8032, -4.2006, -3.6497, -4.4792, -4.4799, -4.8666, -4.8681, -4.8685, -4.8687, -4.8692, -5.9816, -5.9866, -5.9866, -5.9867, -5.9876, -5.9876, -5.9874, -5.9875, -5.9879, -5.9876, -5.9876, -5.9879, -5.9876, -5.9884, -5.9879, -5.988, -5.9885, -5.9881, -5.9878, -5.9882, -5.9889, -5.9886, -5.9884, -5.9886, -5.9888, -5.9887, -5.9976, -5.9891, -5.989, -5.9889, -5.9895, -5.9891, -5.9888, -5.989, -5.9132, -5.9119, -5.9401, -5.9438, -5.9165, -5.9554, -5.9759, -5.9691, -5.9766, -5.9571, -5.963, -5.9707, -5.9684, -5.9777, -5.9777, -5.9783, -5.9786, -5.9728, -5.9712, -5.9735, -5.9762, -5.9799, -5.9672, -5.9662, -5.9767, -5.9769, -5.9805, -5.9805, -5.9738, -5.9744, -5.9777, -5.9783, -5.9792, -5.9732, -5.9733, -5.9735, -5.9739, -5.9744, -5.9744, -5.9747, -5.9755, -5.9755, -5.9752, -5.9756, -5.9757, -5.9762, -5.9762, -5.9764, -5.9766, -5.9771, -5.9772, -5.9769, -5.9774, -5.9773, -5.9775, -5.9787, -5.9786, -5.9789, -5.9788, -5.9788, -5.979, -5.9791, -5.9792, -5.7226, -5.804, -5.7892, -5.7933, -5.898, -5.8326, -5.8613, -5.9071, -5.7667, -5.935, -5.9019, -5.9112, -5.9114, -5.9434, -5.9441, -5.9447, -5.9469, -5.947, -5.8747, -5.9235, -5.9345, -5.9505, -5.9367, -5.9514, -5.9064, -5.9376, -5.9517, -5.9418, -5.953, -5.9532, -5.9394, -5.9443, -5.9431, -5.9764, -5.9765, -5.9772, -5.9794, -5.9796, -5.9797, -5.9799, -5.9806, -5.9809, -5.9815, -5.9818, -5.9819, -5.9821, -5.9823, -5.9825, -5.9827, -5.9827, -5.9828, -5.9829, -5.9829, -5.9829, -5.9831, -5.9832, -5.9834, -5.9835, -5.9836, -5.9837, -5.9839, -5.9839, -5.984, -5.7896, -5.8756, -5.8961, -5.9029, -5.9136, -5.8927, -5.9096, -5.9206, -5.8986, -5.9048, -5.9251, -5.926, -5.9266, -5.9272, -5.9385, -5.9328, -5.9439, -5.9285, -5.946, -5.9323, -5.9593, -5.96, -5.96, -5.9415, -5.9509, -5.9623, -5.8995, -5.9517, -5.9523, -5.9635, -5.9472, -5.9567, -5.9575, -5.9576, -5.9757, -5.9764, -5.9787, -5.9789, -5.979, -5.9791, -5.9791, -5.9792, -5.9793, -5.9794, -5.9794, -5.9795, -5.9797, -5.9799, -5.9804, -5.9804, -5.9805, -5.9811, -5.9812, -5.9813, -5.9814, -5.9815, -5.9817, -5.982, -5.9824, -5.9827, -5.9828, -5.983, -5.9831, -5.9832, -5.9354, -5.923, -5.941, -5.9571, -5.9322, -5.9585, -5.9188, -5.945, -5.9454, -5.9457, -5.9118, -5.952, -5.9637, -5.953, -5.9374, -5.9538, -5.9549, -5.9637, -5.9568, -5.9648, -5.9603, -5.9676, -5.922, -5.9445, -5.968, -5.9683, -5.9704, -5.9709, -5.96, -5.9668, -5.9693, -5.9865, -5.9865, -5.9953, -5.9953, -5.9869, -5.9953, -5.9953, -5.9953, -5.9953, -5.9953, -5.9953, -5.9953, -5.9953, -5.9953, -5.9953, -5.9953, -5.9953, -5.9953, -5.9953, -5.9953, -5.9953, -5.9953, -5.9953, -5.9953, -5.9953, -5.9953, -5.9953, -5.9953, -5.9953, -5.9953, -5.9872, -5.9874, -5.9878, -5.9876, -5.9878, -5.9876, -5.9878, -5.9877, -5.9877, -5.9884, -5.9881, -5.9877, -5.988, -5.988, -5.9879, -5.9885, -5.9881, -5.9882, -5.9882, -5.9885, -5.9881, -5.9885, -5.9887, -5.9884, -5.9886, -5.9884, -5.9885, -5.9882, -5.9884, -5.9474, -5.9374, -5.9515, -5.9499, -5.9344, -5.9672, -5.9675, -5.9642, -5.9739, -5.9726, -5.9659, -5.9799, -5.9777, -5.9815, -5.9817, -5.9817, -5.9819, -5.9821, -5.9714, -5.9723, -5.9779, -5.9788, -5.9793, -5.9797, -5.9797, -5.982, -5.9823, -5.9824, -5.9826, -5.9829, -5.9915, -5.9915, -5.9915, -5.9915, -5.9915, -5.9915, -5.9915, -5.9915, -5.9915, -5.9915, -5.9915, -5.9915, -5.9915, -5.9915, -5.9915, -5.9915, -5.9915, -5.9915, -5.9915, -5.9915, -5.9915, -5.9915, -5.9915, -5.9915, -5.9915, -5.9915, -5.9915, -5.9915, -5.9915, -5.9915, -5.9915, -5.9915, -5.9915, -5.9915, -5.9915, -5.9915, -5.9915, -5.9915, -5.9915, -5.9915, -5.9915, -5.9915, -5.9915, -5.9915, -5.9915, -5.9915, -5.9915, -5.9915, -5.9915, -5.9915, -5.9915, -5.9915, -5.9915, -5.9915, -5.9915, -5.9915, -5.9915, -5.9915, -5.9915, -5.9915, -5.9915, -5.9915, -5.9915, -5.9915, -5.9915, -5.9915, -5.9915, -5.9915, -5.9915, -5.9915, -5.9915, -5.9915, -5.9915, -5.9915, -5.9915, -5.9915, -5.9915, -5.9915, -5.9915, -5.9915, -5.9915, -5.9915, -5.9915, -5.9915, -5.9915, -5.9915, -5.9915, -5.9915, -5.9915, -5.9915, -5.9915, -5.9915, -5.9915, -5.9915, -5.9915, -5.9915, -5.9915, -5.9915, -5.9915, -5.9915, -5.9915, -5.9915, -5.9915, -5.9915, -5.9915, -5.9915, -5.9915, -5.9915, -5.9915, -5.9915, -5.9915, -5.9915, -5.9915, -5.9915, -5.9915, -5.9915, -5.9915, -5.9915, -5.9915, -5.9915], \"loglift\": [30.0, 29.0, 28.0, 27.0, 26.0, 25.0, 24.0, 23.0, 22.0, 21.0, 20.0, 19.0, 18.0, 17.0, 16.0, 15.0, 14.0, 13.0, 12.0, 11.0, 10.0, 9.0, 8.0, 7.0, 6.0, 5.0, 4.0, 3.0, 2.0, 1.0, 1.039, 1.0254, 1.0253, 1.0206, 1.0143, 1.0143, 1.0143, 1.0143, 1.0056, 1.0056, 1.0055, 1.0054, 1.0053, 1.0052, 1.0052, 0.9908, 0.9908, 0.9907, 0.9906, 0.9905, 0.9905, 0.9899, 0.9626, 0.9624, 0.9624, 0.9624, 0.9623, 0.9623, 0.9622, 0.9622, 0.8757, 0.7301, 0.73, 0.5193, 0.5187, -0.3624, 0.2031, 1.0639, 1.0539, 1.0494, 1.0494, 1.034, 1.034, 1.0191, 1.019, 1.019, 1.019, 1.0189, 0.9904, 0.9904, 0.9904, 0.9904, 0.9904, 0.9904, 0.9904, 0.9904, 0.9904, 0.9904, 0.9904, 0.9904, 0.9904, 0.9904, 0.9904, 0.9904, 0.9903, 0.9269, 0.9141, 0.7575, 0.3471, 0.4843, 0.7571, 0.2936, 0.3807, 0.2335, -0.1627, 0.6336, 0.3711, 0.6277, 1.1142, 1.114, 1.0992, 1.0992, 1.0991, 1.099, 1.099, 1.0989, 1.0989, 1.0989, 1.0988, 1.0988, 1.0987, 1.0703, 1.0703, 1.0702, 1.0702, 1.07, 1.07, 1.07, 1.0699, 1.0699, 1.0698, 1.0698, 1.0698, 1.0698, 1.0697, 1.0696, 1.0696, 1.0694, 0.9478, 0.5411, 0.5805, -0.1161, 0.1709, 0.0568, -0.0909, 0.7056, 0.7053, 0.4397, 0.7065, 0.5193, 0.5137, 0.5135, 0.5132, 0.5131, 0.513, 0.5129, 0.5129, 0.5128, 0.5127, 0.5126, 0.5125, 0.5123, 0.5122, 0.5121, 0.5121, 0.5121, 0.5121, 0.512, 0.512, 0.5118, 0.5117, 0.5116, 0.5114, 0.5114, 0.5114, 0.5114, 0.5114, 0.5113, 0.5113, 0.5113, 0.5113, 0.5112, 0.5112, -1.2638, -1.5731, -1.1639, -1.0208, -2.3829, -0.6505, -0.0455, -0.3988, -0.0462, -1.6128, -1.0396, -0.3978, -0.664, -0.0469, -0.0472, -0.0481, -0.0486, -0.6651, -0.8791, -0.6663, -0.4075, -0.0499, -1.3171, -1.4295, -0.4077, -0.4081, -0.0499, -0.0497, -1.1981, -1.1932, -0.408, -1.8817, -0.4063, 0.5275, 0.5273, 0.5271, 0.5269, 0.5261, 0.5261, 0.5259, 0.5252, 0.5251, 0.5251, 0.525, 0.525, 0.5243, 0.5242, 0.5241, 0.5241, 0.5234, 0.5233, 0.5233, 0.5231, 0.5231, 0.523, 0.5218, 0.5217, 0.5215, 0.5215, 0.5215, 0.5215, 0.5213, 0.521, -1.3838, -0.8805, -1.0129, -1.1439, -0.3276, -1.2959, -0.9383, -0.3374, -2.2331, -0.0042, -0.597, -0.6035, -0.607, -0.0128, -0.0134, -0.0142, -0.0164, -0.0167, -1.5304, -0.6163, -0.3655, -0.0205, -0.3679, -0.0211, -1.2563, -0.3689, -0.0218, -0.3689, -0.023, -0.0228, -0.8469, -0.6345, -1.1619, 0.5194, 0.5192, 0.5185, 0.5161, 0.5159, 0.5158, 0.5156, 0.5148, 0.5144, 0.5138, 0.5136, 0.5134, 0.5132, 0.5129, 0.5128, 0.5126, 0.5125, 0.5124, 0.5124, 0.5123, 0.5123, 0.5122, 0.512, 0.5118, 0.5117, 0.5115, 0.5114, 0.5113, 0.5113, 0.5111, -1.6929, -1.1062, -0.8063, -0.8132, -0.6146, -1.1237, -0.8201, -0.6217, -1.127, -0.9883, -0.6263, -0.6273, -0.628, -0.6285, -0.3748, -0.6297, -0.3804, -0.8394, -0.3826, -0.8398, -0.0346, -0.0353, -0.0353, -0.6432, -0.3877, -0.0378, -2.3659, -0.3885, -0.3891, -0.0389, -0.8551, -0.3878, -1.1818, -0.6552, 0.5334, 0.5326, 0.5301, 0.5299, 0.5298, 0.5297, 0.5296, 0.5295, 0.5294, 0.5293, 0.5293, 0.5293, 0.529, 0.5288, 0.5282, 0.5282, 0.5281, 0.5275, 0.5274, 0.5273, 0.5272, 0.5271, 0.5268, 0.5265, 0.5261, 0.5258, 0.5257, 0.5255, 0.5254, 0.5253, -0.3559, -0.608, -0.3616, -0.0172, -0.6174, -0.0187, -0.9885, -0.3658, -0.3662, -0.3665, -1.5675, -0.373, -0.0241, -0.374, -1.1562, -0.3748, -0.376, -0.0241, -0.3779, -0.0253, -0.3816, -0.0282, -2.3883, -1.4078, -0.0286, -0.0289, -0.0311, -0.0316, -1.3099, -0.6583, -1.1936, 0.514, 0.5139, 0.5137, 0.5136, 0.5135, 0.5135, 0.5134, 0.5134, 0.5134, 0.5134, 0.5134, 0.5134, 0.5134, 0.5134, 0.5134, 0.5134, 0.5134, 0.5133, 0.5133, 0.5133, 0.5133, 0.5133, 0.5133, 0.5132, 0.5132, 0.5132, 0.5132, 0.5132, 0.5131, 0.5131, 0.513, 0.5129, 0.5127, 0.5127, 0.5127, 0.5126, 0.5126, 0.5126, 0.5125, 0.5125, 0.5125, 0.5124, 0.5124, 0.5123, 0.5122, 0.5123, 0.5121, 0.5121, 0.5121, 0.5121, 0.5119, 0.512, 0.512, 0.5119, 0.5118, 0.5117, 0.5117, 0.5116, 0.5116, -1.0245, -1.5986, -1.1753, -1.3005, -2.4008, -0.6628, -0.6626, -1.0408, -0.4049, -0.6649, -1.4292, -0.0498, -0.4074, -0.0515, -0.0513, -0.0513, -0.0517, -0.0522, -1.6271, -1.3222, -1.1967, -0.41, -0.4063, -0.41, -0.6725, -0.6723, -0.4137, -0.0517, -0.0522, -0.8904, 0.5176, 0.5175, 0.5173, 0.5173, 0.5173, 0.5173, 0.5173, 0.5173, 0.5173, 0.5173, 0.5173, 0.5173, 0.5172, 0.5172, 0.5172, 0.5172, 0.5172, 0.5171, 0.5171, 0.5171, 0.5171, 0.5171, 0.5171, 0.5171, 0.517, 0.517, 0.517, 0.517, 0.517, 0.517, -2.4578, -1.6527, -0.6842, -1.2158, -0.6817, -0.6874, -0.6865, -0.8989, -0.687, -0.6838, -1.0685, -0.683, -0.8994, -1.2152, -1.3421, -1.068, -1.2103, -0.4211, -1.6472, -1.4548, -1.3414, -0.6927, -0.9019, -1.0612, -0.6926, -1.8948, -1.075, -0.6928, -0.6928, -0.9016, 0.5176, 0.5175, 0.5173, 0.5173, 0.5173, 0.5173, 0.5173, 0.5173, 0.5173, 0.5173, 0.5173, 0.5173, 0.5172, 0.5172, 0.5172, 0.5172, 0.5172, 0.5171, 0.5171, 0.5171, 0.5171, 0.5171, 0.5171, 0.5171, 0.517, 0.517, 0.517, 0.517, 0.517, 0.517, -2.4578, -1.6527, -0.6842, -1.2158, -0.6817, -0.6874, -0.8989, -0.687, -0.6838, -1.0685, -0.8994, -1.2152, -1.3421, -1.068, -1.2103, -0.4211, -1.6472, -1.4548, -1.3414, -0.9019, -1.0612, -0.6926, -0.4283, -1.8948, -1.075, -0.6928, -0.6891, -0.6927, -0.6928, -0.9016]}, \"token.table\": {\"Topic\": [2, 2, 2, 3, 2, 3, 2, 1, 2, 1, 3, 3, 2, 1, 1, 2, 3, 3, 3, 1, 1, 1, 2, 2, 3, 1, 2, 2, 1, 3, 1, 1, 1, 3, 2, 1, 3, 3, 3, 1, 1, 3, 3, 2, 1, 1, 1, 2, 1, 3, 1, 2, 3, 1, 3, 2, 1, 3, 2, 1, 3, 2, 1, 2, 3, 1, 3, 3, 1, 3, 3, 1, 2, 2, 1, 2, 3, 2, 1, 1, 3, 2, 2, 1, 1, 2, 2, 3, 3, 2, 2, 3, 2, 1, 3, 1, 3, 2, 1, 1, 2, 1, 1, 2, 2, 1, 1, 2, 1, 3, 2, 3, 2, 2, 2, 2, 3, 2, 1, 3, 3, 2, 3, 2, 1, 1, 1, 2, 2, 2, 3, 2, 1, 3, 3, 2, 3, 2, 3, 3, 3, 2, 3, 2, 1, 2, 1, 3, 2, 2, 2, 1, 2, 3, 3, 1, 2, 3, 2, 2, 2, 1, 2, 2, 1, 2, 2, 2, 3, 2, 1, 2, 1, 2, 3, 3, 2, 2, 2, 2, 1, 2, 3, 3, 3, 3, 3, 3, 2, 2, 1, 1, 1, 3, 2, 1, 2, 1, 2, 1, 2, 3, 2, 3, 2, 3, 3, 2, 1, 2, 2, 3, 3, 3, 1, 2, 2, 2, 1, 2, 3, 2, 1, 1, 3, 1, 3, 2, 1, 2, 2, 2, 1, 3, 1, 1, 3, 2, 2, 3, 2, 3, 2, 2, 3, 2, 2, 2, 1, 3, 3, 1, 1, 1, 3, 1, 1, 2, 3, 3, 1, 2, 3, 1, 2, 2, 3, 2, 3, 2, 2], \"Freq\": [0.891105217266011, 1.008501033892881, 0.8920281825877177, 1.0175132432132672, 0.8114870644519239, 0.2704956881506413, 0.8920990268312271, 1.0728226958667144, 1.0088346986786525, 0.8703589611043044, 0.899363547792023, 1.0178462988430212, 0.8918306705270859, 1.003115918610041, 0.4769217294052936, 0.3179478196035291, 0.3179478196035291, 0.8994632008453617, 0.8994607964128659, 0.8876257916749473, 1.0486967464715928, 0.8874203682477685, 1.055059098136006, 0.5423601404061344, 0.5423601404061344, 0.8873239307054634, 0.8917605678354319, 1.009191197858123, 1.0025649139937454, 1.0651530304817276, 0.8873066742543283, 0.887326754126558, 1.0024359623373114, 1.0649407006263, 0.8919313078499544, 0.8873693379909785, 1.065176280965012, 1.0179960712023775, 0.8991699737630051, 0.8876103809314074, 0.8873986876082821, 0.8178240763658693, 1.0175583112557458, 0.8918875941872891, 1.00311888437364, 0.8874573102386974, 1.0027488381751022, 0.8916249151624553, 1.0029789142741545, 0.899202601880988, 0.539292612415838, 0.269646306207919, 0.269646306207919, 0.1855494666005802, 0.7421978664023208, 1.0093334322676928, 0.8874268591430523, 0.8996982971099915, 0.8919150205304893, 0.8873839180342394, 0.8992527699164442, 1.0795500077542988, 0.6546940062618647, 0.4364626708412431, 1.017576000832485, 1.0028954176348657, 1.0175726926168607, 1.0649070444615656, 0.7028237185170488, 0.3514118592585244, 1.0177634698502345, 1.0729691541608868, 0.8918572543672989, 0.8921390179090866, 0.8873598918459679, 0.8916329055860615, 0.8994563025353565, 0.8920296431732139, 1.0027540943346822, 1.0481988875007475, 0.8992872534535745, 0.8923070482274522, 0.8917455376706499, 1.0031188680216867, 0.8878426930797497, 1.0088758235203772, 0.35381320667778116, 0.7076264133555623, 0.8994019366457398, 0.891717332421283, 1.0543203529805012, 1.0648759709130864, 1.0085219459398245, 1.0482226478844383, 1.0179805659368086, 0.3531176596858281, 0.7062353193716562, 0.8918870715521247, 0.9673950375231521, 0.9150399458182044, 0.8921979549554597, 1.0727590919575773, 0.8873885330974107, 0.8922278779097252, 1.0083740856141579, 1.0730951715690475, 0.887303224718009, 1.0085051966150311, 0.8875338141155026, 0.8994466123368401, 0.8915304059307857, 0.8994381300735756, 0.8916110363108902, 1.0789556355401348, 0.8918011693426137, 0.8118644203109776, 0.27062147343699255, 0.8918055254485446, 0.8075831036593236, 0.2691943678864412, 0.8994299478450645, 0.7056603439071398, 0.3528301719535699, 0.891889875111557, 1.048398138698349, 1.0484818971509633, 0.8873549706849616, 0.8921897606801913, 0.8919331467407638, 1.008672990951035, 0.8993012154568435, 0.8915152317877634, 1.0728895855113398, 0.8994323411300631, 0.8993045701323734, 0.8920750453564646, 0.8994130209292891, 0.8922129575269792, 0.8992953597839879, 1.0648421666953938, 0.8176385653822716, 0.8916945734948755, 0.8994841903310052, 0.8917795822883706, 1.0029716179852932, 0.8918731088954208, 0.3530741959462805, 0.706148391892561, 0.8920508687767897, 0.8921211383828442, 0.9209602212202275, 0.8876368699049964, 0.7056458209766397, 0.3528229104883199, 0.8991939205180197, 0.27082975522143793, 0.27082975522143793, 0.5416595104428759, 1.0090638053275451, 0.8919161640603366, 0.8920368307943541, 0.6544061788049386, 0.4362707858699591, 0.8919881107369254, 1.048219848136962, 0.8922699955602643, 0.8919204014426019, 0.7050279753024217, 0.35251398765121084, 0.8917866788027001, 1.0727695440746883, 0.9543481903603654, 0.3507202553073412, 0.7014405106146824, 1.0180146796478575, 1.0184934450742518, 1.008228619889801, 0.8919509884287454, 1.0085382061011243, 0.8919112404618371, 0.22954472424505815, 0.4590894484901163, 0.27545366909406976, 1.0655052539695051, 1.0181866156944908, 0.8992223994334675, 0.899647536676788, 1.0181888829591224, 0.8921531912207651, 0.8919150810055473, 0.8873683411930978, 0.87060040864436, 1.0479191160616896, 0.8992674584667677, 0.8920280899117868, 1.072393592035502, 0.8915594348178131, 0.8873384569721482, 0.8921082963692789, 0.8873449591429797, 0.8406486387594435, 0.14010810645990726, 1.0540801101710173, 1.0178552787510624, 0.892011450501357, 1.0651612569319295, 1.0178797169364164, 0.8924057382863411, 0.8878295033875281, 1.0269957678754762, 0.8919464201148689, 1.0653119677020384, 0.8991735194123456, 1.0646620562902578, 0.8873824827067607, 0.891800745771636, 1.0539577223173935, 0.9214126358787533, 0.8704489933933642, 0.4795347049834583, 0.4795347049834583, 1.0557320397961512, 0.8699719123632267, 0.9475107595646091, 1.0177364956071755, 0.7916081156263333, 0.15832162312526665, 0.8918432802045004, 0.8873038750005096, 0.8917038178691252, 1.0084428699312258, 0.892066237240853, 0.8081528156936021, 0.26938427189786734, 1.0029668111028274, 0.8874833851175411, 1.0181360660501986, 0.8918509541187253, 0.8914092225063988, 1.0184267292792675, 0.41307629011982266, 0.5163453626497784, 0.8917811133967212, 0.8917691661120368, 0.8991835758434672, 0.8920150400487997, 1.0083284687815344, 0.8921456045128068, 0.9478094232784801, 0.8994285120981796, 1.064776654730526, 0.887305610645079, 0.887474173341564, 0.8877851504751443, 0.8993592734969924, 0.8876035236658562, 0.12517880114391433, 0.5007152045756573, 0.37553640343174294, 0.8993535629393329, 0.1402063044238239, 0.5608252176952956, 0.4206189132714717, 0.887364144351251, 0.8917662130939524, 1.008899241275053, 0.8994745467215414, 1.0087948483241242, 0.8993184696307877, 1.0089583191240519, 0.8916387935858999], \"Term\": [\"aalto\", \"accurate\", \"action\", \"aftertreatment\", \"also\", \"also\", \"amount\", \"analysis\", \"application\", \"area\", \"arena\", \"art\", \"arto\", \"baltic\", \"based\", \"based\", \"based\", \"biogas\", \"bore\", \"bottom\", \"brief\", \"build\", \"building\", \"business\", \"business\", \"capacity\", \"carried\", \"centennial\", \"challenge\", \"clean\", \"climate\", \"closer\", \"co\", \"combustion\", \"commercial\", \"commission\", \"common\", \"compliance\", \"compression\", \"concluding\", \"consequence\", \"consortium\", \"context\", \"coordinating\", \"coordination\", \"council\", \"creation\", \"defined\", \"defining\", \"demonstrate\", \"develop\", \"develop\", \"develop\", \"development\", \"development\", \"digital\", \"discussion\", \"dissemination\", \"doctoral\", \"driven\", \"earlier\", \"earth\", \"economy\", \"economy\", \"efficient\", \"egd\", \"electric\", \"emission\", \"energy\", \"energy\", \"engine\", \"environmental\", \"equipment\", \"erkko\", \"eu\", \"eur\", \"evolving\", \"exist\", \"experience\", \"expert\", \"facility\", \"faster\", \"federation\", \"fi\", \"finding\", \"finland\", \"finnish\", \"finnish\", \"first\", \"floor\", \"foundation\", \"framework\", \"funding\", \"gap\", \"global\", \"goal\", \"goal\", \"gps\", \"green\", \"greta\", \"group\", \"growth\", \"guidance\", \"headed\", \"heidi\", \"helix\", \"helping\", \"high\", \"http\", \"ignition\", \"improve\", \"improvement\", \"incubate\", \"indoor\", \"indoors\", \"industry\", \"industry\", \"information\", \"innovation\", \"innovation\", \"innovative\", \"international\", \"international\", \"internet\", \"intervention\", \"interview\", \"involvement\", \"jani\", \"kendall\", \"kuusniemi\", \"laboratory\", \"land\", \"lars\", \"lead\", \"legislation\", \"leo\", \"limit\", \"location\", \"major\", \"management\", \"marine\", \"marketing\", \"meeting\", \"mention\", \"method\", \"minute\", \"model\", \"model\", \"mohammed\", \"must\", \"navigation\", \"neutrality\", \"new\", \"new\", \"novel\", \"objective\", \"objective\", \"objective\", \"orbit\", \"organisation\", \"partly\", \"partner\", \"partner\", \"payload\", \"penta\", \"performing\", \"petri\", \"platform\", \"platform\", \"pnt\", \"policy\", \"positioning\", \"potential\", \"potential\", \"power\", \"powertrain\", \"precise\", \"press\", \"professor\", \"programme\", \"project\", \"project\", \"project\", \"propulsion\", \"providing\", \"putting\", \"range\", \"rcci\", \"realised\", \"reception\", \"regarding\", \"region\", \"regional\", \"regulation\", \"release\", \"relevant\", \"reliably\", \"report\", \"represented\", \"requires\", \"research\", \"research\", \"researcher\", \"responsible\", \"revenue\", \"road\", \"roadmap\", \"room\", \"round\", \"satellite\", \"seamlessly\", \"secure\", \"secures\", \"segment\", \"selecting\", \"service\", \"signal\", \"small\", \"smart\", \"solution\", \"solution\", \"space\", \"specialisation\", \"stakeholder\", \"state\", \"strategy\", \"strategy\", \"stronger\", \"studied\", \"study\", \"sufficiently\", \"survey\", \"sustainable\", \"sustainable\", \"system\", \"table\", \"take\", \"taking\", \"tampereen\", \"technological\", \"technology\", \"technology\", \"telling\", \"ten\", \"thermal\", \"three\", \"timing\", \"together\", \"transformation\", \"transition\", \"trl\", \"tutkimus\", \"two\", \"un\", \"underlining\", \"univaasa\", \"university\", \"university\", \"university\", \"upgrade\", \"vaasa\", \"vaasa\", \"vaasa\", \"value\", \"v\\u00e4lisuo\", \"well\", \"wide\", \"work\", \"world\", \"year\", \"yliopisto\"]}, \"R\": 30, \"lambda.step\": 0.01, \"plot.opts\": {\"xlab\": \"PC1\", \"ylab\": \"PC2\"}, \"topic.order\": [4, 5, 2, 6, 1, 9, 7, 10, 3, 8]};\n",
       "\n",
       "function LDAvis_load_lib(url, callback){\n",
       "  var s = document.createElement('script');\n",
       "  s.src = url;\n",
       "  s.async = true;\n",
       "  s.onreadystatechange = s.onload = callback;\n",
       "  s.onerror = function(){console.warn(\"failed to load library \" + url);};\n",
       "  document.getElementsByTagName(\"head\")[0].appendChild(s);\n",
       "}\n",
       "\n",
       "if(typeof(LDAvis) !== \"undefined\"){\n",
       "   // already loaded: just create the visualization\n",
       "   !function(LDAvis){\n",
       "       new LDAvis(\"#\" + \"ldavis_el6138681399683151796328092201622\", ldavis_el6138681399683151796328092201622_data);\n",
       "   }(LDAvis);\n",
       "}else if(typeof define === \"function\" && define.amd){\n",
       "   // require.js is available: use it to load d3/LDAvis\n",
       "   require.config({paths: {d3: \"https://d3js.org/d3.v5\"}});\n",
       "   require([\"d3\"], function(d3){\n",
       "      window.d3 = d3;\n",
       "      LDAvis_load_lib(\"https://cdn.jsdelivr.net/gh/bmabey/pyLDAvis@3.3.1/pyLDAvis/js/ldavis.v3.0.0.js\", function(){\n",
       "        new LDAvis(\"#\" + \"ldavis_el6138681399683151796328092201622\", ldavis_el6138681399683151796328092201622_data);\n",
       "      });\n",
       "    });\n",
       "}else{\n",
       "    // require.js not available: dynamically load d3 & LDAvis\n",
       "    LDAvis_load_lib(\"https://d3js.org/d3.v5.js\", function(){\n",
       "         LDAvis_load_lib(\"https://cdn.jsdelivr.net/gh/bmabey/pyLDAvis@3.3.1/pyLDAvis/js/ldavis.v3.0.0.js\", function(){\n",
       "                 new LDAvis(\"#\" + \"ldavis_el6138681399683151796328092201622\", ldavis_el6138681399683151796328092201622_data);\n",
       "            })\n",
       "         });\n",
       "}\n",
       "</script>"
      ],
      "text/plain": [
       "PreparedData(topic_coordinates=              x         y  topics  cluster       Freq\n",
       "topic                                                \n",
       "3     -0.250525  0.031873       1        1  34.833248\n",
       "4      0.158246  0.166745       2        1  33.895040\n",
       "1      0.095539 -0.192762       3        1  31.214005\n",
       "5     -0.000056 -0.000263       4        1   0.009004\n",
       "0      0.002989  0.002939       5        1   0.008730\n",
       "8     -0.005045 -0.000914       6        1   0.008708\n",
       "6      0.000276 -0.003818       7        1   0.008695\n",
       "9      0.000036 -0.000634       8        1   0.008643\n",
       "2     -0.000730 -0.001584       9        1   0.006964\n",
       "7     -0.000730 -0.001584      10        1   0.006964, topic_info=            Term      Freq      Total Category  logprob  loglift\n",
       "205        green  12.00000  12.000000  Default  30.0000  30.0000\n",
       "119    satellite   9.00000   9.000000  Default  29.0000  29.0000\n",
       "106      project  21.00000  21.000000  Default  28.0000  28.0000\n",
       "135   technology   9.00000   9.000000  Default  27.0000  27.0000\n",
       "99   positioning   6.00000   6.000000  Default  26.0000  26.0000\n",
       "..           ...       ...        ...      ...      ...      ...\n",
       "207       growth   0.00013   3.728703  Topic10  -5.9915  -0.6928\n",
       "215   innovation   0.00013   3.714788  Topic10  -5.9915  -0.6891\n",
       "223         lars   0.00013   3.728249  Topic10  -5.9915  -0.6927\n",
       "235       policy   0.00013   3.728667  Topic10  -5.9915  -0.6928\n",
       "239       region   0.00013   4.594530  Topic10  -5.9915  -0.9016\n",
       "\n",
       "[613 rows x 6 columns], token_table=      Topic      Freq            Term\n",
       "term                                 \n",
       "0         2  0.891105           aalto\n",
       "2         2  1.008501        accurate\n",
       "3         2  0.892028          action\n",
       "277       3  1.017513  aftertreatment\n",
       "5         2  0.811487            also\n",
       "...     ...       ...             ...\n",
       "397       3  0.899475            wide\n",
       "149       2  1.008795            work\n",
       "398       3  0.899318           world\n",
       "150       2  1.008958            year\n",
       "151       2  0.891639       yliopisto\n",
       "\n",
       "[271 rows x 3 columns], R=30, lambda_step=0.01, plot_opts={'xlab': 'PC1', 'ylab': 'PC2'}, topic_order=[4, 5, 2, 6, 1, 9, 7, 10, 3, 8])"
      ]
     },
     "execution_count": 34,
     "metadata": {},
     "output_type": "execute_result"
    }
   ],
   "source": [
    "vis"
   ]
  },
  {
   "cell_type": "markdown",
   "id": "88d4b355",
   "metadata": {},
   "source": [
    "# Real case"
   ]
  },
  {
   "cell_type": "code",
   "execution_count": 35,
   "id": "f50900fa",
   "metadata": {
    "ExecuteTime": {
     "end_time": "2021-11-25T08:10:58.077306Z",
     "start_time": "2021-11-25T08:10:55.799132Z"
    },
    "scrolled": true
   },
   "outputs": [
    {
     "name": "stdout",
     "output_type": "stream",
     "text": [
      "115\n",
      "0 ['transaction', 'geoscience', 'remote', 'sensing', 'february', 'sar', 'processing', 'without', 'motion', 'measurement']\n",
      "1 ['sensor', 'august', 'high', 'accuracy', 'indoor', 'localization', 'system', 'application', 'based', 'tightly']\n",
      "2 ['transaction', 'cybernetics', 'june', 'ultra', 'wideband', 'odometry', 'based', 'cooperative', 'relative', 'localization']\n",
      "3 ['microwave', 'wireless', 'component', 'letter', 'november', 'ir', 'uwb', 'angle', 'arrival', 'sensor']\n",
      "4 ['antenna', 'wireless', 'propagation', 'letter', 'march', 'position', 'information', 'indexed', 'classifier', 'improved']\n",
      "5 ['special', 'section', 'gnss', 'localization', 'navigation', 'technology', 'date', 'current', 'version', 'september']\n",
      "6 ['transaction', 'instrumentation', 'measurement', 'august', 'resetting', 'approach', 'in', 'uwb', 'sensor', 'fusion']\n",
      "7 ['transaction', 'mobile', 'computing', 'august', 'algorithm', 'position', 'optimization', 'decentralized', 'localization', 'platform']\n",
      "8 ['sensor', 'april', 'detection', 'localization', 'people', 'inside', 'vehicle', 'using', 'impulse', 'radio']\n",
      "9 ['solid', 'state', 'circuit', 'august', 'ir', 'uwb', 'cmos', 'transceiver', 'high', 'data']\n",
      "10 ['sensor', 'may', 'pdr', 'uwb', 'based', 'positioning', 'shopping', 'cart', 'stef', 'vandermeeren']\n",
      "11 ['sensor', 'june', 'high', 'precision', 'low', 'cost', 'imu', 'based', 'indoor', 'pedestrian']\n",
      "12 ['received', 'march', 'accepted', 'april', 'date', 'current', 'version', 'may', 'digital', 'object']\n",
      "13 ['september', 'sensor', 'signal', 'processing', 'bias', 'compensation', 'uwb', 'ranging', 'pedestrian', 'geolocation']\n",
      "14 ['transaction', 'instrumentation', 'measurement', 'integrated', 'positioning', 'system', 'unmanned', 'automatic', 'vehicle', 'coal']\n",
      "15 ['transaction', 'instrumentation', 'measurement', 'feature', 'selection', 'real', 'time', 'nlos', 'identification', 'mitigation']\n",
      "16 ['received', 'may', 'accepted', 'may', 'date', 'publication', 'may', 'date', 'current', 'version']\n",
      "17 ['transaction', 'instrumentation', 'measurement', 'december', 'anchor', 'calibration', 'real', 'time', 'measurement', 'localization']\n",
      "18 ['sensor', 'may', 'low', 'cost', 'in', 'uwb', 'fusion', 'pedestrian', 'tracking', 'system']\n",
      "19 ['radio', 'frequency', 'identification', 'december', 'ultra', 'low', 'power', 'ultra', 'wide', 'bandwidth']\n",
      "20 ['caa', 'automatica', 'sinica', 'july', 'indoor', 'in', 'uwb', 'based', 'human', 'localization']\n",
      "21 ['received', 'november', 'accepted', 'december', 'date', 'publication', 'december', 'date', 'current', 'version']\n",
      "22 ['received', 'september', 'accepted', 'october', 'date', 'publication', 'october', 'date', 'current', 'version']\n",
      "23 ['received', 'january', 'accepted', 'january', 'date', 'publication', 'february', 'date', 'current', 'version']\n",
      "24 ['sensor', 'february', 'multiple', 'vehicle', 'localization', 'using', 'maximum', 'likelihood', 'kalman', 'filtering']\n",
      "25 ['sensor', 'november', 'motion', 'based', 'separation', 'imaging', 'closely', 'spaced', 'extended', 'target']\n",
      "26 ['transaction', 'geoscience', 'remote', 'sensing', 'february', 'measurement', 'coordinate', 'cylindrical', 'target', 'using']\n",
      "27 ['communication', 'letter', 'november', 'uwb', 'channel', 'impulse', 'response', 'de', 'noising', 'method']\n",
      "28 ['received', 'april', 'accepted', 'may', 'date', 'publication', 'may', 'date', 'current', 'version']\n",
      "29 ['communication', 'letter', 'october', 'non', 'line', 'sight', 'identification', 'uwb', 'positioning', 'using']\n",
      "30 ['robotics', 'automation', 'letter', 'april', 'range', 'focused', 'fusion', 'camera', 'imu', 'uwb']\n",
      "31 ['transaction', 'microwave', 'theory', 'technique', 'august', 'compact', 'high', 'gain', 'high', 'power']\n",
      "32 ['june', 'sensor', 'signal', 'processing', 'deep', 'learning', 'noncoherent', 'uwb', 'receiver', 'design']\n",
      "33 ['special', 'section', 'reliability', 'sensor', 'cloud', 'system', 'application', 'scsa', 'received', 'february']\n",
      "34 ['sensor', 'june', 'uwb', 'based', 'localization', 'system', 'aided', 'inertial', 'sensor', 'underground']\n",
      "35 ['sensor', 'july', 'improved', 'pdr', 'uwb', 'integrated', 'system', 'indoor', 'navigation', 'application']\n",
      "36 ['antenna', 'wireless', 'propagation', 'letter', 'january', 'uwb', 'channel', 'compact', 'shape', 'configuration']\n",
      "37 ['communication', 'letter', 'march', 'los', 'nlos', 'identification', 'indoor', 'uwb', 'positioning', 'based']\n",
      "38 ['antenna', 'wireless', 'propagation', 'letter', 'april', 'miniaturized', 'ultrawideband', 'half', 'mode', 'vivaldi']\n",
      "39 ['transaction', 'instrumentation', 'measurement', 'cramer', 'rao', 'lower', 'bound', 'attainment', 'range', 'positioning']\n",
      "40 ['transaction', 'instrumentation', 'measurement', 'precise', 'indoor', 'positioning', 'based', 'acoustic', 'ranging', 'smartphone']\n",
      "41 ['transaction', 'control', 'system', 'technology', 'september', 'peer', 'peer', 'relative', 'localization', 'aerial']\n",
      "42 ['open', 'access', 'ultra', 'wideband', 'signal', 'generation', 'based', 'silicon', 'segmented', 'mach']\n",
      "43 ['received', 'june', 'accepted', 'june', 'date', 'publication', 'july', 'date', 'current', 'version']\n",
      "44 ['communication', 'letter', 'january', 'indoor', 'localization', 'reconfigurable', 'intelligent', 'surface', 'teng', 'yue']\n",
      "45 ['received', 'april', 'accepted', 'april', 'date', 'publication', 'april', 'date', 'current', 'version']\n",
      "46 ['biomedical', 'health', 'informatics', 'april', 'sleepposenet', 'multi', 'view', 'learning', 'sleep', 'postural']\n",
      "47 ['special', 'section', 'human', 'driven', 'edge', 'computing', 'hec', 'received', 'march', 'accepted']\n",
      "48 ['sensor', 'september', 'comparison', 'pedestrian', 'tracking', 'method', 'based', 'foot', 'waist', 'mounted']\n",
      "49 ['robotics', 'automation', 'letter', 'october', 'heading', 'estimation', 'using', 'ultra', 'wideband', 'received']\n",
      "50 ['transaction', 'antenna', 'propagation', 'november', 'planar', 'ultra', 'wideband', 'wide', 'scanning', 'dual']\n",
      "51 ['sensor', 'september', 'emergency', 'positioning', 'method', 'indoor', 'pedestrian', 'non', 'cooperative', 'navigation']\n",
      "52 ['transaction', 'vehicular', 'technology', 'october', 'indoor', 'outdoor', 'seamless', 'positioning', 'method', 'using']\n",
      "53 ['transaction', 'instrumentation', 'measurement', 'november', 'error', 'correction', 'ultrawideband', 'ranging', 'juri', 'sidorenko']\n",
      "54 ['received', 'april', 'accepted', 'may', 'date', 'publication', 'may', 'date', 'current', 'version']\n",
      "55 ['received', 'december', 'accepted', 'january', 'date', 'publication', 'january', 'date', 'current', 'version']\n",
      "56 ['transaction', 'instrumentation', 'measurement', 'uwb', 'localization', 'smart', 'factory', 'augmentation', 'method', 'experimental']\n",
      "57 ['transaction', 'microwave', 'theory', 'technique', 'november', 'adaptive', 'vector', 'method', 'motion', 'compensation']\n",
      "58 ['radio', 'frequency', 'identification', 'december', 'practical', 'performance', 'comparison', 'decoding', 'method', 'chipless']\n",
      "59 ['received', 'october', 'accepted', 'october', 'date', 'publication', 'october', 'date', 'current', 'version']\n",
      "60 ['transaction', 'microwave', 'theory', 'technique', 'november', 'generalization', 'channel', 'micro', 'doppler', 'capacity']\n",
      "61 ['sensor', 'september', 'uwb', 'simultaneous', 'breathing', 'heart', 'rate', 'detection', 'driving', 'scenario']\n",
      "62 ['transaction', 'instrumentation', 'measurement', 'low', 'cost', 'indoor', 'real', 'time', 'locating', 'system']\n",
      "63 ['received', 'july', 'accepted', 'july', 'date', 'publication', 'july', 'date', 'current', 'version']\n",
      "64 ['special', 'section', 'artificial', 'intelligence', 'cybersecurity', 'received', 'july', 'accepted', 'august', 'date']\n",
      "65 ['sensor', 'december', 'impact', 'body', 'wearable', 'sensor', 'position', 'uwb', 'ranging', 'timothy']\n",
      "66 ['transaction', 'industrial', 'informatics', 'december', 'scalability', 'real', 'time', 'capability', 'energy', 'efficiency']\n",
      "67 ['robotics', 'automation', 'letter', 'july', 'relative', 'position', 'estimation', 'two', 'uwb', 'device']\n",
      "68 ['antenna', 'wireless', 'propagation', 'letter', 'december', 'miniaturized', 'uhf', 'uwb', 'tag', 'antenna']\n",
      "69 ['transaction', 'microwave', 'theory', 'technique', 'august', 'synthesis', 'theory', 'ultra', 'wideband', 'bandpass']\n",
      "70 ['transaction', 'vehicular', 'technology', 'april', 'new', 'quaternion', 'kalman', 'filter', 'based', 'foot']\n",
      "71 ['received', 'december', 'accepted', 'december', 'date', 'publication', 'december', 'date', 'current', 'version']\n",
      "72 ['received', 'april', 'accepted', 'may', 'date', 'publication', 'may', 'date', 'current', 'version']\n",
      "73 ['received', 'september', 'accepted', 'september', 'date', 'publication', 'september', 'date', 'current', 'version']\n",
      "74 ['transaction', 'vehicular', 'technology', 'october', 'integrated', 'gnss', 'uwb', 'dr', 'vmm', 'positioning']\n",
      "75 ['special', 'section', 'intelligent', 'data', 'sensing', 'collection', 'dissemination', 'mobile', 'computing', 'received']\n",
      "76 ['received', 'april', 'accepted', 'april', 'date', 'publication', 'may', 'date', 'current', 'version']\n",
      "77 ['received', 'june', 'accepted', 'july', 'date', 'publication', 'july', 'date', 'current', 'version']\n",
      "78 ['communication', 'letter', 'july', 'opportunistic', 'fusion', 'range', 'different', 'source', 'indoor', 'positioning']\n",
      "79 ['communication', 'survey', 'tutorial', 'third', 'quarter', 'survey', 'indoor', 'localization', 'system', 'technology']\n",
      "80 ['sensor', 'may', 'novel', 'nlos', 'error', 'compensation', 'method', 'based', 'imu', 'uwb']\n",
      "81 ['transaction', 'instrumentation', 'measurement', 'september', 'adapted', 'error', 'map', 'based', 'mobile', 'robot']\n",
      "82 ['received', 'april', 'accepted', 'may', 'date', 'publication', 'may', 'date', 'current', 'version']\n",
      "83 ['received', 'september', 'accepted', 'october', 'date', 'publication', 'october', 'date', 'current', 'version']\n",
      "84 ['transaction', 'vehicular', 'technology', 'april', 'multiple', 'target', 'localization', 'behind', 'shaped', 'corner']\n",
      "85 ['internet', 'thing', 'september', 'distributed', 'tdma', 'mobile', 'uwb', 'network', 'localization', 'yanjun']\n",
      "86 ['antenna', 'wireless', 'propagation', 'letter', 'may', 'generic', 'spiral', 'mimo', 'array', 'design']\n",
      "87 ['transaction', 'instrumentation', 'measurement', 'improving', 'positioning', 'accuracy', 'uwb', 'complicated', 'underground', 'nlos']\n",
      "88 ['received', 'april', 'accepted', 'may', 'date', 'publication', 'may', 'date', 'current', 'version']\n",
      "89 ['solid', 'state', 'circuit', 'december', 'ir', 'uwb', 'compatible', 'coherent', 'asynchronous', 'polar']\n",
      "90 ['transaction', 'antenna', 'propagation', 'april', 'assessment', 'limb', 'movement', 'activity', 'using', 'wearable']\n",
      "91 ['received', 'march', 'accepted', 'march', 'date', 'publication', 'april', 'date', 'current', 'version']\n",
      "92 ['received', 'november', 'accepted', 'december', 'date', 'publication', 'december', 'date', 'current', 'version']\n",
      "93 ['transaction', 'instrumentation', 'measurement', 'denoising', 'outlier', 'dropout', 'correction', 'sensor', 'selection', 'range']\n",
      "94 ['transaction', 'instrumentation', 'measurement', 'october', 'human', 'body', 'shadowing', 'effect', 'uwb', 'based']\n",
      "95 ['transaction', 'antenna', 'propagation', 'march', 'experimental', 'analysis', 'ultra', 'wideband', 'body', 'body']\n",
      "96 ['received', 'january', 'accepted', 'february', 'date', 'publication', 'march', 'date', 'current', 'version']\n",
      "97 ['received', 'february', 'accepted', 'march', 'date', 'publication', 'march', 'date', 'current', 'version']\n",
      "98 ['transaction', 'antenna', 'propagation', 'july', 'communication', 'improved', 'beam', 'scannable', 'ultra', 'wideband']\n",
      "99 ['transaction', 'vehicular', 'technology', 'january', 'novel', 'nlos', 'mitigation', 'algorithm', 'uwb', 'localization']\n",
      "100 ['transaction', 'applied', 'november', 'application', 'improved', 'kalman', 'filter', 'ground', 'positioning', 'system']\n",
      "101 ['tsinghua', 'science', 'technology', 'issnll', 'pp', 'doi', 'volume', 'number', 'december', 'anchor']\n",
      "102 ['antenna', 'wireless', 'propagation', 'letter', 'june', 'fdtd', 'empirical', 'exploration', 'human', 'body']\n",
      "103 ['sensor', 'april', 'in', 'uwb', 'fusion', 'approach', 'adaptive', 'ranging', 'error', 'mitigation']\n",
      "104 ['sensor', 'december', 'uwb', 'in', 'integrated', 'pedestrian', 'positioning', 'robust', 'indoor', 'environment']\n",
      "105 ['communication', 'letter', 'october', 'uwb', 'nlos', 'los', 'classification', 'using', 'deep', 'learning']\n",
      "106 ['solid', 'state', 'circuit', 'february', 'ghz', 'communication', 'ranging', 'vwb', 'transceiver', 'secure']\n",
      "107 ['internet', 'thing', 'december', 'joint', 'rfid', 'uwb', 'technology', 'intelligent', 'warehousing', 'management']\n",
      "108 ['internet', 'thing', 'april', 'kalman', 'filter', 'based', 'integration', 'imu', 'uwb', 'high']\n",
      "109 ['system', 'march', 'wub', 'ip', 'high', 'precision', 'uwb', 'positioning', 'scheme', 'indoor']\n",
      "110 ['communication', 'letter', 'june', 'cooperative', 'positioning', 'application', 'using', 'gnss', 'carrier', 'phase']\n",
      "111 ['received', 'march', 'accepted', 'march', 'date', 'publication', 'march', 'date', 'current', 'version']\n",
      "112 ['transaction', 'vehicular', 'technology', 'september', 'uwb', 'system', 'indoor', 'positioning', 'tracking', 'arbitrary']\n",
      "113 ['transaction', 'microwave', 'theory', 'technique', 'june', 'mm', 'ghz', 'noise', 'canceling', 'low']\n",
      "114 ['introduction', 'blas', 'broadcast', 'relative', 'localization', 'clock', 'synchronization', 'dynamic', 'dense', 'multiagent']\n"
     ]
    }
   ],
   "source": [
    "import glob\n",
    "\n",
    "# A real case, 115 recent research journal articles about \"UWB positioning\" from IEEE Explorer\n",
    "# Bulk downloaded PDF's and converted to text with pdftotext\n",
    "filenames=[fn.split('/')[-1] for fn in glob.glob('corpus_txt/*.txt')]\n",
    "uwb=PlaintextCorpusReader('corpus_txt/', filenames)\n",
    "punctuations=set([',','.','!','?','@', '%', ':', ';'])\n",
    "morewords=set(['ieee', 'transaction', 'journal', 'vol'])\n",
    "unnecessary=stop_words.union(punctuations).union(morewords)\n",
    "\n",
    "docs=[]\n",
    "for document in uwb.fileids():\n",
    "    tokens = gensim.utils.simple_preprocess(uwb.raw(document))\n",
    "    meaningful_words = [word for word in tokens if word not in unnecessary]\n",
    "    lemmatized = [lemmatizer.lemmatize(word) for word in meaningful_words]\n",
    "    docs.append(lemmatized)\n",
    "print(len(docs))\n",
    "for i in range(len(docs)):\n",
    "    print(i, docs[i][:10])"
   ]
  },
  {
   "cell_type": "code",
   "execution_count": 36,
   "id": "659ef769",
   "metadata": {
    "ExecuteTime": {
     "end_time": "2021-11-25T08:11:04.706722Z",
     "start_time": "2021-11-25T08:10:58.080568Z"
    }
   },
   "outputs": [],
   "source": [
    "text = nltk.Text(word_tokenize(uwb.raw()))"
   ]
  },
  {
   "cell_type": "code",
   "execution_count": 37,
   "id": "3b6ac767",
   "metadata": {
    "ExecuteTime": {
     "end_time": "2021-11-25T08:11:04.953680Z",
     "start_time": "2021-11-25T08:11:04.708041Z"
    }
   },
   "outputs": [],
   "source": [
    "dictionary = corpora.Dictionary(docs)"
   ]
  },
  {
   "cell_type": "code",
   "execution_count": 38,
   "id": "540a8fd9",
   "metadata": {
    "ExecuteTime": {
     "end_time": "2021-11-25T08:11:05.520443Z",
     "start_time": "2021-11-25T08:11:04.955158Z"
    },
    "scrolled": true
   },
   "outputs": [
    {
     "name": "stdout",
     "output_type": "stream",
     "text": [
      "Displaying 25 of 51 matches:\n",
      "ultiscale local mapdrift-driven multilateration SAR autofocus using fast polar \n",
      "n can also be calculated by the multilateration method , if more than three ref\n",
      "asure of the solvability of the multilateration problem and provides a recursiv\n",
      "Þ , which is computed using the multilateration algorithm based on the SVD defi\n",
      "on ) is calculated by using the multilateration algorithm ( see Section 3 ) . T\n",
      "gorithm ( see Section 3 ) . The multilateration is based on the SVD method [ 23\n",
      "h true position by means of the multilateration algorithm as well as optimized \n",
      "y using the LVM algorithm . The multilateration algorithm uses the distances me\n",
      ". RS , Reference Station . ML , Multilateration . LVM , Levenberg–Marquardt . C\n",
      "of the points calculated by the multilateration and the DR-LVM algorithm are il\n",
      ". RS , Reference Station . ML , Multilateration . LVM , Levenberg–Marquardt . C\n",
      "he ML and LVM algorithms . ML , Multilateration . LVM , Levenberg–Marquardt . F\n",
      "mpute the position by using the multilateration method based on SVD , whereby t\n",
      "he estimated position using the multilateration algorithm for all k combination\n",
      "in a real-world scenario . ML , Multilateration , LVM , Levenberg–Marquardt . C\n",
      " “ An algebraic solution to the multilateration problem , ” in Proc . Int . Con\n",
      "sing the accuracy of hyperbolic multilateration systems , ’ ’ IEEE Trans . Aero\n",
      "ements of several receivers via multilateration , the beacon ’ s position can b\n",
      "he positioning is derived using multilateration techniques based on least squar\n",
      "to the explicit solution of the multilateration . This approach can be applied \n",
      "the ranging measurements ( said multilateration [ 22 ] ) : Ap = b + ε = b where\n",
      "+ 2ρm ηm − η12 + 2ρ1 η1 are the multilateration uncertainties , defined as a fu\n",
      "uced by the geometry on the WLS multilateration solution and on the GDoP , and \n",
      "rtainty of the WLS solution for multilateration in ( 11 ) is entirely described\n",
      "is in ( 6 ) . In practice , the multilateration is computed in the modified dis\n"
     ]
    }
   ],
   "source": [
    "text.concordance('multilateration')"
   ]
  },
  {
   "cell_type": "code",
   "execution_count": 39,
   "id": "d51de40e",
   "metadata": {
    "ExecuteTime": {
     "end_time": "2021-11-25T08:11:06.561564Z",
     "start_time": "2021-11-25T08:11:05.524585Z"
    }
   },
   "outputs": [
    {
     "data": {
      "image/png": "[encoded data removed]",
      "text/plain": [
       "<Figure size 432x288 with 1 Axes>"
      ]
     },
     "metadata": {},
     "output_type": "display_data"
    }
   ],
   "source": [
    "text.dispersion_plot(['UWB', 'multilateration', 'positioning', 'communication', 'coal', 'ToA', 'TOA', 'TDOA', 'TWR'])"
   ]
  },
  {
   "cell_type": "code",
   "execution_count": 40,
   "id": "d7332872",
   "metadata": {
    "ExecuteTime": {
     "end_time": "2021-11-25T08:11:06.716004Z",
     "start_time": "2021-11-25T08:11:06.562979Z"
    },
    "scrolled": true
   },
   "outputs": [
    {
     "name": "stdout",
     "output_type": "stream",
     "text": [
      "Number of unique tokens: 20396\n",
      "Number of documents: 115\n"
     ]
    }
   ],
   "source": [
    "corpus = [dictionary.doc2bow(doc) for doc in docs]\n",
    "print('Number of unique tokens: %d' % len(dictionary))\n",
    "print('Number of documents: %d' % len(corpus))"
   ]
  },
  {
   "cell_type": "code",
   "execution_count": 41,
   "id": "4f76c382",
   "metadata": {
    "ExecuteTime": {
     "end_time": "2021-11-25T08:11:06.724629Z",
     "start_time": "2021-11-25T08:11:06.717245Z"
    }
   },
   "outputs": [],
   "source": [
    "temp = dictionary[0] "
   ]
  },
  {
   "cell_type": "code",
   "execution_count": null,
   "id": "3f8e1971",
   "metadata": {
    "ExecuteTime": {
     "start_time": "2021-11-25T08:10:21.139Z"
    }
   },
   "outputs": [],
   "source": [
    "# Latent Dirichlet Allocation\n",
    "id2word = dictionary.id2token\n",
    "lda_model = gensim.models.ldamodel.LdaModel(corpus=corpus,\n",
    "                                           id2word=id2word,\n",
    "                                           num_topics=10, \n",
    "                                           random_state=100,\n",
    "                                           update_every=1,\n",
    "                                           chunksize=2000,\n",
    "                                           passes=10,\n",
    "                                           alpha='auto',\n",
    "                                           eta = 'auto',\n",
    "                                           iterations=100,\n",
    "                                           eval_every=1)"
   ]
  },
  {
   "cell_type": "code",
   "execution_count": null,
   "id": "4486f858",
   "metadata": {
    "ExecuteTime": {
     "start_time": "2021-11-25T08:10:21.142Z"
    }
   },
   "outputs": [],
   "source": [
    "pyLDAvis.enable_notebook()\n",
    "vis = pyLDAvis.gensim_models.prepare(lda_model, corpus, dictionary);"
   ]
  },
  {
   "cell_type": "code",
   "execution_count": null,
   "id": "1ca72057",
   "metadata": {
    "ExecuteTime": {
     "start_time": "2021-11-25T08:10:21.146Z"
    }
   },
   "outputs": [],
   "source": [
    "vis"
   ]
  },
  {
   "cell_type": "markdown",
   "id": "c1ea6aef",
   "metadata": {},
   "source": [
    "## TF IDF model\n",
    "\n",
    "Term Frequency Inverse Document Frequency"
   ]
  },
  {
   "cell_type": "code",
   "execution_count": null,
   "id": "f4b0c6a2",
   "metadata": {
    "ExecuteTime": {
     "start_time": "2021-11-25T08:10:21.150Z"
    }
   },
   "outputs": [],
   "source": [
    "from gensim.models import TfidfModel\n",
    "tf_idf_model = TfidfModel(corpus,id2word=id2word)\n"
   ]
  },
  {
   "cell_type": "code",
   "execution_count": null,
   "id": "12f6a74e",
   "metadata": {
    "ExecuteTime": {
     "start_time": "2021-11-25T08:10:21.153Z"
    }
   },
   "outputs": [],
   "source": [
    "# Transformed corpus\n",
    "tform_corpus = tf_idf_model[corpus]\n"
   ]
  },
  {
   "cell_type": "code",
   "execution_count": null,
   "id": "d338ab53",
   "metadata": {
    "ExecuteTime": {
     "start_time": "2021-11-25T08:10:21.157Z"
    }
   },
   "outputs": [],
   "source": [
    "# Create sparse matrix (design matrix)\n",
    "spar_matr = gensim.matutils.corpus2csc(tform_corpus)\n"
   ]
  },
  {
   "cell_type": "code",
   "execution_count": null,
   "id": "7889af36",
   "metadata": {
    "ExecuteTime": {
     "start_time": "2021-11-25T08:10:21.161Z"
    }
   },
   "outputs": [],
   "source": [
    "# Make it to normal matrix\n",
    "tfidf_matrix = spar_matr.toarray().transpose()\n"
   ]
  },
  {
   "cell_type": "code",
   "execution_count": null,
   "id": "74a9988b",
   "metadata": {
    "ExecuteTime": {
     "start_time": "2021-11-25T08:10:21.164Z"
    }
   },
   "outputs": [],
   "source": [
    "from sklearn.cluster import KMeans\n",
    "kmodel = KMeans(n_clusters=10)\n",
    "\n",
    "kmodel.fit(tfidf_matrix)\n",
    "\n",
    "clusters = kmodel.labels_.tolist()"
   ]
  },
  {
   "cell_type": "code",
   "execution_count": null,
   "id": "7d46e90f",
   "metadata": {
    "ExecuteTime": {
     "start_time": "2021-11-25T08:10:21.167Z"
    }
   },
   "outputs": [],
   "source": [
    "centroids = kmodel.cluster_centers_.argsort()[:, ::-1] # Sort the words according to their importance.\n",
    "\n",
    "for i in range(10):\n",
    "    j=i+1\n",
    "    print(\"Cluster %d words:\" % j, end='')\n",
    "    for ind in centroids[i, :10]:\n",
    "        print(' %s' % dictionary.id2token[ind],end=',')\n",
    "    print()\n",
    "    print()"
   ]
  },
  {
   "cell_type": "markdown",
   "id": "2a298a84",
   "metadata": {
    "slideshow": {
     "slide_type": "subslide"
    }
   },
   "source": [
    "## What next\n",
    "\n",
    "- Sentiment analysis \n",
    "\n",
    "\n",
    "## More information\n",
    " - [Introduction to NLP / Mikko Ranta](https://mranta-ai.github.io/Opportunities_of_AI/2_1_Introduction_to_NLP.html)\n",
    " - [Natural Language Processing with Python](https://realpython.com/nltk-nlp-python/)\n",
    " - [NLTK-Book: Extracting information from Text](https://www.nltk.org/book/ch07.html)\n",
    " - [Gensim TFIDF](https://radimrehurek.com/gensim/models/tfidfmodel.html)"
   ]
  }
 ],
 "metadata": {
  "celltoolbar": "Slideshow",
  "kernelspec": {
   "display_name": "Python 3 (ipykernel)",
   "language": "python",
   "name": "python3"
  },
  "language_info": {
   "codemirror_mode": {
    "name": "ipython",
    "version": 3
   },
   "file_extension": ".py",
   "mimetype": "text/x-python",
   "name": "python",
   "nbconvert_exporter": "python",
   "pygments_lexer": "ipython3",
   "version": "3.9.2"
  },
  "toc": {
   "base_numbering": 1,
   "nav_menu": {},
   "number_sections": true,
   "sideBar": true,
   "skip_h1_title": false,
   "title_cell": "Table of Contents",
   "title_sidebar": "Contents",
   "toc_cell": false,
   "toc_position": {},
   "toc_section_display": true,
   "toc_window_display": false
  }
 },
 "nbformat": 4,
 "nbformat_minor": 5
}
