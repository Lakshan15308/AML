{
 "cells": [
  {
   "cell_type": "markdown",
   "metadata": {
    "slideshow": {
     "slide_type": "slide"
    }
   },
   "source": [
    "# Unsupervised learning\n"
   ]
  },
  {
   "cell_type": "code",
   "execution_count": 5,
   "metadata": {},
   "outputs": [
    {
     "data": {
      "application/javascript": [
       "IPython.notebook.config.update({\n",
       "  \"load_extensions\": {\"calico-spell-check\":true,\n",
       "                      \"calico-document-tools\":true,\n",
       "                      \"calico-cell-tools\":true\n",
       "                     }\n",
       "})\n",
       "\n"
      ],
      "text/plain": [
       "<IPython.core.display.Javascript object>"
      ]
     },
     "metadata": {},
     "output_type": "display_data"
    }
   ],
   "source": [
    "%%javascript\n",
    "IPython.notebook.config.update({\n",
    "  \"load_extensions\": {\"calico-spell-check\":true,\n",
    "                      \"calico-document-tools\":true,\n",
    "                      \"calico-cell-tools\":true\n",
    "                     }\n",
    "})\n",
    "\n"
   ]
  },
  {
   "cell_type": "markdown",
   "metadata": {
    "slideshow": {
     "slide_type": "subslide"
    }
   },
   "source": [
    "In supervised machine learning, the task is to find a function $f$, which predicts variable $y_i$ based on $p$ features $x_{i,j}$, where $i \\in [0,N]$ and $j \\in [0,P]$.\n",
    "\n",
    "$$\n",
    "   \\begin{bmatrix}\n",
    "   y_1 \\\\\n",
    "   y_2 \\\\\n",
    "   \\vdots \\\\\n",
    "   y_n\n",
    "   \\end{bmatrix}\n",
    "   = f \n",
    "   \\left( \\begin{bmatrix}\n",
    "     x_{11} & x_{12} & x_{13} & \\dots  & x_{1p} \\\\\n",
    "     x_{21} & x_{22} & x_{23} & \\dots  & x_{2p} \\\\\n",
    "     \\vdots & \\vdots & \\vdots & \\ddots & \\vdots \\\\\n",
    "     x_{n1} & x_{n2} & x_{n3} & \\dots  & x_{np}\n",
    "   \\end{bmatrix} \\right)\n",
    "$$\n",
    "\n",
    "In contrast, in unsupervised learning, the true values, $y_i$, are not known. In this case we cannot traine a model to predict anything, but instead try to expolore the X-matrix data itself. Unsupervised methods do predict something, but we do not know what it is before the function is targeted to the data.\n",
    "\n",
    "$$\n",
    "   ? = f \n",
    "   \\left( \\begin{bmatrix}\n",
    "     x_{11} & x_{12} & x_{13} & \\dots  & x_{1p} \\\\\n",
    "     x_{21} & x_{22} & x_{23} & \\dots  & x_{2p} \\\\\n",
    "     \\vdots & \\vdots & \\vdots & \\ddots & \\vdots \\\\\n",
    "     x_{n1} & x_{n2} & x_{n3} & \\dots  & x_{np}\n",
    "   \\end{bmatrix} \\right)\n",
    "$$\n",
    "\n",
    "Unsupervised methods are also often used for reducing the dimensions of the data by removing redundancy, and they work also in feature selection."
   ]
  },
  {
   "cell_type": "markdown",
   "metadata": {
    "slideshow": {
     "slide_type": "subslide"
    }
   },
   "source": [
    "## Dimensionality reductions\n",
    "\n",
    "The dimensionality of the design matrix, $X$, shown above is the number of features, $p$.\n",
    "\n",
    "Dimensionality reductions means transforming data from a high dimensional representation to the lower dimensional representation, still retaining usefull properties of the original data. When dimensionality reduction is applied to matrix $X^{n\\times p}$ the resulting reduced matrix will have as many samples as the original matrix, but the number of features $p$ is reduced.\n",
    "\n",
    "### Principal Component Analysis (PCA)\n",
    "\n",
    "PCA is one of the most well known dimensionality reduction methods. It transforms the set of observations with possibly correlated variables (=features) into a set of values of linearly uncorrelated variables, called principal components.\n",
    "\n",
    "PCA transformation is defined in such a way that the first principal component has the largest possible variance and the rest of the components are ordered according to their variances in descending order.\n",
    "\n",
    "PCA can be used as a dimensionality reduction method by removing some of the least important variables, and keeping the first most important.\n",
    "\n",
    "This is very convenient, since the variables in high-dimensional problems are often correlated. The high dimensionality and co-variance between the features makes many statistical methods inapplicable. Eliminating the covariance and reducing the dimensionality makes many methods working better.\n",
    "\n",
    "PCA was invented in 1901 by Karl Pearson, as an analogue of\n",
    "the principal axis theorem in mechanics; it was later\n",
    "independently developed (and named) by Harold Hotelling in\n",
    "the 1930s.Depending on the field of application, it is also named thediscrete Karhunen Loeve transform (KLT) in signal processing,\n",
    "the Hotelling transform in multivariate quality control, singular\n",
    "value decomposition (SVD), and eigenvalue decomposition\n",
    "(EVD).\n",
    "\n",
    "[1] I. T. Jolliffe, “Discarding Variables in a Principal Component Analysis. Ii: Real Data,” Journal of the Royal Statistical Society: Series C (Applied Statistics), vol. 22, no. 1, pp. 21–31, 1973, doi: 10.2307/2346300.\n",
    "[2] Q. Guo, W. Wu, D. L. Massart, C. Boucon, and S. de Jong, “Feature selection in principal component analysis of analytical data,” Chemometrics and Intelligent Laboratory Systems, vol. 61, no. 1, pp. 123–132, Feb. 2002, doi: 10.1016/S0169-7439(01)00203-9.\n",
    "[3] I. T. Jolliffe, “Discarding Variables in a Principal Component Analysis. I: Artificial Data,” Journal of the Royal Statistical Society: Series C (Applied Statistics), vol. 21, no. 2, pp. 160–173, 1972, doi: 10.2307/2346488.\n",
    "[4] C. M. Bishop, “Pattern recognition and machine learning,” CERN Document Server, 2006. https://cds.cern.ch/record/998831 (accessed Oct. 02, 2020).\n"
   ]
  },
  {
   "cell_type": "code",
   "execution_count": null,
   "metadata": {},
   "outputs": [],
   "source": []
  },
  {
   "cell_type": "markdown",
   "metadata": {},
   "source": [
    "The mean values are different, but are the differences significant. Perhaps studying the overall variation or noise by means of standard deviation would help."
   ]
  },
  {
   "cell_type": "code",
   "execution_count": 6,
   "metadata": {
    "slideshow": {
     "slide_type": "fragment"
    }
   },
   "outputs": [
    {
     "data": {
      "text/html": [
       "<div>\n",
       "<style scoped>\n",
       "    .dataframe tbody tr th:only-of-type {\n",
       "        vertical-align: middle;\n",
       "    }\n",
       "\n",
       "    .dataframe tbody tr th {\n",
       "        vertical-align: top;\n",
       "    }\n",
       "\n",
       "    .dataframe thead th {\n",
       "        text-align: right;\n",
       "    }\n",
       "</style>\n",
       "<table border=\"1\" class=\"dataframe\">\n",
       "  <thead>\n",
       "    <tr style=\"text-align: right;\">\n",
       "      <th></th>\n",
       "      <th>sepal_length</th>\n",
       "      <th>sepal_width</th>\n",
       "      <th>petal_length</th>\n",
       "      <th>petal_width</th>\n",
       "    </tr>\n",
       "    <tr>\n",
       "      <th>species</th>\n",
       "      <th></th>\n",
       "      <th></th>\n",
       "      <th></th>\n",
       "      <th></th>\n",
       "    </tr>\n",
       "  </thead>\n",
       "  <tbody>\n",
       "    <tr>\n",
       "      <th>setosa</th>\n",
       "      <td>0.352490</td>\n",
       "      <td>0.379064</td>\n",
       "      <td>0.173664</td>\n",
       "      <td>0.105386</td>\n",
       "    </tr>\n",
       "    <tr>\n",
       "      <th>versicolor</th>\n",
       "      <td>0.516171</td>\n",
       "      <td>0.313798</td>\n",
       "      <td>0.469911</td>\n",
       "      <td>0.197753</td>\n",
       "    </tr>\n",
       "    <tr>\n",
       "      <th>virginica</th>\n",
       "      <td>0.635880</td>\n",
       "      <td>0.322497</td>\n",
       "      <td>0.551895</td>\n",
       "      <td>0.274650</td>\n",
       "    </tr>\n",
       "  </tbody>\n",
       "</table>\n",
       "</div>"
      ],
      "text/plain": [
       "            sepal_length  sepal_width  petal_length  petal_width\n",
       "species                                                         \n",
       "setosa          0.352490     0.379064      0.173664     0.105386\n",
       "versicolor      0.516171     0.313798      0.469911     0.197753\n",
       "virginica       0.635880     0.322497      0.551895     0.274650"
      ]
     },
     "execution_count": 6,
     "metadata": {},
     "output_type": "execute_result"
    }
   ],
   "source": [
    "iris.groupby('species').std()"
   ]
  },
  {
   "cell_type": "markdown",
   "metadata": {},
   "source": [
    "It looks like the differences of for example petal_lengths seem to be bigger than the standard deviation. It could be feasible to use it for species recognition."
   ]
  },
  {
   "cell_type": "markdown",
   "metadata": {},
   "source": [
    "### Visual analysis of mean and distribution using boxplot\n",
    "\n",
    "The boxplot displays the median value (the red lines inside the boxes) and distribution as quartiles (the height of the boxes, and lengths of the whiskers) graphically. The box extends from *quartile* Q1 below to quartile Q3 above the median. The length of the whiskers is 1.5 times the *inter quartile range* (IQR) from the box edge, where IQR=Q3-Q1. The values outside of whiskers are interpreted as *outliers*, and they are plotted as circles."
   ]
  },
  {
   "cell_type": "code",
   "execution_count": 11,
   "metadata": {
    "scrolled": true,
    "slideshow": {
     "slide_type": "subslide"
    }
   },
   "outputs": [
    {
     "data": {
      "image/png": "[encoded data removed]",
      "text/plain": [
       "<Figure size 288x360 with 1 Axes>"
      ]
     },
     "metadata": {},
     "output_type": "display_data"
    }
   ],
   "source": [
    "iris.boxplot('petal_length', by='species', figsize=(4,5));"
   ]
  },
  {
   "cell_type": "markdown",
   "metadata": {},
   "source": [
    "The boxplot shows that Setosa can be separated from Versicolor and Virginica with no confusion, but there is some overlap between Versicolor and Virginica."
   ]
  },
  {
   "cell_type": "markdown",
   "metadata": {
    "slideshow": {
     "slide_type": "subslide"
    }
   },
   "source": [
    "### Applying an external function to data\n",
    "\n",
    "Sometimes it is necessary to apply also such functions to the data, which are not part of the dataframe. It can be accomplished by using the apply-method as follows. Here the median-function from the NumPy-libary is used. You can also apply your own function to the data."
   ]
  },
  {
   "cell_type": "code",
   "execution_count": 16,
   "metadata": {
    "scrolled": true,
    "slideshow": {
     "slide_type": "fragment"
    }
   },
   "outputs": [
    {
     "data": {
      "text/plain": [
       "species\n",
       "setosa        1.50\n",
       "versicolor    4.35\n",
       "virginica     5.55\n",
       "Name: petal_length, dtype: float64"
      ]
     },
     "execution_count": 16,
     "metadata": {},
     "output_type": "execute_result"
    }
   ],
   "source": [
    "iris.groupby('species').petal_length.apply(np.median)"
   ]
  },
  {
   "cell_type": "code",
   "execution_count": 17,
   "metadata": {},
   "outputs": [
    {
     "data": {
      "text/plain": [
       "array([1, 5, 3, 6, 8, 4, 3, 6, 2])"
      ]
     },
     "execution_count": 17,
     "metadata": {},
     "output_type": "execute_result"
    }
   ],
   "source": [
    "x=np.array((1,5,3,6,8,4,3,6,2))\n",
    "np.sort(x)\n",
    "x"
   ]
  },
  {
   "cell_type": "code",
   "execution_count": 18,
   "metadata": {},
   "outputs": [
    {
     "data": {
      "text/plain": [
       "species\n",
       "setosa        0.9\n",
       "versicolor    2.1\n",
       "virginica     2.4\n",
       "Name: petal_length, dtype: float64"
      ]
     },
     "execution_count": 18,
     "metadata": {},
     "output_type": "execute_result"
    }
   ],
   "source": [
    "def fullRange(x):\n",
    "    \"\"\"A function for studying the full range of the vector\"\"\"\n",
    "    sortedx=np.sort(x)\n",
    "    return (sortedx[-1] - sortedx[0])\n",
    "\n",
    "iris.groupby('species').petal_length.apply(fullRange)"
   ]
  },
  {
   "cell_type": "markdown",
   "metadata": {
    "slideshow": {
     "slide_type": "subslide"
    }
   },
   "source": [
    "## Hypothesis testing\n",
    "\n",
    "Let's formally study if the petal lengts are significantly different or not by forming two hypothesis:\n",
    "\n",
    "1. The distribution of petal lengths of Setosa species is different than the distribution of petal lengts of other species\n",
    "1. Let's also assume that the distribution of petal lengts of Versicolor is siginificantly different than that of Virginica\n",
    "\n",
    "The standard test for these hypothesis is the [Student's T-test](https://www.statisticshowto.datasciencecentral.com/probability-and-statistics/t-test/). \n",
    "\n",
    "But the T-test can only be used if the variables are normally distributed. Let's test that first.\n",
    "\n",
    "### Testing if distribution of the variables is normal\n",
    "\n",
    "Read more about normality testing methods from [Statistics howto](https://www.statisticshowto.datasciencecentral.com/assumption-of-normality-test/)\n",
    "\n",
    "Most often used normality test is the D’Agostino-Pearson Test. It can be taken into use by importing the `normaltest` function from the stats module of the Scientific Python package.\n",
    "\n"
   ]
  },
  {
   "cell_type": "code",
   "execution_count": 19,
   "metadata": {
    "slideshow": {
     "slide_type": "fragment"
    }
   },
   "outputs": [
    {
     "name": "stdout",
     "output_type": "stream",
     "text": [
      "NormaltestResult(statistic=221.68729405585384, pvalue=7.264667501338673e-49)\n",
      "Data is normal distributed\n"
     ]
    }
   ],
   "source": [
    "from scipy.stats import normaltest\n",
    "\n",
    "normaltest\n",
    "\n",
    "# Run normality test, and print the output\n",
    "print(normaltest(iris.petal_length))\n",
    "\n",
    "# Interpretation, we discard the hypothesis of normal distribution\n",
    "# if it's probability (the p-value) is less than 95%\n",
    "alpha=0.05\n",
    "statistis, pvalue=normaltest(iris.petal_length)\n",
    "if pvalue<alpha:\n",
    "    print(\"Data is normal distributed\")\n",
    "else:\n",
    "    print(\"Data is not normal distributed\")"
   ]
  },
  {
   "cell_type": "markdown",
   "metadata": {
    "slideshow": {
     "slide_type": "fragment"
    }
   },
   "source": [
    "But we were supposed to test this for all species separately"
   ]
  },
  {
   "cell_type": "code",
   "execution_count": 48,
   "metadata": {
    "slideshow": {
     "slide_type": "subslide"
    }
   },
   "outputs": [
    {
     "name": "stdout",
     "output_type": "stream",
     "text": [
      "species\n",
      "setosa        (2.236973547672174, 0.32677390349997293)\n",
      "versicolor     (3.3182862415011867, 0.190301976072032)\n",
      "virginica     (2.6991800572037943, 0.2593465635270746)\n",
      "Name: petal_length, dtype: object\n"
     ]
    }
   ],
   "source": [
    "# \n",
    "# It can be done by grouping the data by species, selecting the petal_lenght\n",
    "# and applying the normal test to all species separately\n",
    "results=iris.groupby('species').petal_length.apply(normaltest)\n",
    "print(results)\n",
    "if (results[0][1] < alpha):     print(\"Petal length of Setosa is normally distributed\")\n",
    "if (results[1][1] < alpha):     print(\"Petal length of Versicolor is normally distributed\")\n",
    "if (results[2][1] < alpha):     print(\"Petal length of Virginica is normally distributed\")"
   ]
  },
  {
   "cell_type": "markdown",
   "metadata": {
    "slideshow": {
     "slide_type": "fragment"
    }
   },
   "source": [
    "The data does not justify us to safely conclude that the data would be normally distributed! The visual inspection of the distribution shown in the Seaborn pairplot support this result."
   ]
  },
  {
   "cell_type": "markdown",
   "metadata": {
    "slideshow": {
     "slide_type": "subslide"
    }
   },
   "source": [
    "## Test the similarity of petal_length distributions\n",
    "\n",
    "The most often used method for hypothesis testing, is the Student's T-test, which is also in the stats module of Scientific Python package.\n",
    "\n",
    "(*We try to use T-test even though we do not have the autorization, because the variable is not normally distributed! The consequence is that whatever the result is, it may not be reliable*)\n",
    "\n",
    "T-Test supports four different confiurations. Read the documentation and select the correct configuration. The selection is quite straightforward.\n",
    "\n",
    "1. Two-sided test for the null hypothesis that two independent samples have identical average (expected) values. Example: `p=ttest_ind(a,b)`\n",
    "1. Two-sided test for the null hypothesis that the expected value of a sample of independent observations `a` is equal to the given population mean, `popmean`. Example: `p=ttest_1samp(a, popmean)`\n",
    "1. Two-sided test for the null hypothesis that two related or repeated or paired samples have identical average (expected) values. Example: `p=ttest_rel(a,b)`\n",
    "1. Two-sided test for the null hypothesis that 2 independent samples have identical average (expected) values. Example: `ttest_ind_from_stats(mean1, std1, n1, mean2, std2, n2)`\n",
    "\n",
    "Here all tests are two sided, meaning that we do not have any a-priori knowlwdge that one would be bigger than another.\n",
    "\n",
    "The hypotheses that the two distributions are different are accepted if the probability of getting into that conclusion by chance, $\\alpha$ is smaller than 5%: \n",
    "\n",
    "(p-value$~<\\alpha$, when $\\alpha=0.05$)."
   ]
  },
  {
   "cell_type": "code",
   "execution_count": 19,
   "metadata": {
    "slideshow": {
     "slide_type": "subslide"
    }
   },
   "outputs": [
    {
     "name": "stdout",
     "output_type": "stream",
     "text": [
      "Ttest_indResult(statistic=-29.130840211367364, pvalue=3.6233785751774946e-63)\n",
      "The petal_length of setosa are statistically different than the petal_length of other flowers. p=0.000\n",
      "The petal_lengths of Versicolor and Virginica are statistically different : p=0.00\n"
     ]
    }
   ],
   "source": [
    "# T-test of two independent data sets\n",
    "from scipy.stats import ttest_ind \n",
    "\n",
    "alpha=0.05\n",
    "\n",
    "# Test if the petal_lengths of the Setosas are different than the petal_lengths other flowers\n",
    "test=ttest_ind(iris[iris.species=='setosa'].petal_length, iris[iris.species!='setosa'].petal_length)\n",
    "print(test)\n",
    "if test.pvalue < alpha:\n",
    "    print(\"The petal_length of setosa are statistically different \"\n",
    "          +\"than the petal_length of other flowers. p=%4.3f\" % test.pvalue)\n",
    "else:\n",
    "    print(\"The petal_length of setosa are not statistically different \"\n",
    "          +\"than the petal_length of other flowers: p=%4.3f\" % test.pvalue)\n",
    "    \n",
    "# Test if the petal_lengths of Versicolor and Virginia are different\n",
    "test=ttest_ind(iris[iris.species=='versicolor'].petal_length, iris[iris.species=='virginica'].petal_length)\n",
    "if test.pvalue < alpha:\n",
    "    print(\"The petal_lengths of Versicolor and Virginica are statistically different \"\n",
    "          +\": p=%4.2f\" % test.pvalue)\n",
    "else:\n",
    "    print(\"The petal_lengths of Versicolor and Virginica are not statistically different \"\n",
    "          +\": p=%4.2f\" % test.pvalue)"
   ]
  },
  {
   "cell_type": "markdown",
   "metadata": {
    "slideshow": {
     "slide_type": "slide"
    }
   },
   "source": [
    "## Non-parametric testing\n",
    "Because the data is not normally distributed, we are not allowed to use the T-test, but we need to use non-parametric tests instead. One often used is the [Mann-Whitney rank-test](https://en.wikipedia.org/wiki/Mann%E2%80%93Whitney_U_test). Because this test does not assume anything about the shape of the distributions, it usually needs larger sample size to get reliable estimate of p-values. Sample size bigger than 20 for both classes is recommended."
   ]
  },
  {
   "cell_type": "code",
   "execution_count": 55,
   "metadata": {
    "slideshow": {
     "slide_type": "fragment"
    }
   },
   "outputs": [
    {
     "name": "stdout",
     "output_type": "stream",
     "text": [
      "MannwhitneyuResult(statistic=44.5, pvalue=4.5667723638341282e-17)\n"
     ]
    }
   ],
   "source": [
    "from scipy.stats import mannwhitneyu\n",
    "print(mannwhitneyu(iris[iris.species=='versicolor'].petal_length, iris[iris.species=='virginica'].petal_length))"
   ]
  },
  {
   "cell_type": "markdown",
   "metadata": {
    "slideshow": {
     "slide_type": "fragment"
    }
   },
   "source": [
    "The p-value of $4.56 \\cdot 10^{-17} < \\alpha$ we can conclude that the difference of the petal lenghts of versicolor and virginica is statistically significant. This is reliable result, since it was not necessary to assume any specifig distribution of feature variables."
   ]
  },
  {
   "cell_type": "markdown",
   "metadata": {
    "slideshow": {
     "slide_type": "subslide"
    }
   },
   "source": [
    "## What was learned?\n",
    "\n",
    "- Some mesured values (petal and sepal widhts and heights in this case) can be used as features, describing the similarities and differences of the samples\n",
    "- T-test can be used for testing if the values of the features are the same or different for different classes of samples. If the features are not significantly different, they are not usefull for classification.\n",
    "- T-test can only be used if the variables are normally distributed. \n",
    "- Non-parametric tests can be used if the data is not normally distributed, but it may need larger sample size\n",
    "\n",
    "Now we can be certain, that the petal lengts are different in all species, and the difference is statistically significant, meaning that they are not different only by chance."
   ]
  },
  {
   "cell_type": "markdown",
   "metadata": {
    "slideshow": {
     "slide_type": "slide"
    }
   },
   "source": [
    "# Using features for recognizing species\n",
    "\n",
    "Now that we know that petal_lengths are different for each species, can this feature be used in recognizing flowers or classifying flower species?\n",
    "\n",
    "The following picture shows the position of decision boundary leading to highest precision in classifying Versicolor from Virginica species based on petal length. \n",
    "- Blue curve shows the distribution of petal lengths for Versicolor and red curve the distribution for Virginica\n",
    "- The decision boundary is in the location of the intersection of the distribution curves\n",
    "- ROC-curve is shown on the right hand side.\n",
    "  - The red dot shows the point corresponding to the current decision boundary\n",
    "  - From the curve it can be read that current decisiong point includes 90% of Versicolors, but it also includes some 12% percent of Virginicas\n",
    "  - The sensitivity of the classifier is therefore 90% and specificity is 88%\n",
    "\n",
    "![ROC analyzer](kuvat/rocanalyzer.png)\n"
   ]
  },
  {
   "cell_type": "markdown",
   "metadata": {
    "slideshow": {
     "slide_type": "subslide"
    }
   },
   "source": [
    "The ROC curve can be created using following code. Read more from [Understanding ROC curves](https://stackabuse.com/understanding-roc-curves-with-python/)"
   ]
  },
  {
   "cell_type": "code",
   "execution_count": 21,
   "metadata": {
    "slideshow": {
     "slide_type": "subslide"
    }
   },
   "outputs": [],
   "source": [
    "from scipy.stats import gaussian_kde\n",
    "import numpy as np\n",
    "import matplotlib.pyplot as plt\n",
    "\n",
    "def plotROC(a,b, color='r'):\n",
    "    \"\"\" Plots a ROC curve of the one dimensional data whose values  \n",
    "        in one case are listed in a, and in another case in b.\n",
    "    \"\"\"\n",
    "    ## Create a new x-axis, which has for example 100 poinsts\n",
    "    N=100\n",
    "    smallest_value=np.min((a.min(), b.min()))\n",
    "    biggest_value=np.max((a.max(), b.max()))\n",
    "    x_axis=np.linspace(smallest_value, biggest_value, N)\n",
    "\n",
    "    ## Estimate the distribution of X using kernel density estimate\n",
    "    ## For both cases, 0 and 1 and evaluate their values in the x-axis\n",
    "    ## This can be called also as probability density function (PDF).\n",
    "    h0=gaussian_kde(a).evaluate(x_axis)\n",
    "    h1=gaussian_kde(b).evaluate(x_axis)\n",
    "    \n",
    "    ## Calculate the cumulative distribution function from PDF:s above\n",
    "    ## and scale them between 0 and 1\n",
    "    rocx=np.cumsum(h0)/np.sum(h0)\n",
    "    rocy=np.cumsum(h1)/np.sum(h1)\n",
    "    \n",
    "    plt.plot(1-rocx, 1-rocy, c=color)\n",
    "    plt.xlabel('1-Specificity')\n",
    "    plt.ylabel('Sensitivity')\n",
    "    "
   ]
  },
  {
   "cell_type": "code",
   "execution_count": 22,
   "metadata": {
    "slideshow": {
     "slide_type": "subslide"
    }
   },
   "outputs": [
    {
     "data": {
      "image/png": "[encoded data removed]",
      "text/plain": [
       "<Figure size 432x288 with 1 Axes>"
      ]
     },
     "metadata": {
      "needs_background": "light"
     },
     "output_type": "display_data"
    }
   ],
   "source": [
    "# Can petal length feature be used to distinguish versicolor (see the blue curve)\n",
    "plotROC(iris[iris.species=='versicolor'].petal_length, iris[iris.species=='virginica'].petal_length, color='b')\n",
    "\n",
    "# Can pedal length separate setosa from all other species (see the green curve)\n",
    "plotROC(iris[iris.species=='setosa'].petal_length, iris[iris.species!='setosa'].petal_length, color='g')\n",
    "\n",
    "# Is sepal width usefull in separating virginica from setosa (red curve)\n",
    "plotROC(iris[iris.species=='virginica'].sepal_width, iris[iris.species!='virginica'].sepal_width, color='r')\n",
    "\n",
    "plt.grid()\n",
    "    "
   ]
  },
  {
   "cell_type": "code",
   "execution_count": null,
   "metadata": {},
   "outputs": [],
   "source": []
  },
  {
   "cell_type": "markdown",
   "metadata": {},
   "source": []
  }
 ],
 "metadata": {
  "celltoolbar": "Slideshow",
  "kernelspec": {
   "display_name": "Python 3",
   "language": "python",
   "name": "python3"
  },
  "language_info": {
   "codemirror_mode": {
    "name": "ipython",
    "version": 3
   },
   "file_extension": ".py",
   "mimetype": "text/x-python",
   "name": "python",
   "nbconvert_exporter": "python",
   "pygments_lexer": "ipython3",
   "version": "3.7.8"
  }
 },
 "nbformat": 4,
 "nbformat_minor": 2
}
