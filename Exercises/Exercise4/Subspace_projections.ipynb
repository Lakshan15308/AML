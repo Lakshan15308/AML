{
 "cells": [
  {
   "cell_type": "markdown",
   "id": "eed793c4",
   "metadata": {},
   "source": [
    "# Applied Machine Learning (2023), exercises\n",
    "\n",
    "\n",
    "## General instructions for all exercises\n",
    "\n",
    "Follow the instructions and fill in your solution under the line marked by tag\n",
    "\n",
    "> YOUR CODE HERE\n",
    "\n",
    "Remove also line \n",
    "\n",
    "> raise NotImplementedError()\n",
    "\n",
    "**Do not change other areas of the document**, since it may disturb the autograding of your results!\n",
    "  \n",
    "Having written the answer, execute the code cell by and pressing `Shift-Enter` key combination. The code is run, and it may print some information under the code cell. The focus automatically moves to the next cell and you may \"execute\" that cell by pressing `Shift-Enter` again, until you have reached the code cell which tests your solution. Execute that and follow the feedback. Usually it either says that the solution seems acceptable, or reports some errors. You can go back to your solution, modify it and repeat everything until you are satisfied. Then proceed to the next task.\n",
    "   \n",
    "Repeat the process for all tasks.\n",
    "\n",
    "The notebook may also contain manually graded answers. Write your manually graded answer under the line marked by tag:\n",
    "\n",
    "> YOUR ANSWER HERE\n",
    "\n",
    "Manually graded tasks are text in markdown format. It may contain text, pseudocode, or mathematical formulas. You can write formulas with $\\LaTeX$-syntax by enclosing the formula with dollar signs (`$`), for example `$f(x)=2 \\pi / \\alpha$`, will produce $f(x)=2 \\pi / \\alpha$\n",
    "\n",
    "When you have passed the tests in the notebook, and you are ready to submit your solutions, validate and submit your solution using the nbgrader tools from the `Nbgrader/Assignment List`-menu.\n"
   ]
  },
  {
   "cell_type": "code",
   "execution_count": null,
   "id": "e9196b76",
   "metadata": {},
   "outputs": [],
   "source": []
  },
  {
   "cell_type": "markdown",
   "id": "ba6c541e-52f7-444b-9164-10547bd895b7",
   "metadata": {},
   "source": [
    "# Unsupervised learning, projections of multivariate data"
   ]
  },
  {
   "cell_type": "markdown",
   "id": "9900af5a-5898-433c-bd7c-224098b955ff",
   "metadata": {},
   "source": [
    "## Task 1: Read and visualize spectral data"
   ]
  },
  {
   "cell_type": "code",
   "execution_count": null,
   "id": "0aee327e-9131-45d8-ac7d-4f9faefb1caa",
   "metadata": {},
   "outputs": [],
   "source": [
    "import numpy as np\n",
    "import pandas as pd\n",
    "import matplotlib.pyplot as plt\n",
    "import seaborn as sns\n",
    "sns.set()  # for plot styling"
   ]
  },
  {
   "cell_type": "markdown",
   "id": "05954a13-72da-4559-a3e0-7a3c86896a24",
   "metadata": {},
   "source": [
    "The data-file `liver-spectroscopy.tab` is a text file which contains a Near Infrared Spectral (NIR) measurements of different cells from a liver. The file includes 731 samples, and each one has 234 variables. The variables describes the amount of infrared radiation absorbed in each of the tested 234 wavelengths. The last column in the data is the cell type, which can be one of the four types: 'collagen', 'glycogen', 'lipids' or 'DNA'. The column names are the wavelengths used in measuring the absorbtion values for the specific columns.\n",
    "\n",
    "The data file is in text format, in which the columns are separated by tab-characters. \n",
    "\n",
    "The first task is to read the data file into a pandas dataframe called `D`. Use pandas function `.read_table()` for reading it."
   ]
  },
  {
   "cell_type": "code",
   "execution_count": null,
   "id": "0ae0083b-0788-4d26-859a-767f37858c3e",
   "metadata": {
    "deletable": false,
    "nbgrader": {
     "cell_type": "code",
     "checksum": "08b4ea5ec013c6983422809d784f7ec0",
     "grade": false,
     "grade_id": "cell-40890b30971c4753",
     "locked": false,
     "schema_version": 3,
     "solution": true,
     "task": false
    }
   },
   "outputs": [],
   "source": [
    "# YOUR CODE HERE\n",
    "raise NotImplementedError()"
   ]
  },
  {
   "cell_type": "code",
   "execution_count": null,
   "id": "aa599608-6dc8-43e9-aff2-fc36ade41698",
   "metadata": {
    "deletable": false,
    "editable": false,
    "nbgrader": {
     "cell_type": "code",
     "checksum": "ab1f6c9b7b2621bc8f203236b6fa30fd",
     "grade": true,
     "grade_id": "cell-c3377548c6d90983",
     "locked": true,
     "points": 1,
     "schema_version": 3,
     "solution": false,
     "task": false
    }
   },
   "outputs": [],
   "source": [
    "assert('D' in globals()), \\\n",
    "    print(\"Use name D for NIR data, please.\")    \n",
    "assert(type(D)==pd.DataFrame)\n",
    "\n",
    "assert(D.shape==(731,235)), \"The shape of the data matrix is not quite right. Try to read it again\"\n"
   ]
  },
  {
   "cell_type": "markdown",
   "id": "63c8c5cb-c218-43a0-a275-0e1c99ba768d",
   "metadata": {},
   "source": [
    "Then visualize the spectral data by carrying out the following steps\n",
    "1. Parse the `type` column as categorical value vector called `types` using function `pd.Categorical()`\n",
    "1. Delete the original column 'type' from the dataframe (`del D['type']`)\n",
    "1. parse the column names (`D.columns`) into a numerical vector of wavelengts, and name it as `wl`. You may find the `map()` function usefull for this purpose. Check from the last exercise how it was used. Round the wavelengths to integers, if you find a way to do that, but you can also used it as floating point values.\n",
    "1. Assing the parsed `wl` vector as new column names of D (you can just assign it to `D.columns`)\n",
    "1. Plot the first 10 samples. Select the first ten rows using `D.iloc[]`, and plot the transpose of them, using a transpose operator `.T`, as follows `D.iloc[].T.plot()`. Transpose is needed, because the plot function always places the row index in the x-axis. If the dataframe is first transposed, the column index (the wavelengths) becomes the row index, and plot will be correct.\n",
    "\n",
    "You can also use `plt.xlabel()` and `plt.ylabel()` -functions to define labels for x- and y-axes.\n",
    "\n",
    "The result should look like this:\n",
    "![spectra](spectra.png)\n"
   ]
  },
  {
   "cell_type": "code",
   "execution_count": null,
   "id": "a8211fc8-5c1e-4c61-a9ff-302a5be75c88",
   "metadata": {
    "deletable": false,
    "nbgrader": {
     "cell_type": "code",
     "checksum": "70ff312a02b0c5243bc8461cf2205d03",
     "grade": false,
     "grade_id": "cell-912ad21a1457e9d0",
     "locked": false,
     "schema_version": 3,
     "solution": true,
     "task": false
    }
   },
   "outputs": [],
   "source": [
    "# YOUR CODE HERE\n",
    "raise NotImplementedError()"
   ]
  },
  {
   "cell_type": "code",
   "execution_count": null,
   "id": "427281df-fa15-4080-a27e-7fd7df1fca9b",
   "metadata": {
    "deletable": false,
    "editable": false,
    "nbgrader": {
     "cell_type": "code",
     "checksum": "ab60046912b6a63a6e4f9c52989b38b6",
     "grade": true,
     "grade_id": "cell-d58036ed979386ec",
     "locked": true,
     "points": 2,
     "schema_version": 3,
     "solution": false,
     "task": false
    }
   },
   "outputs": [],
   "source": [
    "assert(type(types)==pd.Categorical)\n",
    "assert(len(types)==731)\n",
    "assert(len(wl)==234)\n",
    "assert(D.shape==(731,234))\n"
   ]
  },
  {
   "cell_type": "markdown",
   "id": "e90db3bb-41ce-4a3f-9967-26953db4d646",
   "metadata": {},
   "source": [
    "## Task 2, calculate PCA projection and visualize\n",
    "\n",
    "Apply PCA to the dataframe `D` and plot how much variance is explained by the first 10 principal components. Store the transformed `D` as variable `projectedD`.\n",
    "\n",
    "Store the explained variance ratio in variable `varexp`"
   ]
  },
  {
   "cell_type": "code",
   "execution_count": null,
   "id": "00ed7df5-6f9b-4ee9-bafa-9e51ff82236b",
   "metadata": {
    "deletable": false,
    "nbgrader": {
     "cell_type": "code",
     "checksum": "be86979f229a5d51f34838aff0c9dea1",
     "grade": false,
     "grade_id": "cell-c9dd35cb35f900b2",
     "locked": false,
     "schema_version": 3,
     "solution": true,
     "task": false
    }
   },
   "outputs": [],
   "source": [
    "\n",
    "# YOUR CODE HERE\n",
    "raise NotImplementedError()"
   ]
  },
  {
   "cell_type": "code",
   "execution_count": null,
   "id": "31922333-b5ea-4946-b20e-6f4a0b01cb06",
   "metadata": {
    "deletable": false,
    "editable": false,
    "nbgrader": {
     "cell_type": "code",
     "checksum": "d75de0301bbe50028333646e85031291",
     "grade": true,
     "grade_id": "cell-1f529977eb1b3300",
     "locked": true,
     "points": 2,
     "schema_version": 3,
     "solution": false,
     "task": false
    }
   },
   "outputs": [],
   "source": [
    "assert('varexp' in globals()), \\\n",
    "    print(\"Use the name varexp for storing the explained variance ratio, please.\")\n",
    "assert(projectedD.shape==(731,10))\n"
   ]
  },
  {
   "cell_type": "markdown",
   "id": "f2e73fa6-ddc6-4293-bb46-e276a334f424",
   "metadata": {},
   "source": [
    "How many PCA components you would select if you need to explain at least 90% of the variance of the data?\n",
    "Answer by assigning correct value to n below."
   ]
  },
  {
   "cell_type": "code",
   "execution_count": null,
   "id": "b6af2918-0a54-4aed-9fbf-85ad3120f643",
   "metadata": {
    "deletable": false,
    "nbgrader": {
     "cell_type": "code",
     "checksum": "c39f0d84f28c10e25a4046ccff288916",
     "grade": false,
     "grade_id": "cell-207be29faf366be6",
     "locked": false,
     "schema_version": 3,
     "solution": true,
     "task": false
    }
   },
   "outputs": [],
   "source": [
    "n=0\n",
    "# YOUR CODE HERE\n",
    "raise NotImplementedError()"
   ]
  },
  {
   "cell_type": "code",
   "execution_count": null,
   "id": "75f07076-3ed9-48b1-b1fe-d71be61c5f29",
   "metadata": {
    "deletable": false,
    "editable": false,
    "nbgrader": {
     "cell_type": "code",
     "checksum": "ce35f63c2b0955510ad200c69d80ec51",
     "grade": true,
     "grade_id": "cell-bd50285e72f560c6",
     "locked": true,
     "points": 1,
     "schema_version": 3,
     "solution": false,
     "task": false
    }
   },
   "outputs": [],
   "source": [
    "assert('n' in globals()), \\\n",
    "    print(\"Use the name n for the number of principal components needed, please.\")\n"
   ]
  },
  {
   "cell_type": "markdown",
   "id": "c36ec691-abe9-491d-b309-476f8ae1ab46",
   "metadata": {},
   "source": [
    "### Visualize the data in PCA domain\n",
    "\n",
    "Plot a scatter plot of two first principal components. Since `projectedD` is a numpy array and not a DataFrame, use the plotting function  `plt.scatter()`. The function requires two parameters, x-data and y-data, but some others are also usefull:\n",
    "1. The first parameter is the x-data, give it the first principal compoent\n",
    "1. The second parameter is the y-data, give it the second principal component\n",
    "1. Give the class category for point colors `c=types.codes` \n",
    "1. Use the colormap parameter to use better colormap, e.g. `cmap='rainbow'`\n",
    "1. Use rather small point size e.g. `s=10`\n",
    "1. Make points somewhat transparent `alpha=0.5`\n",
    "\n",
    "You can also use `plt.xlabel()` and `plt.ylabel()` functions to provide names for x and y axes, and `plt.colorbar()` to plot the colorbar explaining the meaning of the colors.\n",
    "The plot should look like the following:\n",
    "\n",
    "![pca](pca.png)\n",
    "\n",
    "Notice that the different tissue types are clearly different already in two dimensional space."
   ]
  },
  {
   "cell_type": "code",
   "execution_count": null,
   "id": "83ffaa5f-43bc-4afa-a2cf-298edfbc93a1",
   "metadata": {
    "deletable": false,
    "nbgrader": {
     "cell_type": "code",
     "checksum": "92d3860706d230af1da7f54b0eb7614f",
     "grade": false,
     "grade_id": "cell-26b0dd702df55434",
     "locked": false,
     "schema_version": 3,
     "solution": true,
     "task": false
    }
   },
   "outputs": [],
   "source": [
    "# YOUR CODE HERE\n",
    "raise NotImplementedError()"
   ]
  },
  {
   "cell_type": "code",
   "execution_count": null,
   "id": "5755da57-dd1f-4e88-85f3-c55dd1e563de",
   "metadata": {
    "deletable": false,
    "editable": false,
    "nbgrader": {
     "cell_type": "code",
     "checksum": "453ee571c89d33964bf1b163feeb6835",
     "grade": true,
     "grade_id": "cell-9216a6fb7de8c178",
     "locked": true,
     "points": 2,
     "schema_version": 3,
     "solution": false,
     "task": false
    }
   },
   "outputs": [],
   "source": []
  },
  {
   "cell_type": "markdown",
   "id": "c5f69fd5-3131-48a9-ae8b-96debe4e9698",
   "metadata": {},
   "source": [
    "## Task 3, calculate UMAP manifold projection and visualize\n",
    "\n",
    "Repeat the previously made projection using UMAP and visualize it. Save your UMAP projected data as `umapD`. You can use just two components for UMAP.\n",
    "\n",
    "The result could look like the following t-SNE projection plot.\n",
    "\n",
    "![tsne](tsne.png)\n"
   ]
  },
  {
   "cell_type": "code",
   "execution_count": null,
   "id": "4ee6bff3-012d-4a4e-b52a-58e5c798db7d",
   "metadata": {
    "deletable": false,
    "nbgrader": {
     "cell_type": "code",
     "checksum": "fcb6baa9bb8e5a08e1f6d394cc6db35d",
     "grade": false,
     "grade_id": "cell-2cca477a54e6196e",
     "locked": false,
     "schema_version": 3,
     "solution": true,
     "task": false
    }
   },
   "outputs": [],
   "source": [
    "import umap\n",
    "\n",
    "# YOUR CODE HERE\n",
    "raise NotImplementedError()"
   ]
  },
  {
   "cell_type": "code",
   "execution_count": null,
   "id": "02d21cf9-c7d8-4fc6-a117-a686086abc49",
   "metadata": {
    "deletable": false,
    "editable": false,
    "nbgrader": {
     "cell_type": "code",
     "checksum": "92007f42d9a7645f418f5731c9fe29e9",
     "grade": true,
     "grade_id": "cell-f5ba0cf448b8af0a",
     "locked": true,
     "points": 2,
     "schema_version": 3,
     "solution": false,
     "task": false
    }
   },
   "outputs": [],
   "source": [
    "assert(umapD.shape==(731,2))"
   ]
  }
 ],
 "metadata": {
  "kernelspec": {
   "display_name": "Python 3 (ipykernel)",
   "language": "python",
   "name": "python3"
  },
  "language_info": {
   "codemirror_mode": {
    "name": "ipython",
    "version": 3
   },
   "file_extension": ".py",
   "mimetype": "text/x-python",
   "name": "python",
   "nbconvert_exporter": "python",
   "pygments_lexer": "ipython3",
   "version": "3.10.10"
  }
 },
 "nbformat": 4,
 "nbformat_minor": 5
}
