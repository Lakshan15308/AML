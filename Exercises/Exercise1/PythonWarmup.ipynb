{
 "cells": [
  {
   "cell_type": "markdown",
   "id": "daffe2b8",
   "metadata": {
    "nbgrader": {
     "grade": false,
     "grade_id": "cell-d4870dd21eeb6a3c",
     "locked": true,
     "schema_version": 3,
     "solution": false,
     "task": false
    }
   },
   "source": [
    "# Python warmup"
   ]
  },
  {
   "cell_type": "markdown",
   "id": "fe141740",
   "metadata": {
    "nbgrader": {
     "grade": false,
     "grade_id": "cell-74afa41f6340dc6e",
     "locked": true,
     "schema_version": 3,
     "solution": false,
     "task": false
    }
   },
   "source": [
    "## Create a  python data structures\n",
    "\n",
    "1. Create an integer scalar variable `x`, and print it\n",
    "1. Create a python list, `l`, and print it using function `list()` or directly with syntax `l=[1,4,2,3]`\n",
    "1. Create a [numpy array](https://numpy.org/doc/stable/reference/generated/numpy.array.html), `a`, and print it. Tip: Import numpy library first by using: ```import numpy as np``` \n",
    "\n",
    "Python lists are suitable in many cases, but they are not efficient for large amounts of data or mathematical operations. Numpy arrays include a lot of useful functions which are packaged in numpy arrays."
   ]
  },
  {
   "cell_type": "code",
   "execution_count": 2,
   "id": "25ac66c7",
   "metadata": {
    "ExecuteTime": {
     "end_time": "2022-09-20T20:01:32.200637Z",
     "start_time": "2022-09-20T20:01:32.184648Z"
    },
    "nbgrader": {
     "grade": false,
     "grade_id": "cell-a60da60f60729900",
     "locked": false,
     "schema_version": 3,
     "solution": true,
     "task": false
    }
   },
   "outputs": [
    {
     "name": "stdout",
     "output_type": "stream",
     "text": [
      "3\n",
      "[4, 5, 6]\n",
      "[4 5 6]\n"
     ]
    }
   ],
   "source": [
    "### BEGIN SOLUTION\n",
    "x=3\n",
    "print(x)\n",
    "\n",
    "l=[4,5,6]\n",
    "print(l)\n",
    "\n",
    "import numpy as np\n",
    "a = np.array(l)\n",
    "print(a)\n",
    "### END SOLUTION"
   ]
  },
  {
   "cell_type": "code",
   "execution_count": 3,
   "id": "d7070351",
   "metadata": {
    "ExecuteTime": {
     "end_time": "2022-09-20T20:41:10.962289Z",
     "start_time": "2022-09-20T20:41:10.936391Z"
    },
    "nbgrader": {
     "grade": true,
     "grade_id": "cell-bc4eaa98d5b95c59",
     "locked": true,
     "points": 2,
     "schema_version": 3,
     "solution": false,
     "task": false
    }
   },
   "outputs": [
    {
     "name": "stdout",
     "output_type": "stream",
     "text": [
      "No errors found this far. Your code may work.\n"
     ]
    },
    {
     "data": {
      "text/plain": [
       "2"
      ]
     },
     "execution_count": 3,
     "metadata": {},
     "output_type": "execute_result"
    }
   ],
   "source": [
    "if 'x' not in globals():\n",
    "    print(\"x not found! Please define x as scalar variable.\")\n",
    "elif 'l' not in globals():\n",
    "    print(\"l not found! Please define l list.\")\n",
    "elif 'a' not in globals():\n",
    "    print(\"a not found! Please define a as numpy array.\")\n",
    "else:\n",
    "    print(\"No errors found this far. Your code may work.\")\n",
    "\n",
    "### BEGIN HIDDEN TESTS\n",
    "Ncorrect=0\n",
    "if type(x)==int:\n",
    "    Ncorrect+=1\n",
    "else:\n",
    "    print(\"Wrong type for x\")\n",
    "if type(l)==list:\n",
    "    Ncorrect+=1\n",
    "else:\n",
    "    print(\"Wrong type for l\")\n",
    "if type(a)==np.ndarray:\n",
    "    Ncorrect+=1\n",
    "else:\n",
    "    print(\"Wrong type for a\")\n",
    "    \n",
    "if Ncorrect>=2:\n",
    "    Ncorrect=2\n",
    "\n",
    "# Return to number of correct variables defined, one should get as many points as there are correct variables\n",
    "Ncorrect\n",
    "### END HIDDEN TESTS"
   ]
  },
  {
   "cell_type": "markdown",
   "id": "e0f3db40",
   "metadata": {
    "nbgrader": {
     "grade": false,
     "grade_id": "cell-e597abe8a05b8f2e",
     "locked": true,
     "schema_version": 3,
     "solution": false,
     "task": false
    }
   },
   "source": [
    "## Use numpy functions for creating arrays\n",
    "\n",
    "1. Create a numpy array, `values`, which has 100 consequent values between 0 and $\\pi$ using [np.linspace()](https://numpy.org/doc/stable/reference/generated/numpy.linspace.html?highlight=linspace#numpy.linspace). Use ```np.pi``` as constant for $\\pi$.\n",
    "1. Create a two-dimensional array `M` of 5x5 [zeros](https://numpy.org/doc/stable/reference/generated/numpy.zeros.html?highlight=zeros#numpy.zeros) or 5x5 [ones](https://numpy.org/doc/stable/reference/generated/numpy.ones.html?highlight=ones#numpy.ones). using appropriate functions\n",
    "1. Create one more 2 dimensional array with the following code ```A=np.array([[1,2,3], [4,5,6]])```\n",
    "\n",
    "**TIP:** to find out what other functions or constants are included in NumPy package, write `np.` in the command line, and press TAB-key to get a list of possible completions, or SHIFT-TAB to get the help window."
   ]
  },
  {
   "cell_type": "code",
   "execution_count": 4,
   "id": "3971e609",
   "metadata": {
    "ExecuteTime": {
     "end_time": "2022-09-20T20:21:27.130879Z",
     "start_time": "2022-09-20T20:21:27.121361Z"
    },
    "nbgrader": {
     "grade": false,
     "grade_id": "cell-84bdec6840dac41f",
     "locked": false,
     "schema_version": 3,
     "solution": true,
     "task": false
    }
   },
   "outputs": [],
   "source": [
    "### BEGIN SOLUTION\n",
    "values=np.linspace(0,np.pi,100)\n",
    "M=np.zeros((5,5))\n",
    "A=np.array([[1,2,3], [4,5,6]])\n",
    "### END SOLUTION"
   ]
  },
  {
   "cell_type": "code",
   "execution_count": 5,
   "id": "77dd5051",
   "metadata": {
    "ExecuteTime": {
     "end_time": "2022-09-20T20:42:34.827912Z",
     "start_time": "2022-09-20T20:42:34.787028Z"
    },
    "nbgrader": {
     "grade": true,
     "grade_id": "cell-8b10b5261858131d",
     "locked": true,
     "points": 3,
     "schema_version": 3,
     "solution": false,
     "task": false
    }
   },
   "outputs": [
    {
     "name": "stdout",
     "output_type": "stream",
     "text": [
      "No errrors found this far, your code may work :)\n"
     ]
    },
    {
     "data": {
      "text/plain": [
       "3"
      ]
     },
     "execution_count": 5,
     "metadata": {},
     "output_type": "execute_result"
    }
   ],
   "source": [
    "errorfound=False\n",
    "require=('values', 'M', 'A')\n",
    "for var in require:\n",
    "    if var not in globals():\n",
    "        print(var, \"not found! Please define it.\")\n",
    "        errorfound=True\n",
    "if not errorfound:\n",
    "    print(\"No errrors found this far, your code may work :)\")\n",
    "        \n",
    "### BEGIN HIDDEN TESTS\n",
    "types=(np.ndarray, np.ndarray, np.ndarray)\n",
    "shapes=((100,), (5,5), (2,3))\n",
    "Ncorrect=0\n",
    "for i in range(len(require)):\n",
    "    var = globals()[require[i]]\n",
    "    if type(var)!=types[i]:\n",
    "        print(\"Wrong type for \", require[i])\n",
    "    elif var.shape!=shapes[i]:\n",
    "        print(\"Wrong shape for \", require[i], var.shape)\n",
    "    else:\n",
    "        Ncorrect+=1\n",
    "# Return to number of correct variables defined, one should get as many points as there are correct variables\n",
    "Ncorrect\n",
    "### END HIDDEN TESTS"
   ]
  },
  {
   "cell_type": "markdown",
   "id": "d8f663ae",
   "metadata": {},
   "source": [
    "## Manipulate data structures\n",
    "1. Study the shape of previously created numpy arrays by using function ```.shape()``` included in the arrays you created.\n",
    "1. Try to calculate also the sum of all values in those arrays with ```.sum()``` function. Store the sum of array `values` to variable called `s`.\n",
    "1. Transpose a two dimensional array with function ```.T``` for example ```A.T``` and name the result as `tA`\n",
    "1. Transposing a one dimensional array looks sadly slightly illogical, because it needs to be also converted to two dimensional at the same time. The row vector `values` can be transposed to column vector with syntax `\n",
    "values.reshape(-1,1)`. Try it and name the result as `tvalues`. \n",
    "1. Try also to transpose the column vector back to row vector\n"
   ]
  },
  {
   "cell_type": "code",
   "execution_count": 6,
   "id": "e76b31ea",
   "metadata": {
    "ExecuteTime": {
     "end_time": "2022-09-20T20:30:02.385809Z",
     "start_time": "2022-09-20T20:30:02.378390Z"
    },
    "nbgrader": {
     "grade": false,
     "grade_id": "cell-3b75e463ba50584b",
     "locked": false,
     "schema_version": 3,
     "solution": true,
     "task": false
    }
   },
   "outputs": [],
   "source": [
    "### BEGIN SOLUTION\n",
    "s=values.sum()\n",
    "tA=A.T\n",
    "tvalues=values.reshape(-1,1)\n",
    "### END SOLUTION"
   ]
  },
  {
   "cell_type": "code",
   "execution_count": 7,
   "id": "6766a2fb",
   "metadata": {
    "ExecuteTime": {
     "end_time": "2022-09-20T20:43:15.182121Z",
     "start_time": "2022-09-20T20:43:15.156778Z"
    },
    "nbgrader": {
     "grade": true,
     "grade_id": "cell-505a65dfd626e1e6",
     "locked": true,
     "points": 2,
     "schema_version": 3,
     "solution": false,
     "task": false
    }
   },
   "outputs": [
    {
     "name": "stdout",
     "output_type": "stream",
     "text": [
      "No errrors found this far, your code may work :)\n"
     ]
    },
    {
     "data": {
      "text/plain": [
       "2"
      ]
     },
     "execution_count": 7,
     "metadata": {},
     "output_type": "execute_result"
    }
   ],
   "source": [
    "errorfound=False\n",
    "require=('s', 'tA', 'tvalues')\n",
    "for var in require:\n",
    "    if var not in globals():\n",
    "        print(var, \"not found! Please define it.\")\n",
    "        errorfound=True\n",
    "if not errorfound:\n",
    "    print(\"No errrors found this far, your code may work :)\")\n",
    "         \n",
    "### BEGIN HIDDEN TESTS\n",
    "types=(np.float64, np.ndarray, np.ndarray)\n",
    "shapes=((), (3,2), (100,1))\n",
    "Ncorrect=0\n",
    "for i in range(len(require)):\n",
    "    var = globals()[require[i]]\n",
    "    if type(var)!=types[i]:\n",
    "        print(\"Wrong type for \", require[i])\n",
    "    elif var.shape!=shapes[i]:\n",
    "        print(\"Wrong shape for \", require[i], var.shape)\n",
    "    else:\n",
    "        Ncorrect+=1\n",
    "        \n",
    "if Ncorrect>=2:\n",
    "    Ncorrect=2\n",
    "# Return to number of correct variables defined, one should get as many points as there are correct variables\n",
    "Ncorrect\n",
    "### END HIDDEN TESTS"
   ]
  },
  {
   "cell_type": "markdown",
   "id": "179dc638-64a5-4554-9638-0cad52284e17",
   "metadata": {},
   "source": [
    "## Loops and functions\n",
    "1. Create a function `squares`, which takes a an integer, n, as a parameter, and prints the values and squares of n first integers, and returns the square of n as its value.\n",
    "\n",
    "The functions in Python are created with the keyword `def`, like `def sum(x):`. The semicolon starts the block, which is included in the body of the function. All lines included in the function body needs to be indented. No begin-end or curly braces needed to indicate a block, like in many other languages.\n",
    "\n",
    "The for loop for 1 to 10 can be programmed using `range()`-function, which returns an iterable range of values, The for-loop interates through each of the values using the following syntax: `for i in range(10):`. The colon starts the block included in the loop body, which is expressed with intendations. \n",
    "\n",
    "The function can return with value using the `return` keyword.\n",
    "\n",
    "Test your function.\n",
    "\n",
    "You can also test the `range()` function to see how it works. \n",
    "\n",
    "See more instructions and examples from [W3C Python school material](https://www.w3schools.com/python/python_functions.asp)\n"
   ]
  },
  {
   "cell_type": "code",
   "execution_count": 21,
   "id": "8d154759-2426-429b-97e8-d7c41aef3668",
   "metadata": {
    "ExecuteTime": {
     "end_time": "2022-09-20T20:30:02.385809Z",
     "start_time": "2022-09-20T20:30:02.378390Z"
    },
    "nbgrader": {
     "grade": false,
     "grade_id": "cell-3b75e463ba50584c",
     "locked": false,
     "schema_version": 3,
     "solution": true,
     "task": false
    }
   },
   "outputs": [],
   "source": [
    "### BEGIN SOLUTION\n",
    "def squares(n):\n",
    "    for i in range(n):\n",
    "        print(f\"{i}, {i**2}\")\n",
    "    return(n**2)\n",
    "    \n",
    "s=values.sum()\n",
    "tA=A.T\n",
    "tvalues=values.reshape(-1,1)\n",
    "### END SOLUTION"
   ]
  },
  {
   "cell_type": "code",
   "execution_count": 22,
   "id": "ede1f581-7119-4b1c-8a08-a3bfe927d256",
   "metadata": {
    "ExecuteTime": {
     "end_time": "2022-09-20T20:43:15.182121Z",
     "start_time": "2022-09-20T20:43:15.156778Z"
    },
    "nbgrader": {
     "grade": true,
     "grade_id": "cell-505a65dfd626e1e7",
     "locked": true,
     "points": 3,
     "schema_version": 3,
     "solution": false,
     "task": false
    }
   },
   "outputs": [
    {
     "name": "stdout",
     "output_type": "stream",
     "text": [
      "0, 0\n",
      "1, 1\n",
      "2, 4\n",
      "3, 9\n",
      "No errrors found this far, your code may work :)\n",
      "0, 0\n",
      "1, 1\n",
      "2, 4\n",
      "3, 9\n",
      "4, 16\n"
     ]
    },
    {
     "data": {
      "text/plain": [
       "3"
      ]
     },
     "execution_count": 22,
     "metadata": {},
     "output_type": "execute_result"
    }
   ],
   "source": [
    "errorfound=False\n",
    "Ncorrect=0\n",
    "require=['squares']\n",
    "for var in require:\n",
    "    if var not in globals():\n",
    "        print(var, \"not found! Please define it.\")\n",
    "        errorfound=True\n",
    "if not errorfound:\n",
    "    Ncorrect+=1\n",
    "if squares(4)==16:\n",
    "    Ncorrect+=1\n",
    "else:\n",
    "    errorfound=True\n",
    "    print(\"The function squares did not return the correct value\")\n",
    "if not errorfound:\n",
    "    print(\"No errrors found this far, your code may work :)\")\n",
    "         \n",
    "### BEGIN HIDDEN TESTS\n",
    "if squares(5)==25:\n",
    "    Ncorrect+=1\n",
    "else:\n",
    "    errorfound=True\n",
    "        \n",
    "if Ncorrect>=3:\n",
    "    Ncorrect=3\n",
    "# Return to number of correct variables defined, one should get as many points as there are correct variables\n",
    "Ncorrect\n",
    "### END HIDDEN TESTS"
   ]
  },
  {
   "cell_type": "markdown",
   "id": "a76bea51",
   "metadata": {},
   "source": [
    "# Language features\n",
    "\n",
    "Do you know the answer to the following questions? (No points offered, though)\n",
    "\n",
    "1. Is Python an object oriented language?\n",
    "1. Is Python interpreted or compiled language?\n",
    "1. Is Python fast to run?"
   ]
  },
  {
   "cell_type": "markdown",
   "id": "22cb05dc",
   "metadata": {},
   "source": [
    "## Summary\n",
    "1. NumPy arrays are very important data structures in Python for machine learning and mathematical operations\n",
    "1. Numpy arrays can be 1 dimensional or many dimensional\n",
    "1. Two dimensional arrays can be transposed like matrices in mathematics \n",
    "1. Numpy arrays contain a large amount of functions which can be applied to their content\n",
    "2. Functions are defined with `def f(x):` syntax. They are important in capsulating parts of the task behind one abstract name.\n",
    "3. Loops are made by iterating through and iterable object, such as list of values, array or range()\n",
    "4. The code blocks in Python are indicated using intendation, noth with curly braces or begin-end constructions, like in many other languages."
   ]
  }
 ],
 "metadata": {
  "celltoolbar": "Create Assignment",
  "kernelspec": {
   "display_name": "Python 3 (ipykernel)",
   "language": "python",
   "name": "python3"
  },
  "language_info": {
   "codemirror_mode": {
    "name": "ipython",
    "version": 3
   },
   "file_extension": ".py",
   "mimetype": "text/x-python",
   "name": "python",
   "nbconvert_exporter": "python",
   "pygments_lexer": "ipython3",
   "version": "3.10.10"
  },
  "toc": {
   "base_numbering": 1,
   "nav_menu": {},
   "number_sections": true,
   "sideBar": true,
   "skip_h1_title": false,
   "title_cell": "Table of Contents",
   "title_sidebar": "Contents",
   "toc_cell": false,
   "toc_position": {},
   "toc_section_display": true,
   "toc_window_display": false
  }
 },
 "nbformat": 4,
 "nbformat_minor": 5
}
