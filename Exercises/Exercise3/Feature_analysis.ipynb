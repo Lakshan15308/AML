{
 "cells": [
  {
   "cell_type": "markdown",
   "id": "cdb72faf",
   "metadata": {},
   "source": [
    "# Applied Machine Learning (2023), exercises\n",
    "\n",
    "\n",
    "## General instructions for all exercises\n",
    "\n",
    "Follow the instructions and fill in your solution under the line marked by tag\n",
    "\n",
    "> YOUR CODE HERE\n",
    "\n",
    "Remove also line \n",
    "\n",
    "> raise NotImplementedError()\n",
    "\n",
    "**Do not change other areas of the document**, since it may disturb the autograding of your results!\n",
    "  \n",
    "Having written the answer, execute the code cell by and pressing `Shift-Enter` key combination. The code is run, and it may print some information under the code cell. The focus automatically moves to the next cell and you may \"execute\" that cell by pressing `Shift-Enter` again, until you have reached the code cell which tests your solution. Execute that and follow the feedback. Usually it either says that the solution seems acceptable, or reports some errors. You can go back to your solution, modify it and repeat everything until you are satisfied. Then proceed to the next task.\n",
    "   \n",
    "Repeat the process for all tasks.\n",
    "\n",
    "The notebook may also contain manually graded answers. Write your manually graded answer under the line marked by tag:\n",
    "\n",
    "> YOUR ANSWER HERE\n",
    "\n",
    "Manually graded tasks are text in markdown format. It may contain text, pseudocode, or mathematical formulas. You can write formulas with $\\LaTeX$-syntax by enclosing the formula with dollar signs (`$`), for example `$f(x)=2 \\pi / \\alpha$`, will produce $f(x)=2 \\pi / \\alpha$\n",
    "\n",
    "When you have passed the tests in the notebook, and you are ready to submit your solutions, validate and submit your solution using the nbgrader tools from the `Nbgrader/Assignment List`-menu.\n"
   ]
  },
  {
   "cell_type": "code",
   "execution_count": null,
   "id": "641f726b",
   "metadata": {},
   "outputs": [],
   "source": []
  },
  {
   "cell_type": "markdown",
   "id": "cbd96b74-b163-4c7c-8c04-fde2e992b34b",
   "metadata": {},
   "source": [
    "## Feature analysis"
   ]
  },
  {
   "cell_type": "code",
   "execution_count": null,
   "id": "3bb3af7e-5431-4b09-91e8-e866ab091545",
   "metadata": {},
   "outputs": [],
   "source": [
    "import numpy as np\n",
    "import matplotlib.pyplot as plt\n",
    "import sklearn.datasets\n",
    "import seaborn as sns\n",
    "import pandas as pd"
   ]
  },
  {
   "cell_type": "markdown",
   "id": "82d6d8f4-a755-4a97-825d-5ad62671bb86",
   "metadata": {},
   "source": [
    "### Get Phoneme data\n",
    "\n",
    "Download Phoneme dataset from [OpenML datasets](https://www.openml.org/search?type=data&sort=runs&status=active) using `sklearn.datasets.fetch_openml()` function. The only mandatory parameter for the fetch_openml() -function is the dataset name, 'phoneme' in this case. The function gets the data, but can complain with some warning messages. You can suppress them by giving two extra optional parameters `version=1` and `parser='auto'`. It will define which version of the dataset you want and how \n",
    "\n",
    "Store the result as a variable called `phoneme`.\n",
    "\n",
    "Study the the data structure returned by the fetch. What data structures it contains. Extract the feature matrix to variable called `X` and the target to variable called `Y`. \n",
    "\n",
    "Find out the number of features and samples and save them to variables called `n` and `p`.\n",
    "\n",
    "*TIP* You can find out that the phoneme data set contains several data structures, and you can think that it is a dictionary, so you can index it like a vector which strings and keys. You can list all available keys using `phoneme.keys()`"
   ]
  },
  {
   "cell_type": "code",
   "execution_count": null,
   "id": "7bea8af3-f171-4829-9fd2-361f554a2d88",
   "metadata": {
    "deletable": false,
    "nbgrader": {
     "cell_type": "code",
     "checksum": "6d15d432201697239cd09985679811d4",
     "grade": false,
     "grade_id": "cell-c926198a12fb72f4",
     "locked": false,
     "schema_version": 3,
     "solution": true,
     "task": false
    }
   },
   "outputs": [],
   "source": [
    "# YOUR CODE HERE\n",
    "raise NotImplementedError()"
   ]
  },
  {
   "cell_type": "code",
   "execution_count": null,
   "id": "4d37290e-c0ae-4ab7-9cfd-16dc359c342e",
   "metadata": {
    "deletable": false,
    "editable": false,
    "nbgrader": {
     "cell_type": "code",
     "checksum": "57b9c0b62fde854bb064faa1da3bc181",
     "grade": true,
     "grade_id": "cell-71bc877570fe52ec",
     "locked": true,
     "points": 3,
     "schema_version": 3,
     "solution": false,
     "task": false
    }
   },
   "outputs": [],
   "source": [
    "if 'phoneme' not in globals():\n",
    "    print(\"phoneme not found! Please read the data to it.\")\n",
    "if 'X' not in globals():\n",
    "    print(\"X not found! Please assign the variable data to it.\")\n",
    "if 'Y' not in globals():\n",
    "    print(\"Y not found! Please assign the target data to it.\")\n",
    "if 'n' not in globals():\n",
    "    print(\"n not found! Please assign the number of samples to it.\")\n",
    "if 'p' not in globals():\n",
    "    print(\"p not found! Please assign the number of variables to it.\")\n",
    "elif type(X)!=pd.DataFrame:\n",
    "    print(f\"p is not a pandas data frame\", type(X))\n",
    "else:\n",
    "    print(\"No errors found this far. Your code may work.\")\n"
   ]
  },
  {
   "cell_type": "markdown",
   "id": "0aa7dc1a-730a-420b-ac27-36a97b180d8a",
   "metadata": {},
   "source": [
    "### Visual examination\n",
    "\n",
    "Use Seaborn to make a pairplot showing how the features are dependent on the target class. Stroe the seaborn image as variable `fig`.\n",
    "\n",
    "It is really usefull to group the data by using the target class as a hue, like in the lecture notes. But it requires merging the target class to the same data frame as the data. Try to make a new dataframe by copying the `X` to `D`. Then add a new column `target` into `D`. This can be easily achieved by simply assigning the `Y` into a new column `D` which does not exist yet. It will be created. \n",
    "\n",
    "**Notice** there may be a lot of warnings, but it should work."
   ]
  },
  {
   "cell_type": "code",
   "execution_count": null,
   "id": "cd4bad5d-eb34-4fc3-a2e3-aa5c5a37cbe0",
   "metadata": {
    "deletable": false,
    "nbgrader": {
     "cell_type": "code",
     "checksum": "98a8a9aaf0908b195e2d379bc9244022",
     "grade": false,
     "grade_id": "cell-6630fe24b42028fd",
     "locked": false,
     "schema_version": 3,
     "solution": true,
     "task": false
    }
   },
   "outputs": [],
   "source": [
    "# YOUR CODE HERE\n",
    "raise NotImplementedError()"
   ]
  },
  {
   "cell_type": "code",
   "execution_count": null,
   "id": "606dc399-db78-4c95-82d1-2303ab4a1b8d",
   "metadata": {
    "deletable": false,
    "editable": false,
    "nbgrader": {
     "cell_type": "code",
     "checksum": "c14d55c5245788534ca10fa90617475c",
     "grade": true,
     "grade_id": "cell-cf6bf1acfcb68451",
     "locked": true,
     "points": 3,
     "schema_version": 3,
     "solution": false,
     "task": false
    }
   },
   "outputs": [],
   "source": [
    "if 'fig' not in globals():\n",
    "    print(\"fig is not defined, please store the pairplot as fig\")\n",
    "else:\n",
    "    print(\"This can work\")\n"
   ]
  },
  {
   "cell_type": "markdown",
   "id": "1d8f371e-4b27-4d96-a1fc-d934394d147d",
   "metadata": {},
   "source": [
    "### Test of normality\n",
    "\n",
    "Test if the variables are normally distributed in each target class using normality test. Place the p-values of the normality test in array or list called `pn`."
   ]
  },
  {
   "cell_type": "code",
   "execution_count": null,
   "id": "42db7cc5-69b9-403e-953a-2a93f576a76e",
   "metadata": {
    "deletable": false,
    "nbgrader": {
     "cell_type": "code",
     "checksum": "91573553bc3491eae0d7e10b379a1fea",
     "grade": false,
     "grade_id": "cell-8c82b9887aaf6940",
     "locked": false,
     "schema_version": 3,
     "solution": true,
     "task": false
    }
   },
   "outputs": [],
   "source": [
    "from scipy.stats import normaltest\n",
    "from scipy.stats import ttest_ind \n",
    "from scipy.stats import mannwhitneyu\n",
    "\n",
    "# YOUR CODE HERE\n",
    "raise NotImplementedError()"
   ]
  },
  {
   "cell_type": "code",
   "execution_count": null,
   "id": "84040ac8-bda8-4d37-aa64-adc06e5d8207",
   "metadata": {
    "deletable": false,
    "editable": false,
    "nbgrader": {
     "cell_type": "code",
     "checksum": "a9dfe8769de2ecbd41cd3c5ef60a039b",
     "grade": true,
     "grade_id": "cell-ec1ad1b5a4d4275b",
     "locked": true,
     "points": 2,
     "schema_version": 3,
     "solution": false,
     "task": false
    }
   },
   "outputs": [],
   "source": [
    "if 'pn' not in globals():\n",
    "    print(\"pn is not defined, please store the p-values as pn\")\n",
    "if len(pn)<5:\n",
    "    print(\"There seems not be be all p-values included in pn\")\n",
    "else:\n",
    "    print(\"This can work\")\n",
    "\n"
   ]
  },
  {
   "cell_type": "markdown",
   "id": "cd686d1f-6c62-400a-8206-3834891a3de0",
   "metadata": {},
   "source": [
    "### Test of mean\n",
    "\n",
    "Use suitable test to see if the means of each feature are significantly different in different targets. Store the P-value of the test for each variable as array or list `pm`."
   ]
  },
  {
   "cell_type": "code",
   "execution_count": null,
   "id": "1e24dcdf-3576-4607-b84e-6eec1c7cda61",
   "metadata": {
    "deletable": false,
    "nbgrader": {
     "cell_type": "code",
     "checksum": "d6c68ed4f6b1bf1826819854e4fcd915",
     "grade": false,
     "grade_id": "cell-f00b53387ee5843e",
     "locked": false,
     "schema_version": 3,
     "solution": true,
     "task": false
    }
   },
   "outputs": [],
   "source": [
    "\n",
    "# YOUR CODE HERE\n",
    "raise NotImplementedError()"
   ]
  },
  {
   "cell_type": "code",
   "execution_count": null,
   "id": "8ad654f8-13e3-4381-83f7-fac736e6393d",
   "metadata": {
    "deletable": false,
    "editable": false,
    "nbgrader": {
     "cell_type": "code",
     "checksum": "98288fa618f951a82c9601ec161915de",
     "grade": true,
     "grade_id": "cell-29306351ebc5576b",
     "locked": true,
     "points": 2,
     "schema_version": 3,
     "solution": false,
     "task": false
    }
   },
   "outputs": [],
   "source": [
    "if 'pm' not in globals():\n",
    "    print(\"pm is not defined, please store the p-values as pm\")\n",
    "if len(pn)<5:\n",
    "    print(\"There seems not be be all p-values included in pm\")\n",
    "else:\n",
    "    print(\"This can work\")\n",
    "\n"
   ]
  },
  {
   "cell_type": "markdown",
   "id": "2dcbe8e0-b81b-4147-a7a1-70932d27b2e1",
   "metadata": {},
   "source": [
    "### The result\n",
    "Are the means significantly different or not?"
   ]
  },
  {
   "cell_type": "markdown",
   "id": "1406eb67-6a61-463f-b1e9-702bd65daa1e",
   "metadata": {
    "deletable": false,
    "nbgrader": {
     "cell_type": "markdown",
     "checksum": "ffd5f8d5a0df1ef4ccbb0c5709b83029",
     "grade": true,
     "grade_id": "cell-811f71d97c1f3b35",
     "locked": false,
     "points": 0,
     "schema_version": 3,
     "solution": true,
     "task": false
    }
   },
   "source": [
    "YOUR ANSWER HERE"
   ]
  }
 ],
 "metadata": {
  "kernelspec": {
   "display_name": "Python 3 (ipykernel)",
   "language": "python",
   "name": "python3"
  },
  "language_info": {
   "codemirror_mode": {
    "name": "ipython",
    "version": 3
   },
   "file_extension": ".py",
   "mimetype": "text/x-python",
   "name": "python",
   "nbconvert_exporter": "python",
   "pygments_lexer": "ipython3",
   "version": "3.10.10"
  }
 },
 "nbformat": 4,
 "nbformat_minor": 5
}
