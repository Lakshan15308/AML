{
 "cells": [
  {
   "cell_type": "markdown",
   "metadata": {},
   "source": [
    "## Soil moisture prediction (Regression)\n",
    "A remote sensing system provides spectral images of soil, which is used to predict the soil moisture. The spectral data contains a matrix of reflected ligth at different wavelengts from one location. At the same time, the true soil moisture and temperature were measured with an accurate reference method. "
   ]
  },
  {
   "cell_type": "markdown",
   "metadata": {},
   "source": [
    "## Task 1\n",
    "\n",
    "\n",
    "### Read the data\n",
    "\n",
    "- Read a CSV-file, called `soilmoisture_dataset.csv`\n",
    "- Extract all the columns which has a wavelength number as column header to your design matrix X\n",
    "- Use the `soil_moisture` -column as dependent variable, y\n",
    "\n",
    "\n",
    "### Make training set and test set\n",
    "Separate your data X and y to training set (X_train, y_train) which contains 75% of the data and to the test set X_test, y_test which contains 25% of the data."
   ]
  },
  {
   "cell_type": "code",
   "execution_count": 1,
   "metadata": {
    "ExecuteTime": {
     "end_time": "2022-11-18T11:56:50.127184Z",
     "start_time": "2022-11-18T11:56:49.394059Z"
    }
   },
   "outputs": [],
   "source": [
    "import matplotlib.pyplot as plt\n",
    "import pandas as pd\n",
    "import numpy as np"
   ]
  },
  {
   "cell_type": "code",
   "execution_count": 2,
   "metadata": {
    "ExecuteTime": {
     "end_time": "2022-11-18T11:56:56.067596Z",
     "start_time": "2022-11-18T11:56:55.478990Z"
    },
    "nbgrader": {
     "grade": false,
     "grade_id": "cell-7ccfa9a73a1d6f54",
     "locked": false,
     "schema_version": 3,
     "solution": true,
     "task": false
    }
   },
   "outputs": [
    {
     "ename": "NotImplementedError",
     "evalue": "",
     "output_type": "error",
     "traceback": [
      "\u001b[0;31m---------------------------------------------------------------------------\u001b[0m",
      "\u001b[0;31mNotImplementedError\u001b[0m                       Traceback (most recent call last)",
      "Cell \u001b[0;32mIn[2], line 2\u001b[0m\n\u001b[1;32m      1\u001b[0m \u001b[38;5;66;03m# YOUR CODE HERE\u001b[39;00m\n\u001b[0;32m----> 2\u001b[0m \u001b[38;5;28;01mraise\u001b[39;00m \u001b[38;5;167;01mNotImplementedError\u001b[39;00m()\n",
      "\u001b[0;31mNotImplementedError\u001b[0m: "
     ]
    }
   ],
   "source": [
    "# YOUR CODE HERE\n",
    "raise NotImplementedError()\n"
   ]
  },
  {
   "cell_type": "code",
   "execution_count": 3,
   "metadata": {
    "ExecuteTime": {
     "end_time": "2022-11-18T12:02:34.074329Z",
     "start_time": "2022-11-18T12:02:34.065783Z"
    },
    "nbgrader": {
     "grade": true,
     "grade_id": "cell-813c7fc121f0d455",
     "locked": true,
     "points": 2,
     "schema_version": 3,
     "solution": false,
     "task": false
    }
   },
   "outputs": [
    {
     "name": "stdout",
     "output_type": "stream",
     "text": [
      "(509, 125) (170, 125) (509,) (170,) (679, 128)\n"
     ]
    },
    {
     "data": {
      "text/html": [
       "<div>\n",
       "<style scoped>\n",
       "    .dataframe tbody tr th:only-of-type {\n",
       "        vertical-align: middle;\n",
       "    }\n",
       "\n",
       "    .dataframe tbody tr th {\n",
       "        vertical-align: top;\n",
       "    }\n",
       "\n",
       "    .dataframe thead th {\n",
       "        text-align: right;\n",
       "    }\n",
       "</style>\n",
       "<table border=\"1\" class=\"dataframe\">\n",
       "  <thead>\n",
       "    <tr style=\"text-align: right;\">\n",
       "      <th></th>\n",
       "      <th>454</th>\n",
       "      <th>458</th>\n",
       "      <th>462</th>\n",
       "      <th>466</th>\n",
       "      <th>470</th>\n",
       "      <th>474</th>\n",
       "      <th>478</th>\n",
       "      <th>482</th>\n",
       "      <th>486</th>\n",
       "      <th>490</th>\n",
       "      <th>...</th>\n",
       "      <th>914</th>\n",
       "      <th>918</th>\n",
       "      <th>922</th>\n",
       "      <th>926</th>\n",
       "      <th>930</th>\n",
       "      <th>934</th>\n",
       "      <th>938</th>\n",
       "      <th>942</th>\n",
       "      <th>946</th>\n",
       "      <th>950</th>\n",
       "    </tr>\n",
       "    <tr>\n",
       "      <th>datetime</th>\n",
       "      <th></th>\n",
       "      <th></th>\n",
       "      <th></th>\n",
       "      <th></th>\n",
       "      <th></th>\n",
       "      <th></th>\n",
       "      <th></th>\n",
       "      <th></th>\n",
       "      <th></th>\n",
       "      <th></th>\n",
       "      <th></th>\n",
       "      <th></th>\n",
       "      <th></th>\n",
       "      <th></th>\n",
       "      <th></th>\n",
       "      <th></th>\n",
       "      <th></th>\n",
       "      <th></th>\n",
       "      <th></th>\n",
       "      <th></th>\n",
       "      <th></th>\n",
       "    </tr>\n",
       "  </thead>\n",
       "  <tbody>\n",
       "    <tr>\n",
       "      <th>2017-05-23 14:06:17</th>\n",
       "      <td>0.082131</td>\n",
       "      <td>0.055863</td>\n",
       "      <td>0.050047</td>\n",
       "      <td>0.047925</td>\n",
       "      <td>0.047498</td>\n",
       "      <td>0.046464</td>\n",
       "      <td>0.046669</td>\n",
       "      <td>0.046834</td>\n",
       "      <td>0.047469</td>\n",
       "      <td>0.048608</td>\n",
       "      <td>...</td>\n",
       "      <td>0.152845</td>\n",
       "      <td>0.152615</td>\n",
       "      <td>0.152927</td>\n",
       "      <td>0.154240</td>\n",
       "      <td>0.155018</td>\n",
       "      <td>0.154725</td>\n",
       "      <td>0.154682</td>\n",
       "      <td>0.154275</td>\n",
       "      <td>0.153477</td>\n",
       "      <td>0.153929</td>\n",
       "    </tr>\n",
       "    <tr>\n",
       "      <th>2017-05-23 14:08:17</th>\n",
       "      <td>0.079510</td>\n",
       "      <td>0.055326</td>\n",
       "      <td>0.049116</td>\n",
       "      <td>0.047579</td>\n",
       "      <td>0.046745</td>\n",
       "      <td>0.046833</td>\n",
       "      <td>0.046329</td>\n",
       "      <td>0.047021</td>\n",
       "      <td>0.047660</td>\n",
       "      <td>0.048272</td>\n",
       "      <td>...</td>\n",
       "      <td>0.152715</td>\n",
       "      <td>0.153102</td>\n",
       "      <td>0.153551</td>\n",
       "      <td>0.153590</td>\n",
       "      <td>0.153688</td>\n",
       "      <td>0.153370</td>\n",
       "      <td>0.154021</td>\n",
       "      <td>0.155543</td>\n",
       "      <td>0.156220</td>\n",
       "      <td>0.156727</td>\n",
       "    </tr>\n",
       "    <tr>\n",
       "      <th>2017-05-23 14:10:17</th>\n",
       "      <td>0.080599</td>\n",
       "      <td>0.054065</td>\n",
       "      <td>0.049150</td>\n",
       "      <td>0.047537</td>\n",
       "      <td>0.046525</td>\n",
       "      <td>0.046032</td>\n",
       "      <td>0.046276</td>\n",
       "      <td>0.046886</td>\n",
       "      <td>0.047230</td>\n",
       "      <td>0.048611</td>\n",
       "      <td>...</td>\n",
       "      <td>0.152362</td>\n",
       "      <td>0.152158</td>\n",
       "      <td>0.153204</td>\n",
       "      <td>0.153942</td>\n",
       "      <td>0.154610</td>\n",
       "      <td>0.154629</td>\n",
       "      <td>0.155609</td>\n",
       "      <td>0.155545</td>\n",
       "      <td>0.154884</td>\n",
       "      <td>0.154485</td>\n",
       "    </tr>\n",
       "    <tr>\n",
       "      <th>2017-05-23 14:12:17</th>\n",
       "      <td>0.078024</td>\n",
       "      <td>0.054972</td>\n",
       "      <td>0.049052</td>\n",
       "      <td>0.047920</td>\n",
       "      <td>0.046883</td>\n",
       "      <td>0.046775</td>\n",
       "      <td>0.046835</td>\n",
       "      <td>0.046996</td>\n",
       "      <td>0.047565</td>\n",
       "      <td>0.048465</td>\n",
       "      <td>...</td>\n",
       "      <td>0.153281</td>\n",
       "      <td>0.153990</td>\n",
       "      <td>0.154499</td>\n",
       "      <td>0.155012</td>\n",
       "      <td>0.154691</td>\n",
       "      <td>0.154643</td>\n",
       "      <td>0.155405</td>\n",
       "      <td>0.155918</td>\n",
       "      <td>0.157645</td>\n",
       "      <td>0.157824</td>\n",
       "    </tr>\n",
       "    <tr>\n",
       "      <th>2017-05-23 14:14:17</th>\n",
       "      <td>0.079973</td>\n",
       "      <td>0.055335</td>\n",
       "      <td>0.049314</td>\n",
       "      <td>0.047373</td>\n",
       "      <td>0.047028</td>\n",
       "      <td>0.046963</td>\n",
       "      <td>0.046763</td>\n",
       "      <td>0.047051</td>\n",
       "      <td>0.048083</td>\n",
       "      <td>0.048178</td>\n",
       "      <td>...</td>\n",
       "      <td>0.152803</td>\n",
       "      <td>0.153085</td>\n",
       "      <td>0.153295</td>\n",
       "      <td>0.154230</td>\n",
       "      <td>0.155071</td>\n",
       "      <td>0.155624</td>\n",
       "      <td>0.156504</td>\n",
       "      <td>0.156859</td>\n",
       "      <td>0.156634</td>\n",
       "      <td>0.156176</td>\n",
       "    </tr>\n",
       "  </tbody>\n",
       "</table>\n",
       "<p>5 rows × 125 columns</p>\n",
       "</div>"
      ],
      "text/plain": [
       "                          454       458       462       466       470  \\\n",
       "datetime                                                                \n",
       "2017-05-23 14:06:17  0.082131  0.055863  0.050047  0.047925  0.047498   \n",
       "2017-05-23 14:08:17  0.079510  0.055326  0.049116  0.047579  0.046745   \n",
       "2017-05-23 14:10:17  0.080599  0.054065  0.049150  0.047537  0.046525   \n",
       "2017-05-23 14:12:17  0.078024  0.054972  0.049052  0.047920  0.046883   \n",
       "2017-05-23 14:14:17  0.079973  0.055335  0.049314  0.047373  0.047028   \n",
       "\n",
       "                          474       478       482       486       490  ...  \\\n",
       "datetime                                                               ...   \n",
       "2017-05-23 14:06:17  0.046464  0.046669  0.046834  0.047469  0.048608  ...   \n",
       "2017-05-23 14:08:17  0.046833  0.046329  0.047021  0.047660  0.048272  ...   \n",
       "2017-05-23 14:10:17  0.046032  0.046276  0.046886  0.047230  0.048611  ...   \n",
       "2017-05-23 14:12:17  0.046775  0.046835  0.046996  0.047565  0.048465  ...   \n",
       "2017-05-23 14:14:17  0.046963  0.046763  0.047051  0.048083  0.048178  ...   \n",
       "\n",
       "                          914       918       922       926       930  \\\n",
       "datetime                                                                \n",
       "2017-05-23 14:06:17  0.152845  0.152615  0.152927  0.154240  0.155018   \n",
       "2017-05-23 14:08:17  0.152715  0.153102  0.153551  0.153590  0.153688   \n",
       "2017-05-23 14:10:17  0.152362  0.152158  0.153204  0.153942  0.154610   \n",
       "2017-05-23 14:12:17  0.153281  0.153990  0.154499  0.155012  0.154691   \n",
       "2017-05-23 14:14:17  0.152803  0.153085  0.153295  0.154230  0.155071   \n",
       "\n",
       "                          934       938       942       946       950  \n",
       "datetime                                                               \n",
       "2017-05-23 14:06:17  0.154725  0.154682  0.154275  0.153477  0.153929  \n",
       "2017-05-23 14:08:17  0.153370  0.154021  0.155543  0.156220  0.156727  \n",
       "2017-05-23 14:10:17  0.154629  0.155609  0.155545  0.154884  0.154485  \n",
       "2017-05-23 14:12:17  0.154643  0.155405  0.155918  0.157645  0.157824  \n",
       "2017-05-23 14:14:17  0.155624  0.156504  0.156859  0.156634  0.156176  \n",
       "\n",
       "[5 rows x 125 columns]"
      ]
     },
     "metadata": {},
     "output_type": "display_data"
    },
    {
     "data": {
      "text/plain": [
       "2.0"
      ]
     },
     "execution_count": 3,
     "metadata": {},
     "output_type": "execute_result"
    }
   ],
   "source": [
    "errorfound=False\n",
    "require=('X', 'y')\n",
    "for var in require:\n",
    "    if var not in globals():\n",
    "        print(var, \"not found! Please define it.\")\n",
    "        errorfound=True\n",
    "\n",
    "### BEGIN HIDDEN TESTS\n",
    "print(X_train.shape, X_test.shape, y_train.shape, y_test.shape, D.shape)\n",
    "display(X.head())\n",
    "\n",
    "if errorfound:\n",
    "    points=0\n",
    "else:\n",
    "    points=1\n",
    "if (X_train.shape[1]==125) and (abs(X_train.shape[0]-509)<10):\n",
    "    points+=0.5\n",
    "if (X_test.shape[1]==125):\n",
    "    points+=0.5\n",
    "points\n",
    "### END HIDDEN TESTS"
   ]
  },
  {
   "cell_type": "markdown",
   "metadata": {},
   "source": [
    "## Task 2\n",
    "\n",
    "- Study the data, select a regression algorithm for predicting the moisture\n",
    "- Train the regression algorithm using the training data.\n",
    "- Use cross validation to test the performance of the regressor and tune it's parameters\n",
    "- Finally test the regressor with the test set\n",
    "- Report the score (= $R^2$ = coefficient of determination) of the regressor in the training set, cross validation and in the test set\n",
    "- Plot the predicted moisture against the known moisture\n",
    "- What does the $R^2$ score tells? \n",
    "- What is your opinion of the performance? Is there signs of overfitting?"
   ]
  },
  {
   "cell_type": "code",
   "execution_count": 3,
   "metadata": {
    "ExecuteTime": {
     "end_time": "2022-11-18T12:02:47.365432Z",
     "start_time": "2022-11-18T12:02:45.655047Z"
    },
    "nbgrader": {
     "grade": false,
     "grade_id": "cell-93a0d47f20379f85",
     "locked": false,
     "schema_version": 3,
     "solution": true,
     "task": false
    }
   },
   "outputs": [
    {
     "ename": "NotImplementedError",
     "evalue": "",
     "output_type": "error",
     "traceback": [
      "\u001b[0;31m---------------------------------------------------------------------------\u001b[0m",
      "\u001b[0;31mNotImplementedError\u001b[0m                       Traceback (most recent call last)",
      "Cell \u001b[0;32mIn[3], line 4\u001b[0m\n\u001b[1;32m      1\u001b[0m \u001b[38;5;28;01mfrom\u001b[39;00m \u001b[38;5;21;01msklearn\u001b[39;00m\u001b[38;5;21;01m.\u001b[39;00m\u001b[38;5;21;01mpipeline\u001b[39;00m \u001b[38;5;28;01mimport\u001b[39;00m Pipeline\n\u001b[1;32m      3\u001b[0m \u001b[38;5;66;03m# YOUR CODE HERE\u001b[39;00m\n\u001b[0;32m----> 4\u001b[0m \u001b[38;5;28;01mraise\u001b[39;00m \u001b[38;5;167;01mNotImplementedError\u001b[39;00m()\n\u001b[1;32m      7\u001b[0m \u001b[38;5;28mprint\u001b[39m(\u001b[38;5;124m\"\u001b[39m\u001b[38;5;124mAccurary in the training set..\u001b[39m\u001b[38;5;132;01m%f\u001b[39;00m\u001b[38;5;124m\"\u001b[39m \u001b[38;5;241m%\u001b[39m train_score)\n\u001b[1;32m      8\u001b[0m \u001b[38;5;28mprint\u001b[39m(\u001b[38;5;124m\"\u001b[39m\u001b[38;5;124mAccurary in crossvalidation...\u001b[39m\u001b[38;5;132;01m%f\u001b[39;00m\u001b[38;5;124m\"\u001b[39m \u001b[38;5;241m%\u001b[39m cv_score)\n",
      "\u001b[0;31mNotImplementedError\u001b[0m: "
     ]
    }
   ],
   "source": [
    "from sklearn.pipeline import Pipeline\n",
    "\n",
    "# YOUR CODE HERE\n",
    "raise NotImplementedError()\n",
    "\n",
    "\n",
    "print(\"Accurary in the training set..%f\" % train_score)\n",
    "print(\"Accurary in crossvalidation...%f\" % cv_score)\n",
    "print(\"Accurary in the test set......%f\" % test_score)\n"
   ]
  },
  {
   "cell_type": "code",
   "execution_count": 5,
   "metadata": {
    "ExecuteTime": {
     "end_time": "2022-11-18T12:41:11.605297Z",
     "start_time": "2022-11-18T12:41:11.596369Z"
    },
    "nbgrader": {
     "grade": true,
     "grade_id": "cell-04912d6dd5d188c3",
     "locked": true,
     "points": 4,
     "schema_version": 3,
     "solution": false,
     "task": false
    }
   },
   "outputs": [
    {
     "data": {
      "text/plain": [
       "4"
      ]
     },
     "execution_count": 5,
     "metadata": {},
     "output_type": "execute_result"
    }
   ],
   "source": [
    "# The coefficient of determination should be above 0.9 in the\n",
    "# test set depending on your regression algorithm and parameters\n",
    "\n",
    "errorfound=False\n",
    "require=('train_score', 'cv_score', 'test_score')\n",
    "for var in require:\n",
    "    if var not in globals():\n",
    "        print(var, \"not found! Please define it.\")\n",
    "        errorfound=True\n",
    "\n",
    "assert(train_score>0.85), \"Try again, if you can get better accuracy by tuning the regressor parameters\"\n",
    "\n",
    "### BEGIN HIDDEN TESTS\n",
    "if errorfound:\n",
    "    points=0\n",
    "else:\n",
    "    points=2\n",
    "if (test_score>0.9):\n",
    "    points+=1\n",
    "if (cv_score>0.9):\n",
    "    points+=1    \n",
    "### END HIDDEN TESTS\n",
    "\n",
    "points"
   ]
  },
  {
   "cell_type": "markdown",
   "metadata": {},
   "source": [
    "## Task 3, Select the best features\n",
    "\n",
    "Like it often is, some features are more important for regression than the others. \n",
    "\n",
    "- Study which features are the most important for predicting the moisture. If you used Extratrees regressor or GradientBoostedTree regressor, then you can use the .feature_importances vector. Another option is to use LASSO or Elastic net models and SelectFromModel to reduce unimportant features.\n",
    "- Plot a bar graph to visualize the importance of features\n",
    "- To check the importance of a single variable, plot a scatter plot using true moisture in x-axis and the value of the most important variable in y-axis.\n",
    "- Study the shape of the dependency. Is it linear or nonlinear?\n",
    "- Make a vector `features` which contains the names of the 10 most important features in decreasing order\n",
    "\n",
    "Name your variables according to the following table, in order to make the autograder tests to work:\n",
    "\n",
    "| Variable | Name |\n",
    "| -------- | ------|\n",
    "| Best features | `features` |\n",
    "| Barplot | `barplot` |\n",
    "| Scatter plot  | `scatterplot` |"
   ]
  },
  {
   "cell_type": "code",
   "execution_count": 4,
   "metadata": {
    "ExecuteTime": {
     "end_time": "2022-11-18T12:16:54.342319Z",
     "start_time": "2022-11-18T12:16:53.895958Z"
    },
    "nbgrader": {
     "grade": false,
     "grade_id": "cell-515bf1cb9ed3beee",
     "locked": false,
     "schema_version": 3,
     "solution": true,
     "task": false
    }
   },
   "outputs": [
    {
     "ename": "NotImplementedError",
     "evalue": "",
     "output_type": "error",
     "traceback": [
      "\u001b[0;31m---------------------------------------------------------------------------\u001b[0m",
      "\u001b[0;31mNotImplementedError\u001b[0m                       Traceback (most recent call last)",
      "Cell \u001b[0;32mIn[4], line 9\u001b[0m\n\u001b[1;32m      1\u001b[0m features\u001b[38;5;241m=\u001b[39m[]\n\u001b[1;32m      3\u001b[0m \u001b[38;5;66;03m# You may find these lines usefull, in making the barplot\u001b[39;00m\n\u001b[1;32m      4\u001b[0m \u001b[38;5;66;03m#x=range(len(i))\u001b[39;00m\n\u001b[1;32m      5\u001b[0m \u001b[38;5;66;03m#barplot=plt.bar(....)\u001b[39;00m\n\u001b[1;32m      6\u001b[0m \u001b[38;5;66;03m#plt.xticks(x, X.columns[i], rotation='vertical');\u001b[39;00m\n\u001b[1;32m      7\u001b[0m \n\u001b[1;32m      8\u001b[0m \u001b[38;5;66;03m# YOUR CODE HERE\u001b[39;00m\n\u001b[0;32m----> 9\u001b[0m \u001b[38;5;28;01mraise\u001b[39;00m \u001b[38;5;167;01mNotImplementedError\u001b[39;00m()\n",
      "\u001b[0;31mNotImplementedError\u001b[0m: "
     ]
    }
   ],
   "source": [
    "features=[]\n",
    "\n",
    "# You may find these lines usefull, in making the barplot\n",
    "#x=range(len(i))\n",
    "#barplot=plt.bar(....)\n",
    "#plt.xticks(x, X.columns[i], rotation='vertical');\n",
    "\n",
    "# YOUR CODE HERE\n",
    "raise NotImplementedError()\n"
   ]
  },
  {
   "cell_type": "code",
   "execution_count": 5,
   "metadata": {
    "ExecuteTime": {
     "end_time": "2022-11-18T12:19:49.842404Z",
     "start_time": "2022-11-18T12:19:49.835141Z"
    },
    "nbgrader": {
     "grade": true,
     "grade_id": "cell-35fdf7b370e0abb8",
     "locked": true,
     "points": 4,
     "schema_version": 3,
     "solution": false,
     "task": false
    }
   },
   "outputs": [
    {
     "name": "stdout",
     "output_type": "stream",
     "text": [
      "barplot not found! Please define it.\n",
      "scatterplot not found! Please define it.\n"
     ]
    },
    {
     "ename": "AssertionError",
     "evalue": "Please put the names of three most important features in list features!",
     "output_type": "error",
     "traceback": [
      "\u001b[0;31m---------------------------------------------------------------------------\u001b[0m",
      "\u001b[0;31mAssertionError\u001b[0m                            Traceback (most recent call last)",
      "Cell \u001b[0;32mIn[5], line 8\u001b[0m\n\u001b[1;32m      5\u001b[0m         \u001b[38;5;28mprint\u001b[39m(var, \u001b[38;5;124m\"\u001b[39m\u001b[38;5;124mnot found! Please define it.\u001b[39m\u001b[38;5;124m\"\u001b[39m)\n\u001b[1;32m      6\u001b[0m         errorfound\u001b[38;5;241m=\u001b[39m\u001b[38;5;28;01mTrue\u001b[39;00m\n\u001b[0;32m----> 8\u001b[0m \u001b[38;5;28;01massert\u001b[39;00m(\u001b[38;5;28mlen\u001b[39m(features)\u001b[38;5;241m==\u001b[39m\u001b[38;5;241m10\u001b[39m), \u001b[38;5;124m\"\u001b[39m\u001b[38;5;124mPlease put the names of three most important features in list features!\u001b[39m\u001b[38;5;124m\"\u001b[39m\n\u001b[1;32m     10\u001b[0m \u001b[38;5;66;03m### BEGIN HIDDEN TESTS\u001b[39;00m\n\u001b[1;32m     11\u001b[0m \u001b[38;5;28;01mif\u001b[39;00m errorfound:\n",
      "\u001b[0;31mAssertionError\u001b[0m: Please put the names of three most important features in list features!"
     ]
    }
   ],
   "source": [
    "errorfound=False\n",
    "require=('features', 'barplot', 'scatterplot')\n",
    "for var in require:\n",
    "    if var not in globals():\n",
    "        print(var, \"not found! Please define it.\")\n",
    "        errorfound=True\n",
    "\n",
    "assert(len(features)==10), \"Please put the names of three most important features in list features!\"\n",
    "\n",
    "### BEGIN HIDDEN TESTS\n",
    "if errorfound:\n",
    "    points=0\n",
    "else:\n",
    "    points=1\n",
    "    \n",
    "print(features)\n",
    "\n",
    "if scatterplot.draw:\n",
    "    points+=1\n",
    "if barplot.index:\n",
    "    points+=1\n",
    "\n",
    "for feature in features:\n",
    "    if feature.startswith('8'):\n",
    "        print(\"Yes\", feature)\n",
    "        points+=1\n",
    "        break\n",
    "### END HIDDEN TESTS\n",
    "points"
   ]
  },
  {
   "cell_type": "code",
   "execution_count": null,
   "metadata": {},
   "outputs": [],
   "source": []
  }
 ],
 "metadata": {
  "celltoolbar": "Create Assignment",
  "kernelspec": {
   "display_name": "Python 3 (ipykernel)",
   "language": "python",
   "name": "python3"
  },
  "language_info": {
   "codemirror_mode": {
    "name": "ipython",
    "version": 3
   },
   "file_extension": ".py",
   "mimetype": "text/x-python",
   "name": "python",
   "nbconvert_exporter": "python",
   "pygments_lexer": "ipython3",
   "version": "3.11.6"
  },
  "toc": {
   "base_numbering": 1,
   "nav_menu": {},
   "number_sections": true,
   "sideBar": true,
   "skip_h1_title": false,
   "title_cell": "Table of Contents",
   "title_sidebar": "Contents",
   "toc_cell": false,
   "toc_position": {},
   "toc_section_display": true,
   "toc_window_display": false
  },
  "varInspector": {
   "cols": {
    "lenName": 16,
    "lenType": 16,
    "lenVar": 40
   },
   "kernels_config": {
    "python": {
     "delete_cmd_postfix": "",
     "delete_cmd_prefix": "del ",
     "library": "var_list.py",
     "varRefreshCmd": "print(var_dic_list())"
    },
    "r": {
     "delete_cmd_postfix": ") ",
     "delete_cmd_prefix": "rm(",
     "library": "var_list.r",
     "varRefreshCmd": "cat(var_dic_list()) "
    }
   },
   "types_to_exclude": [
    "module",
    "function",
    "builtin_function_or_method",
    "instance",
    "_Feature"
   ],
   "window_display": false
  }
 },
 "nbformat": 4,
 "nbformat_minor": 4
}
