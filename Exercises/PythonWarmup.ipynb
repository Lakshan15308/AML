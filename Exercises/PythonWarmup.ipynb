{
 "cells": [
  {
   "cell_type": "markdown",
   "id": "daffe2b8",
   "metadata": {},
   "source": [
    "# Python warmup"
   ]
  },
  {
   "cell_type": "markdown",
   "id": "fe141740",
   "metadata": {},
   "source": [
    "## Create a  python data structures\n",
    "\n",
    "1. Create a scalar variable, and print it\n",
    "1. Create a python list and print it using function `list()` or directly with syntax `l=[1,4,2,3]`\n",
    "1. Create a [numpy array](https://numpy.org/doc/stable/reference/generated/numpy.array.html) and print it. Tip: Import numpy library first by using: ```import numpy as np``` \n",
    "\n",
    "Python lists are suitable in many cases, but they are not efficient for large amounts of data or mathematical operations. Numpy arrays include a lot of useful functions which are packaged in numpy arrays."
   ]
  },
  {
   "cell_type": "code",
   "execution_count": null,
   "id": "25ac66c7",
   "metadata": {},
   "outputs": [],
   "source": []
  },
  {
   "cell_type": "markdown",
   "id": "e0f3db40",
   "metadata": {},
   "source": [
    "## Use numpy functions for creating arrays\n",
    "\n",
    "1. Create a numpy array which has 100 consequent values between 0 and $\\pi$ using [np.linspace()](https://numpy.org/doc/stable/reference/generated/numpy.linspace.html?highlight=linspace#numpy.linspace). Use ```np.pi``` as constant for $\\pi$.\n",
    "1. Create a two-dimensional array of 5x5 [zeros](https://numpy.org/doc/stable/reference/generated/numpy.zeros.html?highlight=zeros#numpy.zeros) or 5x5 [ones](https://numpy.org/doc/stable/reference/generated/numpy.ones.html?highlight=ones#numpy.ones). using appropriate functions\n",
    "1. Create one more 2 dimensional array with the following code ```A=np.array([[1,2,3], [4,5,6]])```\n",
    "\n",
    "**TIP:** to find out what other functions or constants are included in NumPy package, write `np.` in the command line, and press TAB-key to get a list of possible completions, or SHIFT-TAB to get the help window."
   ]
  },
  {
   "cell_type": "code",
   "execution_count": null,
   "id": "3971e609",
   "metadata": {},
   "outputs": [],
   "source": [
    "np."
   ]
  },
  {
   "cell_type": "markdown",
   "id": "d8f663ae",
   "metadata": {},
   "source": [
    "## Manipulate data structures\n",
    "1. Study the shape of previously created numpy arrays by using function ```.shape()``` included in the arrays you created.\n",
    "1. Try to calculate also the sum of all values in those arrays with ```.sum()``` function.\n",
    "1. Transpose a two dimensional array with function ```.T``` for example ```A.T```\n",
    "1. Transposing a one dimensional array looks sadly slightly illogical, because it needs to be also converted to two dimensional at the same time. The row vector `x` can be transposed to column vector with syntax `x.reshape(-1,1)`. Try it for some row vectors. \n",
    "1. Try also to transpose the column vector back to row vector\n"
   ]
  },
  {
   "cell_type": "code",
   "execution_count": null,
   "id": "6766a2fb",
   "metadata": {},
   "outputs": [],
   "source": []
  },
  {
   "cell_type": "markdown",
   "id": "22cb05dc",
   "metadata": {},
   "source": [
    "## Summary\n",
    "1. NumPy arrays are very important data structures in Python for machine learning and mathematical operations\n",
    "1. Numpy arrays can be 1 dimensional or many dimensional\n",
    "1. Two dimensional arrays can be transposed like matrices in mathematics \n",
    "1. Numpy arrays contain a large amount of functions which can be applied to their content"
   ]
  },
  {
   "cell_type": "code",
   "execution_count": null,
   "id": "a93c443a",
   "metadata": {},
   "outputs": [],
   "source": []
  }
 ],
 "metadata": {
  "kernelspec": {
   "display_name": "Python 3 (ipykernel)",
   "language": "python",
   "name": "python3"
  },
  "language_info": {
   "codemirror_mode": {
    "name": "ipython",
    "version": 3
   },
   "file_extension": ".py",
   "mimetype": "text/x-python",
   "name": "python",
   "nbconvert_exporter": "python",
   "pygments_lexer": "ipython3",
   "version": "3.9.2"
  },
  "toc": {
   "base_numbering": 1,
   "nav_menu": {},
   "number_sections": true,
   "sideBar": true,
   "skip_h1_title": false,
   "title_cell": "Table of Contents",
   "title_sidebar": "Contents",
   "toc_cell": false,
   "toc_position": {},
   "toc_section_display": true,
   "toc_window_display": false
  }
 },
 "nbformat": 4,
 "nbformat_minor": 5
}
