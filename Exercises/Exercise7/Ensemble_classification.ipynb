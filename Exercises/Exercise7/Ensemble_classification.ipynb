{
 "cells": [
  {
   "cell_type": "markdown",
   "id": "437096ad-2d38-41a3-9d96-273e0afde5fe",
   "metadata": {},
   "source": [
    "# Ensemble classification and hyperparameter tuning\n",
    "## Preparations"
   ]
  },
  {
   "cell_type": "code",
   "execution_count": 2,
   "id": "9557c18b-3e35-4650-a009-cf6cd4adca7a",
   "metadata": {},
   "outputs": [],
   "source": [
    "import numpy as np\n",
    "import pandas as pd\n",
    "import matplotlib.pyplot as plt\n",
    "import seaborn as sns\n",
    "sns.set()  # for plot styling"
   ]
  },
  {
   "cell_type": "code",
   "execution_count": 3,
   "id": "ba0bbfb2-0a3e-40eb-b587-3ff45e53cac0",
   "metadata": {},
   "outputs": [
    {
     "name": "stdout",
     "output_type": "stream",
     "text": [
      "['collagen' 'glycogen' 'lipids' 'DNA']\n"
     ]
    }
   ],
   "source": [
    "# Read the previously used liver spectroscopy data set\n",
    "D = pd.read_table('liver-spectroscopy.tab')\n",
    "\n",
    "# Print the classes\n",
    "print(D.type.unique())\n",
    "\n",
    "# Separate the true classes out from the data, into separate variable\n",
    "types=pd.Categorical(D.type)"
   ]
  },
  {
   "cell_type": "code",
   "execution_count": 4,
   "id": "4a65628d-654f-4323-851c-c5ac974c0637",
   "metadata": {},
   "outputs": [
    {
     "data": {
      "text/html": [
       "<div>\n",
       "<style scoped>\n",
       "    .dataframe tbody tr th:only-of-type {\n",
       "        vertical-align: middle;\n",
       "    }\n",
       "\n",
       "    .dataframe tbody tr th {\n",
       "        vertical-align: top;\n",
       "    }\n",
       "\n",
       "    .dataframe thead th {\n",
       "        text-align: right;\n",
       "    }\n",
       "</style>\n",
       "<table border=\"1\" class=\"dataframe\">\n",
       "  <thead>\n",
       "    <tr style=\"text-align: right;\">\n",
       "      <th></th>\n",
       "      <th>1801</th>\n",
       "      <th>1797</th>\n",
       "      <th>1793</th>\n",
       "      <th>1789</th>\n",
       "      <th>1785</th>\n",
       "      <th>1781</th>\n",
       "      <th>1778</th>\n",
       "      <th>1774</th>\n",
       "      <th>1770</th>\n",
       "      <th>1766</th>\n",
       "      <th>...</th>\n",
       "      <th>937</th>\n",
       "      <th>933</th>\n",
       "      <th>929</th>\n",
       "      <th>925</th>\n",
       "      <th>921</th>\n",
       "      <th>917</th>\n",
       "      <th>914</th>\n",
       "      <th>910</th>\n",
       "      <th>906</th>\n",
       "      <th>902</th>\n",
       "    </tr>\n",
       "  </thead>\n",
       "  <tbody>\n",
       "    <tr>\n",
       "      <th>223</th>\n",
       "      <td>0.131</td>\n",
       "      <td>0.131</td>\n",
       "      <td>0.132</td>\n",
       "      <td>0.132</td>\n",
       "      <td>0.132</td>\n",
       "      <td>0.134</td>\n",
       "      <td>0.134</td>\n",
       "      <td>0.136</td>\n",
       "      <td>0.138</td>\n",
       "      <td>0.141</td>\n",
       "      <td>...</td>\n",
       "      <td>0.209</td>\n",
       "      <td>0.210</td>\n",
       "      <td>0.210</td>\n",
       "      <td>0.209</td>\n",
       "      <td>0.206</td>\n",
       "      <td>0.203</td>\n",
       "      <td>0.199</td>\n",
       "      <td>0.194</td>\n",
       "      <td>0.191</td>\n",
       "      <td>0.189</td>\n",
       "    </tr>\n",
       "    <tr>\n",
       "      <th>431</th>\n",
       "      <td>0.113</td>\n",
       "      <td>0.114</td>\n",
       "      <td>0.114</td>\n",
       "      <td>0.114</td>\n",
       "      <td>0.114</td>\n",
       "      <td>0.115</td>\n",
       "      <td>0.116</td>\n",
       "      <td>0.119</td>\n",
       "      <td>0.123</td>\n",
       "      <td>0.129</td>\n",
       "      <td>...</td>\n",
       "      <td>0.215</td>\n",
       "      <td>0.215</td>\n",
       "      <td>0.214</td>\n",
       "      <td>0.214</td>\n",
       "      <td>0.213</td>\n",
       "      <td>0.212</td>\n",
       "      <td>0.211</td>\n",
       "      <td>0.209</td>\n",
       "      <td>0.206</td>\n",
       "      <td>0.204</td>\n",
       "    </tr>\n",
       "    <tr>\n",
       "      <th>626</th>\n",
       "      <td>0.154</td>\n",
       "      <td>0.155</td>\n",
       "      <td>0.156</td>\n",
       "      <td>0.157</td>\n",
       "      <td>0.157</td>\n",
       "      <td>0.158</td>\n",
       "      <td>0.159</td>\n",
       "      <td>0.161</td>\n",
       "      <td>0.163</td>\n",
       "      <td>0.164</td>\n",
       "      <td>...</td>\n",
       "      <td>0.186</td>\n",
       "      <td>0.186</td>\n",
       "      <td>0.185</td>\n",
       "      <td>0.184</td>\n",
       "      <td>0.183</td>\n",
       "      <td>0.181</td>\n",
       "      <td>0.179</td>\n",
       "      <td>0.177</td>\n",
       "      <td>0.174</td>\n",
       "      <td>0.174</td>\n",
       "    </tr>\n",
       "    <tr>\n",
       "      <th>547</th>\n",
       "      <td>0.096</td>\n",
       "      <td>0.096</td>\n",
       "      <td>0.096</td>\n",
       "      <td>0.095</td>\n",
       "      <td>0.094</td>\n",
       "      <td>0.094</td>\n",
       "      <td>0.094</td>\n",
       "      <td>0.096</td>\n",
       "      <td>0.101</td>\n",
       "      <td>0.108</td>\n",
       "      <td>...</td>\n",
       "      <td>0.253</td>\n",
       "      <td>0.254</td>\n",
       "      <td>0.255</td>\n",
       "      <td>0.256</td>\n",
       "      <td>0.256</td>\n",
       "      <td>0.256</td>\n",
       "      <td>0.254</td>\n",
       "      <td>0.252</td>\n",
       "      <td>0.250</td>\n",
       "      <td>0.249</td>\n",
       "    </tr>\n",
       "    <tr>\n",
       "      <th>544</th>\n",
       "      <td>0.084</td>\n",
       "      <td>0.084</td>\n",
       "      <td>0.084</td>\n",
       "      <td>0.083</td>\n",
       "      <td>0.082</td>\n",
       "      <td>0.083</td>\n",
       "      <td>0.084</td>\n",
       "      <td>0.086</td>\n",
       "      <td>0.092</td>\n",
       "      <td>0.099</td>\n",
       "      <td>...</td>\n",
       "      <td>0.248</td>\n",
       "      <td>0.248</td>\n",
       "      <td>0.249</td>\n",
       "      <td>0.250</td>\n",
       "      <td>0.249</td>\n",
       "      <td>0.248</td>\n",
       "      <td>0.245</td>\n",
       "      <td>0.242</td>\n",
       "      <td>0.240</td>\n",
       "      <td>0.238</td>\n",
       "    </tr>\n",
       "    <tr>\n",
       "      <th>106</th>\n",
       "      <td>0.155</td>\n",
       "      <td>0.156</td>\n",
       "      <td>0.156</td>\n",
       "      <td>0.157</td>\n",
       "      <td>0.158</td>\n",
       "      <td>0.159</td>\n",
       "      <td>0.159</td>\n",
       "      <td>0.160</td>\n",
       "      <td>0.162</td>\n",
       "      <td>0.163</td>\n",
       "      <td>...</td>\n",
       "      <td>0.191</td>\n",
       "      <td>0.190</td>\n",
       "      <td>0.189</td>\n",
       "      <td>0.187</td>\n",
       "      <td>0.186</td>\n",
       "      <td>0.184</td>\n",
       "      <td>0.181</td>\n",
       "      <td>0.178</td>\n",
       "      <td>0.176</td>\n",
       "      <td>0.175</td>\n",
       "    </tr>\n",
       "    <tr>\n",
       "      <th>214</th>\n",
       "      <td>0.148</td>\n",
       "      <td>0.149</td>\n",
       "      <td>0.149</td>\n",
       "      <td>0.150</td>\n",
       "      <td>0.150</td>\n",
       "      <td>0.151</td>\n",
       "      <td>0.152</td>\n",
       "      <td>0.154</td>\n",
       "      <td>0.157</td>\n",
       "      <td>0.158</td>\n",
       "      <td>...</td>\n",
       "      <td>0.196</td>\n",
       "      <td>0.196</td>\n",
       "      <td>0.195</td>\n",
       "      <td>0.193</td>\n",
       "      <td>0.190</td>\n",
       "      <td>0.186</td>\n",
       "      <td>0.182</td>\n",
       "      <td>0.178</td>\n",
       "      <td>0.174</td>\n",
       "      <td>0.172</td>\n",
       "    </tr>\n",
       "    <tr>\n",
       "      <th>666</th>\n",
       "      <td>0.143</td>\n",
       "      <td>0.144</td>\n",
       "      <td>0.144</td>\n",
       "      <td>0.145</td>\n",
       "      <td>0.146</td>\n",
       "      <td>0.147</td>\n",
       "      <td>0.148</td>\n",
       "      <td>0.149</td>\n",
       "      <td>0.152</td>\n",
       "      <td>0.155</td>\n",
       "      <td>...</td>\n",
       "      <td>0.200</td>\n",
       "      <td>0.200</td>\n",
       "      <td>0.200</td>\n",
       "      <td>0.199</td>\n",
       "      <td>0.197</td>\n",
       "      <td>0.196</td>\n",
       "      <td>0.193</td>\n",
       "      <td>0.191</td>\n",
       "      <td>0.188</td>\n",
       "      <td>0.185</td>\n",
       "    </tr>\n",
       "    <tr>\n",
       "      <th>267</th>\n",
       "      <td>0.099</td>\n",
       "      <td>0.100</td>\n",
       "      <td>0.100</td>\n",
       "      <td>0.099</td>\n",
       "      <td>0.099</td>\n",
       "      <td>0.100</td>\n",
       "      <td>0.101</td>\n",
       "      <td>0.103</td>\n",
       "      <td>0.104</td>\n",
       "      <td>0.105</td>\n",
       "      <td>...</td>\n",
       "      <td>0.212</td>\n",
       "      <td>0.215</td>\n",
       "      <td>0.216</td>\n",
       "      <td>0.214</td>\n",
       "      <td>0.211</td>\n",
       "      <td>0.206</td>\n",
       "      <td>0.201</td>\n",
       "      <td>0.196</td>\n",
       "      <td>0.193</td>\n",
       "      <td>0.191</td>\n",
       "    </tr>\n",
       "    <tr>\n",
       "      <th>511</th>\n",
       "      <td>0.111</td>\n",
       "      <td>0.111</td>\n",
       "      <td>0.112</td>\n",
       "      <td>0.111</td>\n",
       "      <td>0.111</td>\n",
       "      <td>0.112</td>\n",
       "      <td>0.114</td>\n",
       "      <td>0.116</td>\n",
       "      <td>0.123</td>\n",
       "      <td>0.136</td>\n",
       "      <td>...</td>\n",
       "      <td>0.204</td>\n",
       "      <td>0.204</td>\n",
       "      <td>0.204</td>\n",
       "      <td>0.205</td>\n",
       "      <td>0.206</td>\n",
       "      <td>0.205</td>\n",
       "      <td>0.203</td>\n",
       "      <td>0.201</td>\n",
       "      <td>0.199</td>\n",
       "      <td>0.197</td>\n",
       "    </tr>\n",
       "  </tbody>\n",
       "</table>\n",
       "<p>10 rows × 234 columns</p>\n",
       "</div>"
      ],
      "text/plain": [
       "      1801   1797   1793   1789   1785   1781   1778   1774   1770   1766  \\\n",
       "223  0.131  0.131  0.132  0.132  0.132  0.134  0.134  0.136  0.138  0.141   \n",
       "431  0.113  0.114  0.114  0.114  0.114  0.115  0.116  0.119  0.123  0.129   \n",
       "626  0.154  0.155  0.156  0.157  0.157  0.158  0.159  0.161  0.163  0.164   \n",
       "547  0.096  0.096  0.096  0.095  0.094  0.094  0.094  0.096  0.101  0.108   \n",
       "544  0.084  0.084  0.084  0.083  0.082  0.083  0.084  0.086  0.092  0.099   \n",
       "106  0.155  0.156  0.156  0.157  0.158  0.159  0.159  0.160  0.162  0.163   \n",
       "214  0.148  0.149  0.149  0.150  0.150  0.151  0.152  0.154  0.157  0.158   \n",
       "666  0.143  0.144  0.144  0.145  0.146  0.147  0.148  0.149  0.152  0.155   \n",
       "267  0.099  0.100  0.100  0.099  0.099  0.100  0.101  0.103  0.104  0.105   \n",
       "511  0.111  0.111  0.112  0.111  0.111  0.112  0.114  0.116  0.123  0.136   \n",
       "\n",
       "     ...   937    933    929    925    921    917    914    910    906    902   \n",
       "223  ...  0.209  0.210  0.210  0.209  0.206  0.203  0.199  0.194  0.191  0.189  \n",
       "431  ...  0.215  0.215  0.214  0.214  0.213  0.212  0.211  0.209  0.206  0.204  \n",
       "626  ...  0.186  0.186  0.185  0.184  0.183  0.181  0.179  0.177  0.174  0.174  \n",
       "547  ...  0.253  0.254  0.255  0.256  0.256  0.256  0.254  0.252  0.250  0.249  \n",
       "544  ...  0.248  0.248  0.249  0.250  0.249  0.248  0.245  0.242  0.240  0.238  \n",
       "106  ...  0.191  0.190  0.189  0.187  0.186  0.184  0.181  0.178  0.176  0.175  \n",
       "214  ...  0.196  0.196  0.195  0.193  0.190  0.186  0.182  0.178  0.174  0.172  \n",
       "666  ...  0.200  0.200  0.200  0.199  0.197  0.196  0.193  0.191  0.188  0.185  \n",
       "267  ...  0.212  0.215  0.216  0.214  0.211  0.206  0.201  0.196  0.193  0.191  \n",
       "511  ...  0.204  0.204  0.204  0.205  0.206  0.205  0.203  0.201  0.199  0.197  \n",
       "\n",
       "[10 rows x 234 columns]"
      ]
     },
     "metadata": {},
     "output_type": "display_data"
    },
    {
     "data": {
      "text/plain": [
       "<Axes: >"
      ]
     },
     "execution_count": 4,
     "metadata": {},
     "output_type": "execute_result"
    },
    {
     "data": {
      "image/png": "[encoded data removed]",
      "text/plain": [
       "<Figure size 640x480 with 1 Axes>"
      ]
     },
     "metadata": {},
     "output_type": "display_data"
    }
   ],
   "source": [
    "# Parse the column index to integer wavelengths using a lambda-function\n",
    "wl=D.columns[:-1].map(lambda x: int(float(x)))\n",
    "\n",
    "# Separate the numerical data from liver spectroscopy to design matrix X\n",
    "X=D.iloc[:,:-1]\n",
    "\n",
    "# Assign numerical values to column names, so that the plot is prettier\n",
    "X.columns=wl\n",
    "\n",
    "# Print and plot 10 randomly selected samples from the data\n",
    "sample=X.sample(10)\n",
    "display(sample)\n",
    "sample.T.plot()"
   ]
  },
  {
   "cell_type": "markdown",
   "id": "7cbca0a4-66ae-4b9a-ba60-13370e0e40a2",
   "metadata": {},
   "source": [
    "## Task 1: Apply the extratrees classifier\n",
    "\n",
    "Import Extratrees classifier from `sklearn.ensemble`, instantiate a classifier with following parameters. \n",
    " - number of estimators = 10\n",
    " - maximum depth = 3\n",
    " - minimum samples split = 2\n",
    "\n",
    "When the predictor is trained with these ad-hoc parameters, study its performance with following 5 methods\n",
    "\n",
    " 1. Styled confusion matrix: `display(pd.crosstab(....))`\n",
    " 3. Accuracy: `print(metrics.accuracy_score(...))`\n",
    " 4. More accuracy measures: `print(metrics.classification_report(...))`\n",
    " 5. Check accuracy with cross validation: `print(cross_val_score(...))` using three-fold cross validation\n",
    " 6. Calculate the mean of cross validation results over all folds\n",
    "\n",
    "You can check what recall and f1-score means from SKlearn documentation, page [Precision-Recall](https://scikit-learn.org/stable/auto_examples/model_selection/plot_precision_recall.html)\n",
    "\n",
    "You can import [Extratrees classifier](https://scikit-learn.org/stable/modules/generated/sklearn.ensemble.ExtraTreesClassifier.html#sklearn.ensemble.ExtraTreesClassifier) from [sklearn.ensemble](https://scikit-learn.org/stable/modules/classes.html#module-sklearn.ensemble) Import also [metrics](https://scikit-learn.org/stable/modules/classes.html#module-sklearn.metrics) from sklearn since it contains all important classifier metrices. And import cross_val_score from [sklearn.model_selection](https://scikit-learn.org/stable/modules/classes.html#module-sklearn.model_selection)\n",
    "\n",
    "Name your variables according to the following table, in order to make the autograder tests to work:\n",
    "\n",
    "| Variable | Name |\n",
    "| -------- | ------|\n",
    "| classifier, estimator | `est` |\n",
    "| Accuracy | `accuracy` |\n",
    "| Cross val accuracy | `cv_accuracy` |\n",
    "| Confusion matrix, made with crosstab | `cm` |"
   ]
  },
  {
   "cell_type": "code",
   "execution_count": 5,
   "id": "a1a1b5e9-cd7a-47a3-b2e7-b9fe4f5ae33b",
   "metadata": {
    "nbgrader": {
     "grade": false,
     "grade_id": "cell-8a3246a6c6d7ca95",
     "locked": false,
     "schema_version": 3,
     "solution": true,
     "task": false
    }
   },
   "outputs": [
    {
     "ename": "NotImplementedError",
     "evalue": "",
     "output_type": "error",
     "traceback": [
      "\u001b[0;31m---------------------------------------------------------------------------\u001b[0m",
      "\u001b[0;31mNotImplementedError\u001b[0m                       Traceback (most recent call last)",
      "Cell \u001b[0;32mIn[5], line 2\u001b[0m\n\u001b[1;32m      1\u001b[0m \u001b[38;5;66;03m# YOUR CODE HERE\u001b[39;00m\n\u001b[0;32m----> 2\u001b[0m \u001b[38;5;28;01mraise\u001b[39;00m \u001b[38;5;167;01mNotImplementedError\u001b[39;00m()\n",
      "\u001b[0;31mNotImplementedError\u001b[0m: "
     ]
    }
   ],
   "source": [
    "# YOUR CODE HERE\n",
    "raise NotImplementedError()"
   ]
  },
  {
   "cell_type": "code",
   "execution_count": 5,
   "id": "f6a1d143-aeb2-4854-babd-e2a1d238aa1a",
   "metadata": {
    "nbgrader": {
     "grade": true,
     "grade_id": "cell-bde6a2570713d7c3",
     "locked": true,
     "points": 4,
     "schema_version": 3,
     "solution": false,
     "task": false
    }
   },
   "outputs": [
    {
     "name": "stdout",
     "output_type": "stream",
     "text": [
      "No errrors found this far, your code may work :)\n"
     ]
    },
    {
     "data": {
      "text/plain": [
       "3"
      ]
     },
     "execution_count": 5,
     "metadata": {},
     "output_type": "execute_result"
    }
   ],
   "source": [
    "import sklearn\n",
    "errorfound=False\n",
    "require=('est', 'accuracy', 'cv_accuracy', 'cm')\n",
    "for var in require:\n",
    "    if var not in globals():\n",
    "        print(var, \"not found! Please define it.\")\n",
    "        errorfound=True\n",
    "\n",
    "if type(est) != sklearn.ensemble.ExtraTreesClassifier:\n",
    "    print(\"The classifier is of wrong type\")\n",
    "    errorfound=1\n",
    "if not errorfound:\n",
    "    print(\"No errrors found this far, your code may work :)\")\n",
    "\n",
    "### BEGIN HIDDEN TESTS \n",
    "    points=1\n",
    "    if abs(accuracy - 0.859) < 0.1:\n",
    "        points+=1\n",
    "    if abs(cv_accuracy - 0.936) < 0.1:\n",
    "        points+=1\n",
    "    if abs(cm.values.diagonal().sum() -628) < 10:\n",
    "        points +=1\n",
    "points\n",
    "### END HIDDEN TESTS"
   ]
  },
  {
   "cell_type": "markdown",
   "id": "902d2ca3-e471-44d7-b378-30e67c4004d5",
   "metadata": {},
   "source": [
    "## Task 2, optimize the classifier\n",
    "\n",
    "Lets try now to find optimal parameters controlling the model (=hyperparameters) for the classifier with grid search CV. Search the parameters:\n",
    " - `n_estimators`\n",
    " - `max_depth` and\n",
    " - `min_samples_split`\n",
    "\n",
    "Use the previously used extratrees classifier as a starting point\n",
    "\n",
    "Name your variables according to the following table, in order to make the autograder tests to work:\n",
    "\n",
    "| Variable | Name |\n",
    "| -------- | ------|\n",
    "| Tunable parameters structure | `params` |\n",
    "| Grid search object | `cv_est` |"
   ]
  },
  {
   "cell_type": "code",
   "execution_count": 6,
   "id": "d716cc7b-67e3-4113-a16f-976c9b8fca88",
   "metadata": {
    "nbgrader": {
     "grade": false,
     "grade_id": "cell-7fce41d98632a7d5",
     "locked": false,
     "schema_version": 3,
     "solution": true,
     "task": false
    }
   },
   "outputs": [
    {
     "ename": "NotImplementedError",
     "evalue": "",
     "output_type": "error",
     "traceback": [
      "\u001b[0;31m---------------------------------------------------------------------------\u001b[0m",
      "\u001b[0;31mNotImplementedError\u001b[0m                       Traceback (most recent call last)",
      "Cell \u001b[0;32mIn[6], line 2\u001b[0m\n\u001b[1;32m      1\u001b[0m \u001b[38;5;66;03m# YOUR CODE HERE\u001b[39;00m\n\u001b[0;32m----> 2\u001b[0m \u001b[38;5;28;01mraise\u001b[39;00m \u001b[38;5;167;01mNotImplementedError\u001b[39;00m()\n",
      "\u001b[0;31mNotImplementedError\u001b[0m: "
     ]
    }
   ],
   "source": [
    "# YOUR CODE HERE\n",
    "raise NotImplementedError()"
   ]
  },
  {
   "cell_type": "code",
   "execution_count": 8,
   "id": "c71d7f7d-dd74-4425-980c-e5995df26e8f",
   "metadata": {
    "nbgrader": {
     "grade": true,
     "grade_id": "cell-c6a9385f6d2122ad",
     "locked": true,
     "points": 3,
     "schema_version": 3,
     "solution": false,
     "task": false
    }
   },
   "outputs": [
    {
     "name": "stdout",
     "output_type": "stream",
     "text": [
      "GridSearchCV(cv=3, estimator=ExtraTreesClassifier(max_depth=3, n_estimators=10),\n",
      "             param_grid=[{'max_depth': range(1, 5),\n",
      "                          'min_samples_split': range(2, 5),\n",
      "                          'n_estimators': range(5, 20)}])\n"
     ]
    },
    {
     "data": {
      "text/plain": [
       "3"
      ]
     },
     "execution_count": 8,
     "metadata": {},
     "output_type": "execute_result"
    }
   ],
   "source": [
    "errorfound=False\n",
    "require=('params', 'cv_est')\n",
    "for var in require:\n",
    "    if var not in globals():\n",
    "        print(var, \"not found! Please define it.\")\n",
    "        errorfound=True\n",
    "        \n",
    "### BEGIN HIDDEN TESTS\n",
    "points=1\n",
    "print(cv_est)\n",
    "oest = cv_est.best_estimator_\n",
    "if type(oest) != sklearn.ensemble.ExtraTreesClassifier:\n",
    "    print(\"The classifier is of wrong type\")\n",
    "    errorfound=1\n",
    "else:\n",
    "    points +=1\n",
    "if (type(params) != list) or (type(params[0]) != dict):\n",
    "    print(\"The parameter list is of wrong type\")\n",
    "    errorfound=1\n",
    "else:\n",
    "    points +=1\n",
    "points\n",
    "### END HIDDEN TESTS"
   ]
  },
  {
   "cell_type": "markdown",
   "id": "a62b2e9f-d103-41ad-ad52-f9af4270bd93",
   "metadata": {},
   "source": [
    "## Task 3\n",
    "\n",
    "Having trained your estimator, check what where the optimal parameters, and compare the CV-accuracy with the previous model and plot the confusion matrix with crosstab as well. Did it improve?\n",
    "\n",
    "Notice that you will find the optimised estimator as `cv_est.best_estimator_`, and you can see all its parameters with `est_opt.get_params()`.\n",
    "\n",
    "Name your variables according to the following table, in order to make the autograder tests to work:\n",
    "\n",
    "| Variable | Name |\n",
    "| -------- | ------|\n",
    "| Optimal, tuned predictor | `est_opt` |\n",
    "| Cross validation accuracy | `cv_opt` |\n",
    "| Confusion matrix  | `cm_opt` |"
   ]
  },
  {
   "cell_type": "code",
   "execution_count": 7,
   "id": "f37e5398-e32c-4b17-8aa3-d1414550cd53",
   "metadata": {
    "nbgrader": {
     "grade": false,
     "grade_id": "cell-753f173f83201304",
     "locked": false,
     "schema_version": 3,
     "solution": true,
     "task": false
    }
   },
   "outputs": [
    {
     "ename": "NotImplementedError",
     "evalue": "",
     "output_type": "error",
     "traceback": [
      "\u001b[0;31m---------------------------------------------------------------------------\u001b[0m",
      "\u001b[0;31mNotImplementedError\u001b[0m                       Traceback (most recent call last)",
      "Cell \u001b[0;32mIn[7], line 2\u001b[0m\n\u001b[1;32m      1\u001b[0m \u001b[38;5;66;03m# YOUR CODE HERE\u001b[39;00m\n\u001b[0;32m----> 2\u001b[0m \u001b[38;5;28;01mraise\u001b[39;00m \u001b[38;5;167;01mNotImplementedError\u001b[39;00m()\n",
      "\u001b[0;31mNotImplementedError\u001b[0m: "
     ]
    }
   ],
   "source": [
    "# YOUR CODE HERE\n",
    "raise NotImplementedError()"
   ]
  },
  {
   "cell_type": "code",
   "execution_count": 15,
   "id": "ec8e1384-d2db-40ab-956f-073d0588ef11",
   "metadata": {
    "nbgrader": {
     "grade": true,
     "grade_id": "cell-3d0ab546dec66f03",
     "locked": true,
     "points": 3,
     "schema_version": 3,
     "solution": false,
     "task": false
    }
   },
   "outputs": [
    {
     "name": "stdout",
     "output_type": "stream",
     "text": [
      "0.9384964806944162\n"
     ]
    },
    {
     "data": {
      "text/plain": [
       "3"
      ]
     },
     "execution_count": 15,
     "metadata": {},
     "output_type": "execute_result"
    }
   ],
   "source": [
    "errorfound=False\n",
    "require=('est_opt', 'cv_opt', 'cm_opt')\n",
    "for var in require:\n",
    "    if var not in globals():\n",
    "        print(var, \"not found! Please define it.\")\n",
    "        errorfound=True\n",
    "        \n",
    "### BEGIN HIDDEN TESTS\n",
    "points=1\n",
    "print(cv_opt)\n",
    "if abs(cv_opt - 0.859) < 0.1:\n",
    "    points+=1\n",
    "else:\n",
    "    print(f\"Accuracy {cv_opt} is not ok\")\n",
    "if abs(cm_opt.values.diagonal().sum() - 711) < 10:\n",
    "    points +=1\n",
    "else:\n",
    "    print(f\"Diagonal sum {cm_opt.values.diagonal().sum()} is not ok\")\n",
    "points\n",
    "### END HIDDEN TESTS"
   ]
  }
 ],
 "metadata": {
  "kernelspec": {
   "display_name": "Python 3 (ipykernel)",
   "language": "python",
   "name": "python3"
  },
  "language_info": {
   "codemirror_mode": {
    "name": "ipython",
    "version": 3
   },
   "file_extension": ".py",
   "mimetype": "text/x-python",
   "name": "python",
   "nbconvert_exporter": "python",
   "pygments_lexer": "ipython3",
   "version": "3.11.6"
  }
 },
 "nbformat": 4,
 "nbformat_minor": 5
}
