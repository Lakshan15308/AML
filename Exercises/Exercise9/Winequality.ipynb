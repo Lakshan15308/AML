{
 "cells": [
  {
   "cell_type": "markdown",
   "metadata": {},
   "source": [
    "# Applied Machine Learning (2022), exercises\n",
    "\n",
    "\n",
    "## General instructions for all exercises\n",
    "\n",
    "Follow the instructions and fill in your solution under the line marked by tag\n",
    "\n",
    "> YOUR CODE HERE\n",
    "\n",
    "Remove also line \n",
    "\n",
    "> raise NotImplementedError()\n",
    "\n",
    "**Do not change other areas of the document**, since it may disturb the autograding of your results!\n",
    "  \n",
    "Having written the answer, execute the code cell by and pressing `Shift-Enter` key combination. The code is run, and it may print some information under the code cell. The focus automatically moves to the next cell and you may \"execute\" that cell by pressing `Shift-Enter` again, until you have reached the code cell which tests your solution. Execute that and follow the feedback. Usually it either says that the solution seems acceptable, or reports some errors. You can go back to your solution, modify it and repeat everything until you are satisfied. Then proceed to the next task.\n",
    "   \n",
    "Repeat the process for all tasks.\n",
    "\n",
    "The notebook may also contain manually graded answers. Write your manually graded answer under the line marked by tag:\n",
    "\n",
    "> YOUR ANSWER HERE\n",
    "\n",
    "Manually graded tasks are text in markdown format. It may contain text, pseudocode, or mathematical formulas. You can write formulas with $\\LaTeX$-syntax by enclosing the formula with dollar signs (`$`), for example `$f(x)=2 \\pi / \\alpha$`, will produce $f(x)=2 \\pi / \\alpha$\n",
    "\n",
    "When you have passed the tests in the notebook, and you are ready to submit your solutions, download the whole notebook, using menu `File -> Download as -> Notebook (.ipynb)`. Save the file in your hard disk, and submit it in [Moodle](https://moodle.uwasa.fi) or EUNICE Moodle under the corresponding excercise.\n",
    "\n",
    "Your solution should be an executable Python code. Use the code already existing as an example of Python programing and read more from the numerous Python programming material from the Internet if necessary. \n"
   ]
  },
  {
   "cell_type": "code",
   "execution_count": null,
   "metadata": {},
   "outputs": [],
   "source": []
  },
  {
   "cell_type": "markdown",
   "metadata": {},
   "source": [
    "## Wine quality determination (Regression)\n",
    "A chemical analysis was carried out for 1599 red wine samples, after which the quality of each sample was analyzed by experts in scale 0..10.\n",
    "\n",
    "The chemical analaysis reveals 11 features for each wine sample, which are:\n",
    "fixed acidity, volatile acidity, citric acid, residual sugar, chlorides, free sulfur dioxide, total sulfur dioxide, density, pH, sulphates, and alcohol (concentration). Each feature is a floating point value, and the quality is an integer between 0 to 10.  \n"
   ]
  },
  {
   "cell_type": "markdown",
   "metadata": {},
   "source": [
    "## Task 1\n",
    "\n",
    "\n",
    "### Read the data\n",
    "\n",
    "- Read a CSV-file, called `winequality-red.csv`\n",
    "- Separate 11 first columns and all rows to your design matrix X\n",
    "- Use the last column, quality, as dependent variable (target)\n",
    "\n",
    "\n",
    "### Make training set and test set\n",
    "Separate your data X and y to training set (X_train, y_train) which contains 75% of the data and to the test set X_test, y_test which contains 25% of the data."
   ]
  },
  {
   "cell_type": "code",
   "execution_count": null,
   "metadata": {
    "ExecuteTime": {
     "end_time": "2022-11-18T11:56:50.127184Z",
     "start_time": "2022-11-18T11:56:49.394059Z"
    }
   },
   "outputs": [],
   "source": [
    "##>>> Some code for bootstrap\n",
    "import matplotlib.pyplot as plt\n",
    "import pandas as pd\n",
    "import numpy as np"
   ]
  },
  {
   "cell_type": "code",
   "execution_count": null,
   "metadata": {
    "ExecuteTime": {
     "end_time": "2022-11-18T11:56:56.067596Z",
     "start_time": "2022-11-18T11:56:55.478990Z"
    },
    "deletable": false,
    "nbgrader": {
     "cell_type": "code",
     "checksum": "86b4eaa340600dbc6c0f1b1033041b16",
     "grade": false,
     "grade_id": "cell-7ccfa9a73a1d6f54",
     "locked": false,
     "schema_version": 3,
     "solution": true,
     "task": false
    }
   },
   "outputs": [],
   "source": [
    "# YOUR CODE HERE\n",
    "raise NotImplementedError()"
   ]
  },
  {
   "cell_type": "code",
   "execution_count": null,
   "metadata": {
    "ExecuteTime": {
     "end_time": "2022-11-18T12:02:34.074329Z",
     "start_time": "2022-11-18T12:02:34.065783Z"
    },
    "deletable": false,
    "editable": false,
    "nbgrader": {
     "cell_type": "code",
     "checksum": "43eea71457bb4b1cfcb2b4f304028e91",
     "grade": true,
     "grade_id": "cell-813c7fc121f0d455",
     "locked": true,
     "points": 2,
     "schema_version": 3,
     "solution": false,
     "task": false
    }
   },
   "outputs": [],
   "source": [
    "points=0\n",
    "\n",
    "## >> Some tests, do not change\n",
    "if (X_train.shape==(1199,11)):\n",
    "    points+=1\n",
    "if (X_test.shape==(400,11)):\n",
    "    points+=1\n",
    "\n",
    "points"
   ]
  },
  {
   "cell_type": "markdown",
   "metadata": {},
   "source": [
    "## Task 2\n",
    "\n",
    "- Study the data, select a regression algorithm for predicting the quality of the wine, based on it's chemical features. You can assume that the quality is a floating point number.\n",
    "- Train the regression algorithm using the training data.\n",
    "- Use cross validation to test the performance of the regressor and tune it's parameters as good as you can\n",
    "- Finally test the regressor with the test set\n",
    "- Report the score (= $R^2$ = coefficient of determination) of the regressor in the training set, cross validation and in the test set\n",
    "- Plot the predicted quality against the known quality \n",
    "- What does the $R^2$ score tells? \n",
    "- What is your opinion of the performance? Is there signs of overfitting?"
   ]
  },
  {
   "cell_type": "code",
   "execution_count": null,
   "metadata": {
    "ExecuteTime": {
     "end_time": "2022-11-18T12:02:47.365432Z",
     "start_time": "2022-11-18T12:02:45.655047Z"
    },
    "deletable": false,
    "nbgrader": {
     "cell_type": "code",
     "checksum": "8e586f4b251acaf761dd91d17acfaea5",
     "grade": false,
     "grade_id": "cell-93a0d47f20379f85",
     "locked": false,
     "schema_version": 3,
     "solution": true,
     "task": false
    }
   },
   "outputs": [],
   "source": [
    "from sklearn.pipeline import Pipeline\n",
    "\n",
    "# YOUR CODE HERE\n",
    "raise NotImplementedError()\n",
    "\n",
    "print(\"Accurary in the training set..%f\" % train_score)\n",
    "print(\"Accurary in crossvalidation...%f\" % cv_score)\n",
    "print(\"Accurary in the test set......%f\" % test_score)\n"
   ]
  },
  {
   "cell_type": "code",
   "execution_count": null,
   "metadata": {
    "ExecuteTime": {
     "end_time": "2022-11-18T12:41:11.605297Z",
     "start_time": "2022-11-18T12:41:11.596369Z"
    },
    "deletable": false,
    "editable": false,
    "nbgrader": {
     "cell_type": "code",
     "checksum": "a15f906b0434b721d09150fd06fd2352",
     "grade": true,
     "grade_id": "cell-04912d6dd5d188c3",
     "locked": true,
     "points": 4,
     "schema_version": 3,
     "solution": false,
     "task": false
    }
   },
   "outputs": [],
   "source": [
    "### >>>> Some testing\n",
    "# The coefficient of determination should be between 0.4 - 0.5 in the\n",
    "# test set depending on your regression algorithm and parameters\n",
    "points=0\n",
    "assert('train_score' in globals()), \"Please use train_score variable for storing the training score\"\n",
    "assert('cv_score' in globals()), \"Please use cv_score variable for storing the crossvalidation score\"\n",
    "assert('test_score' in globals()), \"Please use test_score variable for storing the test score\"\n",
    "points=1\n",
    "\n",
    "assert(train_score>0.85), \"Try again, if you can get better accuracy by tuning the regressor parameters\"\n",
    "points+=1\n",
    "\n",
    "\n",
    "points"
   ]
  },
  {
   "cell_type": "markdown",
   "metadata": {
    "deletable": false,
    "editable": false,
    "nbgrader": {
     "cell_type": "markdown",
     "checksum": "5fc46a957a30f91e7e4acd7a4e5d5d07",
     "grade": false,
     "grade_id": "cell-f8b4259dee59007c",
     "locked": true,
     "schema_version": 3,
     "solution": false,
     "task": false
    }
   },
   "source": [
    "## Task 2 b\n",
    "\n",
    "1. What does the $R^2$ score tells? \n",
    "2. What is your opinion of the performance? Is there signs of overfitting?"
   ]
  },
  {
   "cell_type": "markdown",
   "metadata": {
    "deletable": false,
    "nbgrader": {
     "cell_type": "markdown",
     "checksum": "b1a8bf9e909cec3dd837510d907bbf1c",
     "grade": true,
     "grade_id": "cell-f35665f6a7dce240",
     "locked": false,
     "points": 2,
     "schema_version": 3,
     "solution": true,
     "task": false
    }
   },
   "source": [
    "YOUR ANSWER HERE"
   ]
  },
  {
   "cell_type": "markdown",
   "metadata": {},
   "source": [
    "## Task 3, Select the best features\n",
    "\n",
    "Like it often is, some features are more important for regression than the others. \n",
    "\n",
    "- Study which features are the most important for predicting the quality. If you used Extratrees regressor or GradientBoostedTree regressor, then you can use the .feature_importances vector. Another option is to use LASSO or Elastic net models and SelectFromModel to reduce unimportant features.\n",
    "- Plot a bar graph or stem plot to visualize the importance of features\n",
    "- To check the importance of a single variable, plot a scatter plot using true quality in x-axis and the value of teh most important variable in y-axis.\n",
    "- Make a vector `features` which contains the names of the three most important features in decreasing order"
   ]
  },
  {
   "cell_type": "code",
   "execution_count": null,
   "metadata": {
    "ExecuteTime": {
     "end_time": "2022-11-18T12:16:54.342319Z",
     "start_time": "2022-11-18T12:16:53.895958Z"
    },
    "deletable": false,
    "nbgrader": {
     "cell_type": "code",
     "checksum": "d55b58a9a0df27d706ed7e902ed6881f",
     "grade": false,
     "grade_id": "cell-515bf1cb9ed3beee",
     "locked": false,
     "schema_version": 3,
     "solution": true,
     "task": false
    }
   },
   "outputs": [],
   "source": [
    "features=['f1', ]\n",
    "# YOUR CODE HERE\n",
    "raise NotImplementedError()"
   ]
  },
  {
   "cell_type": "code",
   "execution_count": null,
   "metadata": {
    "ExecuteTime": {
     "end_time": "2022-11-18T12:19:49.842404Z",
     "start_time": "2022-11-18T12:19:49.835141Z"
    },
    "deletable": false,
    "editable": false,
    "nbgrader": {
     "cell_type": "code",
     "checksum": "22f564de0f5ef6ae5e489b559a0cb7b7",
     "grade": true,
     "grade_id": "cell-35fdf7b370e0abb8",
     "locked": true,
     "points": 2,
     "schema_version": 3,
     "solution": false,
     "task": false
    }
   },
   "outputs": [],
   "source": [
    "assert(len(features)==3), \"Please put the names of three most important features in list features!\"\n",
    "points=0.5\n",
    "\n",
    "points"
   ]
  },
  {
   "cell_type": "code",
   "execution_count": null,
   "metadata": {},
   "outputs": [],
   "source": []
  }
 ],
 "metadata": {
  "kernelspec": {
   "display_name": "Python 3 (ipykernel)",
   "language": "python",
   "name": "python3"
  },
  "language_info": {
   "codemirror_mode": {
    "name": "ipython",
    "version": 3
   },
   "file_extension": ".py",
   "mimetype": "text/x-python",
   "name": "python",
   "nbconvert_exporter": "python",
   "pygments_lexer": "ipython3",
   "version": "3.9.2"
  },
  "toc": {
   "base_numbering": 1,
   "nav_menu": {},
   "number_sections": true,
   "sideBar": true,
   "skip_h1_title": false,
   "title_cell": "Table of Contents",
   "title_sidebar": "Contents",
   "toc_cell": false,
   "toc_position": {},
   "toc_section_display": true,
   "toc_window_display": false
  }
 },
 "nbformat": 4,
 "nbformat_minor": 2
}
