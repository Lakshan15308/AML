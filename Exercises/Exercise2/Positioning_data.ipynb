{
 "cells": [
  {
   "cell_type": "markdown",
   "id": "087dea17",
   "metadata": {},
   "source": [
    "# Applied Machine Learning (2023), exercises\n",
    "\n",
    "\n",
    "## General instructions for all exercises\n",
    "\n",
    "Follow the instructions and fill in your solution under the line marked by tag\n",
    "\n",
    "> YOUR CODE HERE\n",
    "\n",
    "Remove also line \n",
    "\n",
    "> raise NotImplementedError()\n",
    "\n",
    "**Do not change other areas of the document**, since it may disturb the autograding of your results!\n",
    "  \n",
    "Having written the answer, execute the code cell by and pressing `Shift-Enter` key combination. The code is run, and it may print some information under the code cell. The focus automatically moves to the next cell and you may \"execute\" that cell by pressing `Shift-Enter` again, until you have reached the code cell which tests your solution. Execute that and follow the feedback. Usually it either says that the solution seems acceptable, or reports some errors. You can go back to your solution, modify it and repeat everything until you are satisfied. Then proceed to the next task.\n",
    "   \n",
    "Repeat the process for all tasks.\n",
    "\n",
    "The notebook may also contain manually graded answers. Write your manually graded answer under the line marked by tag:\n",
    "\n",
    "> YOUR ANSWER HERE\n",
    "\n",
    "Manually graded tasks are text in markdown format. It may contain text, pseudocode, or mathematical formulas. You can write formulas with $\\LaTeX$-syntax by enclosing the formula with dollar signs (`$`), for example `$f(x)=2 \\pi / \\alpha$`, will produce $f(x)=2 \\pi / \\alpha$\n",
    "\n",
    "When you have passed the tests in the notebook, and you are ready to submit your solutions, validate and submit your solution using the nbgrader tools from the `Nbgrader/Assignment List`-menu.\n"
   ]
  },
  {
   "cell_type": "code",
   "execution_count": null,
   "id": "655adecb",
   "metadata": {},
   "outputs": [],
   "source": []
  },
  {
   "cell_type": "markdown",
   "id": "daffe2b8",
   "metadata": {
    "deletable": false,
    "editable": false,
    "nbgrader": {
     "cell_type": "markdown",
     "checksum": "c6f372a4e2a17a31f5fd4cf143ae3454",
     "grade": false,
     "grade_id": "cell-d4870dd21eeb6a3c",
     "locked": true,
     "schema_version": 3,
     "solution": false,
     "task": false
    }
   },
   "source": [
    "# Utilizing positioning data\n",
    "\n",
    "The accompanying dataset contains sensors data from a positioning system, attached to a Leverkusen junior soccer player. The purpose is to collect informatin about each player and the team for player and team development purposes. The data contains sensor readings\n",
    "\n",
    " - Lateral accelarations from Inertial Measuremnt Unit (IMU)\n",
    " - Angular accelerations from IMU\n",
    " - Latitude and longitude from Global Navigation Satellite System (GNSS)\n",
    " - And some other sensor and calculated data\n",
    "\n",
    "Some of the last columns do not contain any values. And some time in the beginning the GNSS positioning is not working, and therefore the latitude and longitude is available only after some time. \n",
    "\n",
    "Each row contains a sensor reading during a specific time. The time interval between the samples (=rows) is 1/100 s. \n",
    "\n",
    "It is easiest to read complex CSV-files with a sophisticated pandas `read_csv()` -function."
   ]
  },
  {
   "cell_type": "code",
   "execution_count": null,
   "id": "aa2674ce-42fd-464f-870f-9ad57d2c1136",
   "metadata": {},
   "outputs": [],
   "source": [
    "import pandas as pd\n",
    "import matplotlib.pyplot as plt\n",
    "import numpy as np\n",
    "\n",
    "# You can try to use Seaborn. It changes the layout of the graphics, use it if you like\n",
    "#import seaborn as sns\n",
    "#sns.set()"
   ]
  },
  {
   "cell_type": "markdown",
   "id": "fe141740",
   "metadata": {
    "deletable": false,
    "editable": false,
    "nbgrader": {
     "cell_type": "markdown",
     "checksum": "b97dec94f44647603742fed4fc1f9d28",
     "grade": false,
     "grade_id": "cell-74afa41f6340dc6e",
     "locked": true,
     "schema_version": 3,
     "solution": false,
     "task": false
    }
   },
   "source": [
    "## Read the data\n",
    "\n",
    "1. Examine the data in the editor, to seet what it's structure is (CSV:s are sometimes rather badly formed, in this case it is quite Ok though)\n",
    "1. Read the data from the file `101666_1678179706_4556.csv` to pandas dataframe called as `D_all`. Notice that there are a few first lines which are not in CSV form. They must be skipped.\n",
    "2. Check the first five rows of the data to see that you have correctly read it.\n",
    "3. Assign the number of rows of the whole dataset to varible `n` and number of columns to variable `p`\n",
    "\n",
    "**TIP**: It is a good strategy to place the data reading part (which takes a lot of time and resources) in a separate cell, and read it only once, and the work with it with repetitive tasks in the next cells.\n"
   ]
  },
  {
   "cell_type": "code",
   "execution_count": null,
   "id": "25ac66c7",
   "metadata": {
    "ExecuteTime": {
     "end_time": "2022-09-20T20:01:32.200637Z",
     "start_time": "2022-09-20T20:01:32.184648Z"
    },
    "deletable": false,
    "nbgrader": {
     "cell_type": "code",
     "checksum": "cd0ece820ff87f8b7fb24177258c4109",
     "grade": false,
     "grade_id": "cell-a60da60f60729901",
     "locked": false,
     "schema_version": 3,
     "solution": true,
     "task": false
    }
   },
   "outputs": [],
   "source": [
    "# Read the data here to D_all\n",
    "# YOUR CODE HERE\n",
    "raise NotImplementedError()"
   ]
  },
  {
   "cell_type": "code",
   "execution_count": null,
   "id": "7d82cc50-8ebc-4b8e-b867-197fab0551dd",
   "metadata": {
    "ExecuteTime": {
     "end_time": "2022-09-20T20:01:32.200637Z",
     "start_time": "2022-09-20T20:01:32.184648Z"
    },
    "deletable": false,
    "nbgrader": {
     "cell_type": "code",
     "checksum": "2dadbf70ea23c35d1162ebeede671a36",
     "grade": false,
     "grade_id": "cell-a60da60f60729900",
     "locked": false,
     "schema_version": 3,
     "solution": true,
     "task": false
    }
   },
   "outputs": [],
   "source": [
    "# Then make the further analysis of the data here. D_all is still valid, since it was defined in the previous cell\n",
    "# YOUR CODE HERE\n",
    "raise NotImplementedError()"
   ]
  },
  {
   "cell_type": "code",
   "execution_count": null,
   "id": "d7070351",
   "metadata": {
    "ExecuteTime": {
     "end_time": "2022-09-20T20:41:10.962289Z",
     "start_time": "2022-09-20T20:41:10.936391Z"
    },
    "deletable": false,
    "editable": false,
    "nbgrader": {
     "cell_type": "code",
     "checksum": "1ed9f0e0726ec0954ce5abf4dd522d25",
     "grade": true,
     "grade_id": "cell-bc4eaa98d5b95c59",
     "locked": true,
     "points": 3,
     "schema_version": 3,
     "solution": false,
     "task": false
    }
   },
   "outputs": [],
   "source": [
    "if 'D_all' not in globals():\n",
    "    print(\"D_all not found! Please read the data to D_all.\")\n",
    "elif type(D_all)!=pd.DataFrame:\n",
    "    print(f\"D_all is not a pandas data frame\", type(D_all))\n",
    "elif 'n' not in globals():\n",
    "    print(\"n not found! Please assign the number of rows in D_all to n.\")\n",
    "elif 'p' not in globals():\n",
    "    print(\"p not found! Please assign the number of columns in D_all to p\")\n",
    "else:\n",
    "    print(\"No errors found this far. Your code may work.\")\n"
   ]
  },
  {
   "cell_type": "markdown",
   "id": "e0f3db40",
   "metadata": {
    "deletable": false,
    "editable": false,
    "nbgrader": {
     "cell_type": "markdown",
     "checksum": "e7cdafa774f56b941aed888e2a174f4c",
     "grade": false,
     "grade_id": "cell-e597abe8a05b8f2e",
     "locked": true,
     "schema_version": 3,
     "solution": false,
     "task": false
    }
   },
   "source": [
    "## Remove rows with missing coordinate data\n",
    "\n",
    "1. Study the data with the `describe()` -function. How many values there are in each column. Assign in variable `nL`, How many rows have data ain `Longitude` -column.\n",
    "2. Drop each row, where the Longitude-value is missing. and assign the result to new data-frame `D`"
   ]
  },
  {
   "cell_type": "code",
   "execution_count": null,
   "id": "3971e609",
   "metadata": {
    "ExecuteTime": {
     "end_time": "2022-09-20T20:21:27.130879Z",
     "start_time": "2022-09-20T20:21:27.121361Z"
    },
    "deletable": false,
    "nbgrader": {
     "cell_type": "code",
     "checksum": "9bc01314c7743edb485fbe6472668e3a",
     "grade": false,
     "grade_id": "cell-84bdec6840dac41f",
     "locked": false,
     "schema_version": 3,
     "solution": true,
     "task": false
    }
   },
   "outputs": [],
   "source": [
    "# YOUR CODE HERE\n",
    "raise NotImplementedError()"
   ]
  },
  {
   "cell_type": "code",
   "execution_count": null,
   "id": "77dd5051",
   "metadata": {
    "ExecuteTime": {
     "end_time": "2022-09-20T20:42:34.827912Z",
     "start_time": "2022-09-20T20:42:34.787028Z"
    },
    "deletable": false,
    "editable": false,
    "nbgrader": {
     "cell_type": "code",
     "checksum": "ee731e8f4edd112026b5df0990cbdb98",
     "grade": true,
     "grade_id": "cell-8b10b5261858131d",
     "locked": true,
     "points": 3,
     "schema_version": 3,
     "solution": false,
     "task": false
    }
   },
   "outputs": [],
   "source": [
    "errorfound=False\n",
    "Ncorrect=0\n",
    "if ('D' not in globals()) or ('nL' not in globals()):\n",
    "    print(\"D or nL is not found! Please Store the reduced data frame as D, and number of values in nL\")\n",
    "    errorfound=True\n",
    "if not errorfound:\n",
    "    print(\"No errrors found this far, your code may work :)\")\n"
   ]
  },
  {
   "cell_type": "markdown",
   "id": "d8f663ae",
   "metadata": {},
   "source": [
    "#### Plot the data\n",
    "1. Study the column names, by printing the `D.columns` variable\n",
    "1. Plot the three accelerations: `Acceleration.forward`, `Acceleration.side`, and `Acceleration.up` between rows (=samples) between 0-500 in the same figure. Use the `D.plot()` and assign the resulting figure to the variable called `fig`, as follows: `fig = D.plot(...`\n",
    "2. Define the label for y-axis. You can use LaTeX strings as follows `'Acceleration $\\cdot 10 m/s^2$' `. The part between dollar signs is interpreted as mathematical expression.\n",
    "3. Define also the label for x-axis. It is the time in centiseconds or 10 ms.\n",
    "\n",
    "**TIP**: It is easiest to plot Pandas dataframes by just using the build in `plot()` function of the dataframe object. Study its properties by writing `D.plot` and then hitting the `Shift-TAB` button combination. You should see the documentation of print"
   ]
  },
  {
   "cell_type": "code",
   "execution_count": null,
   "id": "e76b31ea",
   "metadata": {
    "ExecuteTime": {
     "end_time": "2022-09-20T20:30:02.385809Z",
     "start_time": "2022-09-20T20:30:02.378390Z"
    },
    "deletable": false,
    "nbgrader": {
     "cell_type": "code",
     "checksum": "e621162c43dbc7f97d7e9b5b326b72e5",
     "grade": false,
     "grade_id": "cell-3b75e463ba50584b",
     "locked": false,
     "schema_version": 3,
     "solution": true,
     "task": false
    }
   },
   "outputs": [],
   "source": [
    "# YOUR CODE HERE\n",
    "raise NotImplementedError()"
   ]
  },
  {
   "cell_type": "code",
   "execution_count": null,
   "id": "6766a2fb",
   "metadata": {
    "ExecuteTime": {
     "end_time": "2022-09-20T20:43:15.182121Z",
     "start_time": "2022-09-20T20:43:15.156778Z"
    },
    "deletable": false,
    "editable": false,
    "nbgrader": {
     "cell_type": "code",
     "checksum": "85cf89453be67162f3c11de3a3e3dd0a",
     "grade": true,
     "grade_id": "cell-505a65dfd626e1e6",
     "locked": true,
     "points": 3,
     "schema_version": 3,
     "solution": false,
     "task": false
    }
   },
   "outputs": [],
   "source": [
    "errorfound=False\n",
    "Ncorrect=0\n",
    "if 'fig' not in globals():\n",
    "    print(\"fig not found! Please plot the figure, and store it to variable fig.\")\n",
    "    errorfound=True\n",
    "else:\n",
    "    Ncorrect+=1\n",
    "    if fig.axes.get_xlabel().startswith('Time'):\n",
    "        Ncorrect +=1\n",
    "    else:\n",
    "        print(\"X-axis label not set or not correct. Please recheck.\")\n",
    "        errorfound=True\n",
    "    if fig.axes.get_ylabel().startswith('Acce'):\n",
    "        Ncorrect+=1\n",
    "    else:\n",
    "        print(\"Y-axis label not set or not correct. Please recheck.\")\n",
    "        errorfound=True\n",
    "if not errorfound:\n",
    "    print(\"No errrors found this far, your code may work :)\")\n",
    "         "
   ]
  },
  {
   "cell_type": "markdown",
   "id": "179dc638-64a5-4554-9638-0cad52284e17",
   "metadata": {},
   "source": [
    "## Scatterplot\n",
    "1. Make scatterplot of two columns `Latitude` and `Longitude` of the data between rows 0:500, and store the figure as `fig_scatter`. Make sure that Latitude is in the x-axis."
   ]
  },
  {
   "cell_type": "code",
   "execution_count": null,
   "id": "8d154759-2426-429b-97e8-d7c41aef3668",
   "metadata": {
    "ExecuteTime": {
     "end_time": "2022-09-20T20:30:02.385809Z",
     "start_time": "2022-09-20T20:30:02.378390Z"
    },
    "deletable": false,
    "nbgrader": {
     "cell_type": "code",
     "checksum": "4b19aecb4b96db1cdec528d8dc296f8d",
     "grade": false,
     "grade_id": "cell-3b75e463ba50584c",
     "locked": false,
     "schema_version": 3,
     "solution": true,
     "task": false
    }
   },
   "outputs": [],
   "source": [
    "# YOUR CODE HERE\n",
    "raise NotImplementedError()"
   ]
  },
  {
   "cell_type": "code",
   "execution_count": null,
   "id": "ede1f581-7119-4b1c-8a08-a3bfe927d256",
   "metadata": {
    "ExecuteTime": {
     "end_time": "2022-09-20T20:43:15.182121Z",
     "start_time": "2022-09-20T20:43:15.156778Z"
    },
    "deletable": false,
    "editable": false,
    "nbgrader": {
     "cell_type": "code",
     "checksum": "7907bbf324f97e703983406a89e22e14",
     "grade": true,
     "grade_id": "cell-505a65dfd626e1e7",
     "locked": true,
     "points": 1,
     "schema_version": 3,
     "solution": false,
     "task": false
    }
   },
   "outputs": [],
   "source": [
    "errorfound=False\n",
    "Ncorrect=0\n",
    "if 'fig_scatter' not in globals():\n",
    "    print(\"fig_scatter not found! Please plot the figure, and store it to variable fig.\")\n",
    "    errorfound=True\n",
    "else:\n",
    "    if type(fig_scatter.axes)==list:\n",
    "        xlabel = fig_scatter.axes[0].get_xlabel()\n",
    "        print('list')\n",
    "    else:\n",
    "        print('No list')\n",
    "        xlabel = fig_scatter.axes.get_xlabel()\n",
    "    if xlabel.startswith('Lati'):\n",
    "        Ncorrect +=1\n",
    "    else:\n",
    "        print(\"There is something wrong, plese recheckd\")\n",
    "        errorfound=True\n",
    "if not errorfound:\n",
    "    print(\"No errrors found this far, your code may work :)\")\n",
    "         "
   ]
  },
  {
   "cell_type": "code",
   "execution_count": null,
   "id": "04e05eed-b4a8-40a3-b308-9b025e6435c8",
   "metadata": {},
   "outputs": [],
   "source": []
  }
 ],
 "metadata": {
  "kernelspec": {
   "display_name": "Python 3 (ipykernel)",
   "language": "python",
   "name": "python3"
  },
  "language_info": {
   "codemirror_mode": {
    "name": "ipython",
    "version": 3
   },
   "file_extension": ".py",
   "mimetype": "text/x-python",
   "name": "python",
   "nbconvert_exporter": "python",
   "pygments_lexer": "ipython3",
   "version": "3.10.10"
  },
  "toc": {
   "base_numbering": 1,
   "nav_menu": {},
   "number_sections": true,
   "sideBar": true,
   "skip_h1_title": false,
   "title_cell": "Table of Contents",
   "title_sidebar": "Contents",
   "toc_cell": false,
   "toc_position": {},
   "toc_section_display": true,
   "toc_window_display": false
  }
 },
 "nbformat": 4,
 "nbformat_minor": 5
}
