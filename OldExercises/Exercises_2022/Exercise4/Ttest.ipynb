{
 "cells": [
  {
   "cell_type": "markdown",
   "metadata": {},
   "source": [
    "# Applied Machine Learning (2022), exercises\n",
    "\n",
    "\n",
    "## General instructions for all exercises\n",
    "\n",
    "Follow the instructions and fill in your solution under the line marked by tag\n",
    "\n",
    "> YOUR CODE HERE\n",
    "\n",
    "Remove also line \n",
    "\n",
    "> raise NotImplementedError()\n",
    "\n",
    "**Do not change other areas of the document**, since it may disturb the autograding of your results!\n",
    "  \n",
    "Having written the answer, execute the code cell by and pressing `Shift-Enter` key combination. The code is run, and it may print some information under the code cell. The focus automatically moves to the next cell and you may \"execute\" that cell by pressing `Shift-Enter` again, until you have reached the code cell which tests your solution. Execute that and follow the feedback. Usually it either says that the solution seems acceptable, or reports some errors. You can go back to your solution, modify it and repeat everything until you are satisfied. Then proceed to the next task.\n",
    "   \n",
    "Repeat the process for all tasks.\n",
    "\n",
    "The notebook may also contain manually graded answers. Write your manually graded answer under the line marked by tag:\n",
    "\n",
    "> YOUR ANSWER HERE\n",
    "\n",
    "Manually graded tasks are text in markdown format. It may contain text, pseudocode, or mathematical formulas. You can write formulas with $\\LaTeX$-syntax by enclosing the formula with dollar signs (`$`), for example `$f(x)=2 \\pi / \\alpha$`, will produce $f(x)=2 \\pi / \\alpha$\n",
    "\n",
    "When you have passed the tests in the notebook, and you are ready to submit your solutions, download the whole notebook, using menu `File -> Download as -> Notebook (.ipynb)`. Save the file in your hard disk, and submit it in [Moodle](https://moodle.uwasa.fi) or EUNICE Moodle under the corresponding excercise.\n",
    "\n",
    "Your solution should be an executable Python code. Use the code already existing as an example of Python programing and read more from the numerous Python programming material from the Internet if necessary. \n"
   ]
  },
  {
   "cell_type": "code",
   "execution_count": null,
   "metadata": {},
   "outputs": [],
   "source": []
  },
  {
   "cell_type": "markdown",
   "metadata": {},
   "source": [
    "# Statistics"
   ]
  },
  {
   "cell_type": "code",
   "execution_count": null,
   "metadata": {
    "ExecuteTime": {
     "end_time": "2022-10-12T18:07:46.069407Z",
     "start_time": "2022-10-12T18:07:42.265270Z"
    }
   },
   "outputs": [],
   "source": [
    "import numpy as np\n",
    "import pandas as pd\n",
    "import matplotlib.pyplot as plt\n",
    "import seaborn as sns\n",
    "sns.set()  # for plot styling"
   ]
  },
  {
   "cell_type": "markdown",
   "metadata": {},
   "source": [
    "## Task 1: Load dataset"
   ]
  },
  {
   "cell_type": "markdown",
   "metadata": {},
   "source": [
    "Use the `load_dataset` function of seaborn to load a dataset called \"seaice\" into a variable named `data`. Then plot the dataset. It shows how far the sea ice has extended in years 1980 - 2016."
   ]
  },
  {
   "cell_type": "code",
   "execution_count": null,
   "metadata": {
    "ExecuteTime": {
     "end_time": "2022-10-12T18:09:03.304904Z",
     "start_time": "2022-10-12T18:09:02.652760Z"
    },
    "deletable": false,
    "nbgrader": {
     "cell_type": "code",
     "checksum": "7c0d76573854a880695257dca93ed392",
     "grade": false,
     "grade_id": "cell-0a96b953632df5e9",
     "locked": false,
     "schema_version": 3,
     "solution": true,
     "task": false
    }
   },
   "outputs": [],
   "source": [
    "# YOUR CODE HERE\n",
    "raise NotImplementedError()"
   ]
  },
  {
   "cell_type": "code",
   "execution_count": null,
   "metadata": {
    "ExecuteTime": {
     "end_time": "2022-10-12T18:37:57.658315Z",
     "start_time": "2022-10-12T18:37:57.655171Z"
    },
    "deletable": false,
    "editable": false,
    "nbgrader": {
     "cell_type": "code",
     "checksum": "cd8d63ef98b743bd1b9e5e2c8f60c17b",
     "grade": true,
     "grade_id": "cell-f1cefd62627a0ac6",
     "locked": true,
     "points": 1,
     "schema_version": 3,
     "solution": false,
     "task": false
    }
   },
   "outputs": [],
   "source": [
    "assert(data.shape == (13175,2)), \"Please assing the dataset to the variable called data\""
   ]
  },
  {
   "cell_type": "markdown",
   "metadata": {},
   "source": [
    "## Task 2, change index\n",
    "The data is a pandas dataframe with two columns and integer index. Replace the current index with the `Date` column, using `set_index` function of the dataframe and store the result as new dataframe called as `seaice`. \n",
    "\n",
    "You can see the documentation of the `set_index` by writing `data.set_index?` or `help(data.set_index)`.\n",
    "\n",
    "Plot the new dataframe now and observe the times plotted in x-axis."
   ]
  },
  {
   "cell_type": "code",
   "execution_count": null,
   "metadata": {
    "ExecuteTime": {
     "end_time": "2022-10-12T18:12:00.221836Z",
     "start_time": "2022-10-12T18:12:00.216959Z"
    },
    "deletable": false,
    "nbgrader": {
     "cell_type": "code",
     "checksum": "b7e29fc0fe7249925142afe8837fa29a",
     "grade": false,
     "grade_id": "cell-dcc00f2101ddb78b",
     "locked": false,
     "schema_version": 3,
     "solution": true,
     "task": false
    }
   },
   "outputs": [],
   "source": [
    "# YOUR CODE HERE\n",
    "raise NotImplementedError()"
   ]
  },
  {
   "cell_type": "code",
   "execution_count": null,
   "metadata": {
    "ExecuteTime": {
     "end_time": "2022-10-12T18:43:59.419220Z",
     "start_time": "2022-10-12T18:43:59.417009Z"
    },
    "deletable": false,
    "editable": false,
    "nbgrader": {
     "cell_type": "code",
     "checksum": "86e612b69c1f6853a566308caf04db0e",
     "grade": true,
     "grade_id": "cell-d976725b97126832",
     "locked": true,
     "points": 1,
     "schema_version": 3,
     "solution": false,
     "task": false
    }
   },
   "outputs": [],
   "source": [
    "assert(seaice.shape==(13175, 1)), \"Changing of index did now work properly?\""
   ]
  },
  {
   "cell_type": "markdown",
   "metadata": {},
   "source": [
    "## Task 3, Normality\n",
    "Import `normaltest` from scipy.stats and test if the seaice extension data is normally distributed.\n",
    "Assign the result of the test into variable `ntest`.\n",
    "\n",
    "Print the p-value to the screen."
   ]
  },
  {
   "cell_type": "code",
   "execution_count": null,
   "metadata": {
    "ExecuteTime": {
     "end_time": "2022-10-12T18:46:40.168536Z",
     "start_time": "2022-10-12T18:46:40.164187Z"
    },
    "deletable": false,
    "nbgrader": {
     "cell_type": "code",
     "checksum": "480322beb80a244b25b87cdfacc2c5ad",
     "grade": false,
     "grade_id": "cell-e2892824e8cb0d15",
     "locked": false,
     "schema_version": 3,
     "solution": true,
     "task": false
    }
   },
   "outputs": [],
   "source": [
    "# YOUR CODE HERE\n",
    "raise NotImplementedError()"
   ]
  },
  {
   "cell_type": "code",
   "execution_count": null,
   "metadata": {
    "ExecuteTime": {
     "end_time": "2022-10-12T18:48:30.057965Z",
     "start_time": "2022-10-12T18:48:30.055799Z"
    },
    "deletable": false,
    "editable": false,
    "nbgrader": {
     "cell_type": "code",
     "checksum": "ee693b85e9d3ca2539eebb715350919f",
     "grade": true,
     "grade_id": "cell-4b6f7719b93650af",
     "locked": true,
     "points": 2,
     "schema_version": 3,
     "solution": false,
     "task": false
    }
   },
   "outputs": [],
   "source": [
    "import scipy\n",
    "assert(type(ntest) == scipy.stats.stats.NormaltestResult), \"ntest was not the Normal test\"\n"
   ]
  },
  {
   "cell_type": "markdown",
   "metadata": {},
   "source": [
    "## Task 4, Split and compare\n",
    "Split the seaice data into two halfs. Assing the the first half of the seaice extend into variable `ice1` and the second half into `ice2`. \n",
    "\n",
    "Plot both half of data into screen, and observe visually if they seem to be different."
   ]
  },
  {
   "cell_type": "code",
   "execution_count": null,
   "metadata": {
    "ExecuteTime": {
     "end_time": "2022-10-12T18:53:53.142382Z",
     "start_time": "2022-10-12T18:53:53.138259Z"
    },
    "deletable": false,
    "nbgrader": {
     "cell_type": "code",
     "checksum": "5913a03635f4b5dc146d1a3499a7e85e",
     "grade": false,
     "grade_id": "cell-e80b6f89df2d9000",
     "locked": false,
     "schema_version": 3,
     "solution": true,
     "task": false
    }
   },
   "outputs": [],
   "source": [
    "# YOUR CODE HERE\n",
    "raise NotImplementedError()"
   ]
  },
  {
   "cell_type": "code",
   "execution_count": null,
   "metadata": {
    "ExecuteTime": {
     "end_time": "2022-10-12T18:53:56.230778Z",
     "start_time": "2022-10-12T18:53:56.227111Z"
    },
    "deletable": false,
    "editable": false,
    "nbgrader": {
     "cell_type": "code",
     "checksum": "57f7e3ea173bfce15f70beb7d1b54db7",
     "grade": true,
     "grade_id": "cell-3c668ab733c0d1c9",
     "locked": true,
     "points": 1,
     "schema_version": 3,
     "solution": false,
     "task": false
    }
   },
   "outputs": [],
   "source": [
    "assert(ice1.shape[0] == 6587)\n",
    "assert(ice2.shape[0] == 6587)"
   ]
  },
  {
   "cell_type": "markdown",
   "metadata": {},
   "source": [
    "## Task 5, T-test\n",
    "Carry out the independent two-sided t-test to both halves `ice1` and `ice2` and store the result to the variable `ttest`. Print the p-value of the test to the screen. What does it show? Is the sea ice extent significantly different in the second half than the first?"
   ]
  },
  {
   "cell_type": "code",
   "execution_count": null,
   "metadata": {
    "ExecuteTime": {
     "end_time": "2022-10-12T18:56:14.162766Z",
     "start_time": "2022-10-12T18:56:14.159968Z"
    },
    "deletable": false,
    "nbgrader": {
     "cell_type": "code",
     "checksum": "40876b7a61008d35cc2b945115ac2c47",
     "grade": false,
     "grade_id": "cell-befe8da4eb643b81",
     "locked": false,
     "schema_version": 3,
     "solution": true,
     "task": false
    }
   },
   "outputs": [],
   "source": [
    "# YOUR CODE HERE\n",
    "raise NotImplementedError()"
   ]
  },
  {
   "cell_type": "code",
   "execution_count": null,
   "metadata": {
    "ExecuteTime": {
     "end_time": "2022-10-12T18:58:11.968633Z",
     "start_time": "2022-10-12T18:58:11.965644Z"
    },
    "deletable": false,
    "editable": false,
    "nbgrader": {
     "cell_type": "code",
     "checksum": "e1c4bb5bcba87db7ba4738b34516a2b3",
     "grade": true,
     "grade_id": "cell-607a2f3a1f94e0e3",
     "locked": true,
     "points": 2,
     "schema_version": 3,
     "solution": false,
     "task": false
    }
   },
   "outputs": [],
   "source": [
    "assert(type(ttest)==scipy.stats.stats.Ttest_indResult), \"The test was not succesful\""
   ]
  },
  {
   "cell_type": "markdown",
   "metadata": {
    "deletable": false,
    "editable": false,
    "nbgrader": {
     "cell_type": "markdown",
     "checksum": "20778b750a2b7e50344ca7932452463c",
     "grade": false,
     "grade_id": "cell-e99622156ca1efab",
     "locked": true,
     "points": 0,
     "schema_version": 3,
     "solution": false,
     "task": true
    }
   },
   "source": [
    "## Task 6, Interpretation\n",
    "\n",
    "1. Was the sea ice extensions normally distributed or not?\n",
    "1. Were the first and second half of the data significantly different?\n",
    "1. What test can be used instead of t-test if the data is not normally distributed?"
   ]
  },
  {
   "cell_type": "markdown",
   "metadata": {
    "ExecuteTime": {
     "end_time": "2022-10-12T19:02:27.495218Z",
     "start_time": "2022-10-12T19:02:27.492562Z"
    },
    "deletable": false,
    "nbgrader": {
     "cell_type": "markdown",
     "checksum": "dc0f269f9731f440d95ceb106f6ae933",
     "grade": true,
     "grade_id": "cell-89cdea8e83d2009b",
     "locked": false,
     "points": 3,
     "schema_version": 3,
     "solution": true,
     "task": false
    }
   },
   "source": [
    "YOUR ANSWER HERE"
   ]
  }
 ],
 "metadata": {
  "kernelspec": {
   "display_name": "Python 3 (ipykernel)",
   "language": "python",
   "name": "python3"
  },
  "language_info": {
   "codemirror_mode": {
    "name": "ipython",
    "version": 3
   },
   "file_extension": ".py",
   "mimetype": "text/x-python",
   "name": "python",
   "nbconvert_exporter": "python",
   "pygments_lexer": "ipython3",
   "version": "3.9.2"
  },
  "toc": {
   "base_numbering": 1,
   "nav_menu": {},
   "number_sections": true,
   "sideBar": true,
   "skip_h1_title": false,
   "title_cell": "Table of Contents",
   "title_sidebar": "Contents",
   "toc_cell": false,
   "toc_position": {},
   "toc_section_display": true,
   "toc_window_display": false
  }
 },
 "nbformat": 4,
 "nbformat_minor": 4
}
