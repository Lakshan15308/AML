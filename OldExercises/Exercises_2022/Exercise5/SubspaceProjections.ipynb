{
 "cells": [
  {
   "cell_type": "markdown",
   "metadata": {},
   "source": [
    "# Applied Machine Learning (2022), exercises\n",
    "\n",
    "\n",
    "## General instructions for all exercises\n",
    "\n",
    "Follow the instructions and fill in your solution under the line marked by tag\n",
    "\n",
    "> YOUR CODE HERE\n",
    "\n",
    "Remove also line \n",
    "\n",
    "> raise NotImplementedError()\n",
    "\n",
    "**Do not change other areas of the document**, since it may disturb the autograding of your results!\n",
    "  \n",
    "Having written the answer, execute the code cell by and pressing `Shift-Enter` key combination. The code is run, and it may print some information under the code cell. The focus automatically moves to the next cell and you may \"execute\" that cell by pressing `Shift-Enter` again, until you have reached the code cell which tests your solution. Execute that and follow the feedback. Usually it either says that the solution seems acceptable, or reports some errors. You can go back to your solution, modify it and repeat everything until you are satisfied. Then proceed to the next task.\n",
    "   \n",
    "Repeat the process for all tasks.\n",
    "\n",
    "The notebook may also contain manually graded answers. Write your manually graded answer under the line marked by tag:\n",
    "\n",
    "> YOUR ANSWER HERE\n",
    "\n",
    "Manually graded tasks are text in markdown format. It may contain text, pseudocode, or mathematical formulas. You can write formulas with $\\LaTeX$-syntax by enclosing the formula with dollar signs (`$`), for example `$f(x)=2 \\pi / \\alpha$`, will produce $f(x)=2 \\pi / \\alpha$\n",
    "\n",
    "When you have passed the tests in the notebook, and you are ready to submit your solutions, download the whole notebook, using menu `File -> Download as -> Notebook (.ipynb)`. Save the file in your hard disk, and submit it in [Moodle](https://moodle.uwasa.fi) or EUNICE Moodle under the corresponding excercise.\n",
    "\n",
    "Your solution should be an executable Python code. Use the code already existing as an example of Python programing and read more from the numerous Python programming material from the Internet if necessary. \n"
   ]
  },
  {
   "cell_type": "code",
   "execution_count": null,
   "metadata": {},
   "outputs": [],
   "source": []
  },
  {
   "cell_type": "markdown",
   "metadata": {},
   "source": [
    "# Unsupervised learning, projections of multivariate data"
   ]
  },
  {
   "cell_type": "markdown",
   "metadata": {},
   "source": [
    "## Task 1: Read and visualize spectral data"
   ]
  },
  {
   "cell_type": "code",
   "execution_count": null,
   "metadata": {
    "ExecuteTime": {
     "end_time": "2022-10-17T18:02:23.139326Z",
     "start_time": "2022-10-17T18:02:23.129741Z"
    }
   },
   "outputs": [],
   "source": [
    "import numpy as np\n",
    "import pandas as pd\n",
    "import matplotlib.pyplot as plt\n",
    "import seaborn as sns\n",
    "sns.set()  # for plot styling"
   ]
  },
  {
   "cell_type": "markdown",
   "metadata": {},
   "source": [
    "The data-file `liver-spectroscopy.tab` is a text file which contains a Near Infrared Spectral (NIR) measurements of different cells from a liver. The file includes 731 samples, and each one has 234 variables. The variables describes the amount of infrared radiation absorbed in each of the tested 234 wavelengths. The last column in the data is the cell type, which can be one of the four types: 'collagen', 'glycogen', 'lipids' or 'DNA'. The column names are the wavelengths used in measuring the absorbtion values for the specific columns.\n",
    "\n",
    "The data file is in text format, in which the columns are separated by tab-characters. \n",
    "\n",
    "The first task is to read the data file into a pandas dataframe called `D`. Use pandas function `.read_table()` for reading it."
   ]
  },
  {
   "cell_type": "code",
   "execution_count": null,
   "metadata": {
    "ExecuteTime": {
     "end_time": "2022-10-17T18:02:24.356095Z",
     "start_time": "2022-10-17T18:02:24.278918Z"
    },
    "deletable": false,
    "editable": true,
    "nbgrader": {
     "cell_type": "code",
     "checksum": "7ffef172cd67d1636738f6e3f5ddf4ff",
     "grade": false,
     "grade_id": "cell-10342f7d59a7a427",
     "locked": false,
     "schema_version": 3,
     "solution": true,
     "task": false
    },
    "slideshow": {
     "slide_type": "fragment"
    },
    "tags": []
   },
   "outputs": [],
   "source": [
    "# YOUR CODE HERE\n",
    "raise NotImplementedError()"
   ]
  },
  {
   "cell_type": "code",
   "execution_count": null,
   "metadata": {
    "ExecuteTime": {
     "end_time": "2022-10-17T18:02:25.395774Z",
     "start_time": "2022-10-17T18:02:25.385679Z"
    },
    "deletable": false,
    "editable": false,
    "nbgrader": {
     "cell_type": "code",
     "checksum": "4966084ffba5643321113d54b411fa3d",
     "grade": true,
     "grade_id": "cell-d2b7ace3c3ddd431",
     "locked": true,
     "points": 1,
     "schema_version": 3,
     "solution": false,
     "task": false
    }
   },
   "outputs": [],
   "source": [
    "assert('D' in globals()), \\\n",
    "    print(\"Use name D for NIR data, please.\")    \n",
    "assert(type(D)==pd.DataFrame)\n",
    "\n",
    "assert(D.shape==(731,235)), \"The shape of the data matrix is not quite right. Try to read it again\"\n"
   ]
  },
  {
   "cell_type": "markdown",
   "metadata": {},
   "source": [
    "Then visualize the spectral data by carrying out the following steps\n",
    "1. Parse the `type` column as categorical value vector called `types` using function `pd.Categorical()`\n",
    "1. Delete the original column 'type' from the dataframe (`del D['type']`)\n",
    "1. parse the column names (`D.columns`) into a numerical vector of wavelengts, and name it as `wl`. You may find the `map()` function usefull for this purpose. Check from the last exercise how it was used. Round the wavelengths to integers, if you find a way to do that, but you can also used it as floating point values.\n",
    "1. Assing the parsed `wl` vector as new column names of D (you can just assign it to `D.columns`)\n",
    "1. Plot the first 10 samples. Select the first ten rows using `D.iloc[]`, and plot the transpose of them, using a transpose operator `.T`, as follows `D.iloc[].T.plot()`. Transpose is needed, because the plot function always places the row index in the x-axis. If the dataframe is first transposed, the column index (the wavelengths) becomes the row index, and plot will be correct.\n",
    "\n",
    "You can also use `plt.xlabel()` and `plt.ylabel()` -functions to define labels for x- and y-axes.\n",
    "\n",
    "The result should look like this:\n",
    "![spectra](spectra.png)\n"
   ]
  },
  {
   "cell_type": "code",
   "execution_count": null,
   "metadata": {
    "ExecuteTime": {
     "end_time": "2022-10-17T18:02:35.402257Z",
     "start_time": "2022-10-17T18:02:35.043107Z"
    },
    "deletable": false,
    "nbgrader": {
     "cell_type": "code",
     "checksum": "595b5d8af8c7d7bd05aa6c553cb3b98f",
     "grade": false,
     "grade_id": "cell-24c94f31e298e4b7",
     "locked": false,
     "schema_version": 3,
     "solution": true,
     "task": false
    }
   },
   "outputs": [],
   "source": [
    "# YOUR CODE HERE\n",
    "raise NotImplementedError()"
   ]
  },
  {
   "cell_type": "code",
   "execution_count": null,
   "metadata": {
    "ExecuteTime": {
     "end_time": "2022-10-17T18:03:06.584760Z",
     "start_time": "2022-10-17T18:03:06.573664Z"
    },
    "deletable": false,
    "editable": false,
    "nbgrader": {
     "cell_type": "code",
     "checksum": "ed8a567a8dc562a51fe3c6696963a275",
     "grade": true,
     "grade_id": "cell-21f59b217aab4f88",
     "locked": true,
     "points": 2,
     "schema_version": 3,
     "solution": false,
     "task": false
    }
   },
   "outputs": [],
   "source": [
    "assert(type(types)==pd.Categorical)\n",
    "assert(len(types)==731)\n",
    "assert(len(wl)==234)\n",
    "assert(D.shape==(731,234))\n"
   ]
  },
  {
   "cell_type": "markdown",
   "metadata": {},
   "source": [
    "## Task 2, calculate PCA projection and visualize\n",
    "\n",
    "Apply PCA to the dataframe `D` and plot how much variance is explained by the first 10 principal components. Store the transformed `D` as variable `projectedD`.\n",
    "\n",
    "Store the explained variance ratio in variable `varexp`"
   ]
  },
  {
   "cell_type": "code",
   "execution_count": null,
   "metadata": {
    "ExecuteTime": {
     "end_time": "2022-10-17T18:03:08.818420Z",
     "start_time": "2022-10-17T18:03:08.342868Z"
    },
    "deletable": false,
    "nbgrader": {
     "cell_type": "code",
     "checksum": "53038eed890b54185b06da55f2dc5489",
     "grade": false,
     "grade_id": "cell-3083b4a641efcef3",
     "locked": false,
     "schema_version": 3,
     "solution": true,
     "task": false
    }
   },
   "outputs": [],
   "source": [
    "\n",
    "# YOUR CODE HERE\n",
    "raise NotImplementedError()"
   ]
  },
  {
   "cell_type": "code",
   "execution_count": null,
   "metadata": {
    "ExecuteTime": {
     "end_time": "2022-10-17T18:03:23.238083Z",
     "start_time": "2022-10-17T18:03:23.229255Z"
    },
    "deletable": false,
    "editable": false,
    "nbgrader": {
     "cell_type": "code",
     "checksum": "fa6266032b6396ddbbb62819483b4713",
     "grade": true,
     "grade_id": "cell-116468ea10bd494e",
     "locked": true,
     "points": 1,
     "schema_version": 3,
     "solution": false,
     "task": false
    }
   },
   "outputs": [],
   "source": [
    "assert('varexp' in globals()), \\\n",
    "    print(\"Use the name varexp for storing the explained variance ratio, please.\")\n",
    "assert(projectedD.shape==(731,10))\n"
   ]
  },
  {
   "cell_type": "markdown",
   "metadata": {
    "deletable": false,
    "editable": false,
    "nbgrader": {
     "cell_type": "markdown",
     "checksum": "2962e5400afe63c092e315bd7cd1253c",
     "grade": false,
     "grade_id": "cell-dfbef748db6e3c12",
     "locked": true,
     "schema_version": 3,
     "solution": false,
     "task": false
    }
   },
   "source": [
    "How many PCA components you would select if you need to explain at least 90% of the variance of the data?\n",
    "Answer by assigning correct value to n below."
   ]
  },
  {
   "cell_type": "code",
   "execution_count": null,
   "metadata": {
    "ExecuteTime": {
     "end_time": "2022-10-17T18:03:25.938208Z",
     "start_time": "2022-10-17T18:03:25.929918Z"
    },
    "deletable": false,
    "nbgrader": {
     "cell_type": "code",
     "checksum": "cadf0b3ed99b17b6c185950e066498e5",
     "grade": false,
     "grade_id": "cell-28b77ec51f9e8c60",
     "locked": false,
     "schema_version": 3,
     "solution": true,
     "task": false
    }
   },
   "outputs": [],
   "source": [
    "n=0\n",
    "# YOUR CODE HERE\n",
    "raise NotImplementedError()"
   ]
  },
  {
   "cell_type": "code",
   "execution_count": null,
   "metadata": {
    "ExecuteTime": {
     "end_time": "2022-10-17T18:03:29.462749Z",
     "start_time": "2022-10-17T18:03:29.455082Z"
    },
    "deletable": false,
    "editable": false,
    "nbgrader": {
     "cell_type": "code",
     "checksum": "d47b4b814c8bfb7803f30e6cbe0069f4",
     "grade": true,
     "grade_id": "cell-0576b1b0f02a9a33",
     "locked": true,
     "points": 1,
     "schema_version": 3,
     "solution": false,
     "task": false
    }
   },
   "outputs": [],
   "source": [
    "assert('n' in globals()), \\\n",
    "    print(\"Use the name n for the number of principal components needed, please.\")\n"
   ]
  },
  {
   "cell_type": "markdown",
   "metadata": {},
   "source": [
    "### Visualize the data in PCA domain\n",
    "\n",
    "Plot a scatter plot of two first principal components. Since `projectedD` is a numpy array and not a DataFrame, use the plotting function  `plt.scatter()`. The function requires two parameters, x-data and y-data, but some others are also usefull:\n",
    "1. The first parameter is the x-data, give it the first principal compoent\n",
    "1. The second parameter is the y-data, give it the second principal component\n",
    "1. Give the class category for point colors `c=types.codes` \n",
    "1. Use the colormap parameter to use better colormap, e.g. `cmap='rainbow'`\n",
    "1. Use rather small point size e.g. `s=10`\n",
    "1. Make points somewhat transparent `alpha=0.5`\n",
    "\n",
    "You can also use `plt.xlabel()` and `plt.ylabel()` functions to provide names for x and y axes, and `plt.colorbar()` to plot the colorbar explaining the meaning of the colors.\n",
    "The plot should look like the following:\n",
    "\n",
    "![pca](pca.png)\n",
    "\n",
    "Notice that the different tissue types are clearly different already in two dimensional space."
   ]
  },
  {
   "cell_type": "code",
   "execution_count": null,
   "metadata": {
    "ExecuteTime": {
     "end_time": "2022-10-17T18:03:38.391333Z",
     "start_time": "2022-10-17T18:03:38.136864Z"
    },
    "deletable": false,
    "nbgrader": {
     "cell_type": "code",
     "checksum": "3609c9e72bc9ff774c63c89fc12e890a",
     "grade": false,
     "grade_id": "cell-73bd925190782d71",
     "locked": false,
     "schema_version": 3,
     "solution": true,
     "task": false
    }
   },
   "outputs": [],
   "source": [
    "# YOUR CODE HERE\n",
    "raise NotImplementedError()"
   ]
  },
  {
   "cell_type": "code",
   "execution_count": null,
   "metadata": {
    "ExecuteTime": {
     "end_time": "2022-10-17T18:03:39.457927Z",
     "start_time": "2022-10-17T18:03:39.447830Z"
    },
    "deletable": false,
    "editable": false,
    "nbgrader": {
     "cell_type": "code",
     "checksum": "230ff9eacaef1e9b4edbfcce89bd29cf",
     "grade": true,
     "grade_id": "cell-939b3dbdc15ef430",
     "locked": true,
     "points": 1,
     "schema_version": 3,
     "solution": false,
     "task": false
    }
   },
   "outputs": [],
   "source": []
  },
  {
   "cell_type": "markdown",
   "metadata": {},
   "source": [
    "## Task 3, calculate t-SNE manifold projection and visualize\n",
    "\n",
    "Repeat the previously made projection using t-SNE and visualize it. Save your t-SNE projected data as `tsneD`. You can use just two components for tSNE.\n",
    "\n",
    "The result should look like the following: (*Notice that tSNE projection may be different, depending on program versions*)\n",
    "\n",
    "![tsne](tsne.png)\n",
    "\n",
    "The different cell types are even more easily separable than for PCA case."
   ]
  },
  {
   "cell_type": "code",
   "execution_count": null,
   "metadata": {
    "ExecuteTime": {
     "end_time": "2022-10-17T18:03:43.257482Z",
     "start_time": "2022-10-17T18:03:41.135482Z"
    },
    "deletable": false,
    "nbgrader": {
     "cell_type": "code",
     "checksum": "42456f8c2d54fc9801b44a5e7eb27cac",
     "grade": false,
     "grade_id": "cell-f75c9a3047ffdcb8",
     "locked": false,
     "schema_version": 3,
     "solution": true,
     "task": false
    }
   },
   "outputs": [],
   "source": [
    "from sklearn.manifold import TSNE\n",
    "# YOUR CODE HERE\n",
    "raise NotImplementedError()"
   ]
  },
  {
   "cell_type": "code",
   "execution_count": null,
   "metadata": {
    "ExecuteTime": {
     "end_time": "2022-10-17T18:04:08.283030Z",
     "start_time": "2022-10-17T18:04:08.279652Z"
    },
    "deletable": false,
    "editable": false,
    "nbgrader": {
     "cell_type": "code",
     "checksum": "f79dad23a9d360af047adb0bca1aa43e",
     "grade": true,
     "grade_id": "cell-37f4208cfc16968d",
     "locked": true,
     "points": 2,
     "schema_version": 3,
     "solution": false,
     "task": false
    }
   },
   "outputs": [],
   "source": [
    "assert(tsneD.shape==(731,2))"
   ]
  },
  {
   "cell_type": "markdown",
   "metadata": {
    "deletable": false,
    "editable": false,
    "nbgrader": {
     "cell_type": "markdown",
     "checksum": "246c08a00cf4aab82056359f670294ba",
     "grade": false,
     "grade_id": "cell-43b5cd2a339226d0",
     "locked": true,
     "schema_version": 3,
     "solution": false,
     "task": false
    }
   },
   "source": [
    "### Final questions\n",
    "1. Which tissue type is the most different from the other tissue types?\n",
    "1. Is it the same or different with PCA?"
   ]
  },
  {
   "cell_type": "markdown",
   "metadata": {
    "deletable": false,
    "nbgrader": {
     "cell_type": "markdown",
     "checksum": "c59bc219f8261f7ded93dbaf8c83ac0c",
     "grade": true,
     "grade_id": "cell-b35a562e62079958",
     "locked": false,
     "points": 2,
     "schema_version": 3,
     "solution": true,
     "task": false
    }
   },
   "source": [
    "YOUR ANSWER HERE"
   ]
  }
 ],
 "metadata": {
  "kernelspec": {
   "display_name": "Python 3 (ipykernel)",
   "language": "python",
   "name": "python3"
  },
  "language_info": {
   "codemirror_mode": {
    "name": "ipython",
    "version": 3
   },
   "file_extension": ".py",
   "mimetype": "text/x-python",
   "name": "python",
   "nbconvert_exporter": "python",
   "pygments_lexer": "ipython3",
   "version": "3.11.4"
  },
  "toc": {
   "base_numbering": 1,
   "nav_menu": {},
   "number_sections": true,
   "sideBar": true,
   "skip_h1_title": false,
   "title_cell": "Table of Contents",
   "title_sidebar": "Contents",
   "toc_cell": false,
   "toc_position": {},
   "toc_section_display": true,
   "toc_window_display": false
  }
 },
 "nbformat": 4,
 "nbformat_minor": 4
}
