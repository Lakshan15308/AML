{
 "cells": [
  {
   "cell_type": "markdown",
   "id": "d296f558",
   "metadata": {},
   "source": [
    "# Applied Machine Learning (2022), exercises\n",
    "\n",
    "\n",
    "## General instructions for all exercises\n",
    "\n",
    "Follow the instructions and fill in your solution under the line marked by tag\n",
    "\n",
    "> YOUR CODE HERE\n",
    "\n",
    "Remove also line \n",
    "\n",
    "> raise NotImplementedError()\n",
    "\n",
    "**Do not change other areas of the document**, since it may disturb the autograding of your results!\n",
    "  \n",
    "Having written the answer, execute the code cell by and pressing `Shift-Enter` key combination. The code is run, and it may print some information under the code cell. The focus automatically moves to the next cell and you may \"execute\" that cell by pressing `Shift-Enter` again, until you have reached the code cell which tests your solution. Execute that and follow the feedback. Usually it either says that the solution seems acceptable, or reports some errors. You can go back to your solution, modify it and repeat everything until you are satisfied. Then proceed to the next task.\n",
    "   \n",
    "Repeat the process for all tasks.\n",
    "\n",
    "The notebook may also contain manually graded answers. Write your manually graded answer under the line marked by tag:\n",
    "\n",
    "> YOUR ANSWER HERE\n",
    "\n",
    "Manually graded tasks are text in markdown format. It may contain text, pseudocode, or mathematical formulas. You can write formulas with $\\LaTeX$-syntax by enclosing the formula with dollar signs (`$`), for example `$f(x)=2 \\pi / \\alpha$`, will produce $f(x)=2 \\pi / \\alpha$\n",
    "\n",
    "When you have passed the tests in the notebook, and you are ready to submit your solutions, download the whole notebook, using menu `File -> Download as -> Notebook (.ipynb)`. Save the file in your hard disk, and submit it in [Moodle](https://moodle.uwasa.fi) or EUNICE Moodle under the corresponding excercise.\n",
    "\n",
    "Your solution should be an executable Python code. Use the code already existing as an example of Python programing and read more from the numerous Python programming material from the Internet if necessary. \n"
   ]
  },
  {
   "cell_type": "code",
   "execution_count": null,
   "id": "62ada069",
   "metadata": {},
   "outputs": [],
   "source": []
  },
  {
   "cell_type": "markdown",
   "id": "daffe2b8",
   "metadata": {
    "deletable": false,
    "editable": false,
    "nbgrader": {
     "cell_type": "markdown",
     "checksum": "aba5e93ffe2abde5bfbd76f146bfa7d5",
     "grade": false,
     "grade_id": "cell-d4870dd21eeb6a3c",
     "locked": true,
     "schema_version": 3,
     "solution": false,
     "task": false
    }
   },
   "source": [
    "# Python warmup"
   ]
  },
  {
   "cell_type": "markdown",
   "id": "fe141740",
   "metadata": {
    "deletable": false,
    "editable": false,
    "nbgrader": {
     "cell_type": "markdown",
     "checksum": "daf042cc5312462226aca4a9c6a1a120",
     "grade": false,
     "grade_id": "cell-74afa41f6340dc6e",
     "locked": true,
     "schema_version": 3,
     "solution": false,
     "task": false
    }
   },
   "source": [
    "## Create a  python data structures\n",
    "\n",
    "1. Create an integer scalar variable `x`, and print it\n",
    "1. Create a python list, `l`, and print it using function `list()` or directly with syntax `l=[1,4,2,3]`\n",
    "1. Create a [numpy array](https://numpy.org/doc/stable/reference/generated/numpy.array.html), `a`, and print it. Tip: Import numpy library first by using: ```import numpy as np``` \n",
    "\n",
    "Python lists are suitable in many cases, but they are not efficient for large amounts of data or mathematical operations. Numpy arrays include a lot of useful functions which are packaged in numpy arrays."
   ]
  },
  {
   "cell_type": "code",
   "execution_count": null,
   "id": "25ac66c7",
   "metadata": {
    "ExecuteTime": {
     "end_time": "2022-09-20T20:01:32.200637Z",
     "start_time": "2022-09-20T20:01:32.184648Z"
    },
    "deletable": false,
    "nbgrader": {
     "cell_type": "code",
     "checksum": "abb0208b2e7e9ab4875309931ebf4ad7",
     "grade": false,
     "grade_id": "cell-a60da60f60729900",
     "locked": false,
     "schema_version": 3,
     "solution": true,
     "task": false
    }
   },
   "outputs": [],
   "source": [
    "# YOUR CODE HERE\n",
    "raise NotImplementedError()"
   ]
  },
  {
   "cell_type": "code",
   "execution_count": null,
   "id": "d7070351",
   "metadata": {
    "ExecuteTime": {
     "end_time": "2022-09-20T20:41:10.962289Z",
     "start_time": "2022-09-20T20:41:10.936391Z"
    },
    "deletable": false,
    "editable": false,
    "nbgrader": {
     "cell_type": "code",
     "checksum": "c70b3ff239bf6c1164b263bd8fec5cbe",
     "grade": true,
     "grade_id": "cell-bc4eaa98d5b95c59",
     "locked": true,
     "points": 2,
     "schema_version": 3,
     "solution": false,
     "task": false
    }
   },
   "outputs": [],
   "source": [
    "if 'x' not in globals():\n",
    "    print(\"x not found! Please define x as scalar variable.\")\n",
    "elif 'l' not in globals():\n",
    "    print(\"l not found! Please define l list.\")\n",
    "elif 'a' not in globals():\n",
    "    print(\"a not found! Please define a as numpy array.\")\n",
    "else:\n",
    "    print(\"No errors found this far. Your code may work.\")\n"
   ]
  },
  {
   "cell_type": "markdown",
   "id": "e0f3db40",
   "metadata": {
    "deletable": false,
    "editable": false,
    "nbgrader": {
     "cell_type": "markdown",
     "checksum": "7502d918dfa38b616d47f8623298f84b",
     "grade": false,
     "grade_id": "cell-e597abe8a05b8f2e",
     "locked": true,
     "schema_version": 3,
     "solution": false,
     "task": false
    }
   },
   "source": [
    "## Use numpy functions for creating arrays\n",
    "\n",
    "1. Create a numpy array, `values`, which has 100 consequent values between 0 and $\\pi$ using [np.linspace()](https://numpy.org/doc/stable/reference/generated/numpy.linspace.html?highlight=linspace#numpy.linspace). Use ```np.pi``` as constant for $\\pi$.\n",
    "1. Create a two-dimensional array `M` of 5x5 [zeros](https://numpy.org/doc/stable/reference/generated/numpy.zeros.html?highlight=zeros#numpy.zeros) or 5x5 [ones](https://numpy.org/doc/stable/reference/generated/numpy.ones.html?highlight=ones#numpy.ones). using appropriate functions\n",
    "1. Create one more 2 dimensional array with the following code ```A=np.array([[1,2,3], [4,5,6]])```\n",
    "\n",
    "**TIP:** to find out what other functions or constants are included in NumPy package, write `np.` in the command line, and press TAB-key to get a list of possible completions, or SHIFT-TAB to get the help window."
   ]
  },
  {
   "cell_type": "code",
   "execution_count": null,
   "id": "3971e609",
   "metadata": {
    "ExecuteTime": {
     "end_time": "2022-09-20T20:21:27.130879Z",
     "start_time": "2022-09-20T20:21:27.121361Z"
    },
    "deletable": false,
    "nbgrader": {
     "cell_type": "code",
     "checksum": "9bc01314c7743edb485fbe6472668e3a",
     "grade": false,
     "grade_id": "cell-84bdec6840dac41f",
     "locked": false,
     "schema_version": 3,
     "solution": true,
     "task": false
    }
   },
   "outputs": [],
   "source": [
    "# YOUR CODE HERE\n",
    "raise NotImplementedError()"
   ]
  },
  {
   "cell_type": "code",
   "execution_count": null,
   "id": "77dd5051",
   "metadata": {
    "ExecuteTime": {
     "end_time": "2022-09-20T20:21:27.604027Z",
     "start_time": "2022-09-20T20:21:27.586266Z"
    },
    "deletable": false,
    "editable": false,
    "nbgrader": {
     "cell_type": "code",
     "checksum": "ce7e251c0cba68eff257b90e44be88b0",
     "grade": true,
     "grade_id": "cell-8b10b5261858131d",
     "locked": true,
     "points": 3,
     "schema_version": 3,
     "solution": false,
     "task": false
    }
   },
   "outputs": [],
   "source": [
    "errorfound=False\n",
    "require=('values', 'M', 'A')\n",
    "for var in require:\n",
    "    if var not in globals():\n",
    "        print(var, \"not found! Please define it.\")\n",
    "        errorfound=True\n",
    "if not errorfound:\n",
    "    print(\"No errrors fou\")\n",
    "        "
   ]
  },
  {
   "cell_type": "markdown",
   "id": "d8f663ae",
   "metadata": {},
   "source": [
    "## Manipulate data structures\n",
    "1. Study the shape of previously created numpy arrays by using function ```.shape()``` included in the arrays you created.\n",
    "1. Try to calculate also the sum of all values in those arrays with ```.sum()``` function. Store the sum of array `values` to variable called `s`.\n",
    "1. Transpose a two dimensional array with function ```.T``` for example ```A.T``` and name the result as `tA`\n",
    "1. Transposing a one dimensional array looks sadly slightly illogical, because it needs to be also converted to two dimensional at the same time. The row vector `values` can be transposed to column vector with syntax `\n",
    "values.reshape(-1,1)`. Try it and name the result as `tvalues`. \n",
    "1. Try also to transpose the column vector back to row vector\n"
   ]
  },
  {
   "cell_type": "code",
   "execution_count": null,
   "id": "e76b31ea",
   "metadata": {
    "ExecuteTime": {
     "end_time": "2022-09-20T20:30:02.385809Z",
     "start_time": "2022-09-20T20:30:02.378390Z"
    },
    "deletable": false,
    "nbgrader": {
     "cell_type": "code",
     "checksum": "e621162c43dbc7f97d7e9b5b326b72e5",
     "grade": false,
     "grade_id": "cell-3b75e463ba50584b",
     "locked": false,
     "schema_version": 3,
     "solution": true,
     "task": false
    }
   },
   "outputs": [],
   "source": [
    "# YOUR CODE HERE\n",
    "raise NotImplementedError()"
   ]
  },
  {
   "cell_type": "code",
   "execution_count": null,
   "id": "6766a2fb",
   "metadata": {
    "ExecuteTime": {
     "end_time": "2022-09-20T20:31:49.438999Z",
     "start_time": "2022-09-20T20:31:49.403810Z"
    },
    "deletable": false,
    "editable": false,
    "nbgrader": {
     "cell_type": "code",
     "checksum": "d2bc05a341a02e5749a1ad3e873c8164",
     "grade": true,
     "grade_id": "cell-505a65dfd626e1e6",
     "locked": true,
     "points": 2,
     "schema_version": 3,
     "solution": false,
     "task": false
    }
   },
   "outputs": [],
   "source": [
    "require=('s', 'tA', 'tvalues')\n",
    "for var in require:\n",
    "    if var not in globals():\n",
    "        print(var, \"not found! Please define it.\")\n",
    "        "
   ]
  },
  {
   "cell_type": "markdown",
   "id": "a76bea51",
   "metadata": {},
   "source": [
    "# Language featuers\n",
    "\n",
    "Answer shortly, with explanations to the following questions\n",
    "1. Is Python an object oriented language?\n",
    "1. Is Python interpreted or compiled language?\n",
    "1. Is Python fast to run?"
   ]
  },
  {
   "cell_type": "markdown",
   "id": "781c9145",
   "metadata": {
    "deletable": false,
    "nbgrader": {
     "cell_type": "markdown",
     "checksum": "e73fabe88214d82f70e5d11e38083371",
     "grade": true,
     "grade_id": "cell-7dfa1cd49de6c25b",
     "locked": false,
     "points": 3,
     "schema_version": 3,
     "solution": true,
     "task": false
    }
   },
   "source": [
    "YOUR ANSWER HERE"
   ]
  },
  {
   "cell_type": "markdown",
   "id": "22cb05dc",
   "metadata": {},
   "source": [
    "## Summary\n",
    "1. NumPy arrays are very important data structures in Python for machine learning and mathematical operations\n",
    "1. Numpy arrays can be 1 dimensional or many dimensional\n",
    "1. Two dimensional arrays can be transposed like matrices in mathematics \n",
    "1. Numpy arrays contain a large amount of functions which can be applied to their content"
   ]
  }
 ],
 "metadata": {
  "kernelspec": {
   "display_name": "Python 3 (ipykernel)",
   "language": "python",
   "name": "python3"
  },
  "language_info": {
   "codemirror_mode": {
    "name": "ipython",
    "version": 3
   },
   "file_extension": ".py",
   "mimetype": "text/x-python",
   "name": "python",
   "nbconvert_exporter": "python",
   "pygments_lexer": "ipython3",
   "version": "3.9.2"
  },
  "toc": {
   "base_numbering": 1,
   "nav_menu": {},
   "number_sections": true,
   "sideBar": true,
   "skip_h1_title": false,
   "title_cell": "Table of Contents",
   "title_sidebar": "Contents",
   "toc_cell": false,
   "toc_position": {},
   "toc_section_display": true,
   "toc_window_display": false
  }
 },
 "nbformat": 4,
 "nbformat_minor": 5
}
